{
 "cells": [
  {
   "cell_type": "code",
   "execution_count": 2,
   "id": "62694c0d",
   "metadata": {},
   "outputs": [
    {
     "name": "stdout",
     "output_type": "stream",
     "text": [
      "  student_id              name  marks\n",
      "0         S1  Danniella Fenton    200\n",
      "1         S2      Ryder Storey    210\n",
      "2         S3      Bryce Jensen    190\n",
      "3         S4         Ed Bernal    222\n",
      "4         S5       Kwame Morin    199\n",
      "5         S4  Scarlette Fisher    201\n",
      "6         S5  Carla Williamson    200\n",
      "7         S6       Dante Morse    198\n",
      "8         S7    Kaiser William    219\n",
      "9         S8   Madeeha Preston    201\n"
     ]
    }
   ],
   "source": [
    "#Date 10/28/22\n",
    "#1-join the two given dataframes along rows and assign all data\n",
    "import pandas as pd\n",
    "\n",
    "stud_data1=pd.DataFrame({\n",
    "                    'student_id' :['S1', 'S2', 'S3', 'S4', 'S5'],\n",
    "                    'name':['Danniella Fenton', 'Ryder Storey', 'Bryce Jensen', 'Ed Bernal', 'Kwame Morin'],\n",
    "                    'marks':[200, 210, 190, 222, 199]})\n",
    "\n",
    "stud_data2=pd.DataFrame({\n",
    "                    'student_id':['S4', 'S5', 'S6', 'S7', 'S8'],\n",
    "                    'name':['Scarlette Fisher', 'Carla Williamson', 'Dante Morse', 'Kaiser William', 'Madeeha Preston'],\n",
    "                    'marks' : [201, 200, 198, 219, 201] })\n",
    "\n",
    "result_data=pd.concat([stud_data1,stud_data2])\n",
    "print(result_data.reset_index(drop=True))"
   ]
  },
  {
   "cell_type": "code",
   "execution_count": 3,
   "id": "2935e0e0",
   "metadata": {},
   "outputs": [
    {
     "name": "stdout",
     "output_type": "stream",
     "text": [
      "  student_id              name  marks student_id              name  marks\n",
      "0         S1  Danniella Fenton    200         S4  Scarlette Fisher    201\n",
      "1         S2      Ryder Storey    210         S5  Carla Williamson    200\n",
      "2         S3      Bryce Jensen    190         S6       Dante Morse    198\n",
      "3         S4         Ed Bernal    222         S7    Kaiser William    219\n",
      "4         S5       Kwame Morin    199         S8   Madeeha Preston    201\n"
     ]
    }
   ],
   "source": [
    "#2-join the two given dataframes along columns and assign all dat\n",
    "import pandas as pd\n",
    "stud_data1=pd.DataFrame({\n",
    "                    'student_id' :['S1', 'S2', 'S3', 'S4', 'S5'],\n",
    "                    'name':['Danniella Fenton', 'Ryder Storey', 'Bryce Jensen', 'Ed Bernal', 'Kwame Morin'],\n",
    "                    'marks':[200, 210, 190, 222, 199]})\n",
    "\n",
    "stud_data2=pd.DataFrame({\n",
    "                    'student_id':['S4', 'S5', 'S6', 'S7', 'S8'],\n",
    "                    'name':['Scarlette Fisher', 'Carla Williamson', 'Dante Morse', 'Kaiser William', 'Madeeha Preston'],\n",
    "                    'marks' : [201, 200, 198, 219, 201] })\n",
    "\n",
    "result_data=pd.concat([stud_data1,stud_data2], axis=1)\n",
    "print(result_data)"
   ]
  },
  {
   "cell_type": "code",
   "execution_count": 6,
   "id": "66794987",
   "metadata": {},
   "outputs": [
    {
     "name": "stdout",
     "output_type": "stream",
     "text": [
      "  student_id              name  marks\n",
      "0         S1  Danniella Fenton    200\n",
      "1         S2      Ryder Storey    210\n",
      "2         S3      Bryce Jensen    190\n",
      "3         S4         Ed Bernal    222\n",
      "4         S5       Kwame Morin    199\n",
      "5         S6  Scarlette Fisher    205\n"
     ]
    }
   ],
   "source": [
    "#3- append rows to an existing DataFrame and display the combined data\n",
    "import pandas as pd\n",
    "stud_data1=pd.DataFrame({\n",
    "                    'student_id' :['S1', 'S2', 'S3', 'S4', 'S5'],\n",
    "                    'name':['Danniella Fenton', 'Ryder Storey', 'Bryce Jensen', 'Ed Bernal', 'Kwame Morin'],\n",
    "                    'marks':[200, 210, 190, 222, 199]})\n",
    "\n",
    "s6=pd.Series(['S6', 'Scarlette Fisher', 205], index=['student_id', 'name', 'marks'])\n",
    "\n",
    "result_data=stud_data1.append(s6,ignore_index=True)\n",
    "print(result_data)"
   ]
  },
  {
   "cell_type": "code",
   "execution_count": 8,
   "id": "6b0a5b0c",
   "metadata": {},
   "outputs": [
    {
     "name": "stdout",
     "output_type": "stream",
     "text": [
      "  student_id              name  marks\n",
      "0         S1  Danniella Fenton    200\n",
      "1         S2      Ryder Storey    210\n",
      "2         S3      Bryce Jensen    190\n",
      "3         S4         Ed Bernal    222\n",
      "4         S5       Kwame Morin    199\n",
      "5         S6  Scarlette Fisher    203\n",
      "6         S7      Bryce Jensen    207\n"
     ]
    }
   ],
   "source": [
    "#4- program to append a list of dictioneries or series to a existing DataFrame and display the combined data\n",
    "import pandas as pd\n",
    "stud_data1=pd.DataFrame({\n",
    "                    'student_id' :['S1', 'S2', 'S3', 'S4', 'S5'],\n",
    "                    'name':['Danniella Fenton', 'Ryder Storey', 'Bryce Jensen', 'Ed Bernal', 'Kwame Morin'],\n",
    "                    'marks':[200, 210, 190, 222, 199]})\n",
    "\n",
    "dicts = [{'student_id': 'S6', 'name': 'Scarlette Fisher', 'marks': 203},\n",
    "         {'student_id': 'S7', 'name': 'Bryce Jensen', 'marks': 207}]\n",
    "\n",
    "result_data=stud_data1.append(dicts,ignore_index=True,sort=False)\n",
    "print(result_data)\n"
   ]
  },
  {
   "cell_type": "code",
   "execution_count": 12,
   "id": "4bfd11f7",
   "metadata": {},
   "outputs": [
    {
     "name": "stdout",
     "output_type": "stream",
     "text": [
      "\n",
      "Join first two said dataframes along rows:\n",
      "  student_id              name  marks\n",
      "0         S1  Danniella Fenton    200\n",
      "1         S2      Ryder Storey    210\n",
      "2         S3      Bryce Jensen    190\n",
      "3         S4         Ed Bernal    222\n",
      "4         S5       Kwame Morin    199\n",
      "5         S4  Scarlette Fisher    201\n",
      "6         S5  Carla Williamson    200\n",
      "7         S6       Dante Morse    198\n",
      "8         S7    Kaiser William    219\n",
      "9         S8   Madeeha Preston    201\n",
      "\n",
      "Now join the said result_data and df_exam_data along student_id:\n",
      "  student_id              name  marks  exam_id\n",
      "0         S1  Danniella Fenton    200       23\n",
      "1         S2      Ryder Storey    210       45\n",
      "2         S3      Bryce Jensen    190       12\n",
      "3         S4         Ed Bernal    222       67\n",
      "4         S4  Scarlette Fisher    201       67\n",
      "5         S5       Kwame Morin    199       21\n",
      "6         S5  Carla Williamson    200       21\n",
      "7         S7    Kaiser William    219       55\n",
      "8         S8   Madeeha Preston    201       33\n"
     ]
    }
   ],
   "source": [
    "#5- join the two given dataframes along rows and merge with another dataframe along the common column id\n",
    "import pandas as pd\n",
    "stud_data1=pd.DataFrame({\n",
    "                    'student_id' :['S1', 'S2', 'S3', 'S4', 'S5'],\n",
    "                    'name':['Danniella Fenton', 'Ryder Storey', 'Bryce Jensen', 'Ed Bernal', 'Kwame Morin'],\n",
    "                    'marks':[200, 210, 190, 222, 199]})\n",
    "\n",
    "stud_data2=pd.DataFrame({\n",
    "                    'student_id':['S4', 'S5', 'S6', 'S7', 'S8'],\n",
    "                    'name':['Scarlette Fisher', 'Carla Williamson', 'Dante Morse', 'Kaiser William', 'Madeeha Preston'],\n",
    "                    'marks' : [201, 200, 198, 219, 201] })\n",
    "\n",
    "exam_data = pd.DataFrame({\n",
    "        'student_id': ['S1', 'S2', 'S3', 'S4', 'S5', 'S7', 'S8', 'S9', 'S10', 'S11', 'S12', 'S13'],\n",
    "        'exam_id': [23, 45, 12, 67, 21, 55, 33, 14, 56, 83, 88, 12]})\n",
    "\n",
    "print(\"\\nJoin first two said dataframes along rows:\")\n",
    "result_data=pd.concat([stud_data1,stud_data2],ignore_index=True)\n",
    "print(result_data)\n",
    "\n",
    "print(\"\\nNow join the said result_data and df_exam_data along student_id:\")\n",
    "final_merged_data=pd.merge(result_data, exam_data, on ='student_id' )\n",
    "print(final_merged_data)"
   ]
  },
  {
   "cell_type": "code",
   "execution_count": 15,
   "id": "c47eba1b",
   "metadata": {},
   "outputs": [
    {
     "name": "stdout",
     "output_type": "stream",
     "text": [
      "  student_id            name_x  marks_x            name_y  marks_y\n",
      "0         S1  Danniella Fenton    200.0               NaN      NaN\n",
      "1         S2      Ryder Storey    210.0               NaN      NaN\n",
      "2         S3      Bryce Jensen    190.0               NaN      NaN\n",
      "3         S4         Ed Bernal    222.0  Scarlette Fisher    201.0\n",
      "4         S5       Kwame Morin    199.0  Carla Williamson    200.0\n",
      "5         S6               NaN      NaN       Dante Morse    198.0\n",
      "6         S7               NaN      NaN    Kaiser William    219.0\n",
      "7         S8               NaN      NaN   Madeeha Preston    201.0\n"
     ]
    }
   ],
   "source": [
    "#6-program to join the two dataframes using the common column of both dataframes\n",
    "import pandas as pd\n",
    "stud_data1=pd.DataFrame({\n",
    "                    'student_id' :['S1', 'S2', 'S3', 'S4', 'S5'],\n",
    "                    'name':['Danniella Fenton', 'Ryder Storey', 'Bryce Jensen', 'Ed Bernal', 'Kwame Morin'],\n",
    "                    'marks':[200, 210, 190, 222, 199]})\n",
    "\n",
    "stud_data2=pd.DataFrame({\n",
    "                    'student_id':['S4', 'S5', 'S6', 'S7', 'S8'],\n",
    "                    'name':['Scarlette Fisher', 'Carla Williamson', 'Dante Morse', 'Kaiser William', 'Madeeha Preston'],\n",
    "                    'marks' : [201, 200, 198, 219, 201] })\n",
    "\n",
    "result_data=pd.merge(stud_data1,stud_data2, on ='student_id',how='outer')\n",
    "print(result_data)"
   ]
  },
  {
   "cell_type": "code",
   "execution_count": 16,
   "id": "00d7b130",
   "metadata": {},
   "outputs": [
    {
     "name": "stdout",
     "output_type": "stream",
     "text": [
      "  student_id       name_x  marks_x            name_y  marks_y\n",
      "0         S4    Ed Bernal      222  Scarlette Fisher      201\n",
      "1         S5  Kwame Morin      199  Carla Williamson      200\n"
     ]
    }
   ],
   "source": [
    "#7-join the two dataframes with matching records from both sides where available\n",
    "import pandas as pd\n",
    "stud_data1=pd.DataFrame({\n",
    "                    'student_id' :['S1', 'S2', 'S3', 'S4', 'S5'],\n",
    "                    'name':['Danniella Fenton', 'Ryder Storey', 'Bryce Jensen', 'Ed Bernal', 'Kwame Morin'],\n",
    "                    'marks':[200, 210, 190, 222, 199]})\n",
    "\n",
    "stud_data2=pd.DataFrame({\n",
    "                    'student_id':['S4', 'S5', 'S6', 'S7', 'S8'],\n",
    "                    'name':['Scarlette Fisher', 'Carla Williamson', 'Dante Morse', 'Kaiser William', 'Madeeha Preston'],\n",
    "                    'marks' : [201, 200, 198, 219, 201] })\n",
    "\n",
    "result_data=pd.merge(stud_data1,stud_data2,how='inner',on='student_id')\n",
    "print(result_data)"
   ]
  },
  {
   "cell_type": "code",
   "execution_count": 18,
   "id": "37e3f9bc",
   "metadata": {},
   "outputs": [
    {
     "name": "stdout",
     "output_type": "stream",
     "text": [
      "  key1 key2   P   Q    R    S\n",
      "0   K0   K0  P0  Q0   R0   S0\n",
      "1   K0   K1  P1  Q1  NaN  NaN\n",
      "2   K1   K0  P2  Q2   R1   S1\n",
      "3   K1   K0  P2  Q2   R2   S2\n",
      "4   K2   K1  P3  Q3  NaN  NaN\n"
     ]
    }
   ],
   "source": [
    "#8- join (left join) the two dataframes using keys from left dataframe only.\n",
    "import pandas as pd\n",
    "\n",
    "data01=pd.DataFrame({ 'key1':['K0', 'K0', 'K1', 'K2'], 'key2':['K0', 'K1', 'K0', 'K1'],'P':['P0', 'P1', 'P2', 'P3'], \n",
    "                     'Q':['Q0', 'Q1', 'Q2', 'Q3']})\n",
    "\n",
    "data02=pd.DataFrame({'key1':['K0', 'K1', 'K1', 'K2'], 'key2':['K0', 'K0', 'K0', 'K0'], 'R':['R0', 'R1', 'R2', 'R3'], \n",
    "                     'S':['S0', 'S1', 'S2', 'S3']})\n",
    "\n",
    "result_data=pd.merge(data01,data02,how='left',on=['key1','key2'])\n",
    "print(result_data)"
   ]
  },
  {
   "cell_type": "code",
   "execution_count": 19,
   "id": "330ea8d9",
   "metadata": {},
   "outputs": [
    {
     "name": "stdout",
     "output_type": "stream",
     "text": [
      "  key1 key2    P    Q   R   S\n",
      "0   K0   K0   P0   Q0  R0  S0\n",
      "1   K1   K0   P2   Q2  R1  S1\n",
      "2   K1   K0   P2   Q2  R2  S2\n",
      "3   K2   K0  NaN  NaN  R3  S3\n"
     ]
    }
   ],
   "source": [
    "#9-join two dataframes using keys from right dataframe only.\n",
    "import pandas as pd\n",
    "data01=pd.DataFrame({ 'key1':['K0', 'K0', 'K1', 'K2'], 'key2':['K0', 'K1', 'K0', 'K1'],'P':['P0', 'P1', 'P2', 'P3'], \n",
    "                     'Q':['Q0', 'Q1', 'Q2', 'Q3']})\n",
    "\n",
    "data02=pd.DataFrame({'key1':['K0', 'K1', 'K1', 'K2'], 'key2':['K0', 'K0', 'K0', 'K0'], 'R':['R0', 'R1', 'R2', 'R3'], \n",
    "                     'S':['S0', 'S1', 'S2', 'S3']})\n",
    "\n",
    "result_data=pd.merge(data01,data02, how='right', on=['key1','key2'])\n",
    "print(result_data)"
   ]
  },
  {
   "cell_type": "code",
   "execution_count": 20,
   "id": "fd07067c",
   "metadata": {},
   "outputs": [
    {
     "name": "stdout",
     "output_type": "stream",
     "text": [
      "  key1 key2    P    Q    R    S\n",
      "0   K0   K0   P0   Q0   R0   S0\n",
      "1   K0   K1   P1   Q1  NaN  NaN\n",
      "2   K1   K0   P2   Q2   R1   S1\n",
      "3   K1   K0   P2   Q2   R2   S2\n",
      "4   K2   K1   P3   Q3  NaN  NaN\n",
      "5   K2   K0  NaN  NaN   R3   S3\n"
     ]
    }
   ],
   "source": [
    "#10- merge two given datasets using multiple join keys\n",
    "import pandas as pd\n",
    "data01=pd.DataFrame({ 'key1':['K0', 'K0', 'K1', 'K2'], 'key2':['K0', 'K1', 'K0', 'K1'],'P':['P0', 'P1', 'P2', 'P3'], \n",
    "                     'Q':['Q0', 'Q1', 'Q2', 'Q3']})\n",
    "\n",
    "data02=pd.DataFrame({'key1':['K0', 'K1', 'K1', 'K2'], 'key2':['K0', 'K0', 'K0', 'K0'], 'R':['R0', 'R1', 'R2', 'R3'], \n",
    "                     'S':['S0', 'S1', 'S2', 'S3']})\n",
    "result_data=pd.merge(data01,data02,how='outer',on=['key1','key2'])\n",
    "print(result_data)"
   ]
  },
  {
   "cell_type": "code",
   "execution_count": 22,
   "id": "3660cd94",
   "metadata": {},
   "outputs": [
    {
     "name": "stdout",
     "output_type": "stream",
     "text": [
      "   column1  column2  column3\n",
      "0        0        0        0\n",
      "1        1        1        1\n",
      "2        2        2        4\n",
      "3        3        3        5\n"
     ]
    }
   ],
   "source": [
    "#11-create a new DataFrame based on existing series, using specified argument and override the existing columns names. \n",
    "import pandas as pd\n",
    "s1 = pd.Series([0, 1, 2, 3], name='col1')\n",
    "s2 = pd.Series([0, 1, 2, 3])\n",
    "s3 = pd.Series([0, 1, 4, 5], name='col3')\n",
    "\n",
    "df=pd.concat([s1,s2,s3],axis=1,keys=['column1','column2','column3'])\n",
    "print(df)"
   ]
  },
  {
   "cell_type": "code",
   "execution_count": 23,
   "id": "7c563b27",
   "metadata": {},
   "outputs": [
    {
     "name": "stdout",
     "output_type": "stream",
     "text": [
      "  key1 key2_x   P   Q key2_y   R   S\n",
      "0   K0     K0  P0  Q0     K0  R0  S0\n",
      "1   K0     K1  P1  Q1     K0  R0  S0\n",
      "2   K1     K0  P2  Q2     K0  R1  S1\n",
      "3   K1     K0  P2  Q2     K0  R2  S2\n",
      "4   K2     K1  P3  Q3     K0  R3  S3\n"
     ]
    }
   ],
   "source": [
    "#12-create a combination from two dataframes where a column id combination appears more than once in both dataframes\n",
    "import pandas as pd\n",
    "\n",
    "data01=pd.DataFrame({ 'key1':['K0', 'K0', 'K1', 'K2'], 'key2':['K0', 'K1', 'K0', 'K1'],'P':['P0', 'P1', 'P2', 'P3'], \n",
    "                     'Q':['Q0', 'Q1', 'Q2', 'Q3']})\n",
    "\n",
    "data02=pd.DataFrame({'key1':['K0', 'K1', 'K1', 'K2'], 'key2':['K0', 'K0', 'K0', 'K0'], 'R':['R0', 'R1', 'R2', 'R3'], \n",
    "                     'S':['S0', 'S1', 'S2', 'S3']})\n",
    "\n",
    "result=pd.merge(data01,data02,on='key1')\n",
    "print(result)"
   ]
  },
  {
   "cell_type": "code",
   "execution_count": 27,
   "id": "d6803ccf",
   "metadata": {},
   "outputs": [
    {
     "name": "stdout",
     "output_type": "stream",
     "text": [
      "    A   B   C   D\n",
      "0  A1  B1  C1  D1\n",
      "1  A2  B2  C2  D2\n"
     ]
    }
   ],
   "source": [
    "#13-combine the columns of two potentially differently-indexed DataFrames into a single result DataFrame.\n",
    "import pandas as pd\n",
    "\n",
    "df1=pd.DataFrame({ 'A':['A1','A2'],'B':['B1','B2']})\n",
    "\n",
    "df2=pd.DataFrame({'C':['C1','C2'],'D':['D1','D2']})\n",
    "\n",
    "#result=pd.merge(df1,df2,how='outer')\n",
    "result=df1.join(df2)\n",
    "print(result)"
   ]
  },
  {
   "cell_type": "code",
   "execution_count": 30,
   "id": "42277916",
   "metadata": {},
   "outputs": [
    {
     "name": "stdout",
     "output_type": "stream",
     "text": [
      "  key1 key2    P    Q    R    S\n",
      "0   K0   K0   P0   Q0  NaN  NaN\n",
      "1   K0   K1   P1   Q1  NaN  NaN\n",
      "2   K1   K0   P2   Q2  NaN  NaN\n",
      "3   K2   K1   P3   Q3  NaN  NaN\n",
      "4   K0   K0  NaN  NaN   R0   S0\n",
      "5   K1   K0  NaN  NaN   R1   S1\n",
      "6   K1   K0  NaN  NaN   R2   S2\n",
      "7   K2   K0  NaN  NaN   R3   S3\n"
     ]
    }
   ],
   "source": [
    "#14-merge two given dataframes with different columns\n",
    "import pandas as pd\n",
    "data1 = pd.DataFrame({'key1': ['K0', 'K0', 'K1', 'K2'],\n",
    "                     'key2': ['K0', 'K1', 'K0', 'K1'],\n",
    "                     'P': ['P0', 'P1', 'P2', 'P3'],\n",
    "                     'Q': ['Q0', 'Q1', 'Q2', 'Q3']}) \n",
    "data2 = pd.DataFrame({'key1': ['K0', 'K1', 'K1', 'K2'],\n",
    "                      'key2': ['K0', 'K0', 'K0', 'K0'],\n",
    "                      'R': ['R0', 'R1', 'R2', 'R3'],\n",
    "                      'S': ['S0', 'S1', 'S2', 'S3']})\n",
    "\n",
    "result=pd.concat([data1,data2],ignore_index=True,axis=0)\n",
    "print(result)"
   ]
  },
  {
   "cell_type": "code",
   "execution_count": 33,
   "id": "0cb25b41",
   "metadata": {},
   "outputs": [
    {
     "name": "stdout",
     "output_type": "stream",
     "text": [
      "     A  B\n",
      "0  NaN  3\n",
      "1  0.0  4\n",
      "2  NaN  5\n",
      "     A    B\n",
      "0  1.0  3.0\n",
      "1  0.0  4.0\n",
      "2  3.0  5.0\n"
     ]
    }
   ],
   "source": [
    "#15- Combine two DataFrame objects by filling null values in one DataFrame with non-null values from other DataFrame.\n",
    "import pandas as pd\n",
    "df1 = pd.DataFrame({'A': [None, 0, None], 'B': [3, 4, 5]})\n",
    "df2 = pd.DataFrame({'A': [1, 1, 3], 'B': [3, None, 3]})\n",
    "\n",
    "df1.combine_first(df2)\n",
    "print(df1)\n",
    "\n",
    "result=df1.combine_first(df2)\n",
    "print(result)"
   ]
  },
  {
   "cell_type": "code",
   "execution_count": null,
   "id": "75d1a117",
   "metadata": {},
   "outputs": [],
   "source": []
  }
 ],
 "metadata": {
  "kernelspec": {
   "display_name": "Python 3 (ipykernel)",
   "language": "python",
   "name": "python3"
  },
  "language_info": {
   "codemirror_mode": {
    "name": "ipython",
    "version": 3
   },
   "file_extension": ".py",
   "mimetype": "text/x-python",
   "name": "python",
   "nbconvert_exporter": "python",
   "pygments_lexer": "ipython3",
   "version": "3.9.7"
  }
 },
 "nbformat": 4,
 "nbformat_minor": 5
}
