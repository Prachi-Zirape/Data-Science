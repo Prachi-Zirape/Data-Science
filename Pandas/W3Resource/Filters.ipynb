{
 "cells": [
  {
   "cell_type": "code",
   "execution_count": 3,
   "id": "4b591506",
   "metadata": {},
   "outputs": [
    {
     "name": "stdout",
     "output_type": "stream",
     "text": [
      "   Year       WHO region                Country Beverage Types  Display Value\n",
      "0  1986  Western Pacific               Viet Nam           Wine           0.00\n",
      "1  1986         Americas                Uruguay          Other           0.50\n",
      "2  1985           Africa           Cte d'Ivoire           Wine           1.62\n",
      "3  1986         Americas               Colombia           Beer           4.27\n",
      "4  1987         Americas  Saint Kitts and Nevis           Beer           1.98\n",
      "\n",
      "shape of dataframe:  (100, 5)\n",
      "Number of rows: 100\n",
      "Number of columns 5\n",
      "extract column names Index(['Year', 'WHO region', 'Country', 'Beverage Types', 'Display Value'], dtype='object')\n"
     ]
    }
   ],
   "source": [
    "#Date-10/29/22\n",
    "#1-display the dimensions or shape of the World alcohol consumption dataset. Also extract the column names from the dataset.\n",
    "import pandas as pd\n",
    "#reading csv file\n",
    "w_a_con=pd.read_csv('C:/Users/przir/OneDrive/Desktop/Data Science/Libraries/DataSets/world_alcohol.csv')\n",
    "\n",
    "#printing csv file\n",
    "print(w_a_con.head())\n",
    "\n",
    "print()\n",
    "print(\"shape of dataframe: \",w_a_con.shape)\n",
    "print(\"Number of rows:\",w_a_con.shape[0])\n",
    "print(\"Number of columns\",w_a_con.shape[1])\n",
    "print(\"extract column names\",w_a_con.columns)"
   ]
  },
  {
   "cell_type": "code",
   "execution_count": 10,
   "id": "e6ff8e26",
   "metadata": {},
   "outputs": [
    {
     "name": "stdout",
     "output_type": "stream",
     "text": [
      "first two rows:\n",
      "   Year       WHO region   Country Beverage Types  Display Value\n",
      "0  1986  Western Pacific  Viet Nam           Wine            0.0\n",
      "1  1986         Americas   Uruguay          Other            0.5\n",
      "first two columns\n",
      "    Year       WHO region\n",
      "0   1986  Western Pacific\n",
      "1   1986         Americas\n",
      "2   1985           Africa\n",
      "3   1986         Americas\n",
      "4   1987         Americas\n",
      "..   ...              ...\n",
      "95  1984           Africa\n",
      "96  1985           Europe\n",
      "97  1984  South-East Asia\n",
      "98  1984           Africa\n",
      "99  1985  South-East Asia\n",
      "\n",
      "[100 rows x 2 columns]\n",
      "Select specific columns\n",
      "   Beverage Types  Year\n",
      "0            Wine  1986\n",
      "1           Other  1986\n",
      "2            Wine  1985\n",
      "3            Beer  1986\n",
      "4            Beer  1987\n",
      "..            ...   ...\n",
      "95          Other  1984\n",
      "96           Wine  1985\n",
      "97           Wine  1984\n",
      "98           Wine  1984\n",
      "99           Wine  1985\n",
      "\n",
      "[100 rows x 2 columns]\n"
     ]
    }
   ],
   "source": [
    "#2-select first 2 rows, 2 columns and specific two columns from World alcohol consumption dataset\n",
    "print(\"first two rows:\")\n",
    "print(w_a_con.head(2))\n",
    "\n",
    "print(\"first two columns\")\n",
    "print(w_a_con.iloc[:,:2])\n",
    "\n",
    "print(\"Select specific columns\")\n",
    "print(w_a_con[['Beverage Types','Year']])"
   ]
  },
  {
   "cell_type": "code",
   "execution_count": 14,
   "id": "842b6b94",
   "metadata": {},
   "outputs": [
    {
     "name": "stdout",
     "output_type": "stream",
     "text": [
      "\n",
      "Select random number of rows:\n",
      "    Year             WHO region         Country Beverage Types  Display Value\n",
      "73  1986  Eastern Mediterranean        Pakistan          Other           0.01\n",
      "41  1986                 Europe  Czech Republic           Beer           6.82\n",
      "81  1985                 Europe     Netherlands           Wine           2.54\n",
      "50  1985                 Europe     Switzerland          Other           0.30\n",
      "78  1989               Americas         Jamaica          Other           0.00\n",
      "\n",
      "Select fraction of randome rows:\n",
      "    Year WHO region Country Beverage Types  Display Value\n",
      "95  1984     Africa   Niger          Other           0.00\n",
      "80  1985     Africa  Malawi          Other           0.84\n"
     ]
    }
   ],
   "source": [
    "#3-select random number of rows, fraction of random rows from World alcohol consumption dataset\n",
    "print(\"\\nSelect random number of rows:\")\n",
    "print(w_a_con.sample(5))\n",
    "\n",
    "print(\"\\nSelect fraction of randome rows:\")\n",
    "print(w_a_con.sample(frac=0.02))"
   ]
  },
  {
   "cell_type": "code",
   "execution_count": 29,
   "id": "5efabe13",
   "metadata": {},
   "outputs": [
    {
     "name": "stdout",
     "output_type": "stream",
     "text": [
      "\n",
      "Missing values:\n",
      "Year              0\n",
      "WHO region        0\n",
      "Country           0\n",
      "Beverage Types    0\n",
      "Display Value     0\n",
      "dtype: int64\n",
      "Dropping missing values\n",
      "   Year       WHO region                Country Beverage Types  Display Value\n",
      "0  1986  Western Pacific               Viet Nam           Wine           0.00\n",
      "1  1986         Americas                Uruguay          Other           0.50\n",
      "2  1985           Africa           Cte d'Ivoire           Wine           1.62\n",
      "3  1986         Americas               Colombia           Beer           4.27\n",
      "4  1987         Americas  Saint Kitts and Nevis           Beer           1.98\n"
     ]
    }
   ],
   "source": [
    "#4- find and drop the missing values from World alcohol consumption dataset\n",
    "print(\"\\nMissing values:\")\n",
    "print(w_a_con.isnull().sum())\n",
    "\n",
    "print(\"Dropping missing values\")\n",
    "print(w_a_con.dropna().head())\n"
   ]
  },
  {
   "cell_type": "code",
   "execution_count": 22,
   "id": "9c912632",
   "metadata": {},
   "outputs": [
    {
     "name": "stdout",
     "output_type": "stream",
     "text": [
      "    Year             WHO region       Country Beverage Types  Display Value\n",
      "0   1986        Western Pacific      Viet Nam           Wine           0.00\n",
      "1   1986               Americas       Uruguay          Other           0.50\n",
      "2   1985                 Africa  Cte d'Ivoire           Wine           1.62\n",
      "13  1984  Eastern Mediterranean   Afghanistan          Other           0.00\n",
      "18  1984                 Europe        Norway        Spirits           1.62\n",
      "20  1986        South-East Asia       Myanmar           Wine           0.00\n"
     ]
    }
   ],
   "source": [
    "#5-remove the duplicates from 'WHO region' column of World alcohol consumption dataset\n",
    "print(w_a_con.drop_duplicates('WHO region'))"
   ]
  },
  {
   "cell_type": "code",
   "execution_count": 26,
   "id": "1fd1e721",
   "metadata": {},
   "outputs": [
    {
     "name": "stdout",
     "output_type": "stream",
     "text": [
      "    Year       WHO region              Country Beverage Types  Display Value\n",
      "0   1986  Western Pacific             Viet Nam           Wine           0.00\n",
      "1   1986         Americas              Uruguay          Other           0.50\n",
      "3   1986         Americas             Colombia           Beer           4.27\n",
      "8   1986         Americas  Antigua and Barbuda        Spirits           1.55\n",
      "20  1986  South-East Asia              Myanmar           Wine           0.00\n"
     ]
    }
   ],
   "source": [
    "#6-find out the alcohol consumption of a given year from the world alcohol consumption dataset. \n",
    "print(w_a_con[w_a_con['Year']==1986].head())"
   ]
  },
  {
   "cell_type": "code",
   "execution_count": 36,
   "id": "8bb0eb8f",
   "metadata": {},
   "outputs": [
    {
     "name": "stdout",
     "output_type": "stream",
     "text": [
      "    Year WHO region                Country Beverage Types  Display Value\n",
      "4   1987   Americas  Saint Kitts and Nevis           Beer           1.98\n",
      "5   1987   Americas              Guatemala          Other           0.00\n",
      "6   1987     Africa              Mauritius           Wine           0.13\n",
      "10  1987     Africa               Botswana           Wine           0.20\n",
      "11  1989   Americas              Guatemala           Beer           0.62\n",
      "\n",
      "    Year       WHO region                Country Beverage Types  Display Value\n",
      "4   1987         Americas  Saint Kitts and Nevis           Beer           1.98\n",
      "5   1987         Americas              Guatemala          Other           0.00\n",
      "6   1987           Africa              Mauritius           Wine           0.13\n",
      "10  1987           Africa               Botswana           Wine           0.20\n",
      "11  1989         Americas              Guatemala           Beer           0.62\n",
      "15  1987           Africa          Guinea-Bissau           Wine           0.07\n",
      "17  1989           Africa             Seychelles           Beer           2.23\n",
      "21  1989         Americas             Costa Rica        Spirits           4.51\n",
      "28  1987  Western Pacific               Viet Nam           Beer           0.11\n",
      "32  1989           Africa              Mauritius           Beer           1.60\n"
     ]
    }
   ],
   "source": [
    "#7- find out the alcohol consumption details in the year '1987' or '1989' from the world alcohol consumption dataset\n",
    "print(w_a_con[w_a_con['Year'].between(1987,1989)].head())\n",
    "print()\n",
    "print((w_a_con[(w_a_con['Year']==1987) | (w_a_con['Year']==1989)]).head(10))"
   ]
  },
  {
   "cell_type": "code",
   "execution_count": 38,
   "id": "69334c2c",
   "metadata": {},
   "outputs": [
    {
     "name": "stdout",
     "output_type": "stream",
     "text": [
      "    Year WHO region                Country Beverage Types  Display Value\n",
      "35  1985   Americas  Saint Kitts and Nevis        Spirits           2.24\n"
     ]
    }
   ],
   "source": [
    "#8-find out the alcohol consumption details by the 'Americas' in the year '1985' from the world alcohol consumption dataset.\n",
    "print(w_a_con[(w_a_con['WHO region']=='Americas')  & (w_a_con['Year']==1985)].head(10))"
   ]
  },
  {
   "cell_type": "code",
   "execution_count": 41,
   "id": "96efa314",
   "metadata": {},
   "outputs": [
    {
     "name": "stdout",
     "output_type": "stream",
     "text": [
      "   Year       WHO region   Country Beverage Types  Display Value\n",
      "0  1986  Western Pacific  Viet Nam           Wine            0.0\n"
     ]
    }
   ],
   "source": [
    "#9-find out the alcohol consumption details in the year '1986' where WHO region is 'Western Pacific' and country is 'VietNam' from the world alcohol consumption dataset.\n",
    "print(w_a_con[(w_a_con['Year']==1986) & (w_a_con['WHO region']=='Western Pacific') & (w_a_con['Country']=='Viet Nam')].head())"
   ]
  },
  {
   "cell_type": "code",
   "execution_count": 47,
   "id": "6c6f9a9c",
   "metadata": {},
   "outputs": [
    {
     "name": "stdout",
     "output_type": "stream",
     "text": [
      "    Year WHO region                           Country Beverage Types  \\\n",
      "1   1986   Americas                           Uruguay          Other   \n",
      "3   1986   Americas                          Colombia           Beer   \n",
      "8   1986   Americas               Antigua and Barbuda        Spirits   \n",
      "11  1989   Americas                         Guatemala           Beer   \n",
      "21  1989   Americas                        Costa Rica        Spirits   \n",
      "47  1986   Americas                            Mexico          Other   \n",
      "55  1989   Americas                          Suriname           Wine   \n",
      "64  1989   Americas  Bolivia (Plurinational State of)           Beer   \n",
      "74  1986   Americas  Bolivia (Plurinational State of)        Spirits   \n",
      "78  1989   Americas                           Jamaica          Other   \n",
      "\n",
      "    Display Value  \n",
      "1            0.50  \n",
      "3            4.27  \n",
      "8            1.55  \n",
      "11           0.62  \n",
      "21           4.51  \n",
      "47           0.04  \n",
      "55           0.04  \n",
      "64           1.26  \n",
      "74           2.06  \n",
      "78           0.00  \n"
     ]
    }
   ],
   "source": [
    "#10-ind out the alcohol consumption details in the year '1986' or '1989' where WHO region is 'Americas' \n",
    "#from the world alcohol consumption dataset.\n",
    "print(w_a_con[((w_a_con['Year']==1989) | (w_a_con['Year']==1986)) &(w_a_con['WHO region']=='Americas')].head(10))"
   ]
  },
  {
   "cell_type": "code",
   "execution_count": 50,
   "id": "ba1975ba",
   "metadata": {},
   "outputs": [
    {
     "name": "stdout",
     "output_type": "stream",
     "text": [
      "    Year WHO region              Country Beverage Types  Display Value\n",
      "1   1986   Americas              Uruguay          Other           0.50\n",
      "3   1986   Americas             Colombia           Beer           4.27\n",
      "8   1986   Americas  Antigua and Barbuda        Spirits           1.55\n",
      "11  1989   Americas            Guatemala           Beer           0.62\n",
      "21  1989   Americas           Costa Rica        Spirits           4.51\n"
     ]
    }
   ],
   "source": [
    "#11-find out the alcohol consumption details in the year '1986' or '1989' where WHO region is 'Americas' or 'Europe' from the world alcohol consumption dataset. \n",
    "print(w_a_con[((w_a_con['Year']==1986)|(w_a_con['Year']==1989)) & ((w_a_con['WHO region']=='Americas')|(w_a_con['WHO region']=='Europe'))].head())"
   ]
  },
  {
   "cell_type": "code",
   "execution_count": 52,
   "id": "7d216505",
   "metadata": {},
   "outputs": [
    {
     "name": "stdout",
     "output_type": "stream",
     "text": [
      "   WHO region              Country Beverage Types\n",
      "1    Americas              Uruguay          Other\n",
      "3    Americas             Colombia           Beer\n",
      "8    Americas  Antigua and Barbuda        Spirits\n",
      "11   Americas            Guatemala           Beer\n",
      "21   Americas           Costa Rica        Spirits\n"
     ]
    }
   ],
   "source": [
    "#12-find out the 'WHO region, 'Country', 'Beverage Types' in the year '1986' or '1989' \n",
    "#where WHO region is 'Americas' or 'Europe' from the world alcohol consumption dataset.\n",
    "\n",
    "print(w_a_con[((w_a_con['Year']==1986)|(w_a_con['Year']==1989)) & ((w_a_con['WHO region']=='Americas')|(w_a_con['WHO region']=='Europe'))][['WHO region','Country','Beverage Types']].head())"
   ]
  },
  {
   "cell_type": "code",
   "execution_count": 55,
   "id": "60c30273",
   "metadata": {},
   "outputs": [
    {
     "name": "stdout",
     "output_type": "stream",
     "text": [
      "\n",
      "The world alcohol consumption details: average consumption of \n",
      "beverages per person >=5 and Beverage Types is Beer:\n",
      "    Year WHO region         Country Beverage Types  Display Value\n",
      "41  1986     Europe  Czech Republic           Beer           6.82\n",
      "    Year WHO region         Country Beverage Types  Display Value\n",
      "41  1986     Europe  Czech Republic           Beer           6.82\n"
     ]
    }
   ],
   "source": [
    "#13- find out the records where consumption of beverages per person average >=5 and Beverage Types is Beer from world alcohol consumption dataset.\n",
    "print(\"\\nThe world alcohol consumption details: average consumption of \\nbeverages per person >=5 and Beverage Types is Beer:\")\n",
    "print(w_a_con[(w_a_con['Display Value']>=5) & (w_a_con['Beverage Types']=='Beer')].head())\n"
   ]
  },
  {
   "cell_type": "code",
   "execution_count": 57,
   "id": "fdcda6da",
   "metadata": {},
   "outputs": [
    {
     "name": "stdout",
     "output_type": "stream",
     "text": [
      "    Year WHO region         Country Beverage Types  Display Value\n",
      "3   1986   Americas        Colombia           Beer           4.27\n",
      "21  1989   Americas      Costa Rica        Spirits           4.51\n",
      "41  1986     Europe  Czech Republic           Beer           6.82\n",
      "57  1989     Europe         Croatia           Wine           5.10\n",
      "91  1989     Europe        Bulgaria           Beer           4.43\n"
     ]
    }
   ],
   "source": [
    "#14-find out the records where consumption of beverages per person average >=4 and Beverage Types is Beer, Wine, Spirits from world alcohol consumption dataset.\n",
    "print(w_a_con[(w_a_con['Display Value']>=4) & ((w_a_con['Beverage Types'] == 'Beer') | (w_a_con['Beverage Types'] == 'Wine')| (w_a_con['Beverage Types'] == 'Spirits'))].head())"
   ]
  },
  {
   "cell_type": "code",
   "execution_count": 58,
   "id": "5e016b3c",
   "metadata": {},
   "outputs": [
    {
     "name": "stdout",
     "output_type": "stream",
     "text": [
      "        WHO region Beverage Types\n",
      "0  Western Pacific           Wine\n",
      "1         Americas          Other\n",
      "2           Africa           Wine\n",
      "3         Americas           Beer\n",
      "4         Americas           Beer\n"
     ]
    }
   ],
   "source": [
    "#15-filter the specified columns and records by range from world alcohol consumption dataset.\n",
    "print(w_a_con.loc[0:4,[\"WHO region\", \"Beverage Types\"]])"
   ]
  },
  {
   "cell_type": "code",
   "execution_count": 61,
   "id": "c1d465c3",
   "metadata": {},
   "outputs": [
    {
     "name": "stdout",
     "output_type": "stream",
     "text": [
      "    Year             WHO region      Country Beverage Types  Display Value\n",
      "13  1984  Eastern Mediterranean  Afghanistan          Other           0.00\n",
      "20  1986        South-East Asia      Myanmar           Wine           0.00\n",
      "25  1984  Eastern Mediterranean      Tunisia          Other           0.00\n",
      "27  1984  Eastern Mediterranean      Bahrain           Beer           2.22\n",
      "36  1987  Eastern Mediterranean        Egypt           Beer           0.07\n"
     ]
    }
   ],
   "source": [
    "#16-filter those records where WHO region contains \"Ea\" substring from world alcohol consumption dataset.\n",
    "#print(w_a_con[w_a_con['WHO region'] like '%Ea%'])\n",
    "print(w_a_con[w_a_con['WHO region'].str.contains('Ea')].head())"
   ]
  },
  {
   "cell_type": "code",
   "execution_count": 65,
   "id": "50a41a25",
   "metadata": {},
   "outputs": [
    {
     "name": "stdout",
     "output_type": "stream",
     "text": [
      "    Year WHO region       Country Beverage Types  Display Value\n",
      "2   1985     Africa  Cte d'Ivoire           Wine           1.62\n",
      "6   1987     Africa     Mauritius           Wine           0.13\n",
      "7   1985     Africa        Angola        Spirits           0.39\n",
      "9   1984     Africa       Nigeria          Other           6.10\n",
      "10  1987     Africa      Botswana           Wine           0.20\n"
     ]
    }
   ],
   "source": [
    "#17- filter those records where WHO region matches with multiple values (Africa, Eastern Mediterranean, Europe) from world alcohol consumption dataset\n",
    "result=w_a_con['WHO region'].isin([\"Africa\", \"Eastern Mediterranean\", \"Europe\"])\n",
    "print(w_a_con[result].head())"
   ]
  },
  {
   "cell_type": "code",
   "execution_count": 4,
   "id": "189197fa",
   "metadata": {},
   "outputs": [
    {
     "name": "stdout",
     "output_type": "stream",
     "text": [
      "\n",
      "Select all rows which not appears in a given list:\n",
      "    Year       WHO region                                Country  \\\n",
      "0   1986  Western Pacific                               Viet Nam   \n",
      "1   1986         Americas                                Uruguay   \n",
      "3   1986         Americas                               Colombia   \n",
      "4   1987         Americas                  Saint Kitts and Nevis   \n",
      "5   1987         Americas                              Guatemala   \n",
      "8   1986         Americas                    Antigua and Barbuda   \n",
      "11  1989         Americas                              Guatemala   \n",
      "12  1985  Western Pacific       Lao People's Democratic Republic   \n",
      "14  1985  Western Pacific                               Viet Nam   \n",
      "16  1984         Americas                             Costa Rica   \n",
      "20  1986  South-East Asia                                Myanmar   \n",
      "21  1989         Americas                             Costa Rica   \n",
      "28  1987  Western Pacific                               Viet Nam   \n",
      "31  1986  Western Pacific       Micronesia (Federated States of)   \n",
      "35  1985         Americas                  Saint Kitts and Nevis   \n",
      "43  1984  Western Pacific                                  China   \n",
      "46  1987         Americas                    Trinidad and Tobago   \n",
      "47  1986         Americas                                 Mexico   \n",
      "48  1987         Americas                              Nicaragua   \n",
      "54  1984         Americas                            El Salvador   \n",
      "55  1989         Americas                               Suriname   \n",
      "56  1987  Western Pacific                               Viet Nam   \n",
      "61  1984  Western Pacific                       Papua New Guinea   \n",
      "62  1987         Americas                               Suriname   \n",
      "64  1989         Americas       Bolivia (Plurinational State of)   \n",
      "74  1986         Americas       Bolivia (Plurinational State of)   \n",
      "78  1989         Americas                                Jamaica   \n",
      "84  1986  South-East Asia                              Sri Lanka   \n",
      "86  1986         Americas                                Bahamas   \n",
      "97  1984  South-East Asia                              Indonesia   \n",
      "99  1985  South-East Asia  Democratic People's Republic of Korea   \n",
      "\n",
      "   Beverage Types  Display Value  \n",
      "0            Wine           0.00  \n",
      "1           Other           0.50  \n",
      "3            Beer           4.27  \n",
      "4            Beer           1.98  \n",
      "5           Other           0.00  \n",
      "8         Spirits           1.55  \n",
      "11           Beer           0.62  \n",
      "12           Beer           0.00  \n",
      "14        Spirits           0.05  \n",
      "16           Wine           0.06  \n",
      "20           Wine           0.00  \n",
      "21        Spirits           4.51  \n",
      "28           Beer           0.11  \n",
      "31           Wine           0.00  \n",
      "35        Spirits           2.24  \n",
      "43           Wine           0.03  \n",
      "46        Spirits           2.26  \n",
      "47          Other           0.04  \n",
      "48           Beer           0.70  \n",
      "54        Spirits           1.81  \n",
      "55           Wine           0.04  \n",
      "56           Wine           0.00  \n",
      "61        Spirits           0.08  \n",
      "62          Other           0.00  \n",
      "64           Beer           1.26  \n",
      "74        Spirits           2.06  \n",
      "78          Other           0.00  \n",
      "84          Other           0.00  \n",
      "86           Wine           1.83  \n",
      "97           Wine           0.00  \n",
      "99           Wine           0.00  \n"
     ]
    }
   ],
   "source": [
    "#18-filter those records which not appears in a given list from world alcohol consumption dataset.\n",
    "print(\"\\nSelect all rows which not appears in a given list:\")\n",
    "who_region=[\"Africa\", \"Eastern Mediterranean\", \"Europe\"]\n",
    "flt_wine=~w_a_con['WHO region'].isin(who_region)\n",
    "print(w_a_con[flt_wine])"
   ]
  },
  {
   "cell_type": "code",
   "execution_count": 8,
   "id": "b561bde5",
   "metadata": {},
   "outputs": [
    {
     "name": "stdout",
     "output_type": "stream",
     "text": [
      "    Year WHO region                Country Beverage Types  Display Value\n",
      "1   1986   Americas                Uruguay          Other           0.50\n",
      "2   1985     Africa           Cte d'Ivoire           Wine           1.62\n",
      "4   1987   Americas  Saint Kitts and Nevis           Beer           1.98\n",
      "8   1986   Americas    Antigua and Barbuda        Spirits           1.55\n",
      "11  1989   Americas              Guatemala           Beer           0.62\n",
      "\n",
      "    Year WHO region                Country Beverage Types  Display Value\n",
      "2   1985     Africa           Cte d'Ivoire           Wine           1.62\n",
      "4   1987   Americas  Saint Kitts and Nevis           Beer           1.98\n",
      "8   1986   Americas    Antigua and Barbuda        Spirits           1.55\n",
      "11  1989   Americas              Guatemala           Beer           0.62\n",
      "17  1989     Africa             Seychelles           Beer           2.23\n"
     ]
    }
   ],
   "source": [
    "#19- filter all records where the average consumption of beverages per person from .5 to 2.50 in world alcohol \n",
    "#consumption dataset.\n",
    "result=w_a_con[w_a_con['Display Value'].between(0.5,2.50)]\n",
    "print(result.head())\n",
    "print()\n",
    "print(w_a_con[(w_a_con['Display Value'] < 2.5) & (w_a_con['Display Value']>.5)].head())"
   ]
  },
  {
   "cell_type": "code",
   "execution_count": 13,
   "id": "9394cad8",
   "metadata": {},
   "outputs": [
    {
     "name": "stdout",
     "output_type": "stream",
     "text": [
      "    Year WHO region      Country Beverage Types  Display Value\n",
      "57  1989     Europe      Croatia           Wine           5.10\n",
      "81  1985     Europe  Netherlands           Wine           2.54\n",
      "96  1985     Europe   Luxembourg           Wine           7.38\n",
      "Year              3\n",
      "WHO region        3\n",
      "Country           3\n",
      "Beverage Types    3\n",
      "Display Value     3\n",
      "dtype: int64\n"
     ]
    }
   ],
   "source": [
    "#20-find average consumption of wine per person greater than 2 in world alcohol consumption dataset\n",
    "result=w_a_con[(w_a_con['Display Value']>2) & (w_a_con['Beverage Types']=='Wine') ]\n",
    "print(result)\n",
    "\n",
    "print(w_a_con[(w_a_con['Beverage Types'] == 'Wine') & (w_a_con['Display Value'] > 2)].count())"
   ]
  },
  {
   "cell_type": "code",
   "execution_count": 15,
   "id": "6ebcb330",
   "metadata": {},
   "outputs": [
    {
     "name": "stdout",
     "output_type": "stream",
     "text": [
      "    Year             WHO region                     Country Beverage Types  \\\n",
      "0   1986        Western Pacific                    Viet Nam           Wine   \n",
      "10  1987                 Africa                    Botswana           Wine   \n",
      "20  1986        South-East Asia                     Myanmar           Wine   \n",
      "30  1986                 Africa                Sierra Leone          Other   \n",
      "40  1987                 Europe                     Austria        Spirits   \n",
      "50  1985                 Europe                 Switzerland          Other   \n",
      "60  1987  Eastern Mediterranean  Iran (Islamic Republic of)          Other   \n",
      "70  1986                 Africa                  Madagascar        Spirits   \n",
      "80  1985                 Africa                      Malawi          Other   \n",
      "90  1989                 Africa                      Malawi           Wine   \n",
      "\n",
      "    Display Value  \n",
      "0            0.00  \n",
      "10           0.20  \n",
      "20           0.00  \n",
      "30           4.48  \n",
      "40           1.90  \n",
      "50           0.30  \n",
      "60           0.00  \n",
      "70           1.02  \n",
      "80           0.84  \n",
      "90           0.01  \n"
     ]
    }
   ],
   "source": [
    "#21-filter rows based on row numbers ended with 0, like 0, 10, 20, 30 from world alcohol consumption dataset\n",
    "print(w_a_con.filter(regex='0$',axis=0))"
   ]
  },
  {
   "cell_type": "code",
   "execution_count": 17,
   "id": "afee9588",
   "metadata": {},
   "outputs": [
    {
     "name": "stdout",
     "output_type": "stream",
     "text": [
      "\n",
      "Select consecutive columns:\n",
      "                 Country Beverage Types  Display Value\n",
      "0               Viet Nam           Wine           0.00\n",
      "1                Uruguay          Other           0.50\n",
      "2           Cte d'Ivoire           Wine           1.62\n",
      "3               Colombia           Beer           4.27\n",
      "4  Saint Kitts and Nevis           Beer           1.98\n",
      "\n",
      "Alternate command:\n",
      "                 Country Beverage Types  Display Value\n",
      "0               Viet Nam           Wine           0.00\n",
      "1                Uruguay          Other           0.50\n",
      "2           Cte d'Ivoire           Wine           1.62\n",
      "3               Colombia           Beer           4.27\n",
      "4  Saint Kitts and Nevis           Beer           1.98\n",
      "\n",
      "Select rows with Index label 0 to 9 with specific columns:\n",
      "   Year                Country  Display Value\n",
      "0  1986               Viet Nam           0.00\n",
      "1  1986                Uruguay           0.50\n",
      "2  1985           Cte d'Ivoire           1.62\n",
      "3  1986               Colombia           4.27\n",
      "4  1987  Saint Kitts and Nevis           1.98\n",
      "5  1987              Guatemala           0.00\n",
      "6  1987              Mauritius           0.13\n",
      "7  1985                 Angola           0.39\n",
      "8  1986    Antigua and Barbuda           1.55\n",
      "9  1984                Nigeria           6.10\n"
     ]
    }
   ],
   "source": [
    "#22-select consecutive columns and also select rows with Index label 0 to 9 with some \n",
    "#columns from world alcohol consumption dataset\n",
    "print(\"\\nSelect consecutive columns:\")\n",
    "print(w_a_con.loc[:,\"Country\":\"Display Value\"].head())\n",
    "\n",
    "print(\"\\nAlternate command:\")\n",
    "print(w_a_con.iloc[:,2:5].head())\n",
    "\n",
    "print(\"\\nSelect rows with Index label 0 to 9 with specific columns:\")\n",
    "print(w_a_con.loc[0:9,[\"Year\",\"Country\",\"Display Value\"]])"
   ]
  },
  {
   "cell_type": "code",
   "execution_count": 23,
   "id": "6987c404",
   "metadata": {},
   "outputs": [
    {
     "name": "stdout",
     "output_type": "stream",
     "text": [
      "     yr       WHO region                Country Beverage Types  Display Value\n",
      "0  1986  Western Pacific               Viet Nam           Wine           0.00\n",
      "1  1986         Americas                Uruguay          Other           0.50\n",
      "2  1985           Africa           Cte d'Ivoire           Wine           1.62\n",
      "3  1986         Americas               Colombia           Beer           4.27\n",
      "4  1987         Americas  Saint Kitts and Nevis           Beer           1.98\n"
     ]
    }
   ],
   "source": [
    "#23-rename all and only some of the column names from world alcohol consumption dataset. \n",
    "#result=w_a_con[w_a_con['Year':'Date']]\n",
    "\n",
    "resul=w_a_con.rename(columns={'Year':'yr'})\n",
    "print(resul.head())"
   ]
  },
  {
   "cell_type": "code",
   "execution_count": 25,
   "id": "cd26d476",
   "metadata": {},
   "outputs": [
    {
     "name": "stdout",
     "output_type": "stream",
     "text": [
      "\n",
      "Find which years have all non-zero values:\n",
      "    Year       WHO region                                Country  \\\n",
      "0   1986  Western Pacific                               Viet Nam   \n",
      "1   1986         Americas                                Uruguay   \n",
      "2   1985           Africa                           Cte d'Ivoire   \n",
      "3   1986         Americas                               Colombia   \n",
      "4   1987         Americas                  Saint Kitts and Nevis   \n",
      "..   ...              ...                                    ...   \n",
      "95  1984           Africa                                  Niger   \n",
      "96  1985           Europe                             Luxembourg   \n",
      "97  1984  South-East Asia                              Indonesia   \n",
      "98  1984           Africa                      Equatorial Guinea   \n",
      "99  1985  South-East Asia  Democratic People's Republic of Korea   \n",
      "\n",
      "   Beverage Types  \n",
      "0            Wine  \n",
      "1           Other  \n",
      "2            Wine  \n",
      "3            Beer  \n",
      "4            Beer  \n",
      "..            ...  \n",
      "95          Other  \n",
      "96           Wine  \n",
      "97           Wine  \n",
      "98           Wine  \n",
      "99           Wine  \n",
      "\n",
      "[100 rows x 4 columns]\n",
      "\n",
      "Find which years have any non-zero values:\n",
      "    Year       WHO region                                Country  \\\n",
      "0   1986  Western Pacific                               Viet Nam   \n",
      "1   1986         Americas                                Uruguay   \n",
      "2   1985           Africa                           Cte d'Ivoire   \n",
      "3   1986         Americas                               Colombia   \n",
      "4   1987         Americas                  Saint Kitts and Nevis   \n",
      "..   ...              ...                                    ...   \n",
      "95  1984           Africa                                  Niger   \n",
      "96  1985           Europe                             Luxembourg   \n",
      "97  1984  South-East Asia                              Indonesia   \n",
      "98  1984           Africa                      Equatorial Guinea   \n",
      "99  1985  South-East Asia  Democratic People's Republic of Korea   \n",
      "\n",
      "   Beverage Types  Display Value  \n",
      "0            Wine           0.00  \n",
      "1           Other           0.50  \n",
      "2            Wine           1.62  \n",
      "3            Beer           4.27  \n",
      "4            Beer           1.98  \n",
      "..            ...            ...  \n",
      "95          Other           0.00  \n",
      "96           Wine           7.38  \n",
      "97           Wine           0.00  \n",
      "98           Wine           0.00  \n",
      "99           Wine           0.00  \n",
      "\n",
      "[100 rows x 5 columns]\n"
     ]
    }
   ],
   "source": [
    "#24-to find which years have all non-zero values and which years have any non-zero \n",
    "#values from world alcohol consumption dataset\n",
    "#result=w_a_con[w_a_con['Display Value']>0].group_by('Year')\n",
    "\n",
    "print(\"\\nFind which years have all non-zero values:\")\n",
    "print(w_a_con.loc[:,w_a_con.all()])\n",
    "\n",
    "print(\"\\nFind which years have any non-zero values:\")\n",
    "print(w_a_con.loc[:,w_a_con.any()])\n"
   ]
  },
  {
   "cell_type": "code",
   "execution_count": 32,
   "id": "c28ceeb7",
   "metadata": {},
   "outputs": [
    {
     "name": "stdout",
     "output_type": "stream",
     "text": [
      "    Display Value\n",
      "0            0.00\n",
      "1            0.50\n",
      "2            1.62\n",
      "3            4.27\n",
      "4            1.98\n",
      "..            ...\n",
      "95           0.00\n",
      "96           7.38\n",
      "97           0.00\n",
      "98           0.00\n",
      "99           0.00\n",
      "\n",
      "[100 rows x 1 columns]\n",
      "   Year       WHO region                Country Beverage Types\n",
      "0  1986  Western Pacific               Viet Nam           Wine\n",
      "1  1986         Americas                Uruguay          Other\n",
      "2  1985           Africa           Cte d'Ivoire           Wine\n",
      "3  1986         Americas               Colombia           Beer\n",
      "4  1987         Americas  Saint Kitts and Nevis           Beer\n",
      "\n",
      "Drop rows with any NaNs:\n",
      "    Year       WHO region                                Country  \\\n",
      "0   1986  Western Pacific                               Viet Nam   \n",
      "1   1986         Americas                                Uruguay   \n",
      "2   1985           Africa                           Cte d'Ivoire   \n",
      "3   1986         Americas                               Colombia   \n",
      "4   1987         Americas                  Saint Kitts and Nevis   \n",
      "..   ...              ...                                    ...   \n",
      "95  1984           Africa                                  Niger   \n",
      "96  1985           Europe                             Luxembourg   \n",
      "97  1984  South-East Asia                              Indonesia   \n",
      "98  1984           Africa                      Equatorial Guinea   \n",
      "99  1985  South-East Asia  Democratic People's Republic of Korea   \n",
      "\n",
      "   Beverage Types  Display Value  \n",
      "0            Wine           0.00  \n",
      "1           Other           0.50  \n",
      "2            Wine           1.62  \n",
      "3            Beer           4.27  \n",
      "4            Beer           1.98  \n",
      "..            ...            ...  \n",
      "95          Other           0.00  \n",
      "96           Wine           7.38  \n",
      "97           Wine           0.00  \n",
      "98           Wine           0.00  \n",
      "99           Wine           0.00  \n",
      "\n",
      "[95 rows x 5 columns]\n"
     ]
    }
   ],
   "source": [
    "#25- filter all columns where all entries present, check which rows and columns has a NaN and finally drop rows with any NaNs from world alcohol consumption dataset\n",
    "print(w_a_con.loc[:,w_a_con.isnull().any()])\n",
    "\n",
    "print(w_a_con.loc[:,w_a_con.notnull().all()].head())\n",
    "\n",
    "print(\"\\nDrop rows with any NaNs:\")\n",
    "print(w_a_con.dropna(how='any'))  "
   ]
  },
  {
   "cell_type": "code",
   "execution_count": 35,
   "id": "37e8dbd4",
   "metadata": {},
   "outputs": [
    {
     "name": "stdout",
     "output_type": "stream",
     "text": [
      "\n",
      "From the 'Year' column, access every other column:\n",
      "   Year                Country  Display Value\n",
      "0  1986               Viet Nam           0.00\n",
      "1  1986                Uruguay           0.50\n",
      "2  1985           Cte d'Ivoire           1.62\n",
      "3  1986               Colombia           4.27\n",
      "4  1987  Saint Kitts and Nevis           1.98\n",
      "5  1987              Guatemala           0.00\n",
      "6  1987              Mauritius           0.13\n",
      "7  1985                 Angola           0.39\n",
      "8  1986    Antigua and Barbuda           1.55\n",
      "9  1984                Nigeria           6.10\n",
      "\n",
      "Alternate solution:\n",
      "   Year                Country  Display Value\n",
      "0  1986               Viet Nam           0.00\n",
      "1  1986                Uruguay           0.50\n",
      "2  1985           Cte d'Ivoire           1.62\n",
      "3  1986               Colombia           4.27\n",
      "4  1987  Saint Kitts and Nevis           1.98\n",
      "5  1987              Guatemala           0.00\n",
      "6  1987              Mauritius           0.13\n",
      "7  1985                 Angola           0.39\n",
      "8  1986    Antigua and Barbuda           1.55\n",
      "9  1984                Nigeria           6.10\n"
     ]
    }
   ],
   "source": [
    "#26- filter all records starting from the 'Year' column, access every other column from world alcohol consumption dataset.\n",
    "print(\"\\nFrom the 'Year' column, access every other column:\")\n",
    "print(w_a_con.loc[:,'Year'::2].head(10))\n",
    "print(\"\\nAlternate solution:\")\n",
    "print(w_a_con.iloc[:,0::2].head(10))"
   ]
  },
  {
   "cell_type": "code",
   "execution_count": 36,
   "id": "e3ab22af",
   "metadata": {},
   "outputs": [
    {
     "name": "stdout",
     "output_type": "stream",
     "text": [
      "\n",
      "Starting from the 2nd row, access every 5th row:\n",
      "    Year             WHO region  \\\n",
      "1   1986               Americas   \n",
      "6   1987                 Africa   \n",
      "11  1989               Americas   \n",
      "16  1984               Americas   \n",
      "21  1989               Americas   \n",
      "26  1985                 Europe   \n",
      "31  1986        Western Pacific   \n",
      "36  1987  Eastern Mediterranean   \n",
      "41  1986                 Europe   \n",
      "46  1987               Americas   \n",
      "\n",
      "                                              Country Beverage Types  \\\n",
      "1                                             Uruguay          Other   \n",
      "6                                           Mauritius           Wine   \n",
      "11                                          Guatemala           Beer   \n",
      "16                                         Costa Rica           Wine   \n",
      "21                                         Costa Rica        Spirits   \n",
      "26  United Kingdom of Great Britain and Northern I...           Wine   \n",
      "31                   Micronesia (Federated States of)           Wine   \n",
      "36                                              Egypt           Beer   \n",
      "41                                     Czech Republic           Beer   \n",
      "46                                Trinidad and Tobago        Spirits   \n",
      "\n",
      "    Display Value  \n",
      "1            0.50  \n",
      "6            0.13  \n",
      "11           0.62  \n",
      "16           0.06  \n",
      "21           4.51  \n",
      "26           1.36  \n",
      "31           0.00  \n",
      "36           0.07  \n",
      "41           6.82  \n",
      "46           2.26  \n"
     ]
    }
   ],
   "source": [
    "#27- filter all records starting from the 2nd row, access every 5th row from world alcohol consumption dataset\n",
    "print(\"\\nStarting from the 2nd row, access every 5th row:\")\n",
    "print(w_a_con.iloc[1::5].head(10))"
   ]
  },
  {
   "cell_type": "code",
   "execution_count": null,
   "id": "05a91af0",
   "metadata": {},
   "outputs": [],
   "source": []
  }
 ],
 "metadata": {
  "kernelspec": {
   "display_name": "Python 3 (ipykernel)",
   "language": "python",
   "name": "python3"
  },
  "language_info": {
   "codemirror_mode": {
    "name": "ipython",
    "version": 3
   },
   "file_extension": ".py",
   "mimetype": "text/x-python",
   "name": "python",
   "nbconvert_exporter": "python",
   "pygments_lexer": "ipython3",
   "version": "3.9.7"
  }
 },
 "nbformat": 4,
 "nbformat_minor": 5
}
