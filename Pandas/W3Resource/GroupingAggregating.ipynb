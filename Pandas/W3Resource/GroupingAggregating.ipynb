{
 "cells": [
  {
   "cell_type": "code",
   "execution_count": 2,
   "id": "4b591506",
   "metadata": {},
   "outputs": [
    {
     "name": "stdout",
     "output_type": "stream",
     "text": [
      "Original Dataframe\n",
      "   school_code class            name date_Of_Birth   age  height  weight  \\\n",
      "S1        s001     V  Alberto Franco     15/05/2002   12     173      35   \n",
      "S2        s002     V    Gino Mcneill     17/05/2002   12     192      32   \n",
      "S3        s003    VI     Ryan Parkes     16/02/1999   13     186      33   \n",
      "S4        s001    VI    Eesha Hinton     25/09/1998   13     167      30   \n",
      "S5        s002     V    Gino Mcneill     11/05/2002   14     151      31   \n",
      "S6        s004    VI    David Parkes     15/09/1997   12     159      32   \n",
      "\n",
      "    address  \n",
      "S1  street1  \n",
      "S2  street2  \n",
      "S3  street3  \n",
      "S4  street1  \n",
      "S5  street2  \n",
      "S6  street4  \n",
      "split the data by schoo_code\n",
      "\n",
      "Group\n",
      "s001\n",
      "   school_code class            name date_Of_Birth   age  height  weight  \\\n",
      "S1        s001     V  Alberto Franco     15/05/2002   12     173      35   \n",
      "S4        s001    VI    Eesha Hinton     25/09/1998   13     167      30   \n",
      "\n",
      "    address  \n",
      "S1  street1  \n",
      "S4  street1  \n",
      "\n",
      "Group\n",
      "s002\n",
      "   school_code class          name date_Of_Birth   age  height  weight  \\\n",
      "S2        s002     V  Gino Mcneill     17/05/2002   12     192      32   \n",
      "S5        s002     V  Gino Mcneill     11/05/2002   14     151      31   \n",
      "\n",
      "    address  \n",
      "S2  street2  \n",
      "S5  street2  \n",
      "\n",
      "Group\n",
      "s003\n",
      "   school_code class         name date_Of_Birth   age  height  weight  address\n",
      "S3        s003    VI  Ryan Parkes     16/02/1999   13     186      33  street3\n",
      "\n",
      "Group\n",
      "s004\n",
      "   school_code class          name date_Of_Birth   age  height  weight  \\\n",
      "S6        s004    VI  David Parkes     15/09/1997   12     159      32   \n",
      "\n",
      "    address  \n",
      "S6  street4  \n",
      "\n",
      "Type of the object:\n",
      "<class 'pandas.core.groupby.generic.DataFrameGroupBy'>\n"
     ]
    }
   ],
   "source": [
    "#Date-10/30/22\n",
    "#1-split the following dataframe into groups based on school code. Also check the type of GroupBy object\n",
    "import pandas as pd\n",
    "student_data = pd.DataFrame({\n",
    "    'school_code': ['s001','s002','s003','s001','s002','s004'],\n",
    "    'class': ['V', 'V', 'VI', 'VI', 'V', 'VI'],\n",
    "    'name': ['Alberto Franco','Gino Mcneill','Ryan Parkes', 'Eesha Hinton', 'Gino Mcneill', 'David Parkes'],\n",
    "    'date_Of_Birth ': ['15/05/2002','17/05/2002','16/02/1999','25/09/1998','11/05/2002','15/09/1997'],\n",
    "    'age': [12, 12, 13, 13, 14, 12],\n",
    "    'height': [173, 192, 186, 167, 151, 159],\n",
    "    'weight': [35, 32, 33, 30, 31, 32],\n",
    "    'address': ['street1', 'street2', 'street3', 'street1', 'street2', 'street4']},\n",
    "    index=['S1', 'S2', 'S3', 'S4', 'S5', 'S6'])\n",
    "\n",
    "print(\"Original Dataframe\")\n",
    "print(student_data)\n",
    "\n",
    "print(\"split the data by schoo_code\")\n",
    "result=student_data.groupby(['school_code'])\n",
    "for name,group in result:\n",
    "    print(\"\\nGroup\")\n",
    "    print(name)\n",
    "    print(group)\n",
    "    \n",
    "print(\"\\nType of the object:\")\n",
    "print(type(result))"
   ]
  },
  {
   "cell_type": "code",
   "execution_count": 12,
   "id": "cc0a19f6",
   "metadata": {},
   "outputs": [
    {
     "name": "stdout",
     "output_type": "stream",
     "text": [
      "s001\n",
      "Max age of group= 13\n",
      "Minimum age of group= 12\n",
      "average of group age= 12.5\n",
      "\n",
      "    school_code class            name date_Of_Birth   age  height  weight  \\\n",
      "S1        s001     V  Alberto Franco     15/05/2002   12     173      35   \n",
      "S4        s001    VI    Eesha Hinton     25/09/1998   13     167      30   \n",
      "\n",
      "    address  \n",
      "S1  street1  \n",
      "S4  street1  \n",
      "\n",
      "s002\n",
      "Max age of group= 14\n",
      "Minimum age of group= 12\n",
      "average of group age= 13.0\n",
      "\n",
      "    school_code class          name date_Of_Birth   age  height  weight  \\\n",
      "S2        s002     V  Gino Mcneill     17/05/2002   12     192      32   \n",
      "S5        s002     V  Gino Mcneill     11/05/2002   14     151      31   \n",
      "\n",
      "    address  \n",
      "S2  street2  \n",
      "S5  street2  \n",
      "\n",
      "s003\n",
      "Max age of group= 13\n",
      "Minimum age of group= 13\n",
      "average of group age= 13.0\n",
      "\n",
      "    school_code class         name date_Of_Birth   age  height  weight  address\n",
      "S3        s003    VI  Ryan Parkes     16/02/1999   13     186      33  street3\n",
      "\n",
      "s004\n",
      "Max age of group= 12\n",
      "Minimum age of group= 12\n",
      "average of group age= 12.0\n",
      "\n",
      "    school_code class          name date_Of_Birth   age  height  weight  \\\n",
      "S6        s004    VI  David Parkes     15/09/1997   12     159      32   \n",
      "\n",
      "    address  \n",
      "S6  street4  \n",
      "\n"
     ]
    }
   ],
   "source": [
    "#2-split the following dataframe by school code and get mean, min, and max value of age for each school\n",
    "import pandas as pd\n",
    "\n",
    "student_data = pd.DataFrame({\n",
    "    'school_code': ['s001','s002','s003','s001','s002','s004'],\n",
    "    'class': ['V', 'V', 'VI', 'VI', 'V', 'VI'],\n",
    "    'name': ['Alberto Franco','Gino Mcneill','Ryan Parkes', 'Eesha Hinton', 'Gino Mcneill', 'David Parkes'],\n",
    "    'date_Of_Birth ': ['15/05/2002','17/05/2002','16/02/1999','25/09/1998','11/05/2002','15/09/1997'],\n",
    "    'age': [12, 12, 13, 13, 14, 12],\n",
    "    'height': [173, 192, 186, 167, 151, 159],\n",
    "    'weight': [35, 32, 33, 30, 31, 32],\n",
    "    'address': ['street1', 'street2', 'street3', 'street1', 'street2', 'street4']},\n",
    "    index=['S1', 'S2', 'S3', 'S4', 'S5', 'S6'])\n",
    "\n",
    "result=student_data.groupby(['school_code'])\n",
    "\n",
    "for code, group in result:\n",
    "    print(code)\n",
    "    print(\"Max age of group=\",group['age'].max())\n",
    "    print(\"Minimum age of group=\",group['age'].min())\n",
    "    print(\"average of group age=\",group['age'].mean())\n",
    "    print('\\n',group)\n",
    "    print()"
   ]
  },
  {
   "cell_type": "code",
   "execution_count": 14,
   "id": "1228b817",
   "metadata": {},
   "outputs": [
    {
     "name": "stdout",
     "output_type": "stream",
     "text": [
      "\n",
      "Mean, min, and max value of age for each value of the school:\n",
      "              age        \n",
      "             mean max min\n",
      "school_code              \n",
      "s001         12.5  13  12\n",
      "s002         13.0  14  12\n",
      "s003         13.0  13  13\n",
      "s004         12.0  12  12\n"
     ]
    }
   ],
   "source": [
    "#method02\n",
    "print('\\nMean, min, and max value of age for each value of the school:')\n",
    "grouped=student_data.groupby('school_code').agg({'age':['mean','max','min']})\n",
    "print(grouped)"
   ]
  },
  {
   "cell_type": "code",
   "execution_count": 15,
   "id": "0d722064",
   "metadata": {},
   "outputs": [
    {
     "name": "stdout",
     "output_type": "stream",
     "text": [
      "('s001', 'V')\n",
      "   school_code class            name date_Of_Birth   age  height  weight  \\\n",
      "S1        s001     V  Alberto Franco     15/05/2002   12     173      35   \n",
      "\n",
      "    address  \n",
      "S1  street1  \n",
      "('s001', 'VI')\n",
      "   school_code class          name date_Of_Birth   age  height  weight  \\\n",
      "S4        s001    VI  Eesha Hinton     25/09/1998   13     167      30   \n",
      "\n",
      "    address  \n",
      "S4  street1  \n",
      "('s002', 'V')\n",
      "   school_code class          name date_Of_Birth   age  height  weight  \\\n",
      "S2        s002     V  Gino Mcneill     17/05/2002   12     192      32   \n",
      "S5        s002     V  Gino Mcneill     11/05/2002   14     151      31   \n",
      "\n",
      "    address  \n",
      "S2  street2  \n",
      "S5  street2  \n",
      "('s003', 'VI')\n",
      "   school_code class         name date_Of_Birth   age  height  weight  address\n",
      "S3        s003    VI  Ryan Parkes     16/02/1999   13     186      33  street3\n",
      "('s004', 'VI')\n",
      "   school_code class          name date_Of_Birth   age  height  weight  \\\n",
      "S6        s004    VI  David Parkes     15/09/1997   12     159      32   \n",
      "\n",
      "    address  \n",
      "S6  street4  \n"
     ]
    }
   ],
   "source": [
    "#3-split the following given dataframe into groups based on school code and class\n",
    "multiple_criteria_group=student_data.groupby(['school_code','class'])\n",
    "for criteria,group in multiple_criteria_group:\n",
    "    print(criteria)\n",
    "    print(group)"
   ]
  },
  {
   "cell_type": "code",
   "execution_count": 16,
   "id": "01bbe070",
   "metadata": {},
   "outputs": [
    {
     "name": "stdout",
     "output_type": "stream",
     "text": [
      "[('s001',    school_code class            name date_Of_Birth   age  height  weight  \\\n",
      "S1        s001     V  Alberto Franco     15/05/2002   12     173      35   \n",
      "S4        s001    VI    Eesha Hinton     25/09/1998   13     167      30   \n",
      "\n",
      "    address  \n",
      "S1  street1  \n",
      "S4  street1  ), ('s002',    school_code class          name date_Of_Birth   age  height  weight  \\\n",
      "S2        s002     V  Gino Mcneill     17/05/2002   12     192      32   \n",
      "S5        s002     V  Gino Mcneill     11/05/2002   14     151      31   \n",
      "\n",
      "    address  \n",
      "S2  street2  \n",
      "S5  street2  ), ('s003',    school_code class         name date_Of_Birth   age  height  weight  address\n",
      "S3        s003    VI  Ryan Parkes     16/02/1999   13     186      33  street3), ('s004',    school_code class          name date_Of_Birth   age  height  weight  \\\n",
      "S6        s004    VI  David Parkes     15/09/1997   12     159      32   \n",
      "\n",
      "    address  \n",
      "S6  street4  )]\n"
     ]
    }
   ],
   "source": [
    "#4-split the following given dataframe into groups based on school code and cast grouping as a list\n",
    "result=student_data.groupby(['school_code'])\n",
    "print(list(result))"
   ]
  },
  {
   "cell_type": "code",
   "execution_count": 17,
   "id": "7693517b",
   "metadata": {},
   "outputs": [
    {
     "name": "stdout",
     "output_type": "stream",
     "text": [
      "size of the singly columned group= school_code\n",
      "s001    2\n",
      "s002    2\n",
      "s003    1\n",
      "s004    1\n",
      "dtype: int64\n",
      "size of the singly columned group= school_code  class\n",
      "s001         V        1\n",
      "             VI       1\n",
      "s002         V        2\n",
      "s003         VI       1\n",
      "s004         VI       1\n",
      "dtype: int64\n"
     ]
    }
   ],
   "source": [
    "#5-split the following given dataframe into groups based on single column and multiple columns.\n",
    "#Find the size of the grouped data\n",
    "result_single_column=student_data.groupby('school_code')\n",
    "print(\"size of the singly columned group=\",result_single_column.size())\n",
    "result_multiple_columns=student_data.groupby(['school_code','class'])\n",
    "print(\"size of the singly columned group=\",result_multiple_columns.size())"
   ]
  },
  {
   "cell_type": "code",
   "execution_count": 18,
   "id": "928c888b",
   "metadata": {},
   "outputs": [
    {
     "name": "stdout",
     "output_type": "stream",
     "text": [
      "s003\n",
      "   school_code class         name date_Of_Birth   age  height  weight  address\n",
      "S3        s003    VI  Ryan Parkes     16/02/1999   13     186      33  street3\n"
     ]
    }
   ],
   "source": [
    "#6-split the following given dataframe into groups based on school code and call a specific group with the name of the group.\n",
    "result=student_data.groupby(['school_code'])\n",
    "for code,group in result:\n",
    "    if code=='s003':\n",
    "        print(code)\n",
    "        print(group)"
   ]
  },
  {
   "cell_type": "code",
   "execution_count": 20,
   "id": "c9dd6efc",
   "metadata": {},
   "outputs": [
    {
     "name": "stdout",
     "output_type": "stream",
     "text": [
      "\n",
      "Split the said data on school_code wise:\n",
      "Call school code 's001':\n",
      "   school_code class            name date_Of_Birth   age  height  weight  \\\n",
      "S1        s001     V  Alberto Franco     15/05/2002   12     173      35   \n",
      "S4        s001    VI    Eesha Hinton     25/09/1998   13     167      30   \n",
      "\n",
      "    address  \n",
      "S1  street1  \n",
      "S4  street1  \n"
     ]
    }
   ],
   "source": [
    "#Alternate Method\n",
    "print('\\nSplit the said data on school_code wise:')\n",
    "result=student_data.groupby(['school_code'])\n",
    "print(\"Call school code 's001':\")\n",
    "print(result.get_group('s001'))"
   ]
  },
  {
   "cell_type": "code",
   "execution_count": 22,
   "id": "785b86a3",
   "metadata": {},
   "outputs": [
    {
     "name": "stdout",
     "output_type": "stream",
     "text": [
      "Original Orders DataFrame:\n",
      "    ord_no  purch_amt    ord_date  customer_id  salesman_id\n",
      "0    70001     150.50  2012-10-05         3005         5002\n",
      "1    70009     270.65  2012-09-10         3001         5005\n",
      "2    70002      65.26  2012-10-05         3002         5001\n",
      "3    70004     110.50  2012-08-17         3009         5003\n",
      "4    70007     948.50  2012-09-10         3005         5002\n",
      "5    70005    2400.60  2012-07-27         3007         5001\n",
      "6    70008    5760.00  2012-09-10         3002         5001\n",
      "7    70010    1983.43  2012-10-10         3004         5006\n",
      "8    70003    2480.40  2012-10-10         3009         5003\n",
      "9    70012     250.45  2012-06-27         3008         5002\n",
      "10   70011      75.29  2012-08-17         3003         5007\n",
      "11   70013    3045.60  2012-04-25         3002         5001\n",
      "Average, Minimum Valu, Maximum Value of the purchase amunt of each group\n",
      "               purch_amt                  \n",
      "                    mean      max      min\n",
      "customer_id                               \n",
      "3001          270.650000   270.65   270.65\n",
      "3002         2956.953333  5760.00    65.26\n",
      "3003           75.290000    75.29    75.29\n",
      "3004         1983.430000  1983.43  1983.43\n",
      "3005          549.500000   948.50   150.50\n",
      "3007         2400.600000  2400.60  2400.60\n",
      "3008          250.450000   250.45   250.45\n",
      "3009         1295.450000  2480.40   110.50\n"
     ]
    }
   ],
   "source": [
    "#7-to split a dataset, group by one column and get mean, min, and max values by group. \n",
    "#Using the following dataset find the mean, min, and max values of purchase amount (purch_amt) \n",
    "#group by customer id (customer_id).\n",
    "import pandas as pd\n",
    "\n",
    "pd.set_option('display.max_rows', None)\n",
    "orders_data = pd.DataFrame({\n",
    "'ord_no':[70001,70009,70002,70004,70007,70005,70008,70010,70003,70012,70011,70013],\n",
    "'purch_amt':[150.5,270.65,65.26,110.5,948.5,2400.6,5760,1983.43,2480.4,250.45, 75.29,3045.6],\n",
    "'ord_date': ['2012-10-05','2012-09-10','2012-10-05','2012-08-17','2012-09-10','2012-07-27','2012-09-10','2012-10-10','2012-10-10','2012-06-27','2012-08-17','2012-04-25'],\n",
    "'customer_id':[3005,3001,3002,3009,3005,3007,3002,3004,3009,3008,3003,3002],\n",
    "'salesman_id': [5002,5005,5001,5003,5002,5001,5001,5006,5003,5002,5007,5001]})\n",
    "print(\"Original Orders DataFrame:\")\n",
    "print(orders_data)\n",
    "\n",
    "grouped=orders_data.groupby(['customer_id'])\n",
    "\n",
    "print(\"Average, Minimum Valu, Maximum Value of the purchase amunt of each group\")\n",
    "print(grouped.agg({'purch_amt':['mean','max','min']}))"
   ]
  },
  {
   "cell_type": "code",
   "execution_count": 23,
   "id": "da9946ee",
   "metadata": {},
   "outputs": [
    {
     "name": "stdout",
     "output_type": "stream",
     "text": [
      "                         ord_no  purch_amt  ord_date\n",
      "customer_id salesman_id                             \n",
      "3001        5005              1          1         1\n",
      "3002        5001              3          3         3\n",
      "3003        5007              1          1         1\n",
      "3004        5006              1          1         1\n",
      "3005        5002              2          2         2\n",
      "3007        5001              1          1         1\n",
      "3008        5002              1          1         1\n",
      "3009        5003              2          2         2\n"
     ]
    }
   ],
   "source": [
    "#8-split a dataset to group by two columns and count by each row\n",
    "result=orders_data.groupby(['customer_id','salesman_id']).agg('count')\n",
    "print(result)"
   ]
  },
  {
   "cell_type": "code",
   "execution_count": 24,
   "id": "b16e690a",
   "metadata": {},
   "outputs": [
    {
     "name": "stdout",
     "output_type": "stream",
     "text": [
      "                         0\n",
      "salesman_id customer_id   \n",
      "5001        3002         3\n",
      "            3007         1\n",
      "5002        3005         2\n",
      "            3008         1\n",
      "5003        3009         2\n",
      "5005        3001         1\n",
      "5006        3004         1\n",
      "5007        3003         1\n"
     ]
    }
   ],
   "source": [
    "result=orders_data.groupby(['salesman_id','customer_id']).size().reset_index().groupby(['salesman_id','customer_id'])[[0]].max()\n",
    "print(result)"
   ]
  },
  {
   "cell_type": "code",
   "execution_count": 34,
   "id": "3bd4378e",
   "metadata": {},
   "outputs": [
    {
     "name": "stdout",
     "output_type": "stream",
     "text": [
      "customer_id  salesman_id\n",
      "3001         5005            270.65\n",
      "3002         5001           8870.86\n",
      "3003         5007             75.29\n",
      "3004         5006           1983.43\n",
      "3005         5002           1099.00\n",
      "3007         5001           2400.60\n",
      "3008         5002            250.45\n",
      "3009         5003           2590.90\n",
      "Name: purch_amt, dtype: float64\n"
     ]
    }
   ],
   "source": [
    "#9- split a dataset to group by two columns and then sort the aggregated results within the groups\n",
    "df_agg=orders_data.groupby(['customer_id','salesman_id']).agg({'purch_amt':'sum'})\n",
    "result=df_agg['purch_amt'].groupby(level=0,group_keys=False)\n",
    "print(result.nlargest())"
   ]
  },
  {
   "cell_type": "code",
   "execution_count": 36,
   "id": "95740816",
   "metadata": {},
   "outputs": [
    {
     "name": "stdout",
     "output_type": "stream",
     "text": [
      "customer_id\n",
      "3001                            [2012-09-10]\n",
      "3002    [2012-10-05, 2012-09-10, 2012-04-25]\n",
      "3003                            [2012-08-17]\n",
      "3004                            [2012-10-10]\n",
      "3005                [2012-10-05, 2012-09-10]\n",
      "3007                            [2012-07-27]\n",
      "3008                            [2012-06-27]\n",
      "3009                [2012-08-17, 2012-10-10]\n",
      "Name: ord_date, dtype: object\n"
     ]
    }
   ],
   "source": [
    "#10-split the following dataframe into groups based on customer id and create a list of order date for each group.\n",
    "result=orders_data.groupby(['customer_id'])['ord_date'].apply(list)\n",
    "print(result)"
   ]
  },
  {
   "cell_type": "code",
   "execution_count": 39,
   "id": "ebbc7bd9",
   "metadata": {},
   "outputs": [
    {
     "name": "stdout",
     "output_type": "stream",
     "text": [
      "\n",
      "Month wise purchase amount:\n",
      "            purch_amt\n",
      "ord_date             \n",
      "2012-04-30    3045.60\n",
      "2012-05-31       0.00\n",
      "2012-06-30     250.45\n",
      "2012-07-31    2400.60\n",
      "2012-08-31     185.79\n",
      "2012-09-30    6979.15\n",
      "2012-10-31    4679.59\n"
     ]
    }
   ],
   "source": [
    "#11- split the following dataframe into groups and calculate monthly purchase amount.\n",
    "#result=orders_data.groupby(['customer_id'])\n",
    "orders_data['ord_date']=pd.to_datetime(orders_data['ord_date'])\n",
    "print(\"\\nMonth wise purchase amount:\")\n",
    "result=orders_data.set_index('ord_date').groupby(pd.Grouper(freq='M')).agg({'purch_amt':sum})\n",
    "print(result)"
   ]
  },
  {
   "cell_type": "code",
   "execution_count": 42,
   "id": "4a006825",
   "metadata": {},
   "outputs": [
    {
     "name": "stdout",
     "output_type": "stream",
     "text": [
      "\n",
      "Month wise purchase amount:\n",
      "                purch_amt\n",
      "ord_date_month           \n",
      "2012-04-30        3045.60\n",
      "2012-05-31           0.00\n",
      "2012-06-30         250.45\n",
      "2012-07-31        2400.60\n",
      "2012-08-31         185.79\n",
      "2012-09-30        6979.15\n",
      "2012-10-31        4679.59\n",
      "\n",
      "Year wise purchase amount:\n",
      "                purch_amt\n",
      "ord_date_month           \n",
      "2012-12-31       17541.18\n"
     ]
    }
   ],
   "source": [
    "#12- split the following dataframe into groups, group by month and year based on order date and find the total purchase amount year wise, month wise\n",
    "orders_data['ord_date_month']=pd.to_datetime(orders_data['ord_date'])\n",
    "print(\"\\nMonth wise purchase amount:\")\n",
    "result_month=orders_data.set_index('ord_date_month').groupby(pd.Grouper(freq='M')).agg({'purch_amt':sum})\n",
    "result_year=orders_data.set_index('ord_date_month').groupby(pd.Grouper(freq='Y')).agg({'purch_amt':sum})\n",
    "\n",
    "print(result_month)\n",
    "print(\"\\nYear wise purchase amount:\")\n",
    "print(result_year)"
   ]
  },
  {
   "cell_type": "code",
   "execution_count": 45,
   "id": "95e6a419",
   "metadata": {},
   "outputs": [
    {
     "name": "stdout",
     "output_type": "stream",
     "text": [
      "\n",
      "Year wise Month wise purchase amount:\n",
      "                   purch_amt\n",
      "ord_date ord_date           \n",
      "2012     4           3045.60\n",
      "         5            150.50\n",
      "         7             75.29\n",
      "         9            270.65\n",
      "         10         10223.83\n",
      "2013     5             65.26\n",
      "         8            110.50\n",
      "         10           948.50\n",
      "2014     6            250.45\n",
      "         7           2400.60\n"
     ]
    }
   ],
   "source": [
    "#alternate\n",
    "import pandas as pd\n",
    "orders_data = pd.DataFrame({\n",
    "'ord_no':[70001,70009,70002,70004,70007,70005,70008,70010,70003,70012,70011,70013],\n",
    "'purch_amt':[150.5,270.65,65.26,110.5,948.5,2400.6,5760,1983.43,2480.4,250.45, 75.29,3045.6],\n",
    "'ord_date': ['05-10-2012','09-10-2012','05-10-2013','08-17-2013','10-09-2013','07-27-2014','10-09-2012','10-10-2012','10-10-2012','06-17-2014','07-08-2012','04-25-2012'],\n",
    "'customer_id':[3001,3001,3005,3001,3005,3001,3005,3001,3005,3001,3005,3005],\n",
    "'salesman_id': [5002,5005,5001,5003,5002,5001,5001,5006,5003,5002,5007,5001]})\n",
    "\n",
    "orders_data['ord_date']=pd.to_datetime(orders_data['ord_date'])\n",
    "print(\"\\nYear wise Month wise purchase amount:\")\n",
    "result=orders_data.groupby([orders_data['ord_date'].dt.year,orders_data['ord_date'].dt.month]).agg({'purch_amt':sum})\n",
    "print(result)"
   ]
  },
  {
   "cell_type": "code",
   "execution_count": 53,
   "id": "838d6b15",
   "metadata": {},
   "outputs": [],
   "source": [
    "#13- split the following dataframe into groups based on first column and set other column values into a list of values\n",
    "import pandas as pd\n",
    "df = pd.DataFrame( {'X' : [10, 10, 10, 20, 30, 30, 10], \n",
    "                    'Y' : [10, 15, 11, 20, 21, 12, 14], \n",
    "                    'Z' : [22, 20, 18, 20, 13, 10, 0]})\n",
    "\n",
    "result=df.groupby(df.iloc[0])\n",
    "for code,group in result:\n",
    "    print(code)\n",
    "    print(group)"
   ]
  },
  {
   "cell_type": "code",
   "execution_count": 55,
   "id": "36a7e0d1",
   "metadata": {},
   "outputs": [
    {
     "name": "stdout",
     "output_type": "stream",
     "text": [
      "                   Y                Z\n",
      "X                                    \n",
      "10  [10, 15, 11, 14]  [22, 20, 18, 0]\n",
      "20              [20]             [20]\n",
      "30          [21, 12]         [13, 10]\n"
     ]
    }
   ],
   "source": [
    "result=df.groupby('X').aggregate(lambda tdf:tdf.unique().tolist())\n",
    "print(result)"
   ]
  },
  {
   "cell_type": "code",
   "execution_count": 57,
   "id": "85008fa6",
   "metadata": {},
   "outputs": [
    {
     "name": "stdout",
     "output_type": "stream",
     "text": [
      "book     English  Math  Physics\n",
      "id type                        \n",
      "1  10          0     1        0\n",
      "   11          0     0        1\n",
      "   12          0     0        1\n",
      "   20          0     1        0\n",
      "2  14          1     0        0\n",
      "   15          1     0        0\n",
      "   21          1     0        0\n"
     ]
    }
   ],
   "source": [
    "#14- split the following dataframe into groups based on all columns and calculate Groupby value counts on the dataframe.\n",
    "import pandas as pd\n",
    "df=pd.DataFrame( {'id' : [1, 2, 1, 1, 2, 1, 2], \n",
    "                    'type' : [10, 15, 11, 20, 21, 12, 14], \n",
    "                    'book' : ['Math','English','Physics','Math','English','Physics','English']})\n",
    "result=df.groupby(['id','type','book']).size().unstack(fill_value=0)\n",
    "print(result)"
   ]
  },
  {
   "cell_type": "code",
   "execution_count": 60,
   "id": "dd014be5",
   "metadata": {},
   "outputs": [
    {
     "name": "stdout",
     "output_type": "stream",
     "text": [
      "original dataframe\n",
      "   id value\n",
      "0   1     a\n",
      "1   1     a\n",
      "2   2     b\n",
      "3   3  None\n",
      "4   3     a\n",
      "5   4     a\n",
      "6   4  None\n",
      "7   4     b\n",
      "count uniq values\n",
      "value\n",
      "a    [1, 3, 4]\n",
      "b       [2, 4]\n",
      "Name: id, dtype: object\n",
      "value\n",
      "a    3\n",
      "b    2\n",
      "Name: id, dtype: int64\n"
     ]
    }
   ],
   "source": [
    "#15-split the following dataframe into groups and count unique values of 'value' column\n",
    "import pandas as pd\n",
    "df = pd.DataFrame({\n",
    "    'id': [1, 1, 2, 3, 3, 4, 4, 4],\n",
    "    'value': ['a', 'a', 'b', None, 'a', 'a', None, 'b']\n",
    "})\n",
    "print(\"original dataframe\")\n",
    "print(df)\n",
    "\n",
    "print(\"count uniq values\")\n",
    "print(df.groupby('value')['id'].unique())\n",
    "print(df.groupby('value')['id'].nunique())"
   ]
  },
  {
   "cell_type": "code",
   "execution_count": 61,
   "id": "d03b26c3",
   "metadata": {},
   "outputs": [
    {
     "name": "stdout",
     "output_type": "stream",
     "text": [
      "\n",
      "Split the data on school_code:\n",
      "dict_keys(['s001', 's002', 's003', 's004'])\n"
     ]
    }
   ],
   "source": [
    "#16-split a given dataframe into groups and list all the keys from the GroupBy object\n",
    "import pandas as pd\n",
    "pd.set_option('display.max_rows', None)\n",
    "df = pd.DataFrame({\n",
    "    'school_code': ['s001','s002','s003','s001','s002','s004'],\n",
    "    'class': ['V', 'V', 'VI', 'VI', 'V', 'VI'],\n",
    "    'name': ['Alberto Franco','Gino Mcneill','Ryan Parkes', 'Eesha Hinton', 'Gino Mcneill', 'David Parkes'],\n",
    "    'date_Of_Birth ': ['15/05/2002','17/05/2002','16/02/1999','25/09/1998','11/05/2002','15/09/1997'],\n",
    "    'age': [12, 12, 13, 13, 14, 12],\n",
    "    'height': [173, 192, 186, 167, 151, 159],\n",
    "    'weight': [35, 32, 33, 30, 31, 32],\n",
    "    'address': ['street1', 'street2', 'street3', 'street1', 'street2', 'street4']},\n",
    "    index=['S1', 'S2', 'S3', 'S4', 'S5', 'S6'])\n",
    "\n",
    "print(\"\\nSplit the data on school_code:\");\n",
    "result=df.groupby('school_code')\n",
    "print(result.groups.keys())"
   ]
  },
  {
   "cell_type": "code",
   "execution_count": 64,
   "id": "524f3bc7",
   "metadata": {},
   "outputs": [
    {
     "name": "stdout",
     "output_type": "stream",
     "text": [
      "  book_name book_type  count\n",
      "0     Book1      Math      2\n",
      "1     Book2   Physics      2\n",
      "2     Book3  Computer      2\n",
      "3     Book4   Science      1\n",
      "4     Book5   English      1\n"
     ]
    }
   ],
   "source": [
    "#17-split a given dataframe into groups and create a new column with count from GroupBy\n",
    "import pandas as pd\n",
    "df = pd.DataFrame({\n",
    "'book_name':['Book1','Book2','Book3','Book4','Book1','Book2','Book3','Book5'],\n",
    "'book_type':['Math','Physics','Computer','Science','Math','Physics','Computer','English'],\n",
    "'book_id':[1,2,3,4,1,2,3,5]})\n",
    "\n",
    "#df['count']=df.groupby('book_type').agg({'book_name':'count'})\n",
    "result=df.groupby(['book_name','book_type'])['book_type'].count().reset_index(name='count')\n",
    "print(result)"
   ]
  },
  {
   "cell_type": "code",
   "execution_count": 66,
   "id": "6182c8f9",
   "metadata": {},
   "outputs": [
    {
     "name": "stdout",
     "output_type": "stream",
     "text": [
      "sales_id     (5000.993, 5003.333]  (5003.333, 5005.667]  (5005.667, 5008.0]\n",
      "customer_id                                                                \n",
      "3001                            1                     0                   0\n",
      "3002                            1                     2                   0\n",
      "3003                            0                     1                   0\n",
      "3004                            0                     0                   1\n",
      "3005                            2                     0                   0\n",
      "3007                            1                     0                   0\n",
      "3008                            0                     1                   0\n",
      "3009                            1                     0                   1\n"
     ]
    }
   ],
   "source": [
    "#18-split a given dataframe into groups with bin counts\n",
    "import pandas as pd\n",
    "df = pd.DataFrame({\n",
    "'ord_no':[70001,70009,70002,70004,70007,70005,70008,70010,70003,70012,70011,70013],\n",
    "'purch_amt':[150.5,270.65,65.26,110.5,948.5,2400.6,5760,1983.43,2480.4,250.45, 75.29,3045.6],\n",
    "'customer_id':[3005,3001,3002,3009,3005,3007,3002,3004,3009,3008,3003,3002],\n",
    "'sales_id':[5002,5003,5004,5003,5002,5001,5005,5007,5008,5004,5005,5001]})\n",
    "\n",
    "groups=df.groupby(['customer_id',pd.cut(df.sales_id,3)])\n",
    "result=groups.size().unstack()\n",
    "print(result)\n"
   ]
  },
  {
   "cell_type": "code",
   "execution_count": 68,
   "id": "9157123e",
   "metadata": {},
   "outputs": [
    {
     "name": "stdout",
     "output_type": "stream",
     "text": [
      "                  height        weight          \n",
      "                     max   mean    sum min count\n",
      "school_code class                               \n",
      "s001        V        173  173.0     35  35     1\n",
      "            VI       167  163.0     62  30     2\n",
      "s002        V        192  171.5     63  31     2\n",
      "s003        VI       186  186.0     33  33     1\n"
     ]
    }
   ],
   "source": [
    "#19-split a given dataframe into groups with multiple aggregations\n",
    "import pandas as pd\n",
    "df = pd.DataFrame({\n",
    "    'school_code': ['s001','s002','s003','s001','s002','s001'],\n",
    "    'class': ['V', 'V', 'VI', 'VI', 'V', 'VI'],\n",
    "    'name': ['Alberto Franco','Gino Mcneill','Ryan Parkes', 'Eesha Hinton', 'Gino Mcneill', 'David Parkes'],\n",
    "    'date_Of_Birth ': ['15/05/2002','17/05/2002','16/02/1999','25/09/1998','11/05/2002','15/09/1997'],\n",
    "    'age': [12, 12, 13, 13, 14, 12],\n",
    "    'height': [173, 192, 186, 167, 151, 159],\n",
    "    'weight': [35, 32, 33, 30, 31, 32],\n",
    "    'address': ['street1', 'street2', 'street3', 'street1', 'street2', 'street4']},\n",
    "    index=['S1', 'S2', 'S3', 'S4', 'S5', 'S6'])\n",
    "result=df.groupby(['school_code','class']).agg({'height': ['max', 'mean'],\n",
    "                                 'weight': ['sum','min','count']})\n",
    "print(result)"
   ]
  },
  {
   "cell_type": "code",
   "execution_count": 70,
   "id": "11b934b9",
   "metadata": {},
   "outputs": [
    {
     "name": "stdout",
     "output_type": "stream",
     "text": [
      "  id  type                      book\n",
      "0  A     1  [Math, English, Physics]\n",
      "1  A     2           [Math, English]\n",
      "2  B     1        [Physics, English]\n",
      "3  B     2                 [English]\n"
     ]
    }
   ],
   "source": [
    "#20-split a given dataframe into groups and display target column as a list of unique values.\n",
    "import pandas as pd\n",
    "\n",
    "df = pd.DataFrame( {'id' : ['A','A','A','A','A','A','B','B','B','B','B'], \n",
    "                    'type' : [1,1,1,1,2,2,1,1,1,2,2], \n",
    "                    'book' : ['Math','Math','English','Physics','Math','English','Physics','English','Physics','English','English']})\n",
    "\n",
    "new_df=df[['id','type','book']].drop_duplicates().groupby(['id','type'])['book'].apply(list).reset_index()\n",
    "print(new_df)"
   ]
  },
  {
   "cell_type": "code",
   "execution_count": 71,
   "id": "c1a427e4",
   "metadata": {},
   "outputs": [
    {
     "name": "stdout",
     "output_type": "stream",
     "text": [
      "            purch_amt\n",
      "ord_date             \n",
      "2012-06-30    3511.81\n",
      "2012-09-30    2857.04\n",
      "2012-12-31   11172.33\n"
     ]
    }
   ],
   "source": [
    "#21- split the following dataframe into groups and calculate quarterly purchase amount\n",
    "import pandas as pd\n",
    "df = pd.DataFrame({\n",
    "'ord_no':[70001,70009,70002,70004,70007,70005,70008,70010,70003,70012,70011,70013],\n",
    "'purch_amt':[150.5,270.65,65.26,110.5,948.5,2400.6,5760,1983.43,2480.4,250.45, 75.29,3045.6],\n",
    "'ord_date': ['05-10-2012','09-10-2012','05-10-2012','08-17-2012','10-09-2012','07-27-2012','10-09-2012','10-10-2012','10-10-2012','06-17-2012','07-08-2012','04-25-2012'],\n",
    "'customer_id':[3001,3001,3005,3001,3005,3001,3005,3001,3005,3001,3005,3005],\n",
    "'salesman_id': [5002,5005,5001,5003,5002,5001,5001,5006,5003,5002,5007,5001]})\n",
    "\n",
    "df['ord_date']=pd.to_datetime(df['ord_date'])\n",
    "result=df.set_index('ord_date').groupby(pd.Grouper(freq='Q')).agg({'purch_amt':sum})\n",
    "print(result)"
   ]
  },
  {
   "cell_type": "code",
   "execution_count": 72,
   "id": "84594c92",
   "metadata": {},
   "outputs": [
    {
     "name": "stdout",
     "output_type": "stream",
     "text": [
      "             Age_Mean  Age_Max  Age_Min\n",
      "school_code                            \n",
      "s001             12.5       13       12\n",
      "s002             13.0       14       12\n",
      "s003             13.0       13       13\n",
      "s004             12.0       12       12\n"
     ]
    }
   ],
   "source": [
    "#22-split the following dataframe into groups by school code and get mean, min, and max value of age with customized column name for each school.\n",
    "import pandas as pd\n",
    "student_data = pd.DataFrame({\n",
    "    'school_code': ['s001','s002','s003','s001','s002','s004'],\n",
    "    'class': ['V', 'V', 'VI', 'VI', 'V', 'VI'],\n",
    "    'name': ['Alberto Franco','Gino Mcneill','Ryan Parkes', 'Eesha Hinton', 'Gino Mcneill', 'David Parkes'],\n",
    "    'date_Of_Birth ': ['15/05/2002','17/05/2002','16/02/1999','25/09/1998','11/05/2002','15/09/1997'],\n",
    "    'age': [12, 12, 13, 13, 14, 12],\n",
    "    ' height ': [173, 192, 186, 167, 151, 159],\n",
    "    'weight': [35, 32, 33, 30, 31, 32],\n",
    "    'address': ['street1', 'street2', 'street3', 'street1', 'street2', 'street4']},\n",
    "    index=['S1', 'S2', 'S3', 'S4', 'S5', 'S6'])\n",
    "\n",
    "result=student_data.groupby('school_code').agg(Age_Mean = ('age','mean'),Age_Max=('age',max),Age_Min=('age',min))\n",
    "print(result)"
   ]
  },
  {
   "cell_type": "code",
   "execution_count": 2,
   "id": "df52d194",
   "metadata": {},
   "outputs": [
    {
     "name": "stdout",
     "output_type": "stream",
     "text": [
      "\n",
      "Number of customers  starting with ‘C’, the list of all products and the difference of maximum purchase amount and minimum purchase amount:\n",
      "             customer_id_c         customer_id_list  purch_amt_gap\n",
      "salesman_id                                                       \n",
      "5001                     1  D3005,D3001,C3005,D3005        5694.74\n",
      "5002                     3        C3001,C3005,C3001         798.00\n",
      "5003                     0              D3001,D3005        2369.90\n",
      "5005                     1                    C3001           0.00\n",
      "5006                     0                    D3001           0.00\n",
      "5007                     0                    D3005           0.00\n"
     ]
    }
   ],
   "source": [
    "#23-split the following datasets into groups on customer id and calculate the number of customers starting with 'C', the list of all products and the difference of maximum purchase amount and minimum purchase amount\n",
    "import pandas as pd\n",
    "\n",
    "df = pd.DataFrame({\n",
    "'ord_no':[70001,70009,70002,70004,70007,70005,70008,70010,70003,70012,70011,70013],\n",
    "'purch_amt':[150.5, 270.65, 65.26, 110.5, 948.5, 2400.6, 5760, 1983.43, 2480.4, 250.45, 75.29, 3045.6],\n",
    "'ord_date': ['05-10-2012','09-10-2012','05-10-2012','08-17-2012','10-09-2012','07-27-2012','10-09-2012','10-10-2012','10-10-2012','06-17-2012','07-08-2012','04-25-2012'],\n",
    "'customer_id':['C3001','C3001','D3005','D3001','C3005','D3001','C3005','D3001','D3005','C3001','D3005','D3005'],\n",
    "'salesman_id': [5002,5005,5001,5003,5002,5001,5001,5006,5003,5002,5007,5001]})\n",
    "\n",
    "def customer_id_c(x):\n",
    "    return (x.str[0]=='C').sum()\n",
    "result=df.groupby(['salesman_id']).agg(customer_id_c=('customer_id',customer_id_c),\n",
    "                                      customer_id_list=('customer_id',lambda x:','.join(x)),\n",
    "                                      purch_amt_gap=('purch_amt',lambda x:x.max()-x.min()))\n",
    "print(\"\\nNumber of customers  starting with ‘C’, the list of all products and the difference of maximum purchase amount and minimum purchase amount:\")\n",
    "print(result)\n"
   ]
  },
  {
   "cell_type": "code",
   "execution_count": 5,
   "id": "9359caed",
   "metadata": {},
   "outputs": [
    {
     "name": "stdout",
     "output_type": "stream",
     "text": [
      "                         purch_amt  %purch_amt\n",
      "customer_id salesman_id                       \n",
      "C3001       5002            400.95    2.285764\n",
      "            5005            270.65    1.542941\n",
      "C3005       5001           5760.00   32.837016\n",
      "            5002            948.50    5.407276\n",
      "D3001       5001           2400.60   13.685510\n",
      "            5003            110.50    0.629946\n",
      "            5006           1983.43   11.307278\n",
      "D3005       5001           3110.86   17.734611\n",
      "            5003           2480.40   14.140440\n",
      "            5007             75.29    0.429219\n"
     ]
    }
   ],
   "source": [
    "#24-split the following datasets into groups on customer_id to summarize purch_amt and calculate percentage of purch_amt in each group\n",
    "result=df.groupby(['customer_id','salesman_id']).agg({'purch_amt':sum})\n",
    "result['%purch_amt']=result.apply(lambda x:100*x/x.sum())\n",
    "print(result)"
   ]
  },
  {
   "cell_type": "code",
   "execution_count": 6,
   "id": "7d78ce21",
   "metadata": {},
   "outputs": [
    {
     "name": "stdout",
     "output_type": "stream",
     "text": [
      "                 age                \n",
      "            mean_age min_age max_age\n",
      "school_code                         \n",
      "s001            12.5      12      13\n",
      "s002            13.0      12      14\n",
      "s003            13.0      13      13\n",
      "s004            12.0      12      12\n"
     ]
    }
   ],
   "source": [
    "#25-split a dataset, group by one column and get mean, min, and max values by group, \n",
    "#also change the column name of the aggregated metric. Using the following dataset \n",
    "#find the mean, min, and max values of purchase amount (purch_amt) group by customer id (customer_id).\n",
    "\n",
    "import pandas as pd\n",
    "df = pd.DataFrame({\n",
    "    'school_code': ['s001','s002','s003','s001','s002','s004'],\n",
    "    'class': ['V', 'V', 'VI', 'VI', 'V', 'VI'],\n",
    "    'name': ['Alberto Franco','Gino Mcneill','Ryan Parkes', 'Eesha Hinton', 'Gino Mcneill', 'David Parkes'],\n",
    "    'date_Of_Birth ': ['15/05/2002','17/05/2002','16/02/1999','25/09/1998','11/05/2002','15/09/1997'],\n",
    "    'age': [12, 12, 13, 13, 14, 12],\n",
    "    'height': [173, 192, 186, 167, 151, 159],\n",
    "    'weight': [35, 32, 33, 30, 31, 32],\n",
    "    'address': ['street1', 'street2', 'street3', 'street1', 'street2', 'street4']},\n",
    "    index=['S1', 'S2', 'S3', 'S4', 'S5', 'S6'])\n",
    "\n",
    "grouped_single=df.groupby('school_code').agg({'age':[(\"mean_age\",\"mean\"), (\"min_age\", \"min\"), (\"max_age\",\"max\")]})\n",
    "print(grouped_single)"
   ]
  },
  {
   "cell_type": "code",
   "execution_count": 8,
   "id": "4532fc45",
   "metadata": {},
   "outputs": [
    {
     "name": "stdout",
     "output_type": "stream",
     "text": [
      "[   school_code class            name date_Of_Birth   age  height  weight  \\\n",
      "S1        s001     V  Alberto Franco     15/05/2002   12     173      35   \n",
      "\n",
      "    address                                      other_columns  \n",
      "S1  street1  {'name': 'Alberto Franco', 'date_Of_Birth ': '...  ,    school_code class          name date_Of_Birth   age  height  weight  \\\n",
      "S4        s001    VI  Eesha Hinton     25/09/1998   13     167      30   \n",
      "\n",
      "    address                                      other_columns  \n",
      "S4  street1  {'name': 'Eesha Hinton', 'date_Of_Birth ': '25...  ,    school_code class          name date_Of_Birth   age  height  weight  \\\n",
      "S2        s002     V  Gino Mcneill     17/05/2002   12     192      32   \n",
      "S5        s002     V  Gino Mcneill     11/05/2002   14     151      31   \n",
      "\n",
      "    address                                      other_columns  \n",
      "S2  street2  {'name': 'Gino Mcneill', 'date_Of_Birth ': '17...  \n",
      "S5  street2  {'name': 'Gino Mcneill', 'date_Of_Birth ': '11...  ,    school_code class         name date_Of_Birth   age  height  weight  \\\n",
      "S3        s003    VI  Ryan Parkes     16/02/1999   13     186      33   \n",
      "\n",
      "    address                                      other_columns  \n",
      "S3  street3  {'name': 'Ryan Parkes', 'date_Of_Birth ': '16/...  ,    school_code class          name date_Of_Birth   age  height  weight  \\\n",
      "S6        s004    VI  David Parkes     15/09/1997   12     159      32   \n",
      "\n",
      "    address                                      other_columns  \n",
      "S6  street4  {'name': 'David Parkes', 'date_Of_Birth ': '15...  ]\n"
     ]
    }
   ],
   "source": [
    "#26-split a given dataset, group by two columns and convert other columns of the dataframe into a dictionary with column header as key\n",
    "\n",
    "dict_data_list=list()\n",
    "\n",
    "for code,group in df.groupby(['school_code','class']):\n",
    "    grp=dict(zip(['school_code','class'],code))\n",
    "    ocolumns_list=list()\n",
    "    \n",
    "    for _,data in group.iterrows():\n",
    "        data=data.drop(labels=['school_code','class'])\n",
    "        ocolumns_list.append(data.to_dict())\n",
    "        \n",
    "    group['other_columns'] = ocolumns_list\n",
    "    dict_data_list.append(group)\n",
    "    \n",
    "print(dict_data_list) "
   ]
  },
  {
   "cell_type": "code",
   "execution_count": 10,
   "id": "4d7efdef",
   "metadata": {},
   "outputs": [
    {
     "name": "stdout",
     "output_type": "stream",
     "text": [
      "\\Result after group on salesman_id and apply different aggregate functions:\n",
      "             sale_jan  sale_feb  sale_mar     sale_apr  sale_may     sale_jun  \\\n",
      "salesman_id                                                                     \n",
      "5001          5271.46   7221.46  11271.46  1575.365000  1567.865  3062.865000   \n",
      "5002          2349.45   1099.45   1349.45   449.816667   443.150   449.816667   \n",
      "5003           590.90   2590.90   2590.90  1345.450000  1395.450  1295.450000   \n",
      "5005           270.65    170.65    270.65   270.650000   270.650   270.650000   \n",
      "5006          2983.43   1983.43   1983.43  1983.430000  1983.430   983.430000   \n",
      "5007            75.29     75.29     75.29    75.290000    75.290    75.290000   \n",
      "\n",
      "                sale_jul     sale_aug     sale_sep     sale_oct     sale_nov  \\\n",
      "salesman_id                                                                    \n",
      "5001         2817.865000  2317.865000  2267.865000  2817.865000  2825.365000   \n",
      "5002          716.483333   449.816667   449.816667   449.816667   449.816667   \n",
      "5003         1345.450000  1295.450000  1295.450000  1295.450000  1295.450000   \n",
      "5005          270.650000    70.650000   270.650000   270.650000   270.650000   \n",
      "5006          983.430000  1983.430000  1983.430000  1983.430000  1983.430000   \n",
      "5007           75.290000    75.290000    75.290000    75.290000    75.290000   \n",
      "\n",
      "                sale_dec  \n",
      "salesman_id               \n",
      "5001         2817.865000  \n",
      "5002          449.816667  \n",
      "5003         1295.450000  \n",
      "5005           70.650000  \n",
      "5006         1983.430000  \n",
      "5007           75.290000  \n"
     ]
    }
   ],
   "source": [
    "#27-split a given dataset, group by one column and apply an aggregate function to few columns and another aggregate function to the rest of the columns of the dataframe.\n",
    "import pandas as pd\n",
    "\n",
    "df = pd.DataFrame({\n",
    "'salesman_id': [5002,5005,5001,5003,5002,5001,5001,5006,5003,5002,5007,5001],\n",
    "'sale_jan':[150.5, 270.65, 65.26, 110.5, 948.5, 2400.6, 1760, 2983.43, 480.4,  1250.45, 75.29,1045.6],\n",
    "'sale_feb':[250.5, 170.65, 15.26, 110.5, 598.5, 1400.6, 2760, 1983.43, 2480.4, 250.45, 75.29, 3045.6],\n",
    "'sale_mar':[150.5, 270.65, 65.26, 110.5, 948.5, 2400.6, 5760, 1983.43, 2480.4, 250.45, 75.29, 3045.6],\n",
    "'sale_apr':[150.5, 270.65, 95.26, 210.5, 948.5, 2400.6, 760, 1983.43, 2480.4, 250.45, 75.29, 3045.6],\n",
    "'sale_may':[130.5, 270.65, 65.26, 310.5, 948.5, 2400.6, 760, 1983.43, 2480.4, 250.45, 75.29, 3045.6],\n",
    "'sale_jun':[150.5, 270.65, 45.26, 110.5, 948.5, 3400.6, 5760, 983.43, 2480.4, 250.45, 75.29, 3045.6],\n",
    "'sale_jul':[950.5, 270.65, 65.26, 210.5, 948.5, 2400.6, 5760, 983.43, 2480.4, 250.45, 75.29, 3045.6],\n",
    "'sale_aug':[150.5, 70.65,  65.26, 110.5, 948.5, 400.6, 5760, 1983.43, 2480.4, 250.45, 75.29, 3045.6],\n",
    "'sale_sep':[150.5, 270.65, 65.26, 110.5, 948.5, 200.6, 5760, 1983.43, 2480.4, 250.45, 75.29, 3045.6],\n",
    "'sale_oct':[150.5, 270.65, 65.26, 110.5, 948.5, 2400.6, 5760, 1983.43, 2480.4, 250.45, 75.29, 3045.6],\n",
    "'sale_nov':[150.5, 270.65, 95.26, 110.5, 948.5, 2400.6, 5760, 1983.43, 2480.4, 250.45, 75.29, 3045.6], \n",
    "'sale_dec':[150.5, 70.65, 65.26, 110.5, 948.5, 2400.6, 5760, 1983.43, 2480.4, 250.45, 75.29, 3045.6]\n",
    "})\n",
    "\n",
    "print(\"\\Result after group on salesman_id and apply different aggregate functions:\")\n",
    "df=df.groupby('salesman_id').agg(lambda x:x.sum() if x.name in ['sale_jan','sale_feb','sale_mar'] else x.mean())\n",
    "print(df)"
   ]
  },
  {
   "cell_type": "code",
   "execution_count": 15,
   "id": "bad493fc",
   "metadata": {},
   "outputs": [
    {
     "name": "stdout",
     "output_type": "stream",
     "text": [
      "   school_code class            name date_Of_Birth   age  weight  height\n",
      "S1        s001     V  Alberto Franco     15/05/2002   12     173    35.0\n",
      "S3        s003    VI     Ryan Parkes     16/02/1999   13     186    33.0\n",
      "S4        s001    VI    Eesha Hinton     25/09/1998   13     167    30.0\n",
      "S6        s004    VI    David Parkes     15/09/1997   12     159    32.0\n"
     ]
    }
   ],
   "source": [
    "#28-split a given dataset, group by one column and remove those groups if all the values of a specific columns are not available\n",
    "import pandas as pd\n",
    "df = pd.DataFrame({\n",
    "    'school_code': ['s001','s002','s003','s001','s002','s004'],\n",
    "    'class': ['V', 'V', 'VI', 'VI', 'V', 'VI'],\n",
    "    'name': ['Alberto Franco','Gino Mcneill','Ryan Parkes', 'Eesha Hinton', 'Gino Mcneill', 'David Parkes'],\n",
    "    'date_Of_Birth ': ['15/05/2002','17/05/2002','16/02/1999','25/09/1998','11/05/2002','15/09/1997'],\n",
    "    'age': [12, 12, 13, 13, 14, 12],\n",
    "    'weight': [173, 192, 186, 167, 151, 159],\n",
    "    'height': [35, None, 33, 30, None, 32]},\n",
    "    index=['S1', 'S2', 'S3', 'S4', 'S5', 'S6'])\n",
    "result=df[(~df['height'].isna()).groupby(df['school_code']).transform('any')]\n",
    "print(result)"
   ]
  },
  {
   "cell_type": "code",
   "execution_count": 16,
   "id": "6cbcb21d",
   "metadata": {},
   "outputs": [
    {
     "name": "stdout",
     "output_type": "stream",
     "text": [
      "  salesman_id  sale_jan\n",
      "0          s1   3946.01\n",
      "1          s2   7595.17\n"
     ]
    }
   ],
   "source": [
    "#29-split a given dataset using group by on specified column into two labels and ranges\n",
    "import pandas as pd\n",
    "import numpy as np\n",
    "\n",
    "df = pd.DataFrame({\n",
    "'salesman_id': [5001,5002,5003,5004,5005,5006,5007,5008,5009,5010,5011,5012],\n",
    "'sale_jan':[150.5, 270.65, 65.26, 110.5, 948.5, 2400.6, 1760, 2983.43, 480.4,  1250.45, 75.29,1045.6]})\n",
    "\n",
    "result=df.groupby(pd.cut(df['salesman_id'],bins=[0,5006,np.inf],labels=['s1','s2']))['sale_jan'].sum().reset_index()\n",
    "print(result)"
   ]
  },
  {
   "cell_type": "code",
   "execution_count": 20,
   "id": "1cbedcb9",
   "metadata": {},
   "outputs": [
    {
     "name": "stdout",
     "output_type": "stream",
     "text": [
      "  student_id         marks\n",
      "0       S001  [88, 89, 90]\n",
      "1       S001  [78, 81, 60]\n",
      "2       S002  [84, 83, 91]\n",
      "3       S002  [84, 88, 91]\n",
      "4       S003  [90, 89, 92]\n",
      "5       S003  [88, 59, 90]\n",
      "\n",
      "Groupby and aggregate over multiple lists:\n",
      "student_id\n",
      "S001    [83.0, 85.0, 75.0]\n",
      "S002    [84.0, 85.5, 91.0]\n",
      "S003    [89.0, 74.0, 91.0]\n",
      "Name: marks, dtype: object\n"
     ]
    }
   ],
   "source": [
    "#30-split the following dataset using group by on first column and aggregate over multiple lists on second column\n",
    "import pandas as pd\n",
    "import numpy as np\n",
    "df = pd.DataFrame({\n",
    "    'student_id': ['S001','S001','S002','S002','S003','S003'],\n",
    "    'marks': [[88,89,90],[78,81,60],[84,83,91],[84,88,91],[90,89,92],[88,59,90]]})\n",
    "print(df)\n",
    "print(\"\\nGroupby and aggregate over multiple lists:\")\n",
    "result=df.set_index('student_id')['marks'].groupby('student_id').apply(list).apply(lambda x: np.mean(x,0))\n",
    "print(result)"
   ]
  },
  {
   "cell_type": "code",
   "execution_count": 21,
   "id": "f4d64665",
   "metadata": {},
   "outputs": [
    {
     "name": "stdout",
     "output_type": "stream",
     "text": [
      "salesman_id\n",
      "5001    2012-04-25\n",
      "5002    2012-06-27\n",
      "5003    2012-08-17\n",
      "5004    2012-08-17\n",
      "5005    2012-09-10\n",
      "Name: ord_date, dtype: object\n"
     ]
    }
   ],
   "source": [
    "#31-split the following dataset using group by on 'salesman_id' and find the first order date for each group\n",
    "import pandas as pd\n",
    "df = pd.DataFrame({\n",
    "'ord_no':[70001,70009,70002,70004,70007,70005,70008,70010,70003,70012,70011,70013],\n",
    "'purch_amt':[150.5,270.65,65.26,110.5,948.5,2400.6,5760,1983.43,2480.4,250.45, 75.29,3045.6],\n",
    "'ord_date': ['2012-10-05','2012-09-10','2012-10-05','2012-08-17','2012-09-10','2012-07-27','2012-09-10','2012-10-10','2012-10-10','2012-06-27','2012-08-17','2012-04-25'],\n",
    "'customer_id':[3005,3001,3002,3009,3005,3007,3002,3004,3009,3008,3003,3002],\n",
    "'salesman_id': [5002,5005,5001,5003,5002,5001,5001,5004,5003,5002,5004,5001]})\n",
    "\n",
    "result=df.groupby('salesman_id')['ord_date'].min()\n",
    "print(result)"
   ]
  },
  {
   "cell_type": "code",
   "execution_count": 23,
   "id": "c1face8c",
   "metadata": {},
   "outputs": [
    {
     "name": "stdout",
     "output_type": "stream",
     "text": [
      "\n",
      "Group:\n",
      "(5001, 3001)\n",
      "    ord_no  purch_amt    ord_date  customer_id  salesman_id\n",
      "2    70002      65.26  2012-10-05         3001         5001\n",
      "6    70008    5760.00  2012-09-10         3001         5001\n",
      "11   70013    3045.60  2012-04-25         3001         5001\n",
      "\n",
      "Group:\n",
      "(5001, 3002)\n",
      "   ord_no  purch_amt    ord_date  customer_id  salesman_id\n",
      "5   70005     2400.6  2012-07-27         3002         5001\n",
      "\n",
      "Group:\n",
      "(5002, 3002)\n",
      "   ord_no  purch_amt    ord_date  customer_id  salesman_id\n",
      "0   70001     150.50  2012-10-05         3002         5002\n",
      "4   70007     948.50  2012-09-10         3002         5002\n",
      "9   70012     250.45  2012-06-27         3002         5002\n",
      "\n",
      "Group:\n",
      "(5003, 3001)\n",
      "   ord_no  purch_amt    ord_date  customer_id  salesman_id\n",
      "1   70009     270.65  2012-09-10         3001         5003\n",
      "\n",
      "Group:\n",
      "(5003, 3003)\n",
      "    ord_no  purch_amt    ord_date  customer_id  salesman_id\n",
      "3    70004     110.50  2012-08-17         3003         5003\n",
      "8    70003    2480.40  2012-10-10         3003         5003\n",
      "10   70011      75.29  2012-08-17         3003         5003\n",
      "\n",
      "Group:\n",
      "(5003, 3004)\n",
      "   ord_no  purch_amt    ord_date  customer_id  salesman_id\n",
      "7   70010    1983.43  2012-10-10         3004         5003\n",
      "\n",
      "Droping last two records:\n",
      "   ord_no  purch_amt    ord_date  customer_id  salesman_id\n",
      "0   70001     150.50  2012-10-05         3002         5002\n",
      "2   70002      65.26  2012-10-05         3001         5001\n",
      "3   70004     110.50  2012-08-17         3003         5003\n"
     ]
    }
   ],
   "source": [
    "#32-split a given dataset using group by on multiple columns and drop last n rows of from each group\n",
    "import pandas as pd\n",
    "df = pd.DataFrame({\n",
    "'ord_no':[70001,70009,70002,70004,70007,70005,70008,70010,70003,70012,70011,70013],\n",
    "'purch_amt':[150.5,270.65,65.26,110.5,948.5,2400.6,5760,1983.43,2480.4,250.45, 75.29,3045.6],\n",
    "'ord_date': ['2012-10-05','2012-09-10','2012-10-05','2012-08-17','2012-09-10','2012-07-27','2012-09-10','2012-10-10','2012-10-10','2012-06-27','2012-08-17','2012-04-25'],\n",
    "'customer_id':[3002,3001,3001,3003,3002,3002,3001,3004,3003,3002,3003,3001],\n",
    "'salesman_id':[5002,5003,5001,5003,5002,5001,5001,5003,5003,5002,5003,5001]})\n",
    "\n",
    "result=df.groupby(['salesman_id','customer_id'])\n",
    "\n",
    "for name,group in result:\n",
    "    print(\"\\nGroup:\")\n",
    "    print(name)\n",
    "    print(group)\n",
    "n = 2\n",
    "\n",
    "result1=df.drop(df.groupby(['salesman_id', 'customer_id']).tail(n).index,axis=0)\n",
    "print(\"\\nDroping last two records:\")\n",
    "print(result1)"
   ]
  },
  {
   "cell_type": "code",
   "execution_count": null,
   "id": "07e357c3",
   "metadata": {},
   "outputs": [],
   "source": []
  }
 ],
 "metadata": {
  "kernelspec": {
   "display_name": "Python 3 (ipykernel)",
   "language": "python",
   "name": "python3"
  },
  "language_info": {
   "codemirror_mode": {
    "name": "ipython",
    "version": 3
   },
   "file_extension": ".py",
   "mimetype": "text/x-python",
   "name": "python",
   "nbconvert_exporter": "python",
   "pygments_lexer": "ipython3",
   "version": "3.9.7"
  }
 },
 "nbformat": 4,
 "nbformat_minor": 5
}
