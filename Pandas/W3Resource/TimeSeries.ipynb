{
 "cells": [
  {
   "cell_type": "code",
   "execution_count": 10,
   "id": "2d2fe408",
   "metadata": {},
   "outputs": [
    {
     "name": "stdout",
     "output_type": "stream",
     "text": [
      "2012-01-11 00:00:00\n",
      "2012-01-11 21:20:00\n",
      "2022-10-28 16:58:14.449654\n",
      "2012-01-12\n",
      "2022-10-28\n",
      "21:30:23\n",
      "16:58:14.449654\n"
     ]
    }
   ],
   "source": [
    "#Date-10/28/22\n",
    "#1-Write a Pandas program to create following\n",
    "import pandas as pd\n",
    "from datetime import datetime\n",
    "\n",
    "#a-Datetime object for Jan 15 2012.\n",
    "print(datetime(2012,1,11))\n",
    "\n",
    "#b-Specific date and time of 9:20 pm.\n",
    "print(datetime(2012,1,11,21,20))\n",
    "\n",
    "#c Local date and time.\n",
    "print(datetime.now())\n",
    "\n",
    "#d) A date without time.\n",
    "print(datetime.date(datetime(2012,1,12)))\n",
    "\n",
    "#e) Current date.\n",
    "print(datetime.now().date())\n",
    "\n",
    "#f) Time from a datetime.\n",
    "print(datetime.time(datetime(2012,1,12,21,30,23)))\n",
    "\n",
    "#g) Current local time.\n",
    "print(datetime.now().time())"
   ]
  },
  {
   "cell_type": "code",
   "execution_count": 17,
   "id": "143c5bfc",
   "metadata": {},
   "outputs": [
    {
     "name": "stdout",
     "output_type": "stream",
     "text": [
      "2016-10-11 00:00:00\n",
      "2012-05-03 11:30:00\n",
      "2022-10-28 11:30:00\n",
      "2022-10-28 17:03:24.572005\n"
     ]
    }
   ],
   "source": [
    "#2-Pandas program to create\n",
    "import pandas as pd\n",
    "\n",
    "#a) a specific date using timestamp.\n",
    "print(pd.Timestamp('2016-10-11'))\n",
    "\n",
    "#b) date and time using timestamp.\n",
    "print(pd.Timestamp('2012-05-03 11:30'))\n",
    "\n",
    "#c) a time adds in the current local date using timestamp.\n",
    "print(pd.Timestamp('11:30'))\n",
    "\n",
    "#d) current date and time using timestamp.\n",
    "print(pd.Timestamp.now())"
   ]
  },
  {
   "cell_type": "code",
   "execution_count": 19,
   "id": "202ebb81",
   "metadata": {},
   "outputs": [
    {
     "name": "stdout",
     "output_type": "stream",
     "text": [
      "2020-12-25 00:00:00\n",
      "2021-01-01 00:00:00\n"
     ]
    }
   ],
   "source": [
    "#3-create a date from a given year, month, day and another date from a given string formats\n",
    "import pandas as pd\n",
    "from datetime import datetime\n",
    "\n",
    "date1=datetime(year=2020,month=12,day=25)\n",
    "print(date1)\n",
    "\n",
    "from dateutil import parser\n",
    "date2=parser.parse('1st of January 2021')\n",
    "print(date2)"
   ]
  },
  {
   "cell_type": "code",
   "execution_count": 23,
   "id": "9dfcce03",
   "metadata": {},
   "outputs": [
    {
     "name": "stdout",
     "output_type": "stream",
     "text": [
      "2022-10-28\n",
      "2022-10-29\n",
      "2022-10-27\n",
      "2 days, 0:00:00\n"
     ]
    }
   ],
   "source": [
    "#4- print the day after and before a specified date. Also print the days between two given dates\n",
    "import pandas as pd\n",
    "from datetime import datetime, date\n",
    "\n",
    "today = datetime.now().date()\n",
    "print(today)\n",
    "\n",
    "tomorrow=today+pd.Timedelta(days=1)\n",
    "print(tomorrow)\n",
    "\n",
    "yesterday=today-pd.Timedelta(days=1)\n",
    "print(yesterday)\n",
    "\n",
    "difference_in_two_dates=tomorrow-yesterday\n",
    "print(difference_in_two_dates)"
   ]
  },
  {
   "cell_type": "code",
   "execution_count": 24,
   "id": "4a2229f8",
   "metadata": {},
   "outputs": [
    {
     "name": "stdout",
     "output_type": "stream",
     "text": [
      "time series with two index labels\n",
      "2010-09-01    0.386412\n",
      "2011-08-11   -0.974215\n",
      "dtype: float64\n"
     ]
    }
   ],
   "source": [
    "#5-create a time-series with two index labels and random values. Also print the type of the index\n",
    "import pandas as pd\n",
    "from dateutil import parser\n",
    "import numpy as np\n",
    "from datetime import datetime\n",
    "\n",
    "dates =[datetime(2010,9,1),datetime(2011,8,11)]\n",
    "print(\"time series with two index labels\")\n",
    "time_series=pd.Series(np.random.randn(2),dates)\n",
    "print(time_series)"
   ]
  },
  {
   "cell_type": "code",
   "execution_count": 26,
   "id": "b42b0f0d",
   "metadata": {},
   "outputs": [
    {
     "name": "stdout",
     "output_type": "stream",
     "text": [
      "2014-08-01    1.600619\n",
      "2014-08-02   -0.910169\n",
      "2014-08-03    0.071593\n",
      "2014-08-04   -0.183853\n",
      "dtype: float64\n"
     ]
    }
   ],
   "source": [
    "#6-create a time-series from a given list of dates as strings.\n",
    "import pandas as pd\n",
    "from datetime import datetime\n",
    "\n",
    "dates=['2014-08-01','2014-08-02','2014-08-03','2014-08-04']\n",
    "\n",
    "time_series=pd.Series(np.random.randn(4),dates)\n",
    "print(time_series)"
   ]
  },
  {
   "cell_type": "code",
   "execution_count": 28,
   "id": "b1b37777",
   "metadata": {},
   "outputs": [
    {
     "name": "stdout",
     "output_type": "stream",
     "text": [
      "2011-09-02    0\n",
      "2012-08-04    1\n",
      "2015-09-03    2\n",
      "2010-08-04    3\n",
      "2015-03-03    4\n",
      "2011-08-04    5\n",
      "2015-04-03    6\n",
      "2012-08-04    7\n",
      "dtype: int64\n",
      "date of same year\n",
      "2015-09-03    2\n",
      "2015-03-03    4\n",
      "2015-04-03    6\n",
      "dtype: int64\n",
      "\n",
      "Dates between 2012-01-01 and 2012-12-31\n",
      "2012-08-04    1\n",
      "2012-08-04    7\n",
      "dtype: int64\n"
     ]
    },
    {
     "name": "stderr",
     "output_type": "stream",
     "text": [
      "C:\\Users\\przir\\AppData\\Local\\Temp/ipykernel_11012/646776759.py:20: FutureWarning: Value based partial slicing on non-monotonic DatetimeIndexes with non-existing keys is deprecated and will raise a KeyError in a future Version.\n",
      "  print(s_dates['2012-01-01':'2012-12-31'])\n"
     ]
    }
   ],
   "source": [
    "#7-create a time series object that has time indexed data.\n",
    "#Also select the dates of same year and select the dates between certain dates\n",
    "\n",
    "import pandas as pd\n",
    "from datetime import datetime\n",
    "import numpy as np\n",
    "\n",
    "idx=pd.DatetimeIndex(['2011-09-02', '2012-08-04',\n",
    "                          '2015-09-03', '2010-08-04',\n",
    "                          '2015-03-03', '2011-08-04',\n",
    "                          '2015-04-03', '2012-08-04'])\n",
    "\n",
    "s_dates=pd.Series([0, 1, 2, 3, 4, 5, 6, 7],index=idx)\n",
    "print(s_dates)\n",
    "\n",
    "print(\"date of same year\")\n",
    "print(s_dates['2015'])\n",
    "\n",
    "print(\"\\nDates between 2012-01-01 and 2012-12-31\")\n",
    "print(s_dates['2012-01-01':'2012-12-31'])"
   ]
  },
  {
   "cell_type": "code",
   "execution_count": 30,
   "id": "081af49f",
   "metadata": {},
   "outputs": [
    {
     "name": "stdout",
     "output_type": "stream",
     "text": [
      "DatetimeIndex(['2020-01-01', '2020-01-02', '2020-01-03', '2020-01-04',\n",
      "               '2020-01-05', '2020-01-06', '2020-01-07', '2020-01-08',\n",
      "               '2020-01-09', '2020-01-10', '2020-01-11', '2020-01-12',\n",
      "               '2020-01-13', '2020-01-14', '2020-01-15', '2020-01-16',\n",
      "               '2020-01-17', '2020-01-18', '2020-01-19', '2020-01-20',\n",
      "               '2020-01-21', '2020-01-22', '2020-01-23', '2020-01-24',\n",
      "               '2020-01-25', '2020-01-26', '2020-01-27', '2020-01-28',\n",
      "               '2020-01-29', '2020-01-30'],\n",
      "              dtype='datetime64[ns]', freq='D')\n"
     ]
    }
   ],
   "source": [
    "#8-create a date range using a startpoint date and a number of periods\n",
    "import pandas as pd\n",
    "\n",
    "date_range=pd.date_range('2020-01-01',periods=30)\n",
    "print(date_range)"
   ]
  },
  {
   "cell_type": "code",
   "execution_count": 35,
   "id": "90e6e1a0",
   "metadata": {},
   "outputs": [
    {
     "name": "stdout",
     "output_type": "stream",
     "text": [
      "Month of December 2020:\n",
      "0    2020-12-01\n",
      "1    2020-12-02\n",
      "2    2020-12-03\n",
      "3    2020-12-04\n",
      "4    2020-12-05\n",
      "5    2020-12-06\n",
      "6    2020-12-07\n",
      "7    2020-12-08\n",
      "8    2020-12-09\n",
      "9    2020-12-10\n",
      "10   2020-12-11\n",
      "11   2020-12-12\n",
      "12   2020-12-13\n",
      "13   2020-12-14\n",
      "14   2020-12-15\n",
      "15   2020-12-16\n",
      "16   2020-12-17\n",
      "17   2020-12-18\n",
      "18   2020-12-19\n",
      "19   2020-12-20\n",
      "20   2020-12-21\n",
      "21   2020-12-22\n",
      "22   2020-12-23\n",
      "23   2020-12-24\n",
      "24   2020-12-25\n",
      "25   2020-12-26\n",
      "26   2020-12-27\n",
      "27   2020-12-28\n",
      "28   2020-12-29\n",
      "29   2020-12-30\n",
      "30   2020-12-31\n",
      "dtype: datetime64[ns]\n",
      "\n",
      "Maximum date:  2020-12-31 00:00:00\n",
      "Minimum date:  2020-12-01 00:00:00\n",
      "Maximum index:  30\n",
      "Minimum index:  0\n"
     ]
    }
   ],
   "source": [
    "#9-create a whole month of dates in daily frequencies. Also find the maximum, minimum timestamp and indexs\n",
    "import pandas as pd\n",
    "dates = pd.Series(pd.date_range('2020-12-01',periods=31, freq='D'))\n",
    "print(\"Month of December 2020:\")\n",
    "print(dates)\n",
    "dates = pd.Series(pd.date_range('2020-12-01',periods=31, freq='D'))\n",
    "print(\"\\nMaximum date: \", dates.max())\n",
    "print(\"Minimum date: \", dates.min())\n",
    "print(\"Maximum index: \", dates.idxmax())\n",
    "print(\"Minimum index: \", dates.idxmin())"
   ]
  },
  {
   "cell_type": "code",
   "execution_count": 37,
   "id": "75ab3b69",
   "metadata": {},
   "outputs": [
    {
     "name": "stdout",
     "output_type": "stream",
     "text": [
      "0    2012-10-31\n",
      "1    2013-01-31\n",
      "2    2013-04-30\n",
      "3    2013-07-31\n",
      "4    2013-10-31\n",
      "5    2014-01-31\n",
      "6    2014-04-30\n",
      "7    2014-07-31\n",
      "8    2014-10-31\n",
      "9    2015-01-31\n",
      "10   2015-04-30\n",
      "11   2015-07-31\n",
      "12   2015-10-31\n",
      "13   2016-01-31\n",
      "14   2016-04-30\n",
      "15   2016-07-31\n",
      "16   2016-10-31\n",
      "17   2017-01-31\n",
      "18   2017-04-30\n",
      "19   2017-07-31\n",
      "20   2017-10-31\n",
      "21   2018-01-31\n",
      "22   2018-04-30\n",
      "23   2018-07-31\n",
      "24   2018-10-31\n",
      "25   2019-01-31\n",
      "26   2019-04-30\n",
      "27   2019-07-31\n",
      "28   2019-10-31\n",
      "29   2020-01-31\n",
      "30   2020-04-30\n",
      "31   2020-07-31\n",
      "32   2020-10-31\n",
      "33   2021-01-31\n",
      "34   2021-04-30\n",
      "35   2021-07-31\n",
      "36   2021-10-31\n",
      "37   2022-01-31\n",
      "38   2022-04-30\n",
      "dtype: datetime64[ns]\n"
     ]
    }
   ],
   "source": [
    "#10- create a time series using three months frequency.\n",
    "import pandas as pd\n",
    "\n",
    "s=pd.Series(pd.date_range(start='2012-10-28',periods=39,freq='3M'))\n",
    "print(s)"
   ]
  },
  {
   "cell_type": "code",
   "execution_count": 38,
   "id": "5c796bad",
   "metadata": {},
   "outputs": [
    {
     "name": "stdout",
     "output_type": "stream",
     "text": [
      "0   2022-12-03 00:00:00\n",
      "1   2022-12-03 01:00:00\n",
      "2   2022-12-03 02:00:00\n",
      "3   2022-12-03 03:00:00\n",
      "4   2022-12-03 04:00:00\n",
      "5   2022-12-03 05:00:00\n",
      "6   2022-12-03 06:00:00\n",
      "7   2022-12-03 07:00:00\n",
      "8   2022-12-03 08:00:00\n",
      "9   2022-12-03 09:00:00\n",
      "dtype: datetime64[ns]\n"
     ]
    }
   ],
   "source": [
    "#11- create a sequence of durations increasing by an hour\n",
    "import pandas as pd\n",
    "\n",
    "s=pd.Series(pd.date_range(start='2022-12-3',periods=10,freq='H'))\n",
    "print(s)"
   ]
  },
  {
   "cell_type": "code",
   "execution_count": 40,
   "id": "19d05712",
   "metadata": {},
   "outputs": [
    {
     "name": "stdout",
     "output_type": "stream",
     "text": [
      "   year  day_of_the_year\n",
      "0  2002              250\n",
      "1  2003              365\n",
      "2  2015                1\n",
      "3  2018              140\n",
      "\n",
      "   year  day_of_the_year  combined       date\n",
      "0  2002              250   2002250 2002-09-07\n",
      "1  2003              365   2003365 2003-12-31\n",
      "2  2015                1   2015001 2015-01-01\n",
      "3  2018              140   2018140 2018-05-20\n"
     ]
    }
   ],
   "source": [
    "#12-convert year and day of year into a single datetime column of a dataframe\n",
    "import pandas as pd\n",
    "data = {\\\n",
    "\"year\": [2002, 2003, 2015, 2018],\n",
    "\"day_of_the_year\": [250, 365, 1, 140]\n",
    "}\n",
    "\n",
    "df=pd.DataFrame(data)\n",
    "print(df)\n",
    "print()\n",
    "df['combined']=df['year']*1000+df['day_of_the_year']\n",
    "df['date']=pd.to_datetime(df['combined'],format='%Y%j')\n",
    "print(df)"
   ]
  },
  {
   "cell_type": "code",
   "execution_count": 42,
   "id": "7780094f",
   "metadata": {},
   "outputs": [
    {
     "name": "stdout",
     "output_type": "stream",
     "text": [
      "0   2018-02-04 02:00:00\n",
      "1   2019-03-05 03:00:00\n",
      "2   2020-04-06 04:00:00\n",
      "dtype: datetime64[ns]\n",
      "0   2018-02-04\n",
      "1   2019-03-05\n",
      "2   2020-04-06\n",
      "dtype: datetime64[ns]\n"
     ]
    }
   ],
   "source": [
    "#create a series of Timestamps from a DataFrame of integer or string columns. \n",
    "#Also create a series of Timestamps using specified columns.\n",
    "\n",
    "import pandas as pd\n",
    "df = pd.DataFrame({'year': [2018, 2019, 2020],\n",
    "                   'month': [2, 3, 4],\n",
    "                   'day': [4, 5, 6],\n",
    "                   'hour': [2, 3, 4]})\n",
    "\n",
    "result=pd.to_datetime(df)\n",
    "print(result)\n",
    "\n",
    "print(pd.to_datetime(df[['year','month','day']]))"
   ]
  },
  {
   "cell_type": "code",
   "execution_count": 44,
   "id": "eb5de0e7",
   "metadata": {},
   "outputs": [
    {
     "name": "stdout",
     "output_type": "stream",
     "text": [
      "Check busines day or not?\n",
      "2020-12-01:  True\n",
      "2020-12-06:  False\n",
      "2020-12-07:  True\n",
      "2020-12-08:  True\n"
     ]
    }
   ],
   "source": [
    "#14- check if a day is a business day (weekday) or not.\n",
    "import pandas as pd\n",
    "def is_business_day(date):\n",
    "    return bool(len(pd.bdate_range(date,date)))\n",
    "print(\"Check busines day or not?\")\n",
    "print('2020-12-01: ',is_business_day('2020-12-01'))\n",
    "print('2020-12-06: ',is_business_day('2020-12-06'))\n",
    "print('2020-12-07: ',is_business_day('2020-12-07'))\n",
    "print('2020-12-08: ',is_business_day('2020-12-08'))"
   ]
  },
  {
   "cell_type": "code",
   "execution_count": 46,
   "id": "af655da3",
   "metadata": {},
   "outputs": [
    {
     "name": "stdout",
     "output_type": "stream",
     "text": [
      "         Date\n",
      "0  2023-01-31\n",
      "1  2023-02-28\n",
      "2  2023-03-31\n",
      "3  2023-04-28\n",
      "4  2023-05-31\n",
      "5  2023-06-30\n",
      "6  2023-07-31\n",
      "7  2023-08-31\n",
      "8  2023-09-29\n",
      "9  2023-10-31\n",
      "10 2023-11-30\n",
      "11 2023-12-29\n"
     ]
    }
   ],
   "source": [
    "#15-get a time series with the last working days of each month of a specific year\n",
    "import pandas as pd\n",
    "s=pd.date_range('2023-01-01', periods=12, freq='BM')\n",
    "df=pd.DataFrame(s,columns=['Date'])\n",
    "print(df)"
   ]
  },
  {
   "cell_type": "code",
   "execution_count": 48,
   "id": "ed0bbdac",
   "metadata": {},
   "outputs": [
    {
     "name": "stdout",
     "output_type": "stream",
     "text": [
      "For a frequency of 1 hours 20 minutes, here we have combined the hour (H) and minute (T):\n",
      "\n",
      "TimedeltaIndex(['0 days 00:00:00', '0 days 01:20:00', '0 days 02:40:00',\n",
      "                '0 days 04:00:00', '0 days 05:20:00', '0 days 06:40:00',\n",
      "                '0 days 08:00:00', '0 days 09:20:00', '0 days 10:40:00',\n",
      "                '0 days 12:00:00', '0 days 13:20:00', '0 days 14:40:00',\n",
      "                '0 days 16:00:00', '0 days 17:20:00', '0 days 18:40:00',\n",
      "                '0 days 20:00:00', '0 days 21:20:00', '0 days 22:40:00',\n",
      "                '1 days 00:00:00', '1 days 01:20:00', '1 days 02:40:00',\n",
      "                '1 days 04:00:00', '1 days 05:20:00', '1 days 06:40:00',\n",
      "                '1 days 08:00:00', '1 days 09:20:00', '1 days 10:40:00',\n",
      "                '1 days 12:00:00', '1 days 13:20:00', '1 days 14:40:00'],\n",
      "               dtype='timedelta64[ns]', freq='80T')\n"
     ]
    }
   ],
   "source": [
    "#16-create a time series combining hour and minute\n",
    "import pandas as pd\n",
    "result=pd.timedelta_range(0,periods=30,freq='1H20T')\n",
    "print(\"For a frequency of 1 hours 20 minutes, here we have combined the hour (H) and minute (T):\\n\")\n",
    "print(result)"
   ]
  },
  {
   "cell_type": "code",
   "execution_count": 50,
   "id": "630c4f3c",
   "metadata": {},
   "outputs": [
    {
     "name": "stdout",
     "output_type": "stream",
     "text": [
      "2021-05-16 02:32:35\n",
      "\n",
      "Convert the said timestamp in to US/Pacific:\n",
      "2021-05-15 19:32:35-07:00\n",
      "\n",
      "Convert the said timestamp in to Europe/Berlin:\n",
      "2021-05-16 04:32:35+02:00\n"
     ]
    }
   ],
   "source": [
    "#17-convert unix/epoch time to a regular time stamp in UTC. Also convert the said timestamp in to a given time zone\n",
    "import pandas as pd\n",
    "epoch_t=1621132355\n",
    "time_stamp=pd.to_datetime(epoch_t,unit='s')\n",
    "print(time_stamp)\n",
    "\n",
    "print(\"\\nConvert the said timestamp in to US/Pacific:\")\n",
    "print(time_stamp.tz_localize('UTC').tz_convert('US/Pacific'))\n",
    "print(\"\\nConvert the said timestamp in to Europe/Berlin:\")\n",
    "print(time_stamp.tz_localize('UTC').tz_convert('Europe/Berlin'))"
   ]
  },
  {
   "cell_type": "code",
   "execution_count": 51,
   "id": "b96970f3",
   "metadata": {},
   "outputs": [
    {
     "name": "stdout",
     "output_type": "stream",
     "text": [
      "Timezone: Europe/Berlin:\n",
      "Using pytz:\n",
      "Europe/Berlin\n",
      "Using dateutil:\n",
      "tzfile('Europe/Berlin')\n",
      "\n",
      "US/Pacific:\n",
      "Using pytz:\n",
      "US/Pacific\n",
      "Using dateutil:\n",
      "tzfile('US/Pacific')\n"
     ]
    }
   ],
   "source": [
    "#18- create a time series object with a time zone.\n",
    "import pandas as pd\n",
    "print(\"Timezone: Europe/Berlin:\")\n",
    "print(\"Using pytz:\")\n",
    "date_pytz = pd.Timestamp('2019-01-01', tz = 'Europe/Berlin')\n",
    "print(date_pytz.tz)  \n",
    "print(\"Using dateutil:\")\n",
    "date_util = pd.Timestamp('2019-01-01', tz = 'dateutil/Europe/Berlin')\n",
    "print(date_util.tz)\n",
    "print(\"\\nUS/Pacific:\")\n",
    "print(\"Using pytz:\")\n",
    "date_pytz = pd.Timestamp('2019-01-01', tz = 'US/Pacific')\n",
    "print(date_pytz.tz)  \n",
    "print(\"Using dateutil:\")\n",
    "date_util = pd.Timestamp('2019-01-01', tz = 'dateutil/US/Pacific')\n",
    "print(date_util.tz)"
   ]
  },
  {
   "cell_type": "code",
   "execution_count": 53,
   "id": "14ec3b32",
   "metadata": {},
   "outputs": [
    {
     "name": "stdout",
     "output_type": "stream",
     "text": [
      "2019-01-01 00:00:00+01:00\n",
      "\n",
      "2019-01-01 00:00:00\n"
     ]
    }
   ],
   "source": [
    "#19-remove the time zone information from a Time series data.\n",
    "import pandas as pd\n",
    "date1=pd.Timestamp('2019-01-01', tz='Europe/Berlin')\n",
    "print(date1)\n",
    "print()\n",
    "print(date1.tz_localize(None))"
   ]
  },
  {
   "cell_type": "code",
   "execution_count": 55,
   "id": "9dd7b6f3",
   "metadata": {},
   "outputs": [
    {
     "name": "stdout",
     "output_type": "stream",
     "text": [
      "-31 days +06:00:00\n",
      "Difference:  0 days 05:00:00\n"
     ]
    }
   ],
   "source": [
    "#20-subtract two timestamps of same time zone or different time zone\n",
    "import pandas as pd\n",
    "date1=pd.Timestamp('2019-03-01 12:00', tz='US/Eastern')\n",
    "date2=pd.Timestamp('2019-04-01 07:00', tz='US/Eastern')\n",
    "\n",
    "result=(date1-date2)\n",
    "print(result)\n",
    "\n",
    "date1 = pd.Timestamp('2019-03-01 12:00', tz='US/Eastern')\n",
    "date2 = pd.Timestamp('2019-03-01 07:00', tz='US/Pacific')\n",
    "# Remove the time zone and do the subtraction\n",
    "print(\"Difference: \", (date1.tz_localize(None) - date2.tz_localize(None)))"
   ]
  },
  {
   "cell_type": "code",
   "execution_count": 58,
   "id": "c829b251",
   "metadata": {},
   "outputs": [
    {
     "name": "stdout",
     "output_type": "stream",
     "text": [
      "['2020-01-02T00:00:00.000000000' '2020-01-09T00:00:00.000000000'\n",
      " '2020-01-16T00:00:00.000000000' '2020-01-23T00:00:00.000000000'\n",
      " '2020-01-30T00:00:00.000000000' '2020-02-06T00:00:00.000000000'\n",
      " '2020-02-13T00:00:00.000000000' '2020-02-20T00:00:00.000000000'\n",
      " '2020-02-27T00:00:00.000000000' '2020-03-05T00:00:00.000000000'\n",
      " '2020-03-12T00:00:00.000000000' '2020-03-19T00:00:00.000000000'\n",
      " '2020-03-26T00:00:00.000000000' '2020-04-02T00:00:00.000000000'\n",
      " '2020-04-09T00:00:00.000000000' '2020-04-16T00:00:00.000000000'\n",
      " '2020-04-23T00:00:00.000000000' '2020-04-30T00:00:00.000000000'\n",
      " '2020-05-07T00:00:00.000000000' '2020-05-14T00:00:00.000000000'\n",
      " '2020-05-21T00:00:00.000000000' '2020-05-28T00:00:00.000000000'\n",
      " '2020-06-04T00:00:00.000000000' '2020-06-11T00:00:00.000000000'\n",
      " '2020-06-18T00:00:00.000000000' '2020-06-25T00:00:00.000000000'\n",
      " '2020-07-02T00:00:00.000000000' '2020-07-09T00:00:00.000000000'\n",
      " '2020-07-16T00:00:00.000000000' '2020-07-23T00:00:00.000000000'\n",
      " '2020-07-30T00:00:00.000000000' '2020-08-06T00:00:00.000000000'\n",
      " '2020-08-13T00:00:00.000000000' '2020-08-20T00:00:00.000000000'\n",
      " '2020-08-27T00:00:00.000000000' '2020-09-03T00:00:00.000000000'\n",
      " '2020-09-10T00:00:00.000000000' '2020-09-17T00:00:00.000000000'\n",
      " '2020-09-24T00:00:00.000000000' '2020-10-01T00:00:00.000000000'\n",
      " '2020-10-08T00:00:00.000000000' '2020-10-15T00:00:00.000000000'\n",
      " '2020-10-22T00:00:00.000000000' '2020-10-29T00:00:00.000000000'\n",
      " '2020-11-05T00:00:00.000000000' '2020-11-12T00:00:00.000000000'\n",
      " '2020-11-19T00:00:00.000000000' '2020-11-26T00:00:00.000000000'\n",
      " '2020-12-03T00:00:00.000000000' '2020-12-10T00:00:00.000000000'\n",
      " '2020-12-17T00:00:00.000000000' '2020-12-24T00:00:00.000000000'\n",
      " '2020-12-31T00:00:00.000000000']\n"
     ]
    }
   ],
   "source": [
    "#21-calculate all Thursdays between two given days\n",
    "import pandas as pd\n",
    "\n",
    "thursday=pd.date_range('2020-01-01', \n",
    "                           '2020-12-31', freq=\"W-THU\")\n",
    "print(thursday.values)"
   ]
  },
  {
   "cell_type": "code",
   "execution_count": 60,
   "id": "a06e67d3",
   "metadata": {},
   "outputs": [
    {
     "name": "stdout",
     "output_type": "stream",
     "text": [
      "['2020-03-02T00:00:00.000000000' '2020-06-01T00:00:00.000000000'\n",
      " '2020-09-01T00:00:00.000000000' '2020-12-01T00:00:00.000000000']\n",
      "\n",
      "['2020-03-31T00:00:00.000000000' '2020-06-30T00:00:00.000000000'\n",
      " '2020-09-30T00:00:00.000000000' '2020-12-31T00:00:00.000000000']\n"
     ]
    }
   ],
   "source": [
    "#22-find the all the business quarterly begin and end dates of a specified year.\n",
    "import pandas as pd\n",
    "q_start_dates=pd.date_range('2020-01-01', '2020-12-31', freq='BQS-JUN')\n",
    "q_end_dates = pd.date_range('2020-01-01', '2020-12-31', freq='BQ-JUN')\n",
    "\n",
    "print(q_start_dates.values)\n",
    "print()\n",
    "print(q_end_dates.values)"
   ]
  },
  {
   "cell_type": "code",
   "execution_count": 62,
   "id": "eff7ac42",
   "metadata": {},
   "outputs": [
    {
     "name": "stdout",
     "output_type": "stream",
     "text": [
      "DatetimeIndex(['2022-10-09 00:00:00', '2022-10-09 01:00:00',\n",
      "               '2022-10-09 02:00:00', '2022-10-09 03:00:00',\n",
      "               '2022-10-09 04:00:00', '2022-10-09 05:00:00',\n",
      "               '2022-10-09 06:00:00', '2022-10-09 07:00:00',\n",
      "               '2022-10-09 08:00:00', '2022-10-09 09:00:00'],\n",
      "              dtype='datetime64[ns]', freq='H')\n"
     ]
    }
   ],
   "source": [
    "#23- generate sequences of fixed-frequency dates and time spans intervals\n",
    "import pandas as pd\n",
    "r=pd.date_range(start='2022-10-09',freq='H',periods=10)\n",
    "print(r)"
   ]
  },
  {
   "cell_type": "code",
   "execution_count": 3,
   "id": "5479ae58",
   "metadata": {},
   "outputs": [
    {
     "name": "stdout",
     "output_type": "stream",
     "text": [
      "DatetimeIndex(['2029-01-01 00:00:00', '2029-01-01 03:10:00',\n",
      "               '2029-01-01 06:20:00', '2029-01-01 09:30:00',\n",
      "               '2029-01-01 12:40:00', '2029-01-01 15:50:00',\n",
      "               '2029-01-01 19:00:00', '2029-01-01 22:10:00',\n",
      "               '2029-01-02 01:20:00', '2029-01-02 04:30:00',\n",
      "               '2029-01-02 07:40:00', '2029-01-02 10:50:00',\n",
      "               '2029-01-02 14:00:00', '2029-01-02 17:10:00',\n",
      "               '2029-01-02 20:20:00', '2029-01-02 23:30:00',\n",
      "               '2029-01-03 02:40:00', '2029-01-03 05:50:00',\n",
      "               '2029-01-03 09:00:00', '2029-01-03 12:10:00'],\n",
      "              dtype='datetime64[ns]', freq='190T')\n",
      "\n",
      "DatetimeIndex([       '2029-01-01 00:00:00', '2029-01-02 00:10:00.000020',\n",
      "               '2029-01-03 00:20:00.000040', '2029-01-04 00:30:00.000060',\n",
      "               '2029-01-05 00:40:00.000080', '2029-01-06 00:50:00.000100',\n",
      "               '2029-01-07 01:00:00.000120', '2029-01-08 01:10:00.000140',\n",
      "               '2029-01-09 01:20:00.000160', '2029-01-10 01:30:00.000180',\n",
      "               '2029-01-11 01:40:00.000200', '2029-01-12 01:50:00.000220',\n",
      "               '2029-01-13 02:00:00.000240', '2029-01-14 02:10:00.000260',\n",
      "               '2029-01-15 02:20:00.000280', '2029-01-16 02:30:00.000300',\n",
      "               '2029-01-17 02:40:00.000320', '2029-01-18 02:50:00.000340',\n",
      "               '2029-01-19 03:00:00.000360', '2029-01-20 03:10:00.000380'],\n",
      "              dtype='datetime64[ns]', freq='87000000020U')\n"
     ]
    }
   ],
   "source": [
    "#Date-10/29/22\n",
    "#24- generate time series combining day and intraday offsets intervals\n",
    "import pandas as pd\n",
    "dataset1=pd.date_range('2029-01-01 00:00:00',periods=20,freq='3h10min')\n",
    "print(dataset1)\n",
    "print()\n",
    "dataset2=pd.date_range('2029-01-01 00:00:00',periods=20,freq='1D10min20U')\n",
    "print(dataset2)"
   ]
  },
  {
   "cell_type": "code",
   "execution_count": 7,
   "id": "f715f9d7",
   "metadata": {},
   "outputs": [
    {
     "name": "stdout",
     "output_type": "stream",
     "text": [
      "2020-02-07 00:00:00\n",
      "\n",
      "The day name of the said date:\n",
      "Friday\n",
      "\n",
      "Add 2 days with the said date:\n",
      "Sunday\n",
      "\n",
      "Next business day:\n",
      "Monday\n"
     ]
    }
   ],
   "source": [
    "#25- extract the day name from a specified date. Add 2 days and 1 business day with the specified date\n",
    "import pandas as pd\n",
    "\n",
    "newDay=pd.Timestamp('2020-02-07')\n",
    "print(newDay)\n",
    "\n",
    "print(\"\\nThe day name of the said date:\")\n",
    "print(newDay.day_name())\n",
    "\n",
    "print(\"\\nAdd 2 days with the said date:\")\n",
    "newDay1=newDay+pd.Timedelta('2Day')\n",
    "print(newDay1.day_name())\n",
    "\n",
    "print(\"\\nNext business day:\")\n",
    "nBday=newDay+pd.offsets.BDay()\n",
    "print(nBday.day_name())"
   ]
  },
  {
   "cell_type": "code",
   "execution_count": 11,
   "id": "7393210b",
   "metadata": {},
   "outputs": [
    {
     "name": "stdout",
     "output_type": "stream",
     "text": [
      "DatetimeIndex(['2012-02-21 06:41:45', '1974-02-11 09:21:45',\n",
      "               '2009-08-10 08:28:25', '2009-08-11 08:28:25',\n",
      "               '2009-08-12 08:28:25'],\n",
      "              dtype='datetime64[ns]', freq=None)\n"
     ]
    }
   ],
   "source": [
    "#26- convert integer or float epoch times to Timestamp and DatetimeIndex\n",
    "import pandas as pd\n",
    "\n",
    "dates01=pd.to_datetime([1329806505, 129806505, 1249892905,\n",
    "                1249979305, 1250065705],unit='s')\n",
    "print(dates01)"
   ]
  },
  {
   "cell_type": "code",
   "execution_count": 16,
   "id": "6f1e83e9",
   "metadata": {},
   "outputs": [
    {
     "name": "stdout",
     "output_type": "stream",
     "text": [
      "specified date 2014-01-04 00:00:00\n",
      "\n",
      "One business day from the said date:\n",
      "2014-01-06 00:00:00\n",
      "\n",
      "Two business days from the said date:\n",
      "2014-01-07 00:00:00\n",
      "\n",
      "Next business month end from the said date:\n",
      "2014-01-31 00:00:00\n"
     ]
    }
   ],
   "source": [
    "#27- calculate one, two, three business day(s) from a specified date. Also find the next business month end from a specific date\n",
    "import pandas as pd\n",
    "from pandas.tseries.offsets import *\n",
    "from datetime import datetime, date\n",
    "dt=datetime(2014,1,4)\n",
    "print(\"specified date\",dt)\n",
    "\n",
    "print(\"\\nOne business day from the said date:\")\n",
    "obday=dt+BusinessDay()\n",
    "print(obday)\n",
    "\n",
    "print(\"\\nTwo business days from the said date:\")\n",
    "tbday=dt+2*BusinessDay()\n",
    "print(tbday)\n",
    "\n",
    "print(\"\\nNext business month end from the said date:\")\n",
    "nbday=dt+BMonthEnd()\n",
    "print(nbday)"
   ]
  },
  {
   "cell_type": "code",
   "execution_count": 20,
   "id": "d85f9c0b",
   "metadata": {},
   "outputs": [
    {
     "name": "stdout",
     "output_type": "stream",
     "text": [
      "PeriodIndex(['2020-01', '2020-02', '2020-03', '2020-04', '2020-05', '2020-06',\n",
      "             '2020-07', '2020-08', '2020-09', '2020-10', '2020-11', '2020-12'],\n",
      "            dtype='period[M]')\n",
      "\n",
      "Start and end time for each period object in the said index:\n",
      "2020-01-01 00:00:00 2020-01-31 23:59:59.999999999\n",
      "2020-02-01 00:00:00 2020-02-29 23:59:59.999999999\n",
      "2020-03-01 00:00:00 2020-03-31 23:59:59.999999999\n",
      "2020-04-01 00:00:00 2020-04-30 23:59:59.999999999\n",
      "2020-05-01 00:00:00 2020-05-31 23:59:59.999999999\n",
      "2020-06-01 00:00:00 2020-06-30 23:59:59.999999999\n",
      "2020-07-01 00:00:00 2020-07-31 23:59:59.999999999\n",
      "2020-08-01 00:00:00 2020-08-31 23:59:59.999999999\n",
      "2020-09-01 00:00:00 2020-09-30 23:59:59.999999999\n",
      "2020-10-01 00:00:00 2020-10-31 23:59:59.999999999\n",
      "2020-11-01 00:00:00 2020-11-30 23:59:59.999999999\n",
      "2020-12-01 00:00:00 2020-12-31 23:59:59.999999999\n"
     ]
    }
   ],
   "source": [
    "#28- create a period index represent all monthly boundaries of a given year. Also print start and end time for each period object in the said index\n",
    "import pandas as pd\n",
    "import datetime\n",
    "from datetime import datetime, date\n",
    "\n",
    "sdt=datetime(2020,1,1)\n",
    "edt=datetime(2020,12,31)\n",
    "dataset=pd.period_range(sdt,edt,freq='M')\n",
    "print(dataset)\n",
    "\n",
    "print(\"\\nStart and end time for each period object in the said index:\")\n",
    "for d in dataset: \n",
    "    print (\"{0} {1}\".format(d.start_time, d.end_time)) "
   ]
  },
  {
   "cell_type": "code",
   "execution_count": 21,
   "id": "e856b186",
   "metadata": {},
   "outputs": [
    {
     "name": "stdout",
     "output_type": "stream",
     "text": [
      "PeriodIndex which represents all the calendar month periods in 2029 and 2030:\n",
      "2029-01    1.902718\n",
      "2029-02    0.588220\n",
      "2029-03   -0.262402\n",
      "2029-04    0.435789\n",
      "2029-05    1.157909\n",
      "2029-06    0.821042\n",
      "2029-07   -0.297981\n",
      "2029-08    0.529877\n",
      "2029-09    1.382088\n",
      "2029-10    1.848807\n",
      "2029-11   -1.203411\n",
      "2029-12    1.296981\n",
      "2030-01   -0.416402\n",
      "2030-02    0.211769\n",
      "2030-03    0.729344\n",
      "2030-04   -0.388648\n",
      "2030-05    0.194038\n",
      "2030-06    0.873746\n",
      "2030-07    0.209264\n",
      "2030-08   -0.389116\n",
      "2030-09    1.946145\n",
      "2030-10   -0.860471\n",
      "2030-11    0.374747\n",
      "2030-12   -0.117779\n",
      "2031-01   -2.103933\n",
      "2031-02    1.903362\n",
      "2031-03    0.550143\n",
      "2031-04   -0.166502\n",
      "2031-05   -0.280333\n",
      "2031-06   -0.410240\n",
      "2031-07    1.322158\n",
      "2031-08   -1.205945\n",
      "2031-09   -1.704781\n",
      "2031-10    2.010517\n",
      "2031-11    2.514521\n",
      "2031-12    0.322016\n",
      "Freq: M, dtype: float64\n",
      "\n",
      "Values for all periods in 2030:\n",
      "2030-01   -0.416402\n",
      "2030-02    0.211769\n",
      "2030-03    0.729344\n",
      "2030-04   -0.388648\n",
      "2030-05    0.194038\n",
      "2030-06    0.873746\n",
      "2030-07    0.209264\n",
      "2030-08   -0.389116\n",
      "2030-09    1.946145\n",
      "2030-10   -0.860471\n",
      "2030-11    0.374747\n",
      "2030-12   -0.117779\n",
      "Freq: M, dtype: float64\n"
     ]
    }
   ],
   "source": [
    "#29-create a series with a PeriodIndex which represents all the calendar month periods in 2029 and 2031. Also print the values for all periods in 2030.\n",
    "import pandas as pd\n",
    "import numpy as np\n",
    "\n",
    "pi=pd.Series(np.random.randn(36), pd.period_range('1/1/2029', \n",
    "                               '12/31/2031', freq='M'))\n",
    "print(\"PeriodIndex which represents all the calendar month periods in 2029 and 2030:\")\n",
    "print(pi)\n",
    "print(\"\\nValues for all periods in 2030:\")\n",
    "print(pi['2030'])"
   ]
  },
  {
   "cell_type": "code",
   "execution_count": 25,
   "id": "9a6475e7",
   "metadata": {},
   "outputs": [
    {
     "name": "stdout",
     "output_type": "stream",
     "text": [
      "Holidays between 2021-01-01 and 2030-12-31 using the US federal holiday calendar.\n",
      "2023-01-02 00:00:00\n",
      "2023-01-16 00:00:00\n",
      "2023-02-20 00:00:00\n",
      "2023-05-29 00:00:00\n",
      "2023-07-04 00:00:00\n",
      "2023-09-04 00:00:00\n",
      "2023-10-09 00:00:00\n",
      "2023-11-10 00:00:00\n",
      "2023-11-23 00:00:00\n",
      "2023-12-25 00:00:00\n"
     ]
    }
   ],
   "source": [
    "#30- generate holidays between two dates using the US federal holiday calendar.\n",
    "import pandas as pd\n",
    "from pandas.tseries.holiday import *\n",
    "sdt=datetime(2023,1,1)\n",
    "edt=datetime(2023,12,31)\n",
    "\n",
    "print(\"Holidays between 2021-01-01 and 2030-12-31 using the US federal holiday calendar.\")\n",
    "cal=USFederalHolidayCalendar()\n",
    "for dt in cal.holidays(start=sdt,end=edt):\n",
    "    print(dt)"
   ]
  },
  {
   "cell_type": "code",
   "execution_count": 27,
   "id": "8fd5a3a0",
   "metadata": {},
   "outputs": [
    {
     "name": "stdout",
     "output_type": "stream",
     "text": [
      "Monthly time perid:  2021-11\n",
      "\n",
      "List of names in the current local scope:\n",
      "['__add__', '__class__', '__delattr__', '__dict__', '__dir__', '__doc__', '__eq__', '__format__', '__ge__', '__getattribute__', '__gt__', '__hash__', '__init__', '__init_subclass__', '__le__', '__lt__', '__module__', '__ne__', '__new__', '__pyx_vtable__', '__radd__', '__reduce__', '__reduce_ex__', '__repr__', '__rsub__', '__setattr__', '__setstate__', '__sizeof__', '__str__', '__sub__', '__subclasshook__', '__weakref__', '_add_offset', '_add_timedeltalike_scalar', '_dtype', '_from_ordinal', '_get_to_timestamp_base', '_maybe_convert_freq', '_require_matching_freq', 'asfreq', 'day', 'day_of_week', 'day_of_year', 'dayofweek', 'dayofyear', 'days_in_month', 'daysinmonth', 'end_time', 'freq', 'freqstr', 'hour', 'is_leap_year', 'minute', 'month', 'now', 'ordinal', 'quarter', 'qyear', 'second', 'start_time', 'strftime', 'to_timestamp', 'week', 'weekday', 'weekofyear', 'year']\n"
     ]
    }
   ],
   "source": [
    "#31-create a monthly time period and display the list of names in the current local scope.\n",
    "import pandas as pd\n",
    "mtp=pd.Period('2021-11','M')\n",
    "print(\"Monthly time perid: \",mtp)\n",
    "print(\"\\nList of names in the current local scope:\")\n",
    "print(dir(mtp)) \n",
    "              "
   ]
  },
  {
   "cell_type": "code",
   "execution_count": 28,
   "id": "e1a3d62c",
   "metadata": {},
   "outputs": [
    {
     "name": "stdout",
     "output_type": "stream",
     "text": [
      "Yearly time perid: 2020\n",
      "\n",
      "All the properties of the said period:\n",
      "['__add__', '__class__', '__delattr__', '__dict__', '__dir__', '__doc__', '__eq__', '__format__', '__ge__', '__getattribute__', '__gt__', '__hash__', '__init__', '__init_subclass__', '__le__', '__lt__', '__module__', '__ne__', '__new__', '__pyx_vtable__', '__radd__', '__reduce__', '__reduce_ex__', '__repr__', '__rsub__', '__setattr__', '__setstate__', '__sizeof__', '__str__', '__sub__', '__subclasshook__', '__weakref__', '_add_offset', '_add_timedeltalike_scalar', '_dtype', '_from_ordinal', '_get_to_timestamp_base', '_maybe_convert_freq', '_require_matching_freq', 'asfreq', 'day', 'day_of_week', 'day_of_year', 'dayofweek', 'dayofyear', 'days_in_month', 'daysinmonth', 'end_time', 'freq', 'freqstr', 'hour', 'is_leap_year', 'minute', 'month', 'now', 'ordinal', 'quarter', 'qyear', 'second', 'start_time', 'strftime', 'to_timestamp', 'week', 'weekday', 'weekofyear', 'year']\n"
     ]
    }
   ],
   "source": [
    "#32- create a yearly time period from a specified year and display the properties of this period\n",
    "import pandas as pd\n",
    "ytp = pd.Period('2020','A-DEC')\n",
    "print(\"Yearly time perid:\",ytp)\n",
    "print(\"\\nAll the properties of the said period:\")\n",
    "print(dir(ytp))"
   ]
  },
  {
   "cell_type": "code",
   "execution_count": null,
   "id": "0a080a67",
   "metadata": {},
   "outputs": [],
   "source": []
  }
 ],
 "metadata": {
  "kernelspec": {
   "display_name": "Python 3 (ipykernel)",
   "language": "python",
   "name": "python3"
  },
  "language_info": {
   "codemirror_mode": {
    "name": "ipython",
    "version": 3
   },
   "file_extension": ".py",
   "mimetype": "text/x-python",
   "name": "python",
   "nbconvert_exporter": "python",
   "pygments_lexer": "ipython3",
   "version": "3.9.7"
  }
 },
 "nbformat": 4,
 "nbformat_minor": 5
}
