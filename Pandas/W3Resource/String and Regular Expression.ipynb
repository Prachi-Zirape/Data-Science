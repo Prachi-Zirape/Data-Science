{
 "cells": [
  {
   "cell_type": "code",
   "execution_count": 3,
   "id": "9205e0dc",
   "metadata": {},
   "outputs": [
    {
     "name": "stdout",
     "output_type": "stream",
     "text": [
      "0         X\n",
      "1         Y\n",
      "2         Z\n",
      "3      Aaba\n",
      "4      Baca\n",
      "5       NaN\n",
      "6      CABA\n",
      "7      None\n",
      "8      bird\n",
      "9     horse\n",
      "10      dog\n",
      "dtype: object\n",
      "\n",
      "Convert to upper case\n",
      "0         X\n",
      "1         Y\n",
      "2         Z\n",
      "3      AABA\n",
      "4      BACA\n",
      "5       NaN\n",
      "6      CABA\n",
      "7      None\n",
      "8      BIRD\n",
      "9     HORSE\n",
      "10      DOG\n",
      "dtype: object\n",
      "\n",
      "Convert to lower ccase\n",
      "0         x\n",
      "1         y\n",
      "2         z\n",
      "3      aaba\n",
      "4      baca\n",
      "5       NaN\n",
      "6      caba\n",
      "7      None\n",
      "8      bird\n",
      "9     horse\n",
      "10      dog\n",
      "dtype: object\n",
      "\n",
      "length of the given series\n",
      "0     1.0\n",
      "1     1.0\n",
      "2     1.0\n",
      "3     4.0\n",
      "4     4.0\n",
      "5     NaN\n",
      "6     4.0\n",
      "7     NaN\n",
      "8     4.0\n",
      "9     5.0\n",
      "10    3.0\n",
      "dtype: float64\n"
     ]
    }
   ],
   "source": [
    "#Date: 10/18/22\n",
    "#1-to convert all the string values to upper, lower cases in a given pandas series. Also find the length of the string values\n",
    "import pandas as pd\n",
    "import numpy as np\n",
    "\n",
    "ds=pd.Series(['X', 'Y', 'Z', 'Aaba', 'Baca', np.nan, 'CABA', None, 'bird', 'horse', 'dog'])\n",
    "print(ds)\n",
    "print()\n",
    "\n",
    "print(\"Convert to upper case\")\n",
    "print(ds.str.upper())\n",
    "print()\n",
    "\n",
    "print(\"Convert to lower ccase\")\n",
    "print(ds.str.lower())\n",
    "print()\n",
    "\n",
    "print(\"length of the given series\")\n",
    "print(ds.str.len())"
   ]
  },
  {
   "cell_type": "code",
   "execution_count": 5,
   "id": "f32eba75",
   "metadata": {},
   "outputs": [
    {
     "name": "stdout",
     "output_type": "stream",
     "text": [
      "Original Series\n",
      "Index([' Green', 'Black ', ' Red ', 'White', ' Pink '], dtype='object')\n",
      "\n",
      "Remove whitespace\n",
      "Index(['Green', 'Black', 'Red', 'White', 'Pink'], dtype='object')\n",
      "\n",
      "Remove whitespaces from left\n",
      "Index([' Green', 'Black', ' Red', 'White', ' Pink'], dtype='object')\n",
      "\n",
      "Remove whitespaces from left\n",
      "Index(['Green', 'Black ', 'Red ', 'White', 'Pink '], dtype='object')\n"
     ]
    }
   ],
   "source": [
    "#2- remove whitespaces, left sided whitespaces and right sided whitespaces of the string values of a given pandas series.\n",
    "import pandas as pd\n",
    "color1=pd.Index([' Green', 'Black ', ' Red ', 'White', ' Pink '])\n",
    "print(\"Original Series\")\n",
    "print(color1)\n",
    "print()\n",
    "\n",
    "print(\"Remove whitespace\")\n",
    "print(color1.str.strip())\n",
    "print()\n",
    "\n",
    "print(\"Remove whitespaces from left\")\n",
    "print(color1.str.rstrip())\n",
    "\n",
    "print(\"\\nRemove whitespaces from left\")\n",
    "print(color1.str.lstrip())\n"
   ]
  },
  {
   "cell_type": "code",
   "execution_count": 8,
   "id": "89a1a871",
   "metadata": {},
   "outputs": [
    {
     "name": "stdout",
     "output_type": "stream",
     "text": [
      "Original data frame\n",
      "   amount\n",
      "0      10\n",
      "1     250\n",
      "2    3000\n",
      "3   40000\n",
      "4  500000\n",
      "\n",
      "add leading zeroes\n",
      "     amount\n",
      "0  00000010\n",
      "1  00000250\n",
      "2  00003000\n",
      "3  00040000\n",
      "4  00500000\n"
     ]
    }
   ],
   "source": [
    "#3-add leading zeros to the integer column in a pandas series and makes the length of the field to 8 digit.\n",
    "import pandas as pd\n",
    "import numpy as np\n",
    "nums={'amount': [10, 250, 3000, 40000, 500000]}\n",
    "print(\"Original data frame\")\n",
    "df=pd.DataFrame(data=nums)\n",
    "print(df)\n",
    "print(\"\\nadd leading zeroes\")\n",
    "df['amount']=df['amount'].apply(lambda x:'{0:0>8}'.format(x))\n",
    "print(df)\n"
   ]
  },
  {
   "cell_type": "code",
   "execution_count": 12,
   "id": "5b9b8943",
   "metadata": {},
   "outputs": [
    {
     "name": "stdout",
     "output_type": "stream",
     "text": [
      "Original DataFrame\n",
      "   amount\n",
      "0      10\n",
      "1     250\n",
      "2    3000\n",
      "3   40000\n",
      "4  500000\n",
      "\n",
      "Add leading zeroes\n",
      "       amount\n",
      "0  0000000010\n",
      "1  0000000250\n",
      "2  0000003000\n",
      "3  0000040000\n",
      "4  0000500000\n"
     ]
    }
   ],
   "source": [
    "#4-add leading zeros to the character column in a pandas series and makes the length of the field to 8 digit\n",
    "import pandas as pd\n",
    "nums={'amount': ['10', '250', '3000', '40000', '500000']}\n",
    "print(\"Original DataFrame\")\n",
    "df=pd.DataFrame(nums)\n",
    "print(df)\n",
    "\n",
    "print(\"\\nAdd leading zeroes\")\n",
    "df['amount']=list(map(lambda x:x.zfill(10),df['amount']))\n",
    "print(df)"
   ]
  },
  {
   "cell_type": "code",
   "execution_count": 13,
   "id": "4e2c1f8b",
   "metadata": {},
   "outputs": [
    {
     "name": "stdout",
     "output_type": "stream",
     "text": [
      "      name date_of_birth    age\n",
      "0  alberto     17/05/2002  18.5\n",
      "1     gino     16/02/1999  21.2\n",
      "2     ryan     25/09/1998  22.5\n",
      "3    Eesha     11/05/2002  22.0\n",
      "4     syed     15/09/1997  23.0\n",
      "\n",
      "After Capitelization\n",
      "      name date_of_birth    age\n",
      "0  Alberto     17/05/2002  18.5\n",
      "1     Gino     16/02/1999  21.2\n",
      "2     Ryan     25/09/1998  22.5\n",
      "3    Eesha     11/05/2002  22.0\n",
      "4     Syed     15/09/1997  23.0\n"
     ]
    }
   ],
   "source": [
    "#5-capitalize all the string values of specified columns of a given DataFrame.\n",
    "import pandas as pd\n",
    "df = pd.DataFrame({\n",
    "    'name': ['alberto','gino','ryan', 'Eesha', 'syed'],\n",
    "    'date_of_birth ': ['17/05/2002','16/02/1999','25/09/1998','11/05/2002','15/09/1997'],\n",
    "    'age': [18.5, 21.2, 22.5, 22, 23]\n",
    "})\n",
    "print(df)\n",
    "\n",
    "print(\"\\nAfter Capitelization\")\n",
    "df['name']=list(map(lambda x:x.capitalize(),df['name']))\n",
    "print(df)\n"
   ]
  },
  {
   "cell_type": "code",
   "execution_count": 15,
   "id": "baaca5f4",
   "metadata": {},
   "outputs": [
    {
     "name": "stdout",
     "output_type": "stream",
     "text": [
      "  name_code date_of_birth    age\n",
      "0      c001     12/05/2002  18.5\n",
      "1      c002     16/02/1999  21.2\n",
      "2      c022     25/09/1998  22.5\n",
      "3     c2002     12/02/2022  22.0\n",
      "4     c2222     15/09/1997  23.0\n",
      "\n",
      "Count occurence of 2 in date_of_birth Column\n",
      "  name_code date_of_birth    age  count\n",
      "0      c001     12/05/2002  18.5      3\n",
      "1      c002     16/02/1999  21.2      1\n",
      "2      c022     25/09/1998  22.5      1\n",
      "3     c2002     12/02/2022  22.0      5\n",
      "4     c2222     15/09/1997  23.0      0\n"
     ]
    }
   ],
   "source": [
    "#6-count of occurrence of a specified substring in a DataFrame column.\n",
    "import pandas as pd\n",
    "df = pd.DataFrame({\n",
    "    'name_code': ['c001','c002','c022', 'c2002', 'c2222'],\n",
    "    'date_of_birth ': ['12/05/2002','16/02/1999','25/09/1998','12/02/2022','15/09/1997'],\n",
    "    'age': [18.5, 21.2, 22.5, 22, 23]\n",
    "})\n",
    "print(df)\n",
    "\n",
    "print(\"\\nCount occurence of 2 in date_of_birth Column\")\n",
    "df['count']=list(map(lambda x:x.count('2'),df['date_of_birth ']))\n",
    "print(df)"
   ]
  },
  {
   "cell_type": "code",
   "execution_count": 17,
   "id": "3d157c9c",
   "metadata": {},
   "outputs": [
    {
     "name": "stdout",
     "output_type": "stream",
     "text": [
      "  name_code date_of_birth    age\n",
      "0      c001     12/05/2002  18.5\n",
      "1      c002     16/02/1999  21.2\n",
      "2      c022     25/09/1998  22.5\n",
      "3     c2002     12/02/2022  22.0\n",
      "4     c2222     15/09/1997  23.0\n",
      "\\count occurences of 22 in name_code\n",
      "  name_code date_of_birth    age  Index\n",
      "0      c001     12/05/2002  18.5     -1\n",
      "1      c002     16/02/1999  21.2     -1\n",
      "2      c022     25/09/1998  22.5      2\n",
      "3     c2002     12/02/2022  22.0     -1\n",
      "4     c2222     15/09/1997  23.0      1\n"
     ]
    }
   ],
   "source": [
    "#7-find the index of a given substring of a DataFrame column\n",
    "import pandas as pd\n",
    "df=pd.DataFrame({\n",
    "    'name_code': ['c001','c002','c022', 'c2002', 'c2222'],\n",
    "    'date_of_birth ': ['12/05/2002','16/02/1999','25/09/1998','12/02/2022','15/09/1997'],\n",
    "    'age': [18.5, 21.2, 22.5, 22, 23]})\n",
    "print(df)\n",
    "print(\"\\count occurences of 22 in name_code\")\n",
    "df['Index']=list(map(lambda x:x.find('22'),df['name_code']))\n",
    "print(df)"
   ]
  },
  {
   "cell_type": "code",
   "execution_count": 4,
   "id": "4689cc1e",
   "metadata": {},
   "outputs": [
    {
     "name": "stdout",
     "output_type": "stream",
     "text": [
      "Index of substring in specified column of a dataframe\n",
      "  name_code date_of_birth    age  Index\n",
      "0      c001     12/05/2002  18.5      0\n",
      "1      c002     16/02/1999  21.2      0\n",
      "2      c022     25/09/1998  22.5      0\n",
      "3     q0c02     12/02/2022  22.0      2\n",
      "4     l2222     15/09/1997  23.0     -1\n"
     ]
    }
   ],
   "source": [
    "#Date: 10/27/22\n",
    "#8- find the index of a substring of DataFrame with beginning and end position\n",
    "import pandas as pd\n",
    "df=pd.DataFrame({\n",
    "    'name_code': ['c001','c002','c022', 'q0c02', 'l2222'],\n",
    "    'date_of_birth ': ['12/05/2002','16/02/1999','25/09/1998','12/02/2022','15/09/1997'],\n",
    "    'age': [18.5, 21.2, 22.5, 22, 23]})\n",
    "print(\"Index of substring in specified column of a dataframe\")\n",
    "df['Index']=list(map(lambda x:x.find('c',0,5),df['name_code']))\n",
    "\n",
    "print(df)"
   ]
  },
  {
   "cell_type": "code",
   "execution_count": 9,
   "id": "1eb1b072",
   "metadata": {},
   "outputs": [
    {
     "name": "stdout",
     "output_type": "stream",
     "text": [
      "      name_code date_of_birth    age  name_code_is_alphanumeric\n",
      "0       Company     12/05/2002  18.5                       True\n",
      "1  Company a001     16/02/1999  21.2                      False\n",
      "2   Company 123     25/09/1998  22.5                      False\n",
      "3          1234     12/02/2022  22.0                       True\n",
      "4    Company 12     15/09/1997  23.0                      False\n"
     ]
    }
   ],
   "source": [
    "#9-Pandas program to check whether alpha numeric values present in a given column of a DataFrame.\n",
    "import pandas as pd\n",
    "df=pd.DataFrame({\n",
    "    'name_code': ['Company','Company a001','Company 123', '1234', 'Company 12'],\n",
    "    'date_of_birth ': ['12/05/2002','16/02/1999','25/09/1998','12/02/2022','15/09/1997'],\n",
    "    'age': [18.5, 21.2, 22.5, 22, 23]})\n",
    "df['name_code_is_alphanumeric']=list(map(lambda x:x.isalnum(),df['name_code']))\n",
    "print(df)"
   ]
  },
  {
   "cell_type": "code",
   "execution_count": 10,
   "id": "9bb18e1a",
   "metadata": {},
   "outputs": [
    {
     "name": "stdout",
     "output_type": "stream",
     "text": [
      "      name_code date_of_birth    age  isAlpha\n",
      "0       Company     12/05/2002  18.5     True\n",
      "1  Company a001     16/02/1999  21.2    False\n",
      "2   Company 123     25/09/1998  22.5    False\n",
      "3          1234     12/02/2022  22.0    False\n",
      "4    Company 12     15/09/1997  23.0    False\n"
     ]
    }
   ],
   "source": [
    "#10-check whether alphabetic values present in a given column of a DataFrame\n",
    "df=pd.DataFrame({\n",
    "    'name_code': ['Company','Company a001','Company 123', '1234', 'Company 12'],\n",
    "    'date_of_birth ': ['12/05/2002','16/02/1999','25/09/1998','12/02/2022','15/09/1997'],\n",
    "    'age': [18.5, 21.2, 22.5, 22, 23]})\n",
    "\n",
    "df['isAlpha']=list(map(lambda x:x.isalpha(),df['name_code']))\n",
    "print(df)"
   ]
  },
  {
   "cell_type": "code",
   "execution_count": 14,
   "id": "fc9fbd05",
   "metadata": {},
   "outputs": [
    {
     "name": "stdout",
     "output_type": "stream",
     "text": [
      "      name_code date_of_birth    age  isNum\n",
      "0       Company     12/05/2002  18.5  False\n",
      "1  Company a001     16/02/1999  21.2  False\n",
      "2   Company 123     25/09/1998  22.5  False\n",
      "3          1234     12/02/2022  22.0   True\n",
      "4    Company 12     15/09/1997  23.0  False\n"
     ]
    }
   ],
   "source": [
    "#11- check whether only numeric values present in a given column of a DataFrame\n",
    "import pandas as pd\n",
    "df=pd.DataFrame({\n",
    "    'name_code': ['Company','Company a001','Company 123', '1234', 'Company 12'],\n",
    "    'date_of_birth ': ['12/05/2002','16/02/1999','25/09/1998','12/02/2022','15/09/1997'],\n",
    "    'age': [18.5, 21.2, 22.5, 22, 23]})\n",
    "\n",
    "df['isNum']=list(map(lambda x:x.isdigit(),df['name_code']))\n",
    "print(df)"
   ]
  },
  {
   "cell_type": "code",
   "execution_count": 19,
   "id": "81a427d2",
   "metadata": {},
   "outputs": [
    {
     "name": "stdout",
     "output_type": "stream",
     "text": [
      "    name_code date_of_birth    age  lowerCase\n",
      "0     Company     12/05/2002  18.5      False\n",
      "1     COMPANY     16/02/1999  21.2      False\n",
      "2  ompany 123     25/09/1998  22.5       True\n",
      "3         NIL     12/02/2022  22.0      False\n",
      "4      ompany     15/09/1997  23.0       True\n",
      "\n",
      "    name_code date_of_birth    age  lowerCase  upprCase\n",
      "0     Company     12/05/2002  18.5      False     False\n",
      "1     COMPANY     16/02/1999  21.2      False      True\n",
      "2  ompany 123     25/09/1998  22.5       True     False\n",
      "3         NIL     12/02/2022  22.0      False      True\n",
      "4      ompany     15/09/1997  23.0       True     False\n"
     ]
    }
   ],
   "source": [
    "#12-check whether only lower case or upper case is present in a given column of a DataFrame\n",
    "import pandas as pd\n",
    "df=pd.DataFrame({\n",
    "    'name_code': ['Company','COMPANY','ompany 123', 'NIL', 'ompany'],\n",
    "    'date_of_birth ': ['12/05/2002','16/02/1999','25/09/1998','12/02/2022','15/09/1997'],\n",
    "    'age': [18.5, 21.2, 22.5, 22, 23]})\n",
    "\n",
    "df['lowerCase']=list(map(lambda x:x.islower(),df['name_code']))\n",
    "print(df)\n",
    "\n",
    "print()\n",
    "\n",
    "df['upprCase']=list(map(lambda x:x.isupper(),df['name_code']))\n",
    "print(df)"
   ]
  },
  {
   "cell_type": "code",
   "execution_count": 22,
   "id": "16bb9736",
   "metadata": {},
   "outputs": [
    {
     "name": "stdout",
     "output_type": "stream",
     "text": [
      "    name_code date_of_birth    age  comp_title\n",
      "0     Company     12/05/2002  18.5        True\n",
      "1     COMPANY     16/02/1999  21.2       False\n",
      "2  ompany 123     25/09/1998  22.5       False\n",
      "3           N     12/02/2022  22.0        True\n",
      "4      ompany     15/09/1997  23.0       False\n"
     ]
    }
   ],
   "source": [
    "#13- check whether only proper case or title case is present in a given column of a DataFrame. \n",
    "import pandas as pd\n",
    "df=pd.DataFrame({\n",
    "    'name_code': ['Company','COMPANY','ompany 123', 'N', 'ompany'],\n",
    "    'date_of_birth ': ['12/05/2002','16/02/1999','25/09/1998','12/02/2022','15/09/1997'],\n",
    "    'age': [18.5, 21.2, 22.5, 22, 23]})\n",
    "\n",
    "df['comp_title']=list(map(lambda x:x.istitle(),df['name_code']))\n",
    "print(df)"
   ]
  },
  {
   "cell_type": "code",
   "execution_count": 25,
   "id": "07b3fa31",
   "metadata": {},
   "outputs": [
    {
     "name": "stdout",
     "output_type": "stream",
     "text": [
      "    name_code date_of_birth    age  isSpace\n",
      "0     Company     12/05/2002  18.5    False\n",
      "1    COMP ANY     16/02/1999  21.2    False\n",
      "2  ompany 123     25/09/1998  22.5    False\n",
      "3                 12/02/2022  22.0     True\n",
      "4      ompany     15/09/1997  23.0    False\n"
     ]
    }
   ],
   "source": [
    "#14-check whether only space is present in a given column of a DataFrame\n",
    "import pandas as pd\n",
    "df=pd.DataFrame({\n",
    "    'name_code': ['Company','COMP ANY','ompany 123', ' ', 'ompany'],\n",
    "    'date_of_birth ': ['12/05/2002','16/02/1999','25/09/1998','12/02/2022','15/09/1997'],\n",
    "    'age': [18.5, 21.2, 22.5, 22, 23]})\n",
    "\n",
    "df['isSpace']=list(map(lambda x:x.isspace(),df['name_code']))\n",
    "print(df)"
   ]
  },
  {
   "cell_type": "code",
   "execution_count": 27,
   "id": "d24bb974",
   "metadata": {},
   "outputs": [
    {
     "name": "stdout",
     "output_type": "stream",
     "text": [
      "    name_code date_of_birth    age  lenNameCode\n",
      "0     Company     12/05/2002  18.5            7\n",
      "1    COMP ANY     16/02/1999  21.2            8\n",
      "2  ompany 123     25/09/1998  22.5           10\n",
      "3                 12/02/2022  22.0            1\n",
      "4      ompany     15/09/1997  23.0            6\n"
     ]
    }
   ],
   "source": [
    "#15-to get the length of the string present of a given column in a DataFrame\n",
    "import pandas as pd\n",
    "df=pd.DataFrame({\n",
    "    'name_code': ['Company','COMP ANY','ompany 123', ' ', 'ompany'],\n",
    "    'date_of_birth ': ['12/05/2002','16/02/1999','25/09/1998','12/02/2022','15/09/1997'],\n",
    "    'age': [18.5, 21.2, 22.5, 22, 23]})\n",
    "\n",
    "df['lenNameCode']=df['name_code'].apply(len)\n",
    "print(df)"
   ]
  },
  {
   "cell_type": "code",
   "execution_count": 29,
   "id": "ea75da8f",
   "metadata": {},
   "outputs": [
    {
     "name": "stdout",
     "output_type": "stream",
     "text": [
      "    name_code date_of_birth    age  intLen\n",
      "0     Company     12/05/2002  18.5       4\n",
      "1    COMP ANY     16/02/1999  21.2       4\n",
      "2  ompany 123     25/09/1998  22.5       4\n",
      "3                 12/02/2022  22.0       4\n",
      "4      ompany     15/09/1997  23.0       4\n"
     ]
    }
   ],
   "source": [
    "#16- get the length of the integer of a given column in a DataFrame\n",
    "import pandas as pd\n",
    "df=pd.DataFrame({\n",
    "    'name_code': ['Company','COMP ANY','ompany 123', ' ', 'ompany'],\n",
    "    'date_of_birth ': ['12/05/2002','16/02/1999','25/09/1998','12/02/2022','15/09/1997'],\n",
    "    'age': [18.5, 21.2, 22.5, 22, 23]})\n",
    "\n",
    "df['intLen']=df['age'].map(str).apply(len)\n",
    "print(df)"
   ]
  },
  {
   "cell_type": "code",
   "execution_count": 32,
   "id": "5bca5147",
   "metadata": {},
   "outputs": [
    {
     "name": "stdout",
     "output_type": "stream",
     "text": [
      "  name_code date_of_birth    age  cCheck\n",
      "0      Abcd     12/05/2002  18.5   False\n",
      "1      EFGF     16/02/1999  21.2   False\n",
      "2   zefsalf     25/09/1998  22.5    True\n",
      "3   sdfslew     12/02/2022  22.0   False\n",
      "4   zekfsdf     15/09/1997  23.0    True\n"
     ]
    }
   ],
   "source": [
    "#17-check if a specified column starts with a specified string in a DataFrame.\n",
    "import pandas as pd\n",
    "\n",
    "df=pd.DataFrame({\n",
    "    'name_code': ['Abcd','EFGF', 'zefsalf', 'sdfslew', 'zekfsdf'],\n",
    "    'date_of_birth ': ['12/05/2002','16/02/1999','25/09/1998','12/02/2022','15/09/1997'],\n",
    "    'age': [18.5, 21.2, 22.5, 22, 23]})\n",
    "\n",
    "df['cCheck']=list(map(lambda x:x.startswith('ze'),df['name_code']))\n",
    "print(df)"
   ]
  },
  {
   "cell_type": "code",
   "execution_count": 34,
   "id": "d574e599",
   "metadata": {},
   "outputs": [
    {
     "name": "stdout",
     "output_type": "stream",
     "text": [
      "  name_code date_of_birth    age caseSwap\n",
      "0      Abcd     12/05/2002  18.5     aBCD\n",
      "1      EFGF     16/02/1999  21.2     efgf\n",
      "2   zefsalf     25/09/1998  22.5  ZEFSALF\n",
      "3   sdfslew     12/02/2022  22.0  SDFSLEW\n",
      "4   zekfsdf     15/09/1997  23.0  ZEKFSDF\n"
     ]
    }
   ],
   "source": [
    "#18-swap the cases of a specified character column in a given DataFrame.\n",
    "import pandas as pd\n",
    "df=pd.DataFrame({\n",
    "    'name_code': ['Abcd','EFGF', 'zefsalf', 'sdfslew', 'zekfsdf'],\n",
    "    'date_of_birth ': ['12/05/2002','16/02/1999','25/09/1998','12/02/2022','15/09/1997'],\n",
    "    'age': [18.5, 21.2, 22.5, 22, 23]})\n",
    "\n",
    "df['caseSwap']=list(map(lambda x:x.swapcase(),df['name_code']))\n",
    "print(df)"
   ]
  },
  {
   "cell_type": "code",
   "execution_count": 39,
   "id": "6491609a",
   "metadata": {},
   "outputs": [
    {
     "name": "stdout",
     "output_type": "stream",
     "text": [
      "  name_code date_of_birth    age caseLower\n",
      "0      Abcd     12/05/2002  18.5      abcd\n",
      "1      EFGF     16/02/1999  21.2      efgf\n",
      "2   zefsalf     25/09/1998  22.5   zefsalf\n",
      "3   sdfslew     12/02/2022  22.0   sdfslew\n",
      "4   zekfsdf     15/09/1997  23.0   zekfsdf\n",
      "\n",
      "   name_code date_of_birth    age caseLower caseUpper\n",
      "0      Abcd     12/05/2002  18.5      abcd      ABCD\n",
      "1      EFGF     16/02/1999  21.2      efgf      EFGF\n",
      "2   zefsalf     25/09/1998  22.5   zefsalf   ZEFSALF\n",
      "3   sdfslew     12/02/2022  22.0   sdfslew   SDFSLEW\n",
      "4   zekfsdf     15/09/1997  23.0   zekfsdf   ZEKFSDF\n"
     ]
    }
   ],
   "source": [
    "#19-convert a specified character column in upper/lower cases in a given DataFrame\n",
    "import pandas as pd\n",
    "df=pd.DataFrame({\n",
    "    'name_code': ['Abcd','EFGF', 'zefsalf', 'sdfslew', 'zekfsdf'],\n",
    "    'date_of_birth ': ['12/05/2002','16/02/1999','25/09/1998','12/02/2022','15/09/1997'],\n",
    "    'age': [18.5, 21.2, 22.5, 22, 23]})\n",
    "\n",
    "df['caseLower']=list(map(lambda x:x.lower(),df['name_code']))\n",
    "print(df)\n",
    "\n",
    "df['caseUpper']=list(map(lambda x:x.upper(),df['name_code']))\n",
    "print(\"\\n\",df)"
   ]
  },
  {
   "cell_type": "code",
   "execution_count": 40,
   "id": "aec70a8b",
   "metadata": {},
   "outputs": [
    {
     "name": "stdout",
     "output_type": "stream",
     "text": [
      "  name_code date_of_birth    age  toTitle\n",
      "0      Abcd     12/05/2002  18.5     Abcd\n",
      "1      EFGF     16/02/1999  21.2     Efgf\n",
      "2   zefsalf     25/09/1998  22.5  Zefsalf\n",
      "3   sdfslew     12/02/2022  22.0  Sdfslew\n",
      "4   zekfsdf     15/09/1997  23.0  Zekfsdf\n"
     ]
    }
   ],
   "source": [
    "#20-convert a specified character column in title case in a given DataFrame\n",
    "import pandas as pd\n",
    "df=pd.DataFrame({\n",
    "    'name_code': ['Abcd','EFGF', 'zefsalf', 'sdfslew', 'zekfsdf'],\n",
    "    'date_of_birth ': ['12/05/2002','16/02/1999','25/09/1998','12/02/2022','15/09/1997'],\n",
    "    'age': [18.5, 21.2, 22.5, 22, 23]})\n",
    "\n",
    "df['toTitle']=list(map(lambda x:x.title(),df['name_code']))\n",
    "print(df)"
   ]
  },
  {
   "cell_type": "code",
   "execution_count": 42,
   "id": "09382ad5",
   "metadata": {},
   "outputs": [
    {
     "name": "stdout",
     "output_type": "stream",
     "text": [
      "  name_code date_of_birth    age\n",
      "0         C     12/05/2002  18.5\n",
      "1         B     16/02/1999  21.2\n",
      "2         C     25/09/1998  22.5\n",
      "3         D     12/02/2022  22.0\n",
      "4         C     15/09/1997  23.0\n"
     ]
    }
   ],
   "source": [
    "#21-replace arbitrary values with other values in a given DataFrame\n",
    "import pandas as pd\n",
    "df=pd.DataFrame({\n",
    "    'name_code': ['A','B', 'C', 'D', 'A'],\n",
    "    'date_of_birth ': ['12/05/2002','16/02/1999','25/09/1998','12/02/2022','15/09/1997'],\n",
    "    'age': [18.5, 21.2, 22.5, 22, 23]})\n",
    "\n",
    "df=df.replace(\"A\",\"C\")\n",
    "print(df)"
   ]
  },
  {
   "cell_type": "code",
   "execution_count": 44,
   "id": "803d463f",
   "metadata": {},
   "outputs": [
    {
     "name": "stdout",
     "output_type": "stream",
     "text": [
      "  name_code date_of_birth    age\n",
      "0         X     12/05/2002  18.5\n",
      "1         B     16/02/1999  21.2\n",
      "2         C     25/09/1998  22.5\n",
      "3         Y     12/02/2022  22.0\n",
      "4         X     15/09/1997  23.0\n"
     ]
    }
   ],
   "source": [
    "#22-replace more than one value with other values in a given DataFrame.\n",
    "import pandas as pd\n",
    "df=pd.DataFrame({\n",
    "    'name_code': ['A','B', 'C', 'D', 'A'],\n",
    "    'date_of_birth ': ['12/05/2002','16/02/1999','25/09/1998','12/02/2022','15/09/1997'],\n",
    "    'age': [18.5, 21.2, 22.5, 22, 23]})\n",
    "\n",
    "df=df.replace([\"A\",\"D\"],[\"X\",\"Y\"])\n",
    "print(df)"
   ]
  },
  {
   "cell_type": "code",
   "execution_count": 48,
   "id": "eaa20c62",
   "metadata": {},
   "outputs": [
    {
     "name": "stdout",
     "output_type": "stream",
     "text": [
      "            name_code date_of_birth    age                   name_email  \\\n",
      "0     Alberto  Franco     12/05/2002  18.5  Alberto Franco af@gmail.com   \n",
      "1    Gino Ann Mcneill     16/02/1999  21.2    Gino Mcneill gm@yahoo.com   \n",
      "2        Ryan  Parkes     25/09/1998  22.5        Ryan Parkes rp@abc.io   \n",
      "3  Eesha Artur Hinton     12/02/2022  22.0                 Eesha Hinton   \n",
      "4       Syed  Wharton     15/09/1997  23.0   Gino Mcneill gm@github.com   \n",
      "\n",
      "     first middle     last  \n",
      "0  Alberto          Franco  \n",
      "1     Gino    Ann  Mcneill  \n",
      "2     Ryan          Parkes  \n",
      "3    Eesha  Artur   Hinton  \n",
      "4     Syed         Wharton  \n"
     ]
    }
   ],
   "source": [
    "#23-split a string of a column of a given DataFrame into multiple columns\n",
    "import pandas as pd\n",
    "df=pd.DataFrame({\n",
    "    'name_code': ['Alberto  Franco','Gino Ann Mcneill','Ryan  Parkes', 'Eesha Artur Hinton', 'Syed  Wharton'],\n",
    "    'date_of_birth ': ['12/05/2002','16/02/1999','25/09/1998','12/02/2022','15/09/1997'],\n",
    "    'age': [18.5, 21.2, 22.5, 22, 23],'name_email': ['Alberto Franco af@gmail.com','Gino Mcneill gm@yahoo.com','Ryan Parkes rp@abc.io', 'Eesha Hinton', 'Gino Mcneill gm@github.com']\n",
    "    })\n",
    "\n",
    "df[['first','middle','last']]=df['name_code'].str.split(\" \",expand=True)\n",
    "print(df)"
   ]
  },
  {
   "cell_type": "code",
   "execution_count": 53,
   "id": "bdeb97a4",
   "metadata": {},
   "outputs": [
    {
     "name": "stdout",
     "output_type": "stream",
     "text": [
      "            name_code date_of_birth    age                   name_email  \\\n",
      "0     Alberto  Franco     12/05/2002  18.5  Alberto Franco af@gmail.com   \n",
      "1    Gino Ann Mcneill     16/02/1999  21.2    Gino Mcneill gm@yahoo.com   \n",
      "2        Ryan  Parkes     25/09/1998  22.5        Ryan Parkes rp@abc.io   \n",
      "3  Eesha Artur Hinton     12/02/2022  22.0                 Eesha Hinton   \n",
      "4       Syed  Wharton     15/09/1997  23.0   Gino Mcneill gm@github.com   \n",
      "\n",
      "       email_add  \n",
      "0   af@gmail.com  \n",
      "1   gm@yahoo.com  \n",
      "2      rp@abc.io  \n",
      "3                 \n",
      "4  gm@github.com  \n"
     ]
    }
   ],
   "source": [
    "#24- extract email from a specified column of string type of a given DataFrame\n",
    "import pandas as pd\n",
    "import re as re\n",
    "df=pd.DataFrame({\n",
    "    'name_code': ['Alberto  Franco','Gino Ann Mcneill','Ryan  Parkes', 'Eesha Artur Hinton', 'Syed  Wharton'],\n",
    "    'date_of_birth ': ['12/05/2002','16/02/1999','25/09/1998','12/02/2022','15/09/1997'],\n",
    "    'age': [18.5, 21.2, 22.5, 22, 23],'name_email': ['Alberto Franco af@gmail.com','Gino Mcneill gm@yahoo.com','Ryan Parkes rp@abc.io', 'Eesha Hinton', 'Gino Mcneill gm@github.com']\n",
    "    })\n",
    "\n",
    "def find_email(text):\n",
    "    email = re.findall(r'[\\w\\.-]+@[\\w\\.-]+',str(text))\n",
    "    return \",\".join(email)\n",
    "\n",
    "df['email_add']=df['name_email'].apply(lambda x:find_email(x))\n",
    "print(df)"
   ]
  },
  {
   "cell_type": "code",
   "execution_count": 57,
   "id": "481f5efb",
   "metadata": {},
   "outputs": [
    {
     "name": "stdout",
     "output_type": "stream",
     "text": [
      "                                  tweets   hashWord\n",
      "0                    #Obama says goodbye      Obama\n",
      "1                     Retweets for #cash       cash\n",
      "2  A political endorsement in #Indonesia  Indonesia\n",
      "3                 1 dog = many #retweets   retweets\n",
      "4                     Just a simple #egg        egg\n"
     ]
    }
   ],
   "source": [
    "#25- extract hash attached word from twitter text from the specified column of a given DataFrame\n",
    "import pandas as pd\n",
    "import re as re\n",
    "\n",
    "df = pd.DataFrame({\n",
    "    'tweets': ['#Obama says goodbye','Retweets for #cash','A political endorsement in #Indonesia', '1 dog = many #retweets', 'Just a simple #egg']\n",
    "    })\n",
    "\n",
    "def findHash(txt):\n",
    "    hword=re.findall(r'(?<=#)\\w+',txt)\n",
    "    return \" \".join(hword)\n",
    "\n",
    "df['hashWord']=df['tweets'].apply(lambda x:findHash(x))\n",
    "print(df)\n",
    "                     "
   ]
  },
  {
   "cell_type": "code",
   "execution_count": 60,
   "id": "7c964a06",
   "metadata": {},
   "outputs": [
    {
     "name": "stdout",
     "output_type": "stream",
     "text": [
      "                                  tweets     atWord\n",
      "0                    @Obama says goodbye      Obama\n",
      "1                     Retweets for @cash       cash\n",
      "2  A political endorsement in @Indonesia  Indonesia\n",
      "3                 1 dog = many #retweets           \n",
      "4                     Just a simple #egg           \n"
     ]
    }
   ],
   "source": [
    "#26- extract word mention someone in tweets using @ from the specified column of a given DataFrame\n",
    "import pandas as pd\n",
    "import re as re\n",
    "\n",
    "df = pd.DataFrame({\n",
    "    'tweets': ['@Obama says goodbye','Retweets for @cash','A political endorsement in @Indonesia', '1 dog = many #retweets', 'Just a simple #egg']\n",
    "    })\n",
    "\n",
    "def findAt(txt):\n",
    "    atWord=re.findall(r'(?<=@)\\w+',txt)\n",
    "    return ' '.join(atWord)\n",
    "\n",
    "df['atWord']=df['tweets'].apply(lambda x:findAt(x))\n",
    "print(df)"
   ]
  },
  {
   "cell_type": "code",
   "execution_count": 61,
   "id": "5b8a9da1",
   "metadata": {},
   "outputs": [
    {
     "name": "stdout",
     "output_type": "stream",
     "text": [
      "  company_code                   address   num\n",
      "0        c0001          7277 Surrey Ave.  7277\n",
      "1        c0002        920 N. Bishop Ave.   920\n",
      "2        c0003      9910 Golden Star St.  9910\n",
      "3        c0003             25 Dunbar St.    25\n",
      "4        c0004  17 West Livingston Court    17\n"
     ]
    }
   ],
   "source": [
    "#27- extract only number from the specified column of a given DataFrame.\n",
    "import pandas as pd\n",
    "import re as re\n",
    "df = pd.DataFrame({\n",
    "    'company_code': ['c0001','c0002','c0003', 'c0003', 'c0004'],\n",
    "    'address': ['7277 Surrey Ave.','920 N. Bishop Ave.','9910 Golden Star St.', '25 Dunbar St.', '17 West Livingston Court']\n",
    "    })\n",
    "\n",
    "def find_number(txt):\n",
    "    num=re.findall(r'[0-9]+',txt)\n",
    "    return ' '.join(num)\n",
    "\n",
    "df['num']=df['address'].apply(lambda x:find_number(x) )\n",
    "print(df)"
   ]
  },
  {
   "cell_type": "code",
   "execution_count": 66,
   "id": "7c22d1c1",
   "metadata": {},
   "outputs": [
    {
     "name": "stdout",
     "output_type": "stream",
     "text": [
      "  company_code               company_phone_no      number\n",
      "0        c0001  Company1-Phone no. 4695168357  4695168357\n",
      "1        c0002  Company2-Phone no. 8088729013  8088729013\n",
      "2        c0003  Company3-Phone no. 6204658086  6204658086\n",
      "3        c0003  Company4-Phone no. 5159530096  5159530096\n",
      "4        c0004  Company5-Phone no. 9037952371  9037952371\n"
     ]
    }
   ],
   "source": [
    "#28- extract only phone number from the specified column of a given DataFrame.\n",
    "import pandas as pd\n",
    "import re as re\n",
    "\n",
    "df = pd.DataFrame({\n",
    "    'company_code': ['c0001','c0002','c0003', 'c0003', 'c0004'],\n",
    "    'company_phone_no': ['Company1-Phone no. 4695168357','Company2-Phone no. 8088729013','Company3-Phone no. 6204658086', 'Company4-Phone no. 5159530096', 'Company5-Phone no. 9037952371']\n",
    "    })\n",
    "\n",
    "def findPhone(txt):\n",
    "    phNo=re.findall(r'\\b\\d{10}\\b',txt)\n",
    "    return ' '.join(phNo)\n",
    "\n",
    "df['number']=df['company_phone_no'].apply(lambda x:findPhone(x) )\n",
    "print(df)"
   ]
  },
  {
   "cell_type": "code",
   "execution_count": 68,
   "id": "edd92b59",
   "metadata": {},
   "outputs": [
    {
     "name": "stdout",
     "output_type": "stream",
     "text": [
      "  company_code       year year_range\n",
      "0        c0001  year 1800     [1800]\n",
      "1        c0002  year 1700         []\n",
      "2        c0003  year 2300         []\n",
      "3        c0003  year 1900     [1900]\n",
      "4        c0004  year 2200     [2200]\n"
     ]
    }
   ],
   "source": [
    "#29- extract year between 1800 to 2200 from the specified column of a given DataFrame.\n",
    "import pandas as pd\n",
    "import re as re\n",
    "\n",
    "df = pd.DataFrame({\n",
    "    'company_code': ['c0001','c0002','c0003', 'c0003', 'c0004'],\n",
    "    'year': ['year 1800','year 1700','year 2300', 'year 1900', 'year 2200']\n",
    "    })\n",
    "def find_year(txt):\n",
    "    result = re.findall(r\"\\b(18[0-9]{2}|19[0-8][0-9]|199[0-9]|2[01][0-9]{2}|2200)\\b\",txt)\n",
    "    return result\n",
    "df['year_range']=df['year'].apply(lambda x:find_year(x))\n",
    "print(df)"
   ]
  },
  {
   "cell_type": "code",
   "execution_count": 69,
   "id": "29173175",
   "metadata": {},
   "outputs": [
    {
     "name": "stdout",
     "output_type": "stream",
     "text": [
      "  company_code       year nonAlpha\n",
      "0       c0001#  year 1800      [#]\n",
      "1      c00@0^2  year 1700   [@, ^]\n",
      "2       $c0003  year 2300      [$]\n",
      "3        c0003  year 1900       []\n",
      "4       &c0004  year 2200      [&]\n"
     ]
    }
   ],
   "source": [
    "#30-extract only non alphanumeric characters from the specified column of a given DataFrame\n",
    "import pandas as pd\n",
    "import re as re\n",
    "\n",
    "df = pd.DataFrame({\n",
    "    'company_code': ['c0001#','c00@0^2','$c0003', 'c0003', '&c0004'],\n",
    "    'year': ['year 1800','year 1700','year 2300', 'year 1900', 'year 2200']\n",
    "    })\n",
    "\n",
    "def findNonAlpha(txt):\n",
    "    result=re.findall(\"[^A-Za-z0-9]\",txt)\n",
    "    return result\n",
    "\n",
    "df['nonAlpha']=df['company_code'].apply(lambda x:findNonAlpha(x))\n",
    "print(df)\n"
   ]
  },
  {
   "cell_type": "code",
   "execution_count": 70,
   "id": "f19bd85d",
   "metadata": {},
   "outputs": [
    {
     "name": "stdout",
     "output_type": "stream",
     "text": [
      "\n",
      "Extracting punctuation:\n",
      "  company_code       year nonalpha\n",
      "0       c0001.  year 1800      [.]\n",
      "1       c000,2  year 1700      [,]\n",
      "2        c0003  year 2300       []\n",
      "3       c0003#  year 1900      [#]\n",
      "4       c0004,  year 2200      [,]\n"
     ]
    }
   ],
   "source": [
    "#31- extract only punctuations from the specified column of a given DataFrame\n",
    "import pandas as pd\n",
    "import re as re\n",
    "\n",
    "df = pd.DataFrame({\n",
    "    'company_code': ['c0001.','c000,2','c0003', 'c0003#', 'c0004,'],\n",
    "    'year': ['year 1800','year 1700','year 2300', 'year 1900', 'year 2200']\n",
    "    })\n",
    "\n",
    "def find_punctuations(text):\n",
    "    result = re.findall(r'[!\"\\$%&\\'()*+,\\-.\\/:;=#@?\\[\\\\\\]^_`{|}~]*', text)\n",
    "    string=\"\".join(result)\n",
    "    return list(string)\n",
    "df['nonalpha']=df['company_code'].apply(lambda x: find_punctuations(x))\n",
    "print(\"\\nExtracting punctuation:\")\n",
    "print(df)"
   ]
  },
  {
   "cell_type": "code",
   "execution_count": 74,
   "id": "8fea25d9",
   "metadata": {},
   "outputs": [
    {
     "name": "stdout",
     "output_type": "stream",
     "text": [
      "  text_code                    text_lang                 normal_txt\n",
      "0    t0001.      She livedd a long life.     She lived a long life.\n",
      "1     t0002     How oold is your father?    How old is your father?\n",
      "2     t0003        What is tthe problem?       What is the problem?\n",
      "3     t0004  TThhis desk is used by Tom.  This desk is used by Tom.\n"
     ]
    }
   ],
   "source": [
    "#32-remove repetitive characters from the specified column of a given DataFrame\n",
    "import pandas as pd\n",
    "import re as re\n",
    "\n",
    "df = pd.DataFrame({\n",
    "    'text_code': ['t0001.','t0002','t0003', 't0004'],\n",
    "    'text_lang': ['She livedd a long life.', 'How oold is your father?', 'What is tthe problem?','TThhis desk is used by Tom.']\n",
    "    })\n",
    "\n",
    "def rep_char(str1):\n",
    "    tchr=str1.group(0)\n",
    "    if len(tchr)>1:\n",
    "        return tchr[0:1]\n",
    "    \n",
    "def uniq_char(rep,sent_txt):\n",
    "    convert=re.sub(r'(\\w)\\1+',rep,sent_txt)\n",
    "    return convert\n",
    "\n",
    "df['normal_txt']=df['text_lang'].apply(lambda x:uniq_char(rep_char,x))\n",
    "print(df)\n"
   ]
  },
  {
   "cell_type": "code",
   "execution_count": 83,
   "id": "229bf8e5",
   "metadata": {},
   "outputs": [
    {
     "name": "stdout",
     "output_type": "stream",
     "text": [
      "\n",
      "Number greater than 940:\n",
      "  company_code                     address  num_great\n",
      "0        c0001        7277 Surrey Ave.1111  7277 1111\n",
      "1        c0002          920 N. Bishop Ave.           \n",
      "2        c0003        9910 Golden Star St.        991\n",
      "3        c0003             1025 Dunbar St.       1025\n",
      "4        c0004  1700 West Livingston Court       1700\n"
     ]
    }
   ],
   "source": [
    "#33-extract numbers greater than 940 from the specified column of a given DataFrame.\n",
    "import pandas as pd\n",
    "import re as re\n",
    "\n",
    "df = pd.DataFrame({\n",
    "    'company_code': ['c0001','c0002','c0003', 'c0003', 'c0004'],\n",
    "    'address': ['7277 Surrey Ave.1111','920 N. Bishop Ave.','9910 Golden Star St.', '1025 Dunbar St.', '1700 West Livingston Court']\n",
    "    })\n",
    "\n",
    "def test_num_gre(txt):\n",
    "    result=re.findall(r'95[5-9]|9[6-9]\\d|[1-9]\\d{3,}',txt)\n",
    "    return ' '.join(result)\n",
    "\n",
    "df['num_great']=df['address'].apply(lambda x : test_num_gre(x))\n",
    "print(\"\\nNumber greater than 940:\")\n",
    "print(df)\n",
    "                      "
   ]
  },
  {
   "cell_type": "code",
   "execution_count": 3,
   "id": "da71c74b",
   "metadata": {},
   "outputs": [
    {
     "name": "stdout",
     "output_type": "stream",
     "text": [
      "  company_code                   address num_less\n",
      "0        c0001          72 Surrey Ave.11    72 11\n",
      "1        c0002         92 N. Bishop Ave.       92\n",
      "2        c0003      9910 Golden Star St.         \n",
      "3        c0003            102 Dunbar St.         \n",
      "4        c0004  17 West Livingston Court       17\n"
     ]
    }
   ],
   "source": [
    "#34-extract numbers less than 100 from the specified column of a given DataFrame.\n",
    "import pandas as pd\n",
    "import re as re\n",
    "\n",
    "df=pd.DataFrame({\n",
    "    'company_code': ['c0001','c0002','c0003', 'c0003', 'c0004'],\n",
    "    'address': ['72 Surrey Ave.11','92 N. Bishop Ave.','9910 Golden Star St.', '102 Dunbar St.', '17 West Livingston Court']\n",
    "    })\n",
    "\n",
    "def test_num_less(n):\n",
    "    nums=[]\n",
    "    \n",
    "    for i in n.split():\n",
    "        result=re.findall(r'\\b(0*(?:[1-9][0-9]?|100))\\b',i)\n",
    "        nums.append(result)\n",
    "        all_num=[\",\".join(x)for x in nums if x!=[]]\n",
    "    return ' '.join(all_num)\n",
    "\n",
    "df['num_less']=df['address'].apply(lambda x:test_num_less(x))\n",
    "print(df)"
   ]
  },
  {
   "cell_type": "code",
   "execution_count": 5,
   "id": "04c8a0a7",
   "metadata": {},
   "outputs": [
    {
     "name": "stdout",
     "output_type": "stream",
     "text": [
      "  company_code                   address        check_two_words\n",
      "0        c0001          9910 Surrey Ave.       9910 Surrey Ave.\n",
      "1        c0002         92 N. Bishop Ave.                       \n",
      "2        c0003     9910 Golden Star Ave.  9910 Golden Star Ave.\n",
      "3        c0003            102 Dunbar St.                       \n",
      "4        c0004  17 West Livingston Court                       \n"
     ]
    }
   ],
   "source": [
    "#35- check whether two given words present in a specified column of a given DataFrame\n",
    "import pandas as pd\n",
    "import re as re\n",
    "\n",
    "df = pd.DataFrame({\n",
    "    'company_code': ['c0001','c0002','c0003', 'c0003', 'c0004'],\n",
    "    'address': ['9910 Surrey Ave.','92 N. Bishop Ave.','9910 Golden Star Ave.', '102 Dunbar St.', '17 West Livingston Court']\n",
    "    })\n",
    "\n",
    "def test_and_cond(txt):\n",
    "    result=re.findall(r'(?=.*Ave.)(?=.*9910).*',txt)\n",
    "    return \" \".join(result)\n",
    "df['check_two_words']=df['address'].apply(lambda x:test_and_cond(x))\n",
    "print(df)"
   ]
  },
  {
   "cell_type": "code",
   "execution_count": 6,
   "id": "86702731",
   "metadata": {},
   "outputs": [
    {
     "name": "stdout",
     "output_type": "stream",
     "text": [
      "Original DataFrame:\n",
      "  company_code date_of_sale  sale_amount\n",
      "0         Abcd   12/05/2002      12348.5\n",
      "1         EFGF   16/02/1999     233331.2\n",
      "2      zefsalf   05/09/1998         22.5\n",
      "3      sdfslew   12/02/2022    2566552.0\n",
      "4      zekfsdf   15/09/1997         23.0\n",
      "\n",
      "Valid dates (format: mm-dd-yyyy):\n",
      "  company_code date_of_sale  sale_amount       valid_dates\n",
      "0         Abcd   12/05/2002      12348.5  [(12, 05, 2002)]\n",
      "1         EFGF   16/02/1999     233331.2                []\n",
      "2      zefsalf   05/09/1998         22.5  [(05, 09, 1998)]\n",
      "3      sdfslew   12/02/2022    2566552.0  [(12, 02, 2022)]\n",
      "4      zekfsdf   15/09/1997         23.0                []\n"
     ]
    }
   ],
   "source": [
    "#36-extract date (format: mm-dd-yyyy) from a given column of a given DataFrame\n",
    "import pandas as pd\n",
    "import re as re\n",
    "\n",
    "df = pd.DataFrame({\n",
    "    'company_code': ['Abcd','EFGF', 'zefsalf', 'sdfslew', 'zekfsdf'],\n",
    "    'date_of_sale': ['12/05/2002','16/02/1999','05/09/1998','12/02/2022','15/09/1997'],\n",
    "    'sale_amount': [12348.5, 233331.2, 22.5, 2566552.0, 23.0]\n",
    "})\n",
    "print(\"Original DataFrame:\")\n",
    "print(df)\n",
    "def find_valid_dates(dt):\n",
    "    #format: mm-dd-yyyy\n",
    "    result = re.findall(r'\\b(1[0-2]|0[1-9])/(3[01]|[12][0-9]|0[1-9])/([0-9]{4})\\b',dt)\n",
    "    return result\n",
    "df['valid_dates']=df['date_of_sale'].apply(lambda dt : find_valid_dates(dt))\n",
    "print(\"\\nValid dates (format: mm-dd-yyyy):\")\n",
    "print(df)"
   ]
  },
  {
   "cell_type": "code",
   "execution_count": 7,
   "id": "ab1ee5ef",
   "metadata": {},
   "outputs": [
    {
     "name": "stdout",
     "output_type": "stream",
     "text": [
      "Original DataFrame:\n",
      "  company_code date_of_sale                   address\n",
      "0         Abcd   12/05/2002        9910 Surrey Avenue\n",
      "1         EFGF   16/02/1999       92 N. Bishop Avenue\n",
      "2      zefsalf   05/09/1998   9910 Golden Star Avenue\n",
      "3      sdfslew   12/02/2022            102 Dunbar St.\n",
      "4      zekfsdf   15/09/1997  17 West Livingston Court\n",
      "\n",
      "Text with the word 'Avenue':\n",
      "  company_code date_of_sale                   address  \\\n",
      "0         Abcd   12/05/2002        9910 Surrey Avenue   \n",
      "1         EFGF   16/02/1999       92 N. Bishop Avenue   \n",
      "2      zefsalf   05/09/1998   9910 Golden Star Avenue   \n",
      "3      sdfslew   12/02/2022            102 Dunbar St.   \n",
      "4      zekfsdf   15/09/1997  17 West Livingston Court   \n",
      "\n",
      "             filter_sentence  \n",
      "0       [9910 Surrey Avenue]  \n",
      "1           [ Bishop Avenue]  \n",
      "2  [9910 Golden Star Avenue]  \n",
      "3                         []  \n",
      "4                         []  \n"
     ]
    }
   ],
   "source": [
    "#37-extract only words from a given column of a given DataFrame\n",
    "import pandas as pd\n",
    "import re as re\n",
    "df = pd.DataFrame({\n",
    "    'company_code': ['Abcd','EFGF', 'zefsalf', 'sdfslew', 'zekfsdf'],\n",
    "    'date_of_sale': ['12/05/2002','16/02/1999','05/09/1998','12/02/2022','15/09/1997'],\n",
    "    'address': ['9910 Surrey Avenue','92 N. Bishop Avenue','9910 Golden Star Avenue', '102 Dunbar St.', '17 West Livingston Court']\n",
    "})\n",
    "print(\"Original DataFrame:\")\n",
    "print(df)\n",
    "def pick_only_key_sentence(str1, word):\n",
    "    result = re.findall(r'([^.]*'+word+'[^.]*)', str1)\n",
    "    return result\n",
    "df['filter_sentence']=df['address'].apply(lambda x : pick_only_key_sentence(x,'Avenue'))\n",
    "print(\"\\nText with the word 'Avenue':\")\n",
    "print(df)"
   ]
  },
  {
   "cell_type": "code",
   "execution_count": 8,
   "id": "b2736f86",
   "metadata": {},
   "outputs": [
    {
     "name": "stdout",
     "output_type": "stream",
     "text": [
      "Original DataFrame:\n",
      "  company_code date_of_sale                      address\n",
      "0         Abcd   12/05/2002    9910 Surrey <b>Avenue</b>\n",
      "1         EFGF   16/02/1999          92 N. Bishop Avenue\n",
      "2      zefsalf   05/09/1998  9910 <br>Golden Star Avenue\n",
      "3      sdfslew   12/02/2022        102 Dunbar <i></i>St.\n",
      "4      zekfsdf   15/09/1997     17 West Livingston Court\n",
      "\n",
      "Sentences without tags':\n",
      "  company_code date_of_sale                      address  \\\n",
      "0         Abcd   12/05/2002    9910 Surrey <b>Avenue</b>   \n",
      "1         EFGF   16/02/1999          92 N. Bishop Avenue   \n",
      "2      zefsalf   05/09/1998  9910 <br>Golden Star Avenue   \n",
      "3      sdfslew   12/02/2022        102 Dunbar <i></i>St.   \n",
      "4      zekfsdf   15/09/1997     17 West Livingston Court   \n",
      "\n",
      "              with_out_tags  \n",
      "0        9910 Surrey Avenue  \n",
      "1       92 N. Bishop Avenue  \n",
      "2   9910 Golden Star Avenue  \n",
      "3            102 Dunbar St.  \n",
      "4  17 West Livingston Court  \n"
     ]
    }
   ],
   "source": [
    "#38-extract the sentences where a specific word is present in a given column of a given DataFrame.\n",
    "import pandas as pd\n",
    "import re as re\n",
    "df = pd.DataFrame({\n",
    "    'company_code': ['Abcd','EFGF', 'zefsalf', 'sdfslew', 'zekfsdf'],\n",
    "    'date_of_sale': ['12/05/2002','16/02/1999','05/09/1998','12/02/2022','15/09/1997'],\n",
    "    'address': ['9910 Surrey <b>Avenue</b>','92 N. Bishop Avenue','9910 <br>Golden Star Avenue', '102 Dunbar <i></i>St.', '17 West Livingston Court']\n",
    "})\n",
    "print(\"Original DataFrame:\")\n",
    "print(df)\n",
    "def remove_tags(string):\n",
    "    result = re.sub('<.*?>','',string)\n",
    "    return result\n",
    "df['with_out_tags']=df['address'].apply(lambda cw : remove_tags(cw))\n",
    "print(\"\\nSentences without tags':\")\n",
    "print(df)"
   ]
  },
  {
   "cell_type": "code",
   "execution_count": 9,
   "id": "50f21f8c",
   "metadata": {},
   "outputs": [
    {
     "name": "stdout",
     "output_type": "stream",
     "text": [
      "Original DataFrame:\n",
      "  company_code date_of_sale                                 address\n",
      "0         Abcd   12/05/2002  9910 Surrey Avenue\\n9910 Surrey Avenue\n",
      "1         EFGF   16/02/1999                     92 N. Bishop Avenue\n",
      "2      zefsalf   05/09/1998                 9910 Golden Star Avenue\n",
      "3      sdfslew   12/02/2022          102 Dunbar St.\\n102 Dunbar St.\n",
      "4      zekfsdf   15/09/1997                17 West Livingston Court\n",
      "\n",
      "Extract unique sentences :\n",
      "  company_code date_of_sale                                 address  \\\n",
      "0         Abcd   12/05/2002  9910 Surrey Avenue\\n9910 Surrey Avenue   \n",
      "1         EFGF   16/02/1999                     92 N. Bishop Avenue   \n",
      "2      zefsalf   05/09/1998                 9910 Golden Star Avenue   \n",
      "3      sdfslew   12/02/2022          102 Dunbar St.\\n102 Dunbar St.   \n",
      "4      zekfsdf   15/09/1997                17 West Livingston Court   \n",
      "\n",
      "              unique_sentence  \n",
      "0        [9910 Surrey Avenue]  \n",
      "1       [92 N. Bishop Avenue]  \n",
      "2   [9910 Golden Star Avenue]  \n",
      "3            [102 Dunbar St.]  \n",
      "4  [17 West Livingston Court]  \n"
     ]
    }
   ],
   "source": [
    "#39- extract the unique sentences from a given column of a given DataFrame\n",
    "import pandas as pd\n",
    "import re as re\n",
    "df = pd.DataFrame({\n",
    "    'company_code': ['Abcd','EFGF', 'zefsalf', 'sdfslew', 'zekfsdf'],\n",
    "    'date_of_sale': ['12/05/2002','16/02/1999','05/09/1998','12/02/2022','15/09/1997'],\n",
    "    'address': ['9910 Surrey Avenue\\n9910 Surrey Avenue','92 N. Bishop Avenue','9910 Golden Star Avenue', '102 Dunbar St.\\n102 Dunbar St.', '17 West Livingston Court']\n",
    "})\n",
    "\n",
    "print(\"Original DataFrame:\")\n",
    "print(df)\n",
    "\n",
    "def find_unique_sentence(str1):\n",
    "    result = re.findall(r'(?sm)(^[^\\r\\n]+$)(?!.*^\\1$)', str1)\n",
    "    return result\n",
    "\n",
    "df['unique_sentence']=df['address'].apply(lambda st : find_unique_sentence(st))\n",
    "print(\"\\nExtract unique sentences :\")\n",
    "print(df)"
   ]
  },
  {
   "cell_type": "code",
   "execution_count": 10,
   "id": "a1d6870b",
   "metadata": {},
   "outputs": [
    {
     "name": "stdout",
     "output_type": "stream",
     "text": [
      "Original DataFrame:\n",
      "  company_code date_of_sale                   address\n",
      "0         Abcd   12/05/2002        9910 Surrey Avenue\n",
      "1         EFGF   16/02/1999       92 N. Bishop Avenue\n",
      "2      zefsalf   05/09/1998   9910 Golden Star Avenue\n",
      "3      sdfslew   12/02/2022            102 Dunbar St.\n",
      "4      zekfsdf   15/09/1997  17 West Livingston Court\n",
      "\n",
      "Extract words starting with capital words from the sentences':\n",
      "  company_code date_of_sale                   address  \\\n",
      "0         Abcd   12/05/2002        9910 Surrey Avenue   \n",
      "1         EFGF   16/02/1999       92 N. Bishop Avenue   \n",
      "2      zefsalf   05/09/1998   9910 Golden Star Avenue   \n",
      "3      sdfslew   12/02/2022            102 Dunbar St.   \n",
      "4      zekfsdf   15/09/1997  17 West Livingston Court   \n",
      "\n",
      "                caps_word_in  \n",
      "0           [Surrey, Avenue]  \n",
      "1           [Bishop, Avenue]  \n",
      "2     [Golden, Star, Avenue]  \n",
      "3               [Dunbar, St]  \n",
      "4  [West, Livingston, Court]  \n"
     ]
    }
   ],
   "source": [
    "#40-extract words starting with capital words from a given column of a given DataFrame.\n",
    "import pandas as pd\n",
    "import re as re\n",
    "df = pd.DataFrame({\n",
    "    'company_code': ['Abcd','EFGF', 'zefsalf', 'sdfslew', 'zekfsdf'],\n",
    "    'date_of_sale': ['12/05/2002','16/02/1999','05/09/1998','12/02/2022','15/09/1997'],\n",
    "    'address': ['9910 Surrey Avenue','92 N. Bishop Avenue','9910 Golden Star Avenue', '102 Dunbar St.', '17 West Livingston Court']\n",
    "})\n",
    "\n",
    "print(\"Original DataFrame:\")\n",
    "print(df)\n",
    "\n",
    "def find_capital_word(str1):\n",
    "    result = re.findall(r'\\b[A-Z]\\w+', str1)\n",
    "    return result\n",
    "\n",
    "df['caps_word_in']=df['address'].apply(lambda cw : find_capital_word(cw))\n",
    "print(\"\\nExtract words starting with capital words from the sentences':\")\n",
    "print(df)"
   ]
  },
  {
   "cell_type": "code",
   "execution_count": 12,
   "id": "b882bea7",
   "metadata": {},
   "outputs": [
    {
     "name": "stdout",
     "output_type": "stream",
     "text": [
      "Original DataFrame:\n",
      "  company_code date_of_sale                      address\n",
      "0         Abcd   12/05/2002    9910 Surrey <b>Avenue</b>\n",
      "1         EFGF   16/02/1999          92 N. Bishop Avenue\n",
      "2      zefsalf   05/09/1998  9910 <br>Golden Star Avenue\n",
      "3      sdfslew   12/02/2022        102 Dunbar <i></i>St.\n",
      "4      zekfsdf   15/09/1997     17 West Livingston Court\n",
      "\n",
      "Sentences without tags':\n",
      "  company_code date_of_sale                      address  \\\n",
      "0         Abcd   12/05/2002    9910 Surrey <b>Avenue</b>   \n",
      "1         EFGF   16/02/1999          92 N. Bishop Avenue   \n",
      "2      zefsalf   05/09/1998  9910 <br>Golden Star Avenue   \n",
      "3      sdfslew   12/02/2022        102 Dunbar <i></i>St.   \n",
      "4      zekfsdf   15/09/1997     17 West Livingston Court   \n",
      "\n",
      "              with_out_tags  \n",
      "0        9910 Surrey Avenue  \n",
      "1       92 N. Bishop Avenue  \n",
      "2   9910 Golden Star Avenue  \n",
      "3            102 Dunbar St.  \n",
      "4  17 West Livingston Court  \n"
     ]
    }
   ],
   "source": [
    "#41- program to remove the html tags within the specified column of a given DataFrame\n",
    "import pandas as pd\n",
    "import re as re\n",
    "df = pd.DataFrame({\n",
    "    'company_code': ['Abcd','EFGF', 'zefsalf', 'sdfslew', 'zekfsdf'],\n",
    "    'date_of_sale': ['12/05/2002','16/02/1999','05/09/1998','12/02/2022','15/09/1997'],\n",
    "    'address': ['9910 Surrey <b>Avenue</b>','92 N. Bishop Avenue','9910 <br>Golden Star Avenue', '102 Dunbar <i></i>St.', '17 West Livingston Court']\n",
    "})\n",
    "print(\"Original DataFrame:\")\n",
    "print(df)\n",
    "def remove_tags(string):\n",
    "    result = re.sub('<.*?>','',string)\n",
    "    return result\n",
    "df['with_out_tags']=df['address'].apply(lambda cw : remove_tags(cw))\n",
    "print(\"\\nSentences without tags':\")\n",
    "print(df)"
   ]
  },
  {
   "cell_type": "code",
   "execution_count": null,
   "id": "dda2f0a6",
   "metadata": {},
   "outputs": [],
   "source": []
  }
 ],
 "metadata": {
  "kernelspec": {
   "display_name": "Python 3 (ipykernel)",
   "language": "python",
   "name": "python3"
  },
  "language_info": {
   "codemirror_mode": {
    "name": "ipython",
    "version": 3
   },
   "file_extension": ".py",
   "mimetype": "text/x-python",
   "name": "python",
   "nbconvert_exporter": "python",
   "pygments_lexer": "ipython3",
   "version": "3.9.7"
  }
 },
 "nbformat": 4,
 "nbformat_minor": 5
}
