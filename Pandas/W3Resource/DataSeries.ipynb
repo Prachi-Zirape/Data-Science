{
 "cells": [
  {
   "cell_type": "code",
   "execution_count": 3,
   "id": "114ffd60",
   "metadata": {},
   "outputs": [
    {
     "name": "stdout",
     "output_type": "stream",
     "text": [
      "0    1\n",
      "1    7\n",
      "2    2\n",
      "dtype: int64\n",
      "1\n"
     ]
    }
   ],
   "source": [
    "#Date 10/8/22\n",
    "#series Demo\n",
    "import pandas as pd\n",
    "a=[1,7,2]\n",
    "\n",
    "myvar=pd.Series(a)\n",
    "print(myvar)\n",
    "\n",
    "print(myvar[0])"
   ]
  },
  {
   "cell_type": "code",
   "execution_count": 6,
   "id": "20389840",
   "metadata": {},
   "outputs": [
    {
     "name": "stdout",
     "output_type": "stream",
     "text": [
      "x    1\n",
      "y    7\n",
      "z    2\n",
      "dtype: int64\n",
      "7\n"
     ]
    }
   ],
   "source": [
    "#create labels\n",
    "import pandas as pd\n",
    "a=[1,7,2]\n",
    "\n",
    "myvar=pd.Series(a,index=[\"x\",\"y\",\"z\"])\n",
    "print(myvar)\n",
    "\n",
    "print(myvar[\"y\"])"
   ]
  },
  {
   "cell_type": "code",
   "execution_count": 9,
   "id": "a6aaed51",
   "metadata": {},
   "outputs": [
    {
     "name": "stdout",
     "output_type": "stream",
     "text": [
      "day1    420\n",
      "day2    310\n",
      "day3    490\n",
      "dtype: int64\n"
     ]
    }
   ],
   "source": [
    "#Key/Value Objects as Series\n",
    "import pandas as pd\n",
    "calories={\"day1\":420, \"day2\":310,\"day3\":490}\n",
    "\n",
    "myvar=pd.Series(calories)\n",
    "print(myvar)"
   ]
  },
  {
   "cell_type": "code",
   "execution_count": 10,
   "id": "8112901b",
   "metadata": {},
   "outputs": [
    {
     "name": "stdout",
     "output_type": "stream",
     "text": [
      "day1    290\n",
      "day2    560\n",
      "dtype: int64\n"
     ]
    }
   ],
   "source": [
    "#selecting number of attributes\n",
    "import pandas as pd\n",
    "calories={\"day1\":290, \"day2\":560, \"day3\":789}\n",
    "\n",
    "myvar=pd.Series(calories, index=[\"day1\",\"day2\"])\n",
    "print(myvar)"
   ]
  },
  {
   "cell_type": "code",
   "execution_count": 12,
   "id": "8f2445bf",
   "metadata": {},
   "outputs": [
    {
     "name": "stdout",
     "output_type": "stream",
     "text": [
      "    cars  passing\n",
      "0    BMW        3\n",
      "1  Volvo        7\n",
      "2   Ford        2\n"
     ]
    }
   ],
   "source": [
    "import pandas as pd\n",
    "myDataset={\n",
    "    'cars':['BMW','Volvo','Ford'],\n",
    "    'passing':[3,7,2]\n",
    "}\n",
    "\n",
    "myvar=pd.DataFrame(myDataset)\n",
    "print(myvar)"
   ]
  },
  {
   "cell_type": "code",
   "execution_count": 13,
   "id": "3bca8063",
   "metadata": {},
   "outputs": [
    {
     "name": "stdout",
     "output_type": "stream",
     "text": [
      "1.3.4\n"
     ]
    }
   ],
   "source": [
    "import pandas as pd\n",
    "print(pd.__version__)"
   ]
  },
  {
   "cell_type": "code",
   "execution_count": 14,
   "id": "3ef87d1e",
   "metadata": {},
   "outputs": [
    {
     "name": "stdout",
     "output_type": "stream",
     "text": [
      "0    23\n",
      "1    45\n",
      "2    12\n",
      "3    67\n",
      "dtype: int64\n"
     ]
    }
   ],
   "source": [
    "#W3Resource Begins\n",
    "#1- create and display a one-dimensional array-like object\n",
    "import pandas as pd\n",
    "arr=[23,45,12,67]\n",
    "\n",
    "pd_obj=pd.Series(arr)\n",
    "print(pd_obj)"
   ]
  },
  {
   "cell_type": "code",
   "execution_count": 15,
   "id": "4d9e1787",
   "metadata": {},
   "outputs": [
    {
     "name": "stdout",
     "output_type": "stream",
     "text": [
      "[23, 45, 12, 67] <class 'list'>\n"
     ]
    }
   ],
   "source": [
    "#2-convert a Panda module Series to Python list and it's type\n",
    "import pandas as pd\n",
    "arr=[23,45,12,67]\n",
    "ser=pd.Series(arr)\n",
    "\n",
    "lst=list(ser)\n",
    "print(lst,type(lst))"
   ]
  },
  {
   "cell_type": "code",
   "execution_count": 17,
   "id": "42b5e3e2",
   "metadata": {},
   "outputs": [
    {
     "name": "stdout",
     "output_type": "stream",
     "text": [
      "0    23\n",
      "1    45\n",
      "2    12\n",
      "3    67\n",
      "dtype: int64 <class 'pandas.core.series.Series'>\n",
      "[23, 45, 12, 67] <class 'list'>\n"
     ]
    }
   ],
   "source": [
    "#tolist method\n",
    "import pandas as pd\n",
    "ds=pd.Series([23,45,12,67])\n",
    "print(ds,type(ds))\n",
    "\n",
    "#conver to list\n",
    "lst=ds.tolist()\n",
    "print(lst, type(lst))"
   ]
  },
  {
   "cell_type": "code",
   "execution_count": 21,
   "id": "c900934c",
   "metadata": {},
   "outputs": [
    {
     "name": "stdout",
     "output_type": "stream",
     "text": [
      "[11, 22, 33, 44] [9, 18, 27, 36] [10, 40, 90, 160] [10.0, 10.0, 10.0, 10.0]\n"
     ]
    }
   ],
   "source": [
    "#3-add, subtract, multiple and divide two Pandas Series\n",
    "import pandas as pd\n",
    "arr1=[10,20,30,40]\n",
    "arr2=[1,2,3,4]\n",
    "add=[]\n",
    "sub=[]\n",
    "mul=[]\n",
    "div=[]\n",
    "#convert them to series\n",
    "ser1=pd.Series(arr1)\n",
    "ser2=pd.Series(arr2)\n",
    "\n",
    "#addition\n",
    "for i in range(len(ser1)):\n",
    "    add.append(ser1[i]+ser2[i])\n",
    "    sub.append(ser1[i]-ser2[i])\n",
    "    mul.append(ser1[i]*ser2[i])\n",
    "    div.append(ser1[i]/ser2[i])\n",
    "    \n",
    "print(add,sub,mul,div)\n"
   ]
  },
  {
   "cell_type": "code",
   "execution_count": 22,
   "id": "5e42cc24",
   "metadata": {},
   "outputs": [
    {
     "name": "stdout",
     "output_type": "stream",
     "text": [
      "add two series= 0     3\n",
      "1     7\n",
      "2    11\n",
      "3    15\n",
      "4    19\n",
      "dtype: int64\n",
      "subtract two series= 0    1\n",
      "1    1\n",
      "2    1\n",
      "3    1\n",
      "4    1\n",
      "dtype: int64\n",
      "multiply two series= 0     2\n",
      "1    12\n",
      "2    30\n",
      "3    56\n",
      "4    90\n",
      "dtype: int64\n",
      "divide two series= 0    2.000000\n",
      "1    1.333333\n",
      "2    1.200000\n",
      "3    1.142857\n",
      "4    1.111111\n",
      "dtype: float64\n"
     ]
    }
   ],
   "source": [
    "import pandas as pd\n",
    "ds1=pd.Series([2, 4, 6, 8, 10])\n",
    "ds2=pd.Series([1, 3, 5, 7, 9])\n",
    "\n",
    "ds=ds1+ds2\n",
    "print(\"add two series=\",ds)\n",
    "\n",
    "ds=ds1-ds2\n",
    "print(\"subtract two series=\",ds)\n",
    "\n",
    "ds=ds1*ds2\n",
    "print(\"multiply two series=\",ds)\n",
    "\n",
    "ds=ds1/ds2\n",
    "print(\"divide two series=\",ds)"
   ]
  },
  {
   "cell_type": "code",
   "execution_count": 24,
   "id": "13c985f6",
   "metadata": {},
   "outputs": [
    {
     "name": "stdout",
     "output_type": "stream",
     "text": [
      "0     2\n",
      "1     4\n",
      "2     6\n",
      "3     8\n",
      "4    10\n",
      "dtype: int64 0     1\n",
      "1     3\n",
      "2     5\n",
      "3     7\n",
      "4    10\n",
      "dtype: int64\n",
      "0    False\n",
      "1    False\n",
      "2    False\n",
      "3    False\n",
      "4     True\n",
      "dtype: bool\n",
      "0     True\n",
      "1     True\n",
      "2     True\n",
      "3     True\n",
      "4    False\n",
      "dtype: bool\n",
      "0    False\n",
      "1    False\n",
      "2    False\n",
      "3    False\n",
      "4    False\n",
      "dtype: bool\n"
     ]
    }
   ],
   "source": [
    "#4-compare the elements of the two Pandas Series\n",
    "import pandas as pd\n",
    "ser1=pd.Series([2, 4, 6, 8, 10])\n",
    "ser2=pd.Series([1, 3, 5, 7, 10])\n",
    "\n",
    "print(ser1, ser2)\n",
    "print(ser1==ser2)\n",
    "print(ser1>ser2)\n",
    "print(ser1<ser2)"
   ]
  },
  {
   "cell_type": "code",
   "execution_count": 26,
   "id": "6e4aa86e",
   "metadata": {},
   "outputs": [
    {
     "name": "stdout",
     "output_type": "stream",
     "text": [
      "a    100\n",
      "b    200\n",
      "c    300\n",
      "d    400\n",
      "e    800\n",
      "dtype: int64 <class 'pandas.core.series.Series'>\n"
     ]
    }
   ],
   "source": [
    "#5-convert a dictionary to a Pandas series\n",
    "import pandas as pd\n",
    "\n",
    "dct={'a': 100, 'b': 200, 'c': 300, 'd': 400, 'e': 800}\n",
    "\n",
    "ser=pd.Series(dct)\n",
    "print(ser, type(ser))"
   ]
  },
  {
   "cell_type": "code",
   "execution_count": 29,
   "id": "4501fbbc",
   "metadata": {},
   "outputs": [
    {
     "name": "stdout",
     "output_type": "stream",
     "text": [
      "[10 20 30 40 50] <class 'numpy.ndarray'>\n",
      "0    10\n",
      "1    20\n",
      "2    30\n",
      "3    40\n",
      "4    50\n",
      "dtype: int32 <class 'pandas.core.series.Series'>\n"
     ]
    }
   ],
   "source": [
    "#6-convert a NumPy array to a Pandas series.\n",
    "import pandas as pd\n",
    "import numpy as np\n",
    "\n",
    "arr=np.array([10,20, 30, 40, 50])\n",
    "\n",
    "ser=pd.Series(arr)\n",
    "\n",
    "print(arr,type(arr))\n",
    "print(ser,type(ser))"
   ]
  },
  {
   "cell_type": "code",
   "execution_count": 33,
   "id": "c1a31115",
   "metadata": {},
   "outputs": [
    {
     "name": "stdout",
     "output_type": "stream",
     "text": [
      "0    100\n",
      "1    200\n",
      "2    300\n",
      "3    400\n",
      "4    500\n",
      "dtype: object\n",
      "chaning data to numberic\n",
      "0    100\n",
      "1    200\n",
      "2    300\n",
      "3    400\n",
      "4    500\n",
      "dtype: int64\n"
     ]
    }
   ],
   "source": [
    "#7-change the data type of given a column or a Series\n",
    "import pandas as pd\n",
    "\n",
    "ser=pd.Series(['100','200','300','400','500'])\n",
    "\n",
    "print(ser)\n",
    "\n",
    "print(\"chaning data to numeric\")\n",
    "num_ser=pd.to_numeric(ser,errors='coerce')\n",
    "print(num_ser)"
   ]
  },
  {
   "cell_type": "code",
   "execution_count": 37,
   "id": "f01e6673",
   "metadata": {},
   "outputs": [
    {
     "name": "stdout",
     "output_type": "stream",
     "text": [
      "   col1  col2  col3\n",
      "0     1     4     7\n",
      "1     2     5     5\n",
      "2     3     6     8\n",
      "3     4     8     1\n",
      "4     5     9     2\n",
      "5     6     2    12\n",
      "0    1\n",
      "1    2\n",
      "2    3\n",
      "3    4\n",
      "4    5\n",
      "5    6\n",
      "Name: col1, dtype: int64\n"
     ]
    }
   ],
   "source": [
    "#8-convert the first column of a DataFrame as a Series\n",
    "import pandas as pd\n",
    "arr={'col1':[1,2,3,4,5,6],\n",
    "    'col2':[4,5,6,8,9,2],\n",
    "    'col3':[7,5,8,1,2,12]}\n",
    "\n",
    "df=pd.DataFrame(arr)\n",
    "print(df)\n",
    "\n",
    "ser=pd.Series(df['col1'])\n",
    "print(ser)"
   ]
  },
  {
   "cell_type": "code",
   "execution_count": 41,
   "id": "a91b5b3c",
   "metadata": {},
   "outputs": [
    {
     "name": "stdout",
     "output_type": "stream",
     "text": [
      "   col1  col2  col3\n",
      "0     1     4     7\n",
      "1     2     5     5\n",
      "2     3     6     8\n",
      "3     4     8     1\n",
      "4     5     9     2\n",
      "5     6     2    12\n",
      "0    1\n",
      "1    2\n",
      "2    3\n",
      "3    4\n",
      "4    5\n",
      "5    6\n",
      "Name: col1, dtype: int64 <class 'pandas.core.series.Series'>\n"
     ]
    }
   ],
   "source": [
    "#slicing with .ix\n",
    "import pandas as pd\n",
    "arr={\"col1\":[1,2,3,4,5,6],\n",
    "    'col2':[4,5,6,8,9,2],\n",
    "    'col3':[7,5,8,1,2,12]}\n",
    "\n",
    "df=pd.DataFrame(data=arr)\n",
    "print(df)\n",
    "\n",
    "s1=df.iloc[:,0]\n",
    "print(s1, type(s1))"
   ]
  },
  {
   "cell_type": "code",
   "execution_count": 45,
   "id": "5f132e83",
   "metadata": {},
   "outputs": [
    {
     "name": "stdout",
     "output_type": "stream",
     "text": [
      "0    100200python300.12400\n",
      "dtype: object <class 'pandas.core.series.Series'>\n",
      "['100200python300.12400'] <class 'numpy.ndarray'>\n"
     ]
    }
   ],
   "source": [
    "#9-program to convert a given Series to an array.\n",
    "import pandas as pd\n",
    "import numpy as np\n",
    "\n",
    "arr=['100' '200' 'python' '300.12' '400']\n",
    "ser=pd.Series(arr)\n",
    "print(ser,type(ser))\n",
    "\n",
    "np_arr=np.array(ser)\n",
    "print(np_arr, type(np_arr))"
   ]
  },
  {
   "cell_type": "code",
   "execution_count": 58,
   "id": "5c385872",
   "metadata": {},
   "outputs": [
    {
     "name": "stdout",
     "output_type": "stream",
     "text": [
      "0    [Red, Green, White]\n",
      "1           [Red, Black]\n",
      "2               [Yellow]\n",
      "dtype: object\n",
      "0       Red\n",
      "1     Green\n",
      "2     White\n",
      "3       Red\n",
      "4     Black\n",
      "5    Yellow\n",
      "dtype: object\n"
     ]
    }
   ],
   "source": [
    "#10-convert Series of lists to one Series.\n",
    "#apply method\n",
    "import pandas as pd\n",
    "ser=pd.Series([['Red', 'Green', 'White'],['Red', 'Black'],['Yellow']])\n",
    "print(ser)\n",
    "\n",
    "s=s.apply(pd.Series).stack().reset_index(drop=True)\n",
    "print(s)"
   ]
  },
  {
   "cell_type": "code",
   "execution_count": 56,
   "id": "73f8cb88",
   "metadata": {},
   "outputs": [
    {
     "name": "stdout",
     "output_type": "stream",
     "text": [
      "0       Red\n",
      "1     Green\n",
      "2     White\n",
      "3       Red\n",
      "4     Black\n",
      "5    Yellow\n",
      "dtype: object\n"
     ]
    }
   ],
   "source": [
    "#concat method\n",
    "import pandas as pd\n",
    "data=[['Red', 'Green', 'White'],['Red', 'Black'],['Yellow']]\n",
    "s=pd.Series(data)\n",
    "ls=[]\n",
    "for i in s:\n",
    "    ls.append(pd.Series(i))\n",
    "s1=pd.concat([*ls]).reset_index(drop=True)\n",
    "print(s1)\n"
   ]
  },
  {
   "cell_type": "code",
   "execution_count": 64,
   "id": "4bdff4db",
   "metadata": {},
   "outputs": [
    {
     "name": "stdout",
     "output_type": "stream",
     "text": [
      "0       200\n",
      "1    Python\n",
      "2    300.12\n",
      "3       400\n",
      "dtype: object\n",
      "0       200\n",
      "2    300.12\n",
      "3       400\n",
      "1    Python\n",
      "dtype: object\n"
     ]
    }
   ],
   "source": [
    "#11- sort a given Series\n",
    "import pandas as pd\n",
    "arr=['200','Python','300.12','400']\n",
    "\n",
    "ser=pd.Series(arr)\n",
    "print(ser)\n",
    "\n",
    "print(ser.sort_values())"
   ]
  },
  {
   "cell_type": "code",
   "execution_count": 71,
   "id": "9f368485",
   "metadata": {},
   "outputs": [
    {
     "name": "stdout",
     "output_type": "stream",
     "text": [
      "0       200\n",
      "1    Python\n",
      "2    300.12\n",
      "3       400\n",
      "dtype: object\n",
      "0       200\n",
      "1    Python\n",
      "2    300.12\n",
      "3       400\n",
      "4       500\n",
      "5       php\n",
      "dtype: object\n"
     ]
    }
   ],
   "source": [
    "#12-add some data to an existing Series\n",
    "import pandas as pd\n",
    "\n",
    "arr=['200','Python','300.12','400']\n",
    "ser=pd.Series(arr)\n",
    "print(ser)\n",
    "\n",
    "new_ser=ser.append(pd.Series(['500', 'php']))\n",
    "new_ser=new_ser.reset_index(drop=True)\n",
    "print(new_ser)"
   ]
  },
  {
   "cell_type": "code",
   "execution_count": 9,
   "id": "3b209bba",
   "metadata": {},
   "outputs": [
    {
     "name": "stdout",
     "output_type": "stream",
     "text": [
      "0    1\n",
      "1    2\n",
      "2    3\n",
      "3    4\n",
      "4    5\n",
      "5    6\n",
      "6    7\n",
      "7    8\n",
      "8    9\n",
      "9    0\n",
      "dtype: int64\n",
      "0    1\n",
      "1    2\n",
      "2    3\n",
      "3    4\n",
      "4    5\n",
      "5    0\n",
      "dtype: int64\n"
     ]
    }
   ],
   "source": [
    "#Date-10/09/22\n",
    "#13-create a subset of a given series based on value and condition\n",
    "#condition num<5 wil stay\n",
    "import pandas as pd\n",
    "myarr={'arr':[1,2,3,4,5,6,7,8,9,0]}\n",
    "\n",
    "ser=pd.Series(arr)\n",
    "print(ser)\n",
    "\n",
    "#ser.loc[ser['arr']<=5,'<=5']=True\n",
    "#ser.loc[ser['arr']>5,'<=5']=False\n",
    "n=6\n",
    "new_ser=ser[ser<n]\n",
    "print(new_ser.reset_index(drop=True))"
   ]
  },
  {
   "cell_type": "code",
   "execution_count": 11,
   "id": "cedcbdb5",
   "metadata": {},
   "outputs": [
    {
     "name": "stdout",
     "output_type": "stream",
     "text": [
      "0       200\n",
      "1    Python\n",
      "2    300.12\n",
      "3       400\n",
      "dtype: object\n",
      "0       200\n",
      "1    Python\n",
      "2    300.12\n",
      "3       400\n",
      "0       250\n",
      "1       KLM\n",
      "dtype: object\n",
      "0       200\n",
      "1    Python\n",
      "2    300.12\n",
      "3       400\n",
      "4       250\n",
      "5       KLM\n",
      "dtype: object\n"
     ]
    }
   ],
   "source": [
    "#14-change the order of index of a given series\n",
    "import pandas as pd\n",
    "arr=['200','Python','300.12','400']\n",
    "sub_arr=[250,\"KLM\"]\n",
    "\n",
    "ser=pd.Series(arr)\n",
    "print(ser)\n",
    "\n",
    "new_ser=ser.append(pd.Series(sub_arr))\n",
    "print(new_ser)\n",
    "\n",
    "#reset index\n",
    "print(new_ser.reset_index(drop=True))"
   ]
  },
  {
   "cell_type": "code",
   "execution_count": 13,
   "id": "a57c1983",
   "metadata": {},
   "outputs": [
    {
     "name": "stdout",
     "output_type": "stream",
     "text": [
      "Original Data Series=\n",
      "A    1\n",
      "B    2\n",
      "C    3\n",
      "D    4\n",
      "E    5\n",
      "dtype: int64\n",
      "series with reset index\n",
      "B    2\n",
      "A    1\n",
      "C    3\n",
      "D    4\n",
      "E    5\n",
      "dtype: int64\n"
     ]
    }
   ],
   "source": [
    "#without adding or removing elements\n",
    "import pandas as pd\n",
    "s=pd.Series(data=[1,2,3,4,5],index=['A', 'B', 'C','D','E'])\n",
    "print(\"Original Data Series=\")\n",
    "print(s)\n",
    "\n",
    "s=s.reindex(index=['B','A','C','D','E'])\n",
    "print(\"series with reset index\")\n",
    "print(s)"
   ]
  },
  {
   "cell_type": "code",
   "execution_count": 15,
   "id": "08dd70fa",
   "metadata": {},
   "outputs": [
    {
     "name": "stdout",
     "output_type": "stream",
     "text": [
      "0     5\n",
      "1     9\n",
      "2     8\n",
      "3     5\n",
      "4     7\n",
      "5     8\n",
      "6     1\n",
      "7     2\n",
      "8     3\n",
      "9     4\n",
      "10    5\n",
      "11    6\n",
      "12    7\n",
      "13    8\n",
      "14    9\n",
      "15    5\n",
      "16    3\n",
      "dtype: int64\n",
      "mean= 5.588235294117647\n",
      "standard deviation= 1.5811388300841898\n"
     ]
    }
   ],
   "source": [
    "#15-create the mean and standard deviation of the data of a given Series. \n",
    "import pandas as pd\n",
    "arr=[5, 9, 8, 5, 7, 8, 1, 2, 3, 4, 5, 6, 7, 8, 9, 5, 3]\n",
    "\n",
    "ser=pd.Series(arr)\n",
    "print(ser)\n",
    "\n",
    "print(\"mean=\",ser.mean())\n",
    "print(\"standard deviation=\",s.std())"
   ]
  },
  {
   "cell_type": "code",
   "execution_count": 16,
   "id": "3d8548da",
   "metadata": {},
   "outputs": [
    {
     "name": "stdout",
     "output_type": "stream",
     "text": [
      "0    1\n",
      "1    2\n",
      "2    3\n",
      "3    4\n",
      "4    5\n",
      "dtype: int64\n",
      "0     2\n",
      "1     4\n",
      "2     6\n",
      "3     8\n",
      "4    10\n",
      "dtype: int64\n",
      "0    1\n",
      "2    3\n",
      "4    5\n",
      "dtype: int64\n"
     ]
    }
   ],
   "source": [
    "#16-get the items of a given series not present in another given series\n",
    "import pandas as pd\n",
    "\n",
    "arr1=[1,2,3,4,5]\n",
    "arr2=[2,4,6,8,10]\n",
    "\n",
    "ser1=pd.Series(arr1)\n",
    "ser2=pd.Series(arr2)\n",
    "print(ser1)\n",
    "print(ser2)\n",
    "\n",
    "result=ser1[~ser1.isin(ser2)]\n",
    "print(result)"
   ]
  },
  {
   "cell_type": "code",
   "execution_count": 18,
   "id": "beeeb10c",
   "metadata": {},
   "outputs": [
    {
     "name": "stdout",
     "output_type": "stream",
     "text": [
      "0    1\n",
      "1    2\n",
      "2    3\n",
      "3    4\n",
      "4    5\n",
      "dtype: int64\n",
      "0     2\n",
      "1     4\n",
      "2     6\n",
      "3     8\n",
      "4    10\n",
      "dtype: int64\n",
      "0     NaN\n",
      "2     9.0\n",
      "3     NaN\n",
      "4    15.0\n",
      "dtype: float64\n"
     ]
    }
   ],
   "source": [
    "#17-get the items which are not common of two given series.   ***************NOT CORRECT************\n",
    "import pandas as pd\n",
    "arr1=[1,2,3,4,5]\n",
    "arr2=[2,4,6,8,10]\n",
    "\n",
    "ser1=pd.Series(arr1)\n",
    "ser2=pd.Series(arr2)\n",
    "print(ser1)\n",
    "print(ser2)\n",
    "\n",
    "result= ser1[~ser1.isin(ser2)] + ser2[~ser2.isin(ser1)]\n",
    "print(result)"
   ]
  },
  {
   "cell_type": "code",
   "execution_count": 3,
   "id": "0115aa9d",
   "metadata": {},
   "outputs": [
    {
     "name": "stdout",
     "output_type": "stream",
     "text": [
      "0     1\n",
      "2     3\n",
      "4     5\n",
      "5     6\n",
      "6     8\n",
      "7    10\n",
      "dtype: int64\n"
     ]
    }
   ],
   "source": [
    "import pandas as pd\n",
    "import numpy as np\n",
    "arr1=[1,2,3,4,5]\n",
    "arr2=[2,4,6,8,10]\n",
    "\n",
    "ser1=pd.Series(arr1)\n",
    "ser2=pd.Series(arr2)\n",
    "\n",
    "ser11=pd.Series(np.union1d(ser1,ser2))    #s1  U  s2\n",
    "ser22=pd.Series(np.intersect1d(ser1,ser2)) #s1 ^ s2\n",
    "\n",
    "result=ser11[~ser11.isin(ser22)]\n",
    "print(result)"
   ]
  },
  {
   "cell_type": "code",
   "execution_count": 10,
   "id": "510fda23",
   "metadata": {},
   "outputs": [
    {
     "name": "stdout",
     "output_type": "stream",
     "text": [
      "8.247458\n",
      "8.247458\n",
      "8.247458\n",
      "8.247458\n"
     ]
    }
   ],
   "source": [
    "#18-compute the minimum, 25th percentile, median, 75th, and maximum of a given series\n",
    "import pandas as pd\n",
    "import numpy as np\n",
    "\n",
    "arr=[3.000938,11.370722,14.612143,8.990256,13.925283,12.056875,14.118931,8.247458,5.526727]\n",
    "\n",
    "ser=pd.Series(arr)\n",
    "\n",
    "iq1=np.percentile(ser,25)\n",
    "print(iq1)\n",
    "iq2=np.percentile(ser,50)\n",
    "print(iq1)\n",
    "iq3=np.percentile(ser,q=75)\n",
    "print(iq1)\n",
    "iq4=np.percentile(ser,100)\n",
    "print(iq1)"
   ]
  },
  {
   "cell_type": "code",
   "execution_count": 14,
   "id": "9b96e803",
   "metadata": {},
   "outputs": [
    {
     "name": "stdout",
     "output_type": "stream",
     "text": [
      "Original Series:\n",
      "0     15.326346\n",
      "1     12.861116\n",
      "2      3.818399\n",
      "3      9.966465\n",
      "4     12.485344\n",
      "5      7.119658\n",
      "6     11.062046\n",
      "7     10.434194\n",
      "8     10.017166\n",
      "9      9.301599\n",
      "10    11.732105\n",
      "11    14.812149\n",
      "12     6.139737\n",
      "13    14.113096\n",
      "14    10.914521\n",
      "15    11.780550\n",
      "16     5.453591\n",
      "17    10.540548\n",
      "18    15.938148\n",
      "19     5.680780\n",
      "dtype: float64\n",
      "\n",
      "Minimum, 25th percentile, median, 75th, and maximum of a given series:\n",
      "[ 3.81839883  8.75611381 10.72753402 12.5792869  15.93814801]\n"
     ]
    }
   ],
   "source": [
    "import pandas as pd\n",
    "import numpy as np\n",
    "num_state = np.random.RandomState(10)  #for generating number to distribution\n",
    "num_series = pd.Series(num_state.normal(10, 4, 20))  #normal ditribution\n",
    "print(\"Original Series:\")\n",
    "print(num_series)\n",
    "result = np.percentile(num_series, q=[0, 25, 50, 75, 100])\n",
    "print(\"\\nMinimum, 25th percentile, median, 75th, and maximum of a given series:\")\n",
    "print(result)"
   ]
  },
  {
   "cell_type": "code",
   "execution_count": 29,
   "id": "a9810160",
   "metadata": {},
   "outputs": [
    {
     "name": "stdout",
     "output_type": "stream",
     "text": [
      "Original Series:\n",
      "0     8\n",
      "1     2\n",
      "2     3\n",
      "3     9\n",
      "4     7\n",
      "5     7\n",
      "6     8\n",
      "7     4\n",
      "8     7\n",
      "9     9\n",
      "10    5\n",
      "11    8\n",
      "12    8\n",
      "13    6\n",
      "14    4\n",
      "15    4\n",
      "16    7\n",
      "17    5\n",
      "18    3\n",
      "19    1\n",
      "20    1\n",
      "21    0\n",
      "22    2\n",
      "23    8\n",
      "24    8\n",
      "25    4\n",
      "26    7\n",
      "27    3\n",
      "28    0\n",
      "29    4\n",
      "30    6\n",
      "31    1\n",
      "32    2\n",
      "33    0\n",
      "34    2\n",
      "35    4\n",
      "36    3\n",
      "37    1\n",
      "38    7\n",
      "39    8\n",
      "dtype: object\n",
      "Frequency of each unique value of the said series.\n",
      "8    7\n",
      "7    6\n",
      "4    6\n",
      "2    4\n",
      "3    4\n",
      "1    4\n",
      "0    3\n",
      "9    2\n",
      "5    2\n",
      "6    2\n",
      "dtype: int64\n"
     ]
    }
   ],
   "source": [
    "#19.calculate the frequency counts of each unique value of a given series\n",
    "import pandas as pd\n",
    "import numpy as np\n",
    "num_series=pd.Series(np.take(list('0123546789'),np.random.randint(10,size=40)))\n",
    "\n",
    "print(\"Original Series:\")\n",
    "print(num_series)\n",
    "\n",
    "print(\"Frequency of each unique value of the said series.\")\n",
    "result=num_series.value_counts()\n",
    "print(result)"
   ]
  },
  {
   "cell_type": "code",
   "execution_count": 19,
   "id": "073f0050",
   "metadata": {},
   "outputs": [
    {
     "name": "stdout",
     "output_type": "stream",
     "text": [
      "original series\n",
      "0     4\n",
      "1     2\n",
      "2     2\n",
      "3     4\n",
      "4     2\n",
      "5     1\n",
      "6     3\n",
      "7     1\n",
      "8     1\n",
      "9     4\n",
      "10    4\n",
      "11    3\n",
      "12    4\n",
      "13    3\n",
      "14    3\n",
      "dtype: int32\n",
      "TOp 2 frequencies are:  4    5\n",
      "3    4\n",
      "2    3\n",
      "1    3\n",
      "dtype: int64\n",
      "0         4\n",
      "1     Other\n",
      "2     Other\n",
      "3         4\n",
      "4     Other\n",
      "5     Other\n",
      "6     Other\n",
      "7     Other\n",
      "8     Other\n",
      "9         4\n",
      "10        4\n",
      "11    Other\n",
      "12        4\n",
      "13    Other\n",
      "14    Other\n",
      "dtype: object\n"
     ]
    }
   ],
   "source": [
    "#20-display most frequent value in a given series and replace everything else as 'Other' in the series\n",
    "import pandas as pd\n",
    "import numpy as np\n",
    "np.random.RandomState(100)\n",
    "num_series=pd.Series(np.random.randint(1,5,15))\n",
    "print(\"original series\")\n",
    "print(num_series)\n",
    "print(\"TOp 2 frequencies are: \",num_series.value_counts())\n",
    "result=num_series[~num_series.isin(num_series.value_counts().index[:1])]=\"Other\"\n",
    "print(num_series)"
   ]
  },
  {
   "cell_type": "code",
   "execution_count": 23,
   "id": "8a407ca1",
   "metadata": {},
   "outputs": [
    {
     "name": "stdout",
     "output_type": "stream",
     "text": [
      "Original Series\n",
      "0    9\n",
      "1    9\n",
      "2    9\n",
      "3    4\n",
      "4    8\n",
      "5    3\n",
      "6    5\n",
      "7    7\n",
      "8    6\n",
      "9    6\n",
      "dtype: int32\n",
      "(array([6], dtype=int64),)\n"
     ]
    }
   ],
   "source": [
    "#21-find the positions of numbers that are multiples of 5 of a given series\n",
    "import pandas as pd\n",
    "import numpy as np\n",
    "\n",
    "arr=np.random.randint(1,10,10)\n",
    "ser=pd.Series(arr)\n",
    "\n",
    "print(\"Original Series\")\n",
    "print(ser)\n",
    "\n",
    "result=np.where(ser%5==0)\n",
    "print(result)"
   ]
  },
  {
   "cell_type": "code",
   "execution_count": 27,
   "id": "fc6df7ba",
   "metadata": {},
   "outputs": [
    {
     "name": "stdout",
     "output_type": "stream",
     "text": [
      "0      1\n",
      "1     13\n",
      "2      4\n",
      "3      8\n",
      "4     14\n",
      "5     15\n",
      "6      4\n",
      "7      5\n",
      "8     18\n",
      "9     11\n",
      "10     1\n",
      "11    11\n",
      "12     2\n",
      "13     6\n",
      "14    11\n",
      "15     9\n",
      "16     1\n",
      "17    18\n",
      "18    13\n",
      "19     6\n",
      "dtype: int32\n",
      "0      1\n",
      "2      4\n",
      "6      4\n",
      "11    11\n",
      "dtype: int32\n"
     ]
    }
   ],
   "source": [
    "#22-extract items at given positions of a given series\n",
    "import pandas as pd\n",
    "import numpy as np\n",
    "\n",
    "arr=np.random.randint(1,20,20)\n",
    "ser=pd.Series(arr)\n",
    "element_pos=[0,2,6,11]\n",
    "print(ser)\n",
    "result=ser.take(element_pos)\n",
    "print(result)"
   ]
  },
  {
   "cell_type": "code",
   "execution_count": 30,
   "id": "6cb67274",
   "metadata": {},
   "outputs": [
    {
     "name": "stdout",
     "output_type": "stream",
     "text": [
      "[0, 2, 4, 6]\n"
     ]
    }
   ],
   "source": [
    "#23-get the positions of items of a given series in another given series.\n",
    "import pandas as pd\n",
    "arr1=[1,2,3,4,5,6,7,8,9]\n",
    "arr2=[1,3,5,7]\n",
    "\n",
    "ser1=pd.Series(arr1)\n",
    "ser2=pd.Series(arr2)\n",
    "\n",
    "result=[pd.Index(ser1).get_loc(i)for i in ser2]\n",
    "print(result)"
   ]
  },
  {
   "cell_type": "code",
   "execution_count": 2,
   "id": "abaa84bb",
   "metadata": {},
   "outputs": [
    {
     "name": "stdout",
     "output_type": "stream",
     "text": [
      "0    PythoN\n",
      "1       PhP\n",
      "2        C#\n",
      "3      JavA\n",
      "dtype: object\n"
     ]
    }
   ],
   "source": [
    "#Date-10/10/22\n",
    "#24-convert the first and last character of each word to upper case in each word of a given series.\n",
    "import pandas as pd\n",
    "arr=[\"python\",\"php\",\"c#\",\"java\"]\n",
    "\n",
    "ser=pd.Series(arr)\n",
    "result=ser.map(lambda x:x[0].upper()+x[1:-1]+x[-1].upper())\n",
    "print(result)"
   ]
  },
  {
   "cell_type": "code",
   "execution_count": 5,
   "id": "825fc568",
   "metadata": {},
   "outputs": [
    {
     "name": "stdout",
     "output_type": "stream",
     "text": [
      "0    6\n",
      "1    3\n",
      "2    2\n",
      "3    4\n",
      "dtype: int64\n"
     ]
    }
   ],
   "source": [
    "#25- calculate the number of characters in each word in a given series\n",
    "import pandas as pd\n",
    "arr=[\"python\",\"php\",\"c#\",\"java\"]\n",
    "ser=pd.Series(arr)\n",
    "result=ser.map(lambda x:len(x))\n",
    "print(result)"
   ]
  },
  {
   "cell_type": "code",
   "execution_count": 11,
   "id": "3f1a618f",
   "metadata": {},
   "outputs": [
    {
     "name": "stdout",
     "output_type": "stream",
     "text": [
      "[2, 2, 3, 2, 1, 4]\n"
     ]
    }
   ],
   "source": [
    "#26-compute difference of differences between consecutive numbers of a given series\n",
    "import pandas as pd\n",
    "arr=[1,3,5,8,10,11,15]\n",
    "ser=pd.Series(arr)\n",
    "result=[]\n",
    "\n",
    "for i in range(len(ser)-1):\n",
    "    result.append(ser[i+1]-ser[i])\n",
    "print(result)"
   ]
  },
  {
   "cell_type": "code",
   "execution_count": 12,
   "id": "7baf0486",
   "metadata": {},
   "outputs": [
    {
     "name": "stdout",
     "output_type": "stream",
     "text": [
      "[nan, 2.0, 2.0, 3.0, 2.0, 1.0, 4.0]\n",
      "[nan, nan, 0.0, 1.0, -1.0, -1.0, 3.0]\n"
     ]
    }
   ],
   "source": [
    "import pandas as pd\n",
    "arr=[1,3,5,8,10,11,15]\n",
    "ser=pd.Series(arr)\n",
    "print(ser.diff().tolist())\n",
    "print(ser.diff().diff().tolist())"
   ]
  },
  {
   "cell_type": "code",
   "execution_count": 13,
   "id": "764be70c",
   "metadata": {},
   "outputs": [
    {
     "name": "stdout",
     "output_type": "stream",
     "text": [
      "0         01 Jan 2015\n",
      "1          10-02-2016\n",
      "2            20180307\n",
      "3          2014/05/06\n",
      "4          2016-04-12\n",
      "5    2019-04-06T11:20\n",
      "dtype: object\n",
      "0   2015-01-01 00:00:00\n",
      "1   2016-10-02 00:00:00\n",
      "2   2018-03-07 00:00:00\n",
      "3   2014-05-06 00:00:00\n",
      "4   2016-04-12 00:00:00\n",
      "5   2019-04-06 11:20:00\n",
      "dtype: datetime64[ns]\n"
     ]
    }
   ],
   "source": [
    "#27-convert a series of date strings to a timeseries\n",
    "import pandas as pd\n",
    "arr=['01 Jan 2015','10-02-2016','20180307','2014/05/06','2016-04-12','2019-04-06T11:20']\n",
    "ser=pd.Series(arr)\n",
    "result=pd.to_datetime(ser)\n",
    "print(ser)\n",
    "print(result)"
   ]
  },
  {
   "cell_type": "code",
   "execution_count": 23,
   "id": "2edcd412",
   "metadata": {},
   "outputs": [
    {
     "name": "stdout",
     "output_type": "stream",
     "text": [
      "0         01 Jan 2015\n",
      "1          10-02-2016\n",
      "2            20180307\n",
      "3          2014/05/06\n",
      "4          2016-04-12\n",
      "5    2019-04-06T11:20\n",
      "dtype: object\n",
      "0   2015-01-01 00:00:00\n",
      "1   2016-10-02 00:00:00\n",
      "2   2018-03-07 00:00:00\n",
      "3   2014-05-06 00:00:00\n",
      "4   2016-04-12 00:00:00\n",
      "5   2019-04-06 11:20:00\n",
      "dtype: datetime64[ns]\n",
      "day of month\n",
      "[1, 2, 7, 6, 12, 6]\n",
      "day of the year\n",
      "[1, 276, 66, 126, 103, 96]\n",
      "Week Number\n",
      "[1, 39, 10, 19, 15, 14]\n",
      "day of week\n"
     ]
    },
    {
     "name": "stderr",
     "output_type": "stream",
     "text": [
      "C:\\Users\\przir\\AppData\\Local\\Temp/ipykernel_13892/1307010149.py:14: FutureWarning: Series.dt.weekofyear and Series.dt.week have been deprecated.  Please use Series.dt.isocalendar().week instead.\n",
      "  print(ser.dt.weekofyear.tolist())\n"
     ]
    },
    {
     "ename": "AttributeError",
     "evalue": "'DatetimeProperties' object has no attribute 'weekday_name'",
     "output_type": "error",
     "traceback": [
      "\u001b[1;31m---------------------------------------------------------------------------\u001b[0m",
      "\u001b[1;31mAttributeError\u001b[0m                            Traceback (most recent call last)",
      "\u001b[1;32m~\\AppData\\Local\\Temp/ipykernel_13892/1307010149.py\u001b[0m in \u001b[0;36m<module>\u001b[1;34m\u001b[0m\n\u001b[0;32m     14\u001b[0m \u001b[0mprint\u001b[0m\u001b[1;33m(\u001b[0m\u001b[0mser\u001b[0m\u001b[1;33m.\u001b[0m\u001b[0mdt\u001b[0m\u001b[1;33m.\u001b[0m\u001b[0mweekofyear\u001b[0m\u001b[1;33m.\u001b[0m\u001b[0mtolist\u001b[0m\u001b[1;33m(\u001b[0m\u001b[1;33m)\u001b[0m\u001b[1;33m)\u001b[0m\u001b[1;33m\u001b[0m\u001b[1;33m\u001b[0m\u001b[0m\n\u001b[0;32m     15\u001b[0m \u001b[0mprint\u001b[0m\u001b[1;33m(\u001b[0m\u001b[1;34m\"day of week\"\u001b[0m\u001b[1;33m)\u001b[0m\u001b[1;33m\u001b[0m\u001b[1;33m\u001b[0m\u001b[0m\n\u001b[1;32m---> 16\u001b[1;33m \u001b[0mprint\u001b[0m\u001b[1;33m(\u001b[0m\u001b[0mser\u001b[0m\u001b[1;33m.\u001b[0m\u001b[0mdt\u001b[0m\u001b[1;33m.\u001b[0m\u001b[0mweekday_name\u001b[0m\u001b[1;33m.\u001b[0m\u001b[0mtolist\u001b[0m\u001b[1;33m(\u001b[0m\u001b[1;33m)\u001b[0m\u001b[1;33m)\u001b[0m\u001b[1;33m\u001b[0m\u001b[1;33m\u001b[0m\u001b[0m\n\u001b[0m",
      "\u001b[1;31mAttributeError\u001b[0m: 'DatetimeProperties' object has no attribute 'weekday_name'"
     ]
    }
   ],
   "source": [
    "#28- get the day of month, day of year, week number and day of week from a given series of date strings.\n",
    "import pandas as pd\n",
    "from dateutil.parser import parse\n",
    "arr=['01 Jan 2015','10-02-2016','20180307','2014/05/06','2016-04-12','2019-04-06T11:20']\n",
    "ser=pd.Series(arr)\n",
    "print(ser)\n",
    "ser=ser.map(lambda x:parse(x))\n",
    "print(ser)\n",
    "print(\"day of month\")\n",
    "print(ser.dt.day.tolist())\n",
    "print(\"day of the year\")\n",
    "print(ser.dt.dayofyear.tolist())\n",
    "print(\"Week Number\")\n",
    "print(ser.dt.weekofyear.tolist())\n",
    "print(\"day of week\")\n",
    "print(ser.dt.weekday_name.tolist())"
   ]
  },
  {
   "cell_type": "code",
   "execution_count": 29,
   "id": "d2a8abee",
   "metadata": {},
   "outputs": [
    {
     "name": "stdout",
     "output_type": "stream",
     "text": [
      "0   2015-01-11\n",
      "1   2016-02-11\n",
      "2   2017-03-11\n",
      "3   2018-04-11\n",
      "4   2019-05-11\n",
      "dtype: datetime64[ns]\n"
     ]
    }
   ],
   "source": [
    "#29-convert year-month string to dates adding a specified day of the month\n",
    "import pandas as pd\n",
    "from dateutil.parser import parser\n",
    "\n",
    "arr=['Jan 2015', 'Feb 2016', 'Mar 2017', 'Apr 2018', 'May 2019']\n",
    "ser=pd.Series(arr)\n",
    "result=ser.map(lambda d: parse('11'+d))\n",
    "print(result)"
   ]
  },
  {
   "cell_type": "code",
   "execution_count": 40,
   "id": "7d659a96",
   "metadata": {},
   "outputs": [
    {
     "name": "stdout",
     "output_type": "stream",
     "text": [
      "[['e'], ['e', 'e'], ['e', 'o'], ['O', 'a', 'e'], ['i'], ['i', 'e']]\n"
     ]
    }
   ],
   "source": [
    "#30-filter words from a given series that contain atleast two vowels\n",
    "import pandas as pd\n",
    "arr=[\"Red\",\"Green\",\"Yellow\",\"Orange\",\"Pink\",\"White\"]\n",
    "vowel=[\"A\",\"I\",\"O\",\"U\",\"E\",\"a\",\"e\",\"i\",\"o\",\"u\"]\n",
    "\n",
    "ser=pd.Series(arr)\n",
    "result=[list(filter(lambda x: x in vowel,substr))for substr in ser]\n",
    "print(result)"
   ]
  },
  {
   "cell_type": "code",
   "execution_count": 46,
   "id": "313bfb7f",
   "metadata": {},
   "outputs": [
    {
     "name": "stdout",
     "output_type": "stream",
     "text": [
      "original Series\n",
      "0       Red\n",
      "1     Green\n",
      "2    Yellow\n",
      "3    Orange\n",
      "4      Pink\n",
      "5     White\n",
      "dtype: object\n",
      "1     Green\n",
      "2    Yellow\n",
      "3    Orange\n",
      "5     White\n",
      "dtype: object\n"
     ]
    }
   ],
   "source": [
    "#30-\n",
    "import pandas as pd\n",
    "from collections import Counter\n",
    "\n",
    "arr=[\"Red\",\"Green\",\"Yellow\",\"Orange\",\"Pink\",\"White\"]\n",
    "color_series=pd.Series(arr)\n",
    "print(\"original Series\")\n",
    "print(color_series)\n",
    "\n",
    "result=mask=color_series.map(lambda c:sum([Counter(c.lower()).get(i,0)for i in list('aeiou')])>=2)\n",
    "print(color_series[result])"
   ]
  },
  {
   "cell_type": "code",
   "execution_count": 47,
   "id": "0852ee11",
   "metadata": {},
   "outputs": [
    {
     "name": "stdout",
     "output_type": "stream",
     "text": [
      "Eucleadian Distance=\n",
      "16.492422502470642\n"
     ]
    }
   ],
   "source": [
    "#31-compute the Euclidean distance between two given series\n",
    "import pandas as pd\n",
    "import numpy as np\n",
    "\n",
    "arr1=[1,2,3,4,5,6,7,8,9,10]\n",
    "arr2=[11, 8, 7, 5, 6, 5, 3, 4, 7, 1]\n",
    "\n",
    "x=pd.Series(arr1)\n",
    "y=pd.Series(arr2)\n",
    "\n",
    "print(\"Eucleadian Distance=\")\n",
    "print(np.linalg.norm(x-y))\n"
   ]
  },
  {
   "cell_type": "code",
   "execution_count": 52,
   "id": "c04ed490",
   "metadata": {},
   "outputs": [
    {
     "ename": "KeyError",
     "evalue": "0",
     "output_type": "error",
     "traceback": [
      "\u001b[1;31m---------------------------------------------------------------------------\u001b[0m",
      "\u001b[1;31mKeyError\u001b[0m                                  Traceback (most recent call last)",
      "\u001b[1;32m~\\anaconda3\\lib\\site-packages\\pandas\\core\\indexes\\base.py\u001b[0m in \u001b[0;36mget_loc\u001b[1;34m(self, key, method, tolerance)\u001b[0m\n\u001b[0;32m   3360\u001b[0m             \u001b[1;32mtry\u001b[0m\u001b[1;33m:\u001b[0m\u001b[1;33m\u001b[0m\u001b[1;33m\u001b[0m\u001b[0m\n\u001b[1;32m-> 3361\u001b[1;33m                 \u001b[1;32mreturn\u001b[0m \u001b[0mself\u001b[0m\u001b[1;33m.\u001b[0m\u001b[0m_engine\u001b[0m\u001b[1;33m.\u001b[0m\u001b[0mget_loc\u001b[0m\u001b[1;33m(\u001b[0m\u001b[0mcasted_key\u001b[0m\u001b[1;33m)\u001b[0m\u001b[1;33m\u001b[0m\u001b[1;33m\u001b[0m\u001b[0m\n\u001b[0m\u001b[0;32m   3362\u001b[0m             \u001b[1;32mexcept\u001b[0m \u001b[0mKeyError\u001b[0m \u001b[1;32mas\u001b[0m \u001b[0merr\u001b[0m\u001b[1;33m:\u001b[0m\u001b[1;33m\u001b[0m\u001b[1;33m\u001b[0m\u001b[0m\n",
      "\u001b[1;32m~\\anaconda3\\lib\\site-packages\\pandas\\_libs\\index.pyx\u001b[0m in \u001b[0;36mpandas._libs.index.IndexEngine.get_loc\u001b[1;34m()\u001b[0m\n",
      "\u001b[1;32m~\\anaconda3\\lib\\site-packages\\pandas\\_libs\\index.pyx\u001b[0m in \u001b[0;36mpandas._libs.index.IndexEngine.get_loc\u001b[1;34m()\u001b[0m\n",
      "\u001b[1;32mpandas\\_libs\\hashtable_class_helper.pxi\u001b[0m in \u001b[0;36mpandas._libs.hashtable.Int64HashTable.get_item\u001b[1;34m()\u001b[0m\n",
      "\u001b[1;32mpandas\\_libs\\hashtable_class_helper.pxi\u001b[0m in \u001b[0;36mpandas._libs.hashtable.Int64HashTable.get_item\u001b[1;34m()\u001b[0m\n",
      "\u001b[1;31mKeyError\u001b[0m: 0",
      "\nThe above exception was the direct cause of the following exception:\n",
      "\u001b[1;31mKeyError\u001b[0m                                  Traceback (most recent call last)",
      "\u001b[1;32m~\\AppData\\Local\\Temp/ipykernel_13892/1268801063.py\u001b[0m in \u001b[0;36m<module>\u001b[1;34m\u001b[0m\n\u001b[0;32m      9\u001b[0m \u001b[1;33m\u001b[0m\u001b[0m\n\u001b[0;32m     10\u001b[0m \u001b[1;32mfor\u001b[0m \u001b[0mi\u001b[0m \u001b[1;32min\u001b[0m \u001b[0mrange\u001b[0m\u001b[1;33m(\u001b[0m\u001b[1;36m1\u001b[0m\u001b[1;33m,\u001b[0m\u001b[0mlen\u001b[0m\u001b[1;33m(\u001b[0m\u001b[0mser\u001b[0m\u001b[1;33m)\u001b[0m\u001b[1;33m-\u001b[0m\u001b[1;36m1\u001b[0m\u001b[1;33m)\u001b[0m\u001b[1;33m:\u001b[0m\u001b[1;33m\u001b[0m\u001b[1;33m\u001b[0m\u001b[0m\n\u001b[1;32m---> 11\u001b[1;33m     \u001b[1;32mif\u001b[0m \u001b[0mser\u001b[0m\u001b[1;33m[\u001b[0m\u001b[0mi\u001b[0m\u001b[1;33m]\u001b[0m\u001b[1;33m>\u001b[0m\u001b[0mser\u001b[0m\u001b[1;33m[\u001b[0m\u001b[0mi\u001b[0m\u001b[1;33m-\u001b[0m\u001b[1;36m1\u001b[0m\u001b[1;33m]\u001b[0m \u001b[1;32mand\u001b[0m \u001b[0mser\u001b[0m\u001b[1;33m[\u001b[0m\u001b[0mi\u001b[0m\u001b[1;33m]\u001b[0m\u001b[1;33m>\u001b[0m\u001b[0mser\u001b[0m\u001b[1;33m[\u001b[0m\u001b[0mi\u001b[0m\u001b[1;33m+\u001b[0m\u001b[1;36m1\u001b[0m\u001b[1;33m]\u001b[0m\u001b[1;33m:\u001b[0m\u001b[1;33m\u001b[0m\u001b[1;33m\u001b[0m\u001b[0m\n\u001b[0m\u001b[0;32m     12\u001b[0m         \u001b[0mresult\u001b[0m\u001b[1;33m.\u001b[0m\u001b[0mappend\u001b[0m\u001b[1;33m(\u001b[0m\u001b[0mser\u001b[0m\u001b[1;33m[\u001b[0m\u001b[0midx\u001b[0m\u001b[1;33m[\u001b[0m\u001b[0mi\u001b[0m\u001b[1;33m]\u001b[0m\u001b[1;33m]\u001b[0m\u001b[1;33m)\u001b[0m\u001b[1;33m\u001b[0m\u001b[1;33m\u001b[0m\u001b[0m\n\u001b[0;32m     13\u001b[0m \u001b[1;33m\u001b[0m\u001b[0m\n",
      "\u001b[1;32m~\\anaconda3\\lib\\site-packages\\pandas\\core\\series.py\u001b[0m in \u001b[0;36m__getitem__\u001b[1;34m(self, key)\u001b[0m\n\u001b[0;32m    940\u001b[0m \u001b[1;33m\u001b[0m\u001b[0m\n\u001b[0;32m    941\u001b[0m         \u001b[1;32melif\u001b[0m \u001b[0mkey_is_scalar\u001b[0m\u001b[1;33m:\u001b[0m\u001b[1;33m\u001b[0m\u001b[1;33m\u001b[0m\u001b[0m\n\u001b[1;32m--> 942\u001b[1;33m             \u001b[1;32mreturn\u001b[0m \u001b[0mself\u001b[0m\u001b[1;33m.\u001b[0m\u001b[0m_get_value\u001b[0m\u001b[1;33m(\u001b[0m\u001b[0mkey\u001b[0m\u001b[1;33m)\u001b[0m\u001b[1;33m\u001b[0m\u001b[1;33m\u001b[0m\u001b[0m\n\u001b[0m\u001b[0;32m    943\u001b[0m \u001b[1;33m\u001b[0m\u001b[0m\n\u001b[0;32m    944\u001b[0m         \u001b[1;32mif\u001b[0m \u001b[0mis_hashable\u001b[0m\u001b[1;33m(\u001b[0m\u001b[0mkey\u001b[0m\u001b[1;33m)\u001b[0m\u001b[1;33m:\u001b[0m\u001b[1;33m\u001b[0m\u001b[1;33m\u001b[0m\u001b[0m\n",
      "\u001b[1;32m~\\anaconda3\\lib\\site-packages\\pandas\\core\\series.py\u001b[0m in \u001b[0;36m_get_value\u001b[1;34m(self, label, takeable)\u001b[0m\n\u001b[0;32m   1049\u001b[0m \u001b[1;33m\u001b[0m\u001b[0m\n\u001b[0;32m   1050\u001b[0m         \u001b[1;31m# Similar to Index.get_value, but we do not fall back to positional\u001b[0m\u001b[1;33m\u001b[0m\u001b[1;33m\u001b[0m\u001b[0m\n\u001b[1;32m-> 1051\u001b[1;33m         \u001b[0mloc\u001b[0m \u001b[1;33m=\u001b[0m \u001b[0mself\u001b[0m\u001b[1;33m.\u001b[0m\u001b[0mindex\u001b[0m\u001b[1;33m.\u001b[0m\u001b[0mget_loc\u001b[0m\u001b[1;33m(\u001b[0m\u001b[0mlabel\u001b[0m\u001b[1;33m)\u001b[0m\u001b[1;33m\u001b[0m\u001b[1;33m\u001b[0m\u001b[0m\n\u001b[0m\u001b[0;32m   1052\u001b[0m         \u001b[1;32mreturn\u001b[0m \u001b[0mself\u001b[0m\u001b[1;33m.\u001b[0m\u001b[0mindex\u001b[0m\u001b[1;33m.\u001b[0m\u001b[0m_get_values_for_loc\u001b[0m\u001b[1;33m(\u001b[0m\u001b[0mself\u001b[0m\u001b[1;33m,\u001b[0m \u001b[0mloc\u001b[0m\u001b[1;33m,\u001b[0m \u001b[0mlabel\u001b[0m\u001b[1;33m)\u001b[0m\u001b[1;33m\u001b[0m\u001b[1;33m\u001b[0m\u001b[0m\n\u001b[0;32m   1053\u001b[0m \u001b[1;33m\u001b[0m\u001b[0m\n",
      "\u001b[1;32m~\\anaconda3\\lib\\site-packages\\pandas\\core\\indexes\\base.py\u001b[0m in \u001b[0;36mget_loc\u001b[1;34m(self, key, method, tolerance)\u001b[0m\n\u001b[0;32m   3361\u001b[0m                 \u001b[1;32mreturn\u001b[0m \u001b[0mself\u001b[0m\u001b[1;33m.\u001b[0m\u001b[0m_engine\u001b[0m\u001b[1;33m.\u001b[0m\u001b[0mget_loc\u001b[0m\u001b[1;33m(\u001b[0m\u001b[0mcasted_key\u001b[0m\u001b[1;33m)\u001b[0m\u001b[1;33m\u001b[0m\u001b[1;33m\u001b[0m\u001b[0m\n\u001b[0;32m   3362\u001b[0m             \u001b[1;32mexcept\u001b[0m \u001b[0mKeyError\u001b[0m \u001b[1;32mas\u001b[0m \u001b[0merr\u001b[0m\u001b[1;33m:\u001b[0m\u001b[1;33m\u001b[0m\u001b[1;33m\u001b[0m\u001b[0m\n\u001b[1;32m-> 3363\u001b[1;33m                 \u001b[1;32mraise\u001b[0m \u001b[0mKeyError\u001b[0m\u001b[1;33m(\u001b[0m\u001b[0mkey\u001b[0m\u001b[1;33m)\u001b[0m \u001b[1;32mfrom\u001b[0m \u001b[0merr\u001b[0m\u001b[1;33m\u001b[0m\u001b[1;33m\u001b[0m\u001b[0m\n\u001b[0m\u001b[0;32m   3364\u001b[0m \u001b[1;33m\u001b[0m\u001b[0m\n\u001b[0;32m   3365\u001b[0m         \u001b[1;32mif\u001b[0m \u001b[0mis_scalar\u001b[0m\u001b[1;33m(\u001b[0m\u001b[0mkey\u001b[0m\u001b[1;33m)\u001b[0m \u001b[1;32mand\u001b[0m \u001b[0misna\u001b[0m\u001b[1;33m(\u001b[0m\u001b[0mkey\u001b[0m\u001b[1;33m)\u001b[0m \u001b[1;32mand\u001b[0m \u001b[1;32mnot\u001b[0m \u001b[0mself\u001b[0m\u001b[1;33m.\u001b[0m\u001b[0mhasnans\u001b[0m\u001b[1;33m:\u001b[0m\u001b[1;33m\u001b[0m\u001b[1;33m\u001b[0m\u001b[0m\n",
      "\u001b[1;31mKeyError\u001b[0m: 0"
     ]
    }
   ],
   "source": [
    "#32- find the positions of the values neighboured by smaller values on both sides in a given series\n",
    "import pandas as pd\n",
    "import numpy as np\n",
    "\n",
    "arr=[1,8,7,5,6,5,3,4,7,1]\n",
    "idx=[1,2,3,4,5,6,7,8,9,10]\n",
    "ser=pd.Series(arr,idx)\n",
    "result=[]\n",
    "\n",
    "for i in range(1,len(ser)-1):\n",
    "    if ser[i]>ser[i-1] and ser[i]>ser[i+1]:\n",
    "        result.append(ser[idx[i]])\n",
    "        \n",
    "print(ser)\n",
    "print(result)\n"
   ]
  },
  {
   "cell_type": "code",
   "execution_count": 53,
   "id": "42ce48c6",
   "metadata": {},
   "outputs": [
    {
     "name": "stdout",
     "output_type": "stream",
     "text": [
      "Original Series\n",
      "0    1\n",
      "1    8\n",
      "2    7\n",
      "3    5\n",
      "4    6\n",
      "5    5\n",
      "6    3\n",
      "7    4\n",
      "8    7\n",
      "9    1\n",
      "dtype: int64\n",
      "\n",
      "Positions of the values surrounded by smaller values on both sides:\n",
      "[1 4 8]\n"
     ]
    }
   ],
   "source": [
    "import pandas as pd\n",
    "import numpy as np\n",
    "nums=pd.Series([1, 8, 7, 5, 6, 5, 3, 4, 7, 1])\n",
    "print(\"Original Series\")\n",
    "print(nums)\n",
    "\n",
    "print(\"\\nPositions of the values surrounded by smaller values on both sides:\")\n",
    "temp = np.diff(np.sign(np.diff(nums)))\n",
    "result = np.where(temp == -2)[0] + 1\n",
    "print(result)"
   ]
  },
  {
   "cell_type": "code",
   "execution_count": 8,
   "id": "027e77ee",
   "metadata": {},
   "outputs": [
    {
     "name": "stdout",
     "output_type": "stream",
     "text": [
      "original String= abc def abcdef icd\n",
      "c    3\n",
      "     3\n",
      "d    3\n",
      "a    2\n",
      "b    2\n",
      "e    2\n",
      "f    2\n",
      "i    1\n",
      "dtype: int64\n",
      "i\n",
      "abcidefiabcdefiicd\n"
     ]
    }
   ],
   "source": [
    "#date 10/11/22\n",
    "#33-replace missing white spaces in a given string with the least frequent character\n",
    "import pandas as pd\n",
    "str1=\"abc def abcdef icd\"\n",
    "print(\"original String=\",str1)\n",
    "\n",
    "ser=pd.Series(list(str1))\n",
    "element_freq=ser.value_counts()\n",
    "print(element_freq)\n",
    "\n",
    "current_freq=element_freq.dropna().index[-1]  #cause i is least frequently occurred\n",
    "print(current_freq)\n",
    "\n",
    "result=\"\".join(ser.replace(' ',current_freq))\n",
    "print(result)"
   ]
  },
  {
   "cell_type": "code",
   "execution_count": 12,
   "id": "d30e3f58",
   "metadata": {},
   "outputs": [
    {
     "name": "stdout",
     "output_type": "stream",
     "text": [
      "Original Series=\n",
      "0    -10.999833\n",
      "1     10.413576\n",
      "2      9.496415\n",
      "3     -3.114574\n",
      "4      1.509149\n",
      "5     12.338281\n",
      "6      2.658554\n",
      "7      4.039634\n",
      "8     12.893172\n",
      "9     11.408068\n",
      "10    19.224060\n",
      "11    26.646962\n",
      "12    -3.351319\n",
      "13    26.626339\n",
      "14    18.285725\n",
      "dtype: float64\n",
      "[1.0, -0.02, 0.09, 0.6, 0.25, 0.13, 0.41, -0.17, 0.18, 0.54, -0.34]\n"
     ]
    }
   ],
   "source": [
    "#34-compute the autocorrelations of a given numeric series\n",
    "import pandas as pd\n",
    "import numpy as np\n",
    "\n",
    "arr=[13.207262,4.098685,-1.435534,13.626760,-2.346193,17.873884]\n",
    "\n",
    "ser=pd.Series(np.arange(15)+np.random.normal(1,10,15))  #mean, sigma, size\n",
    "print(\"Original Series=\")\n",
    "print(ser)\n",
    "\n",
    "autocorrelations=[ser.autocorr(i).round(2) for i in range(11)]\n",
    "print(autocorrelations)"
   ]
  },
  {
   "cell_type": "code",
   "execution_count": 14,
   "id": "0eec950c",
   "metadata": {},
   "outputs": [
    {
     "name": "stdout",
     "output_type": "stream",
     "text": [
      "All Sundays\n",
      "0    2023-01-01\n",
      "1    2023-01-08\n",
      "2    2023-01-15\n",
      "3    2023-01-22\n",
      "4    2023-01-29\n",
      "5    2023-02-05\n",
      "6    2023-02-12\n",
      "7    2023-02-19\n",
      "8    2023-02-26\n",
      "9    2023-03-05\n",
      "10   2023-03-12\n",
      "11   2023-03-19\n",
      "12   2023-03-26\n",
      "13   2023-04-02\n",
      "14   2023-04-09\n",
      "15   2023-04-16\n",
      "16   2023-04-23\n",
      "17   2023-04-30\n",
      "18   2023-05-07\n",
      "19   2023-05-14\n",
      "20   2023-05-21\n",
      "21   2023-05-28\n",
      "22   2023-06-04\n",
      "23   2023-06-11\n",
      "24   2023-06-18\n",
      "25   2023-06-25\n",
      "26   2023-07-02\n",
      "27   2023-07-09\n",
      "28   2023-07-16\n",
      "29   2023-07-23\n",
      "30   2023-07-30\n",
      "31   2023-08-06\n",
      "32   2023-08-13\n",
      "33   2023-08-20\n",
      "34   2023-08-27\n",
      "35   2023-09-03\n",
      "36   2023-09-10\n",
      "37   2023-09-17\n",
      "38   2023-09-24\n",
      "39   2023-10-01\n",
      "40   2023-10-08\n",
      "41   2023-10-15\n",
      "42   2023-10-22\n",
      "43   2023-10-29\n",
      "44   2023-11-05\n",
      "45   2023-11-12\n",
      "46   2023-11-19\n",
      "47   2023-11-26\n",
      "48   2023-12-03\n",
      "49   2023-12-10\n",
      "50   2023-12-17\n",
      "51   2023-12-24\n",
      "dtype: datetime64[ns]\n"
     ]
    }
   ],
   "source": [
    "#35-create a TimeSeries to display all the Sundays of given year.\n",
    "import pandas as pd\n",
    "from dateutil.parser import parser\n",
    "\n",
    "ser=pd.Series(pd.date_range('2023-01-01',periods=52,freq='W-SUN'))\n",
    "print(\"All Sundays\")\n",
    "print(ser)"
   ]
  },
  {
   "cell_type": "code",
   "execution_count": 23,
   "id": "312f34fa",
   "metadata": {},
   "outputs": [
    {
     "name": "stdout",
     "output_type": "stream",
     "text": [
      "A    44\n",
      "B    33\n",
      "C    22\n",
      "D    11\n",
      "E    55\n",
      "F    66\n",
      "dtype: int64\n",
      "  index   0\n",
      "0     A  44\n",
      "1     B  33\n",
      "2     C  22\n"
     ]
    }
   ],
   "source": [
    "#36-convert given series into a dataframe with its index as another column on the dataframe\n",
    "import pandas as pd\n",
    "key=[44,33,22,11,55,66]\n",
    "val=[\"A\",\"B\",\"C\",\"D\",\"E\",\"F\"]\n",
    "ser=pd.Series(key,val)\n",
    "print(ser)\n",
    "\n",
    "df=ser.to_frame().reset_index()\n",
    "print(df.head(3))"
   ]
  },
  {
   "cell_type": "code",
   "execution_count": 34,
   "id": "668190e3",
   "metadata": {},
   "outputs": [
    {
     "name": "stdout",
     "output_type": "stream",
     "text": [
      "0    44\n",
      "1    33\n",
      "2    22\n",
      "3    11\n",
      "4    55\n",
      "5    66\n",
      "0     A\n",
      "1     B\n",
      "2     C\n",
      "3     D\n",
      "4     E\n",
      "5     F\n",
      "dtype: object\n",
      "    0  1\n",
      "0  44  A\n",
      "1  33  B\n",
      "2  22  C\n",
      "3  11  D\n",
      "4  55  E\n",
      "5  66  F\n"
     ]
    }
   ],
   "source": [
    "#37-stack two given series vertically and horizontally.\n",
    "import pandas as pd\n",
    "import numpy as np\n",
    "key=[44,33,22,11,55,66]\n",
    "val=[\"A\",\"B\",\"C\",\"D\",\"E\",\"F\"]\n",
    "\n",
    "ser1=pd.Series(key)\n",
    "ser2=pd.Series(val)\n",
    "\n",
    "#vertical\n",
    "result=ser1.append(ser2)\n",
    "print(result)\n",
    "\n",
    "#horizontal\n",
    "df=pd.concat([ser1,ser2],axis=1)\n",
    "print(df)"
   ]
  },
  {
   "cell_type": "code",
   "execution_count": 36,
   "id": "7aa90d62",
   "metadata": {},
   "outputs": [
    {
     "name": "stdout",
     "output_type": "stream",
     "text": [
      "0     True\n",
      "1     True\n",
      "2     True\n",
      "3     True\n",
      "4    False\n",
      "5     True\n",
      "dtype: bool\n"
     ]
    }
   ],
   "source": [
    "#38-check the equality of two given series\n",
    "import pandas as pd\n",
    "arr1=[1,2,3,4,5,6]\n",
    "arr2=[1,2,3,4,0,6]\n",
    "\n",
    "ser1=pd.Series(arr1)\n",
    "ser2=pd.Series(arr2)\n",
    "\n",
    "print(ser1==ser2)"
   ]
  },
  {
   "cell_type": "code",
   "execution_count": 39,
   "id": "e8216e1a",
   "metadata": {},
   "outputs": [
    {
     "name": "stdout",
     "output_type": "stream",
     "text": [
      "6 3\n"
     ]
    }
   ],
   "source": [
    "#39-find the index of the first occurrence of the smallest and largest value of a given series\n",
    "import pandas as pd\n",
    "arr=[1,2,3,44,5,6,0]\n",
    "\n",
    "ser=pd.Series(arr)\n",
    "print(ser.idxmin(), ser.idxmax())"
   ]
  },
  {
   "cell_type": "code",
   "execution_count": 44,
   "id": "23a89548",
   "metadata": {},
   "outputs": [
    {
     "name": "stdout",
     "output_type": "stream",
     "text": [
      "      W     X   Y   Z\n",
      "0  68.0  78.0  84  86\n",
      "1  75.0  75.0  94  97\n",
      "2  86.0   NaN  89  96\n",
      "3  80.0  80.0  86  72\n",
      "4   NaN  86.0  86  83\n",
      "0    68.0\n",
      "1    75.0\n",
      "2    86.0\n",
      "3    80.0\n",
      "4     NaN\n",
      "dtype: float64\n",
      "       W      X     Y     Z\n",
      "0  False   True  True  True\n",
      "1  False  False  True  True\n",
      "2  False   True  True  True\n",
      "3  False  False  True  True\n",
      "4   True   True  True  True\n"
     ]
    }
   ],
   "source": [
    "#40-check inequality over the index axis of a given dataframe and a given series\n",
    "import pandas as pd\n",
    "df_data=pd.DataFrame({'W':[68,75,86,80,None],'X':[78,75,None,80,86], 'Y':[84,94,89,86,86],'Z':[86,97,96,72,83]})\n",
    "sr_data=pd.Series([68, 75, 86, 80, None])\n",
    "\n",
    "print(df_data)\n",
    "print(sr_data)\n",
    "\n",
    "print(df_data.ne(sr_data,axis=0))"
   ]
  },
  {
   "cell_type": "code",
   "execution_count": null,
   "id": "fe6de005",
   "metadata": {},
   "outputs": [],
   "source": []
  }
 ],
 "metadata": {
  "kernelspec": {
   "display_name": "Python 3 (ipykernel)",
   "language": "python",
   "name": "python3"
  },
  "language_info": {
   "codemirror_mode": {
    "name": "ipython",
    "version": 3
   },
   "file_extension": ".py",
   "mimetype": "text/x-python",
   "name": "python",
   "nbconvert_exporter": "python",
   "pygments_lexer": "ipython3",
   "version": "3.9.7"
  }
 },
 "nbformat": 4,
 "nbformat_minor": 5
}
