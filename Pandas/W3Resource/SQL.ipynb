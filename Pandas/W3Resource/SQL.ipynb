{
 "cells": [
  {
   "cell_type": "code",
   "execution_count": 1,
   "id": "4b591506",
   "metadata": {},
   "outputs": [],
   "source": [
    "#Date-11/5/22\n",
    "import pandas as pd\n",
    "\n",
    "df_COUNTRIES=pd.read_csv('C:/Users/przir/OneDrive/Desktop/Data Science/Libraries/DataSets/CSVs For SQL/COUNTRIES.csv')\n",
    "df_DEPARTMENTS=pd.read_csv('C:/Users/przir/OneDrive/Desktop/Data Science/Libraries/DataSets/CSVs For SQL/DEPARTMENTS.csv')\n",
    "df_EMPLOYEES=pd.read_csv('C:/Users/przir/OneDrive/Desktop/Data Science/Libraries/DataSets/CSVs For SQL/EMPLOYEES.csv')\n",
    "df_JOB_HISTORY=pd.read_csv('C:/Users/przir/OneDrive/Desktop/Data Science/Libraries/DataSets/CSVs For SQL/JOB_HISTORY.csv')\n",
    "df_JOBS=pd.read_csv('C:/Users/przir/OneDrive/Desktop/Data Science/Libraries/DataSets/CSVs For SQL/JOBS.csv')\n",
    "df_LOCATIONS=pd.read_csv('C:/Users/przir/OneDrive/Desktop/Data Science/Libraries/DataSets/CSVs For SQL/LOCATIONS.csv')\n",
    "df_REGIONS=pd.read_csv('C:/Users/przir/OneDrive/Desktop/Data Science/Libraries/DataSets/CSVs For SQL/REGIONS.csv')"
   ]
  },
  {
   "cell_type": "code",
   "execution_count": 3,
   "id": "9efedf56",
   "metadata": {},
   "outputs": [
    {
     "name": "stdout",
     "output_type": "stream",
     "text": [
      "   REGION_ID             REGION_NAME\n",
      "0          1                  Europe\n",
      "1          2                Americas\n",
      "2          3                    Asia\n",
      "3          4  Middle East and Africa\n"
     ]
    }
   ],
   "source": [
    "#1-display all the records of REGIONS file\n",
    "print(df_REGIONS.head(10))"
   ]
  },
  {
   "cell_type": "code",
   "execution_count": 10,
   "id": "fb88d482",
   "metadata": {},
   "outputs": [
    {
     "name": "stdout",
     "output_type": "stream",
     "text": [
      "0    1000\n",
      "1    1100\n",
      "2    1200\n",
      "3    1300\n",
      "4    1400\n",
      "Name: location_id, dtype: int64\n"
     ]
    }
   ],
   "source": [
    "#2-display all the location id from locations file\n",
    "result=df_LOCATIONS['location_id'].head()\n",
    "print(result)"
   ]
  },
  {
   "cell_type": "code",
   "execution_count": 11,
   "id": "5757bf37",
   "metadata": {},
   "outputs": [
    {
     "name": "stdout",
     "output_type": "stream",
     "text": [
      "   employ_id first_name  last_name     email  phone_number   hire_date  \\\n",
      "0        100     Steven       King     SKING  515.123.4567  2003-06-17   \n",
      "1        101      Neena    Kochhar  NKOCHHAR  515.123.4568  2005-09-21   \n",
      "2        102        Lex    De Haan   LDEHAAN  515.123.4569  2001-01-13   \n",
      "3        103  Alexander     Hunold   AHUNOLD  590.423.4567  2006-01-03   \n",
      "4        104      Bruce      Ernst    BERNST  590.423.4568  2007-05-21   \n",
      "5        105      David     Austin   DAUSTIN  590.423.4569  2005-06-25   \n",
      "6        106      Valli  Pataballa  VPATABAL  590.423.4560  2006-02-05   \n",
      "\n",
      "    job_id  salary  commission_pct  manager_id  department_id  \n",
      "0  AD_PRES   24000             NaN         NaN           90.0  \n",
      "1    AD_VP   17000             NaN       100.0           90.0  \n",
      "2    AD_VP   17000             NaN       100.0           90.0  \n",
      "3  IT_PROG    9000             NaN       102.0           60.0  \n",
      "4  IT_PROG    6000             NaN       103.0           60.0  \n",
      "5  IT_PROG    4800             NaN       103.0           60.0  \n",
      "6  IT_PROG    4800             NaN       103.0           60.0  \n"
     ]
    }
   ],
   "source": [
    "#3- extract first 7 records from employees file\n",
    "print(df_EMPLOYEES.head(7))"
   ]
  },
  {
   "cell_type": "code",
   "execution_count": 12,
   "id": "53afc338",
   "metadata": {},
   "outputs": [
    {
     "name": "stdout",
     "output_type": "stream",
     "text": [
      "[ 90.  60. 100.  30.  50.  80.  nan  10.  20.  40.  70. 110.]\n"
     ]
    }
   ],
   "source": [
    "#4-select distinct department id from employees file\n",
    "print(df_EMPLOYEES.department_id.unique())"
   ]
  },
  {
   "cell_type": "code",
   "execution_count": 13,
   "id": "9e38058c",
   "metadata": {},
   "outputs": [
    {
     "name": "stdout",
     "output_type": "stream",
     "text": [
      "Last name  First name    Department ID\n",
      "McEwen   Allan         80.0\n"
     ]
    }
   ],
   "source": [
    "#5-display the first and last name, and department number for all employees whose last name is \"McEwen\".\n",
    "print(\"Last name  First name    Department ID\")\n",
    "result=df_EMPLOYEES[df_EMPLOYEES.last_name=='McEwen']\n",
    "for index,row in result.iterrows():\n",
    "    print(row['last_name'],' ',row['first_name'],'       ',row['department_id'])\n",
    "\n",
    "'''\n",
    "SELECT first_name, last_name, department_id\n",
    " FROM employees\n",
    "  WHERE last_name = 'McEwen';\n",
    "  '''"
   ]
  },
  {
   "cell_type": "code",
   "execution_count": 11,
   "id": "0f76b04c",
   "metadata": {},
   "outputs": [
    {
     "name": "stdout",
     "output_type": "stream",
     "text": [
      "Steven          King 24000\n",
      "Shelli          Baida 2900\n",
      "Sigal           Tobias 2800\n",
      "Shanta          Vollman 6500\n",
      "Steven          Markle 2200\n",
      "Stephen         Stiles 3200\n",
      "Sarath          Sewall 7000\n",
      "Sundar          Ande 6400\n",
      "Sundita         Kumar 6100\n",
      "Sarah           Bell 4000\n",
      "Samuel          McCain 3200\n",
      "Susan           Mavris 6500\n",
      "Shelley         Higgins 12000\n"
     ]
    }
   ],
   "source": [
    "#6-display the first, last name, salary and department number for those employees whose first name starts with the letter 'S'\n",
    "result=df_EMPLOYEES[df_EMPLOYEES['first_name'].str[:1]=='S']\n",
    "for index,row in result.iterrows():\n",
    "    print(row['first_name'].ljust(15),row['last_name'],str(row['salary']))"
   ]
  },
  {
   "cell_type": "code",
   "execution_count": 15,
   "id": "2c57a0f0",
   "metadata": {},
   "outputs": [
    {
     "name": "stdout",
     "output_type": "stream",
     "text": [
      "Steven     King       24000      90.0\n",
      "Neena      Kochhar    17000      90.0\n",
      "Lex        De Haan    17000      90.0\n",
      "Alexander  Hunold     9000       60.0\n",
      "Bruce      Ernst      6000       60.0\n",
      "David      Austin     4800       60.0\n",
      "Valli      Pataballa  4800       60.0\n",
      "Diana      Lorentz    4200       60.0\n",
      "Nancy      Greenberg  12000      100.0\n",
      "Daniel     Faviet     9000       100.0\n",
      "John       Chen       8200       100.0\n",
      "Ismael     Sciarra    7700       100.0\n",
      "Luis       Popp       6900       100.0\n",
      "Den        Raphaely   11000      30.0\n",
      "Alexander  Khoo       3100       30.0\n",
      "Shelli     Baida      2900       30.0\n",
      "Sigal      Tobias     2800       30.0\n",
      "Guy        Himuro     2600       30.0\n",
      "Karen      Colmenares 2500       30.0\n",
      "Adam       Fripp      8200       50.0\n",
      "Payam      Kaufling   7900       50.0\n",
      "Shanta     Vollman    6500       50.0\n",
      "Kevin      Mourgos    5800       50.0\n",
      "Julia      Nayer      3200       50.0\n",
      "Irene      Mikkilineni 2700       50.0\n",
      "James      Landry     2400       50.0\n",
      "Steven     Markle     2200       50.0\n",
      "Laura      Bissot     3300       50.0\n",
      "James      Marlow     2500       50.0\n",
      "TJ         Olson      2100       50.0\n",
      "Jason      Mallin     3300       50.0\n",
      "Ki         Gee        2400       50.0\n",
      "Hazel      Philtanker 2200       50.0\n",
      "Renske     Ladwig     3600       50.0\n",
      "Stephen    Stiles     3200       50.0\n",
      "John       Seo        2700       50.0\n",
      "Joshua     Patel      2500       50.0\n",
      "Trenna     Rajs       3500       50.0\n",
      "Curtis     Davies     3100       50.0\n",
      "Randall    Matos      2600       50.0\n",
      "Peter      Vargas     2500       50.0\n",
      "John       Russell    14000      80.0\n",
      "Karen      Partners   13500      80.0\n",
      "Alberto    Errazuriz  12000      80.0\n",
      "Gerald     Cambrault  11000      80.0\n",
      "Eleni      Zlotkey    10500      80.0\n",
      "Peter      Tucker     10000      80.0\n",
      "David      Bernstein  9500       80.0\n",
      "Peter      Hall       9000       80.0\n",
      "Christopher Olsen      8000       80.0\n",
      "Nanette    Cambrault  7500       80.0\n",
      "Oliver     Tuvault    7000       80.0\n",
      "Janette    King       10000      80.0\n",
      "Patrick    Sully      9500       80.0\n",
      "Allan      McEwen     9000       80.0\n",
      "Lindsey    Smith      8000       80.0\n",
      "Louise     Doran      7500       80.0\n",
      "Sarath     Sewall     7000       80.0\n",
      "Clara      Vishney    10500      80.0\n",
      "Danielle   Greene     9500       80.0\n",
      "David      Lee        6800       80.0\n",
      "Sundar     Ande       6400       80.0\n",
      "Amit       Banda      6200       80.0\n",
      "Lisa       Ozer       11500      80.0\n",
      "Harrison   Bloom      10000      80.0\n",
      "Tayler     Fox        9600       80.0\n",
      "William    Smith      7400       80.0\n",
      "Elizabeth  Bates      7300       80.0\n",
      "Sundita    Kumar      6100       80.0\n",
      "Ellen      Abel       11000      80.0\n",
      "Alyssa     Hutton     8800       80.0\n",
      "Jonathon   Taylor     8600       80.0\n",
      "Jack       Livingston 8400       80.0\n",
      "Kimberely  Grant      7000       nan\n",
      "Charles    Johnson    6200       80.0\n",
      "Winston    Taylor     3200       50.0\n",
      "Jean       Fleaur     3100       50.0\n",
      "Girard     Geoni      2800       50.0\n",
      "Nandita    Sarchand   4200       50.0\n",
      "Alexis     Bull       4100       50.0\n",
      "Julia      Dellinger  3400       50.0\n",
      "Anthony    Cabrio     3000       50.0\n",
      "Kelly      Chung      3800       50.0\n",
      "Jennifer   Dilly      3600       50.0\n",
      "Timothy    Gates      2900       50.0\n",
      "Randall    Perkins    2500       50.0\n",
      "Sarah      Bell       4000       50.0\n",
      "Britney    Everett    3900       50.0\n",
      "Samuel     McCain     3200       50.0\n",
      "Vance      Jones      2800       50.0\n",
      "Alana      Walsh      3100       50.0\n",
      "Kevin      Feeney     3000       50.0\n",
      "Donald     OConnell   2600       50.0\n",
      "Douglas    Grant      2600       50.0\n",
      "Jennifer   Whalen     4400       10.0\n",
      "Pat        Fay        6000       20.0\n",
      "Susan      Mavris     6500       40.0\n",
      "Hermann    Baer       10000      70.0\n",
      "Shelley    Higgins    12000      110.0\n",
      "William    Gietz      8300       110.0\n"
     ]
    }
   ],
   "source": [
    "#7-first, last name, salary and department number for those employees whose first name does not contain the letter 'M\n",
    "result=df_EMPLOYEES[df_EMPLOYEES['first_name'].str.find('M')==-1]\n",
    "\n",
    "for index,row in result.iterrows():\n",
    "    print(row['first_name'].ljust(10),row['last_name'].ljust(10),str(row['salary']).ljust(10),row['department_id'])"
   ]
  },
  {
   "cell_type": "code",
   "execution_count": 16,
   "id": "ca0ddf20",
   "metadata": {},
   "outputs": [
    {
     "name": "stdout",
     "output_type": "stream",
     "text": [
      "Jennifer   Whalen     4400       10.0\n",
      "Michael    Hartstein  13000      20.0\n",
      "Pat        Fay        6000       20.0\n",
      "Karen      Colmenares 2500       30.0\n",
      "Guy        Himuro     2600       30.0\n",
      "Shelli     Baida      2900       30.0\n",
      "Alexander  Khoo       3100       30.0\n",
      "Den        Raphaely   11000      30.0\n",
      "Sigal      Tobias     2800       30.0\n",
      "Susan      Mavris     6500       40.0\n",
      "Curtis     Davies     3100       50.0\n",
      "Randall    Perkins    2500       50.0\n",
      "Peter      Vargas     2500       50.0\n",
      "Britney    Everett    3900       50.0\n",
      "Sarah      Bell       4000       50.0\n",
      "Trenna     Rajs       3500       50.0\n",
      "Joshua     Patel      2500       50.0\n",
      "John       Seo        2700       50.0\n",
      "Samuel     McCain     3200       50.0\n",
      "Stephen    Stiles     3200       50.0\n",
      "Randall    Matos      2600       50.0\n",
      "Timothy    Gates      2900       50.0\n",
      "Vance      Jones      2800       50.0\n",
      "Kelly      Chung      3800       50.0\n",
      "Renske     Ladwig     3600       50.0\n",
      "Alana      Walsh      3100       50.0\n",
      "Anthony    Cabrio     3000       50.0\n",
      "Julia      Dellinger  3400       50.0\n",
      "Alexis     Bull       4100       50.0\n",
      "Nandita    Sarchand   4200       50.0\n",
      "Girard     Geoni      2800       50.0\n",
      "Martha     Sullivan   2500       50.0\n",
      "Jean       Fleaur     3100       50.0\n",
      "Winston    Taylor     3200       50.0\n",
      "Jennifer   Dilly      3600       50.0\n",
      "Hazel      Philtanker 2200       50.0\n",
      "Michael    Rogers     2900       50.0\n",
      "Donald     OConnell   2600       50.0\n",
      "Douglas    Grant      2600       50.0\n",
      "Ki         Gee        2400       50.0\n",
      "Kevin      Feeney     3000       50.0\n",
      "Matthew    Weiss      8000       50.0\n",
      "Payam      Kaufling   7900       50.0\n",
      "Shanta     Vollman    6500       50.0\n",
      "Kevin      Mourgos    5800       50.0\n",
      "Julia      Nayer      3200       50.0\n",
      "Adam       Fripp      8200       50.0\n",
      "James      Landry     2400       50.0\n",
      "Steven     Markle     2200       50.0\n",
      "Laura      Bissot     3300       50.0\n",
      "Mozhe      Atkinson   2800       50.0\n",
      "James      Marlow     2500       50.0\n",
      "TJ         Olson      2100       50.0\n",
      "Jason      Mallin     3300       50.0\n",
      "Irene      Mikkilineni 2700       50.0\n",
      "Alexander  Hunold     9000       60.0\n",
      "Bruce      Ernst      6000       60.0\n",
      "Diana      Lorentz    4200       60.0\n",
      "Valli      Pataballa  4800       60.0\n",
      "David      Austin     4800       60.0\n",
      "Hermann    Baer       10000      70.0\n",
      "Sundita    Kumar      6100       80.0\n",
      "Elizabeth  Bates      7300       80.0\n",
      "Ellen      Abel       11000      80.0\n",
      "William    Smith      7400       80.0\n",
      "Jonathon   Taylor     8600       80.0\n",
      "Jack       Livingston 8400       80.0\n",
      "Charles    Johnson    6200       80.0\n",
      "Alyssa     Hutton     8800       80.0\n",
      "Tayler     Fox        9600       80.0\n",
      "Peter      Hall       9000       80.0\n",
      "Lisa       Ozer       11500      80.0\n",
      "John       Russell    14000      80.0\n",
      "Karen      Partners   13500      80.0\n",
      "Gerald     Cambrault  11000      80.0\n",
      "Eleni      Zlotkey    10500      80.0\n",
      "Peter      Tucker     10000      80.0\n",
      "David      Bernstein  9500       80.0\n",
      "Christopher Olsen      8000       80.0\n",
      "Nanette    Cambrault  7500       80.0\n",
      "Oliver     Tuvault    7000       80.0\n",
      "Janette    King       10000      80.0\n",
      "Patrick    Sully      9500       80.0\n",
      "Allan      McEwen     9000       80.0\n",
      "Lindsey    Smith      8000       80.0\n",
      "Louise     Doran      7500       80.0\n",
      "Sarath     Sewall     7000       80.0\n",
      "Clara      Vishney    10500      80.0\n",
      "Danielle   Greene     9500       80.0\n",
      "Mattea     Marvins    7200       80.0\n",
      "David      Lee        6800       80.0\n",
      "Sundar     Ande       6400       80.0\n",
      "Amit       Banda      6200       80.0\n",
      "Harrison   Bloom      10000      80.0\n",
      "Alberto    Errazuriz  12000      80.0\n",
      "Steven     King       24000      90.0\n",
      "Lex        De Haan    17000      90.0\n",
      "Neena      Kochhar    17000      90.0\n",
      "Luis       Popp       6900       100.0\n",
      "Jose Manuel Urman      7800       100.0\n",
      "Ismael     Sciarra    7700       100.0\n",
      "John       Chen       8200       100.0\n",
      "Daniel     Faviet     9000       100.0\n",
      "Nancy      Greenberg  12000      100.0\n",
      "Shelley    Higgins    12000      110.0\n",
      "William    Gietz      8300       110.0\n",
      "Kimberely  Grant      7000       nan\n"
     ]
    }
   ],
   "source": [
    "#8-first name, last name, salary and department number in ascending order by department number\n",
    "result=df_EMPLOYEES.sort_values('department_id',ascending=True)\n",
    "for index, row in result.iterrows():\n",
    "    print(row['first_name'].ljust(10),row['last_name'].ljust(10),str(row['salary']).ljust(10),row['department_id'])"
   ]
  },
  {
   "cell_type": "code",
   "execution_count": 17,
   "id": "ea800c76",
   "metadata": {},
   "outputs": [
    {
     "name": "stdout",
     "output_type": "stream",
     "text": [
      "Winston Taylor 3200  50.0\n",
      "William Gietz 8300  110.0\n",
      "William Smith 7400  80.0\n",
      "Vance Jones 2800  50.0\n",
      "Valli Pataballa 4800  60.0\n",
      "Trenna Rajs  3500  50.0\n",
      "Timothy Gates 2900  50.0\n",
      "Tayler Fox   9600  80.0\n",
      "TJ    Olson 2100  50.0\n",
      "Susan Mavris 6500  40.0\n",
      "Sundita Kumar 6100  80.0\n",
      "Sundar Ande  6400  80.0\n",
      "Steven Markle 2200  50.0\n",
      "Steven King  24000 90.0\n",
      "Stephen Stiles 3200  50.0\n",
      "Sigal Tobias 2800  30.0\n",
      "Shelli Baida 2900  30.0\n",
      "Shelley Higgins 12000 110.0\n",
      "Shanta Vollman 6500  50.0\n",
      "Sarath Sewall 7000  80.0\n",
      "Sarah Bell  4000  50.0\n",
      "Samuel McCain 3200  50.0\n",
      "Renske Ladwig 3600  50.0\n",
      "Randall Perkins 2500  50.0\n",
      "Randall Matos 2600  50.0\n",
      "Peter Vargas 2500  50.0\n",
      "Peter Hall  9000  80.0\n",
      "Peter Tucker 10000 80.0\n",
      "Payam Kaufling 7900  50.0\n",
      "Patrick Sully 9500  80.0\n",
      "Pat   Fay   6000  20.0\n",
      "Oliver Tuvault 7000  80.0\n",
      "Neena Kochhar 17000 90.0\n",
      "Nanette Cambrault 7500  80.0\n",
      "Nandita Sarchand 4200  50.0\n",
      "Nancy Greenberg 12000 100.0\n",
      "Mozhe Atkinson 2800  50.0\n",
      "Michael Rogers 2900  50.0\n",
      "Michael Hartstein 13000 20.0\n",
      "Matthew Weiss 8000  50.0\n",
      "Mattea Marvins 7200  80.0\n",
      "Martha Sullivan 2500  50.0\n",
      "Luis  Popp  6900  100.0\n",
      "Louise Doran 7500  80.0\n",
      "Lisa  Ozer  11500 80.0\n",
      "Lindsey Smith 8000  80.0\n",
      "Lex   De Haan 17000 90.0\n",
      "Laura Bissot 3300  50.0\n",
      "Kimberely Grant 7000  nan\n",
      "Ki    Gee   2400  50.0\n",
      "Kevin Feeney 3000  50.0\n",
      "Kevin Mourgos 5800  50.0\n",
      "Kelly Chung 3800  50.0\n",
      "Karen Partners 13500 80.0\n",
      "Karen Colmenares 2500  30.0\n",
      "Julia Nayer 3200  50.0\n",
      "Julia Dellinger 3400  50.0\n",
      "Joshua Patel 2500  50.0\n",
      "Jose Manuel Urman 7800  100.0\n",
      "Jonathon Taylor 8600  80.0\n",
      "John  Seo   2700  50.0\n",
      "John  Russell 14000 80.0\n",
      "John  Chen  8200  100.0\n",
      "Jennifer Whalen 4400  10.0\n",
      "Jennifer Dilly 3600  50.0\n",
      "Jean  Fleaur 3100  50.0\n",
      "Jason Mallin 3300  50.0\n",
      "Janette King  10000 80.0\n",
      "James Landry 2400  50.0\n",
      "James Marlow 2500  50.0\n",
      "Jack  Livingston 8400  80.0\n",
      "Ismael Sciarra 7700  100.0\n",
      "Irene Mikkilineni 2700  50.0\n",
      "Hermann Baer  10000 70.0\n",
      "Hazel Philtanker 2200  50.0\n",
      "Harrison Bloom 10000 80.0\n",
      "Guy   Himuro 2600  30.0\n",
      "Girard Geoni 2800  50.0\n",
      "Gerald Cambrault 11000 80.0\n",
      "Ellen Abel  11000 80.0\n",
      "Elizabeth Bates 7300  80.0\n",
      "Eleni Zlotkey 10500 80.0\n",
      "Douglas Grant 2600  50.0\n",
      "Donald OConnell 2600  50.0\n",
      "Diana Lorentz 4200  60.0\n",
      "Den   Raphaely 11000 30.0\n",
      "David Austin 4800  60.0\n",
      "David Lee   6800  80.0\n",
      "David Bernstein 9500  80.0\n",
      "Danielle Greene 9500  80.0\n",
      "Daniel Faviet 9000  100.0\n",
      "Curtis Davies 3100  50.0\n",
      "Clara Vishney 10500 80.0\n",
      "Christopher Olsen 8000  80.0\n",
      "Charles Johnson 6200  80.0\n",
      "Bruce Ernst 6000  60.0\n",
      "Britney Everett 3900  50.0\n",
      "Anthony Cabrio 3000  50.0\n",
      "Amit  Banda 6200  80.0\n",
      "Alyssa Hutton 8800  80.0\n",
      "Allan McEwen 9000  80.0\n",
      "Alexis Bull  4100  50.0\n",
      "Alexander Khoo  3100  30.0\n",
      "Alexander Hunold 9000  60.0\n",
      "Alberto Errazuriz 12000 80.0\n",
      "Alana Walsh 3100  50.0\n",
      "Adam  Fripp 8200  50.0\n"
     ]
    }
   ],
   "source": [
    "#9-first name, last name, salary and department number in descending order by first name\n",
    "result=df_EMPLOYEES.sort_values('first_name',ascending=False)\n",
    "for index,row in result.iterrows():\n",
    "    print(row['first_name'].ljust(5),row['last_name'].ljust(5),str(row['salary']).ljust(5),row['department_id'])"
   ]
  },
  {
   "cell_type": "code",
   "execution_count": 21,
   "id": "fa34efb9",
   "metadata": {},
   "outputs": [
    {
     "name": "stdout",
     "output_type": "stream",
     "text": [
      "Steven King  24000 nan\n"
     ]
    }
   ],
   "source": [
    "#10-display the first name, last name, salary and manger id where manager ids are null\n",
    "import numpy as np\n",
    "result=df_EMPLOYEES[df_EMPLOYEES['manager_id'].isnull()]\n",
    "for index, row in result.iterrows():\n",
    "    print(row['first_name'].ljust(5),row['last_name'].ljust(5),str(row['salary']).ljust(5),row['manager_id'])"
   ]
  },
  {
   "cell_type": "code",
   "execution_count": 24,
   "id": "44111bfe",
   "metadata": {},
   "outputs": [
    {
     "name": "stdout",
     "output_type": "stream",
     "text": [
      "Neena Kochhar 17000 100.0\n",
      "Lex   De Haan 17000 100.0\n",
      "Alexander Hunold 9000  102.0\n",
      "Bruce Ernst 6000  103.0\n",
      "David Austin 4800  103.0\n",
      "Valli Pataballa 4800  103.0\n",
      "Diana Lorentz 4200  103.0\n",
      "Nancy Greenberg 12000 101.0\n",
      "Daniel Faviet 9000  108.0\n",
      "John  Chen  8200  108.0\n",
      "Ismael Sciarra 7700  108.0\n",
      "Jose Manuel Urman 7800  108.0\n",
      "Luis  Popp  6900  108.0\n",
      "Den   Raphaely 11000 100.0\n",
      "Alexander Khoo  3100  114.0\n",
      "Shelli Baida 2900  114.0\n",
      "Sigal Tobias 2800  114.0\n",
      "Guy   Himuro 2600  114.0\n",
      "Karen Colmenares 2500  114.0\n",
      "Matthew Weiss 8000  100.0\n",
      "Adam  Fripp 8200  100.0\n",
      "Payam Kaufling 7900  100.0\n",
      "Shanta Vollman 6500  100.0\n",
      "Kevin Mourgos 5800  100.0\n",
      "Julia Nayer 3200  120.0\n",
      "Irene Mikkilineni 2700  120.0\n",
      "James Landry 2400  120.0\n",
      "Steven Markle 2200  120.0\n",
      "Laura Bissot 3300  121.0\n",
      "Mozhe Atkinson 2800  121.0\n",
      "James Marlow 2500  121.0\n",
      "TJ    Olson 2100  121.0\n",
      "Jason Mallin 3300  122.0\n",
      "Michael Rogers 2900  122.0\n",
      "Ki    Gee   2400  122.0\n",
      "Hazel Philtanker 2200  122.0\n",
      "Renske Ladwig 3600  123.0\n",
      "Stephen Stiles 3200  123.0\n",
      "John  Seo   2700  123.0\n",
      "Joshua Patel 2500  123.0\n",
      "Trenna Rajs  3500  124.0\n",
      "Curtis Davies 3100  124.0\n",
      "Randall Matos 2600  124.0\n",
      "Peter Vargas 2500  124.0\n",
      "John  Russell 14000 100.0\n",
      "Karen Partners 13500 100.0\n",
      "Alberto Errazuriz 12000 100.0\n",
      "Gerald Cambrault 11000 100.0\n",
      "Eleni Zlotkey 10500 100.0\n",
      "Peter Tucker 10000 145.0\n",
      "David Bernstein 9500  145.0\n",
      "Peter Hall  9000  145.0\n",
      "Christopher Olsen 8000  145.0\n",
      "Nanette Cambrault 7500  145.0\n",
      "Oliver Tuvault 7000  145.0\n",
      "Janette King  10000 146.0\n",
      "Patrick Sully 9500  146.0\n",
      "Allan McEwen 9000  146.0\n",
      "Lindsey Smith 8000  146.0\n",
      "Louise Doran 7500  146.0\n",
      "Sarath Sewall 7000  146.0\n",
      "Clara Vishney 10500 147.0\n",
      "Danielle Greene 9500  147.0\n",
      "Mattea Marvins 7200  147.0\n",
      "David Lee   6800  147.0\n",
      "Sundar Ande  6400  147.0\n",
      "Amit  Banda 6200  147.0\n",
      "Lisa  Ozer  11500 148.0\n",
      "Harrison Bloom 10000 148.0\n",
      "Tayler Fox   9600  148.0\n",
      "William Smith 7400  148.0\n",
      "Elizabeth Bates 7300  148.0\n",
      "Sundita Kumar 6100  148.0\n",
      "Ellen Abel  11000 149.0\n",
      "Alyssa Hutton 8800  149.0\n",
      "Jonathon Taylor 8600  149.0\n",
      "Jack  Livingston 8400  149.0\n",
      "Kimberely Grant 7000  149.0\n",
      "Charles Johnson 6200  149.0\n",
      "Winston Taylor 3200  120.0\n",
      "Jean  Fleaur 3100  120.0\n",
      "Martha Sullivan 2500  120.0\n",
      "Girard Geoni 2800  120.0\n",
      "Nandita Sarchand 4200  121.0\n",
      "Alexis Bull  4100  121.0\n",
      "Julia Dellinger 3400  121.0\n",
      "Anthony Cabrio 3000  121.0\n",
      "Kelly Chung 3800  122.0\n",
      "Jennifer Dilly 3600  122.0\n",
      "Timothy Gates 2900  122.0\n",
      "Randall Perkins 2500  122.0\n",
      "Sarah Bell  4000  123.0\n",
      "Britney Everett 3900  123.0\n",
      "Samuel McCain 3200  123.0\n",
      "Vance Jones 2800  123.0\n",
      "Alana Walsh 3100  124.0\n",
      "Kevin Feeney 3000  124.0\n",
      "Donald OConnell 2600  124.0\n",
      "Douglas Grant 2600  124.0\n",
      "Jennifer Whalen 4400  101.0\n",
      "Michael Hartstein 13000 100.0\n",
      "Pat   Fay   6000  201.0\n",
      "Susan Mavris 6500  101.0\n",
      "Hermann Baer  10000 101.0\n",
      "Shelley Higgins 12000 101.0\n",
      "William Gietz 8300  205.0\n"
     ]
    }
   ],
   "source": [
    "#11=display the first name, last name, salary and manger id where manager ids are not null\n",
    "#result=df_EMPLOYEES[df_EMPLOYEES['manager_id'].isnull()==False]\n",
    "result=df_EMPLOYEES[df_EMPLOYEES['manager_id'].notnull()]\n",
    "for index,row in result.iterrows():\n",
    "    print(row['first_name'].ljust(5),row['last_name'].ljust(5),str(row['salary']).ljust(5),row['manager_id'])"
   ]
  },
  {
   "cell_type": "code",
   "execution_count": 26,
   "id": "92578bda",
   "metadata": {},
   "outputs": [
    {
     "name": "stdout",
     "output_type": "stream",
     "text": [
      "\n",
      "\n",
      "   State Province(Not null / Null Series\n",
      "0     False\n",
      "1     False\n",
      "2      True\n",
      "3     False\n",
      "4      True\n",
      "5      True\n",
      "6      True\n",
      "7      True\n",
      "8      True\n",
      "9      True\n",
      "10    False\n",
      "11     True\n",
      "12     True\n",
      "13    False\n",
      "14    False\n",
      "15     True\n",
      "16     True\n",
      "17     True\n",
      "18     True\n",
      "19     True\n",
      "20     True\n",
      "21     True\n",
      "22     True\n",
      "Name: state_province, dtype: bool\n"
     ]
    }
   ],
   "source": [
    "#12-reate and display a boolean series, where True for not null and False\n",
    "#for null values or missing values in state_province column of locations file. \n",
    "\n",
    "print(\"\\n\\n   State Province(Not null / Null Series\")\n",
    "print(df_LOCATIONS.state_province.notnull())\n"
   ]
  },
  {
   "cell_type": "code",
   "execution_count": 27,
   "id": "3404ca26",
   "metadata": {},
   "outputs": [
    {
     "name": "stdout",
     "output_type": "stream",
     "text": [
      "    location_id  street_address  postal_code   city  state_province  \\\n",
      "0         False           False        False  False            True   \n",
      "1         False           False        False  False            True   \n",
      "2         False           False        False  False           False   \n",
      "3         False           False        False  False            True   \n",
      "4         False           False        False  False           False   \n",
      "5         False           False        False  False           False   \n",
      "6         False           False        False  False           False   \n",
      "7         False           False        False  False           False   \n",
      "8         False           False        False  False           False   \n",
      "9         False           False        False  False           False   \n",
      "10        False           False        False  False            True   \n",
      "11        False           False        False  False           False   \n",
      "12        False           False        False  False           False   \n",
      "13        False           False        False  False            True   \n",
      "14        False           False         True  False            True   \n",
      "15        False           False        False  False           False   \n",
      "16        False           False        False  False           False   \n",
      "17        False           False        False  False           False   \n",
      "18        False           False        False  False           False   \n",
      "19        False           False        False  False           False   \n",
      "20        False           False        False  False           False   \n",
      "21        False           False        False  False           False   \n",
      "22        False           False        False  False           False   \n",
      "\n",
      "    country_id  \n",
      "0        False  \n",
      "1        False  \n",
      "2        False  \n",
      "3        False  \n",
      "4        False  \n",
      "5        False  \n",
      "6        False  \n",
      "7        False  \n",
      "8        False  \n",
      "9        False  \n",
      "10       False  \n",
      "11       False  \n",
      "12       False  \n",
      "13       False  \n",
      "14       False  \n",
      "15       False  \n",
      "16       False  \n",
      "17       False  \n",
      "18       False  \n",
      "19       False  \n",
      "20       False  \n",
      "21       False  \n",
      "22       False  \n"
     ]
    }
   ],
   "source": [
    "#13- create a boolean series selecting rows with one or more nulls from locations file.\n",
    "print(df_LOCATIONS.isnull())"
   ]
  },
  {
   "cell_type": "code",
   "execution_count": 28,
   "id": "583643b0",
   "metadata": {},
   "outputs": [
    {
     "name": "stdout",
     "output_type": "stream",
     "text": [
      "location_id       0\n",
      "street_address    0\n",
      "postal_code       1\n",
      "city              0\n",
      "state_province    6\n",
      "country_id        0\n",
      "dtype: int64\n"
     ]
    }
   ],
   "source": [
    "#14-count the NaN values of all the columns of locations file.\n",
    "print(df_LOCATIONS.isnull().sum())"
   ]
  },
  {
   "cell_type": "code",
   "execution_count": 29,
   "id": "e12ed88c",
   "metadata": {},
   "outputs": [
    {
     "name": "stdout",
     "output_type": "stream",
     "text": [
      "Adam  Fripp 8200  50.0\n",
      "Payam Kaufling 7900  50.0\n",
      "William Smith 7400  80.0\n",
      "William Gietz 8300  110.0\n"
     ]
    }
   ],
   "source": [
    "#15- display the first name, last name, salary and department number for those employees whose first name ends with the letter 'm'\n",
    "result=df_EMPLOYEES[df_EMPLOYEES['first_name'].str[-1]==\"m\"]\n",
    "for index, row in result.iterrows():\n",
    "    print(row['first_name'].ljust(5),row['last_name'].ljust(5),str(row['salary']).ljust(5),row['department_id'])"
   ]
  },
  {
   "cell_type": "code",
   "execution_count": 30,
   "id": "52d8e627",
   "metadata": {},
   "outputs": [
    {
     "name": "stdout",
     "output_type": "stream",
     "text": [
      "Den        Raphaely   11000      30.0\n",
      "Karen      Colmenares 2500       30.0\n",
      "Susan      Mavris     6500       40.0\n",
      "Jason      Mallin     3300       50.0\n",
      "Alexis     Bull       4100       50.0\n",
      "Kevin      Feeney     3000       50.0\n",
      "Curtis     Davies     3100       50.0\n",
      "John       Seo        2700       50.0\n",
      "Stephen    Stiles     3200       50.0\n",
      "Winston    Taylor     3200       50.0\n",
      "James      Marlow     2500       50.0\n",
      "Steven     Markle     2200       50.0\n",
      "James      Landry     2400       50.0\n",
      "Kevin      Mourgos    5800       50.0\n",
      "Donald     OConnell   2600       50.0\n",
      "Douglas    Grant      2600       50.0\n",
      "Girard     Geoni      2800       50.0\n",
      "Jean       Fleaur     3100       50.0\n",
      "David      Austin     4800       60.0\n",
      "Hermann    Baer       10000      70.0\n",
      "Charles    Johnson    6200       80.0\n",
      "Jonathon   Taylor     8600       80.0\n",
      "Gerald     Cambrault  11000      80.0\n",
      "Harrison   Bloom      10000      80.0\n",
      "David      Lee        6800       80.0\n",
      "Allan      McEwen     9000       80.0\n",
      "David      Bernstein  9500       80.0\n",
      "Karen      Partners   13500      80.0\n",
      "John       Russell    14000      80.0\n",
      "Ellen      Abel       11000      80.0\n",
      "Steven     King       24000      90.0\n",
      "Luis       Popp       6900       100.0\n",
      "John       Chen       8200       100.0\n"
     ]
    }
   ],
   "source": [
    "#16-display the first name, last name, salary and department number for \n",
    "#those employees whose first name ends with the letter 'd' or 'n' or 's' \n",
    "#and also arrange the result in descending order by department id.\n",
    "result=df_EMPLOYEES[(df_EMPLOYEES['first_name'].str[-1]=='d')| (df_EMPLOYEES['first_name'].str[-1]=='n')|(df_EMPLOYEES['first_name'].str[-1]=='s')].sort_values('department_id',ascending=True)\n",
    "\n",
    "for index,row in result.iterrows():\n",
    "    print(row['first_name'].ljust(10),row['last_name'].ljust(10),str(row['salary']).ljust(10),row['department_id'])\n"
   ]
  },
  {
   "cell_type": "code",
   "execution_count": 32,
   "id": "2dddb0e4",
   "metadata": {},
   "outputs": [
    {
     "name": "stdout",
     "output_type": "stream",
     "text": [
      "First name       Last name      Salary    Department ID\n",
      "Den             Raphaely        11000     30.0\n",
      "Karen           Colmenares      2500      30.0\n",
      "Susan           Mavris          6500      40.0\n",
      "Jason           Mallin          3300      50.0\n",
      "Alexis          Bull            4100      50.0\n",
      "Kevin           Feeney          3000      50.0\n",
      "Curtis          Davies          3100      50.0\n",
      "John            Seo             2700      50.0\n",
      "Stephen         Stiles          3200      50.0\n",
      "Winston         Taylor          3200      50.0\n",
      "James           Marlow          2500      50.0\n",
      "Steven          Markle          2200      50.0\n",
      "James           Landry          2400      50.0\n",
      "Kevin           Mourgos         5800      50.0\n",
      "Donald          OConnell        2600      50.0\n",
      "Douglas         Grant           2600      50.0\n",
      "Girard          Geoni           2800      50.0\n",
      "Jean            Fleaur          3100      50.0\n",
      "David           Austin          4800      60.0\n",
      "Hermann         Baer            10000     70.0\n",
      "Charles         Johnson         6200      80.0\n",
      "Jonathon        Taylor          8600      80.0\n",
      "Gerald          Cambrault       11000     80.0\n",
      "Harrison        Bloom           10000     80.0\n",
      "David           Lee             6800      80.0\n",
      "Allan           McEwen          9000      80.0\n",
      "David           Bernstein       9500      80.0\n",
      "Karen           Partners        13500     80.0\n",
      "John            Russell         14000     80.0\n",
      "Ellen           Abel            11000     80.0\n",
      "Steven          King            24000     90.0\n",
      "Luis            Popp            6900      100.0\n",
      "John            Chen            8200      100.0\n"
     ]
    }
   ],
   "source": [
    "#altername\n",
    "print(\"First name       Last name      Salary    Department ID\")\n",
    "result = df_EMPLOYEES[df_EMPLOYEES['first_name'].str[-1].isin(['s','d','n'])]\n",
    "result = result.sort_values('department_id', ascending=True)\n",
    "for index, row in result.iterrows():\n",
    "    print(row['first_name'].ljust(15),row['last_name'].ljust(15),str(row['salary']).ljust(9),row['department_id'])"
   ]
  },
  {
   "cell_type": "code",
   "execution_count": 36,
   "id": "7df4bccb",
   "metadata": {},
   "outputs": [
    {
     "name": "stdout",
     "output_type": "stream",
     "text": [
      "Steven     King       24000      90.0\n",
      "Neena      Kochhar    17000      90.0\n",
      "Lex        De Haan    17000      90.0\n",
      "Hermann    Baer       10000      70.0\n"
     ]
    }
   ],
   "source": [
    "#17-display the first name, last name, salary and department number for employees who works either in department 70 or 90\n",
    "result=df_EMPLOYEES[df_EMPLOYEES['department_id'].isin([70,90])]\n",
    "for index,row in result.iterrows():\n",
    "    print(row['first_name'].ljust(10),row['last_name'].ljust(10),str(row['salary']).ljust(10),row['department_id'])"
   ]
  },
  {
   "cell_type": "code",
   "execution_count": 37,
   "id": "c798543a",
   "metadata": {},
   "outputs": [
    {
     "name": "stdout",
     "output_type": "stream",
     "text": [
      "Bruce      Ernst      6000       60.0\n",
      "David      Austin     4800       60.0\n",
      "Valli      Pataballa  4800       60.0\n",
      "Diana      Lorentz    4200       60.0\n",
      "Julia      Nayer      3200       50.0\n",
      "Irene      Mikkilineni 2700       50.0\n",
      "James      Landry     2400       50.0\n",
      "Steven     Markle     2200       50.0\n",
      "Peter      Tucker     10000      80.0\n",
      "David      Bernstein  9500       80.0\n",
      "Peter      Hall       9000       80.0\n",
      "Christopher Olsen      8000       80.0\n",
      "Nanette    Cambrault  7500       80.0\n",
      "Oliver     Tuvault    7000       80.0\n",
      "Winston    Taylor     3200       50.0\n",
      "Jean       Fleaur     3100       50.0\n",
      "Martha     Sullivan   2500       50.0\n",
      "Girard     Geoni      2800       50.0\n"
     ]
    }
   ],
   "source": [
    "#18-display the first name, last name, salary and department number for those\n",
    "#employees whose managers are hold the ID 120, 103 or 145.\n",
    "result=df_EMPLOYEES[df_EMPLOYEES['manager_id'].isin([120,103,145])]\n",
    "for index, row in result.iterrows():\n",
    "    print(row['first_name'].ljust(10),row['last_name'].ljust(10),str(row['salary']).ljust(10),row['department_id'])"
   ]
  },
  {
   "cell_type": "code",
   "execution_count": 45,
   "id": "4b00fe8e",
   "metadata": {},
   "outputs": [
    {
     "name": "stdout",
     "output_type": "stream",
     "text": [
      "Nancy Greenberg 12000 100.0\n",
      "Daniel Faviet 9000  100.0\n",
      "Den   Raphaely 11000 30.0\n",
      "Renske Ladwig 3600  50.0\n",
      "Randall Matos 2600  50.0\n",
      "Nanette Cambrault 7500  80.0\n",
      "Janette King  10000 80.0\n",
      "Lindsey Smith 8000  80.0\n",
      "Danielle Greene 9500  80.0\n",
      "Sundar Ande  6400  80.0\n",
      "Sundita Kumar 6100  80.0\n",
      "Jonathon Taylor 8600  80.0\n",
      "Winston Taylor 3200  50.0\n",
      "Nandita Sarchand 4200  50.0\n",
      "Jennifer Dilly 3600  50.0\n",
      "Randall Perkins 2500  50.0\n",
      "Vance Jones 2800  50.0\n",
      "Donald OConnell 2600  50.0\n",
      "Jennifer Whalen 4400  10.0\n"
     ]
    }
   ],
   "source": [
    "#19-display the first, last name, salary and department number for those employees \n",
    "#who holds a letter n as a 3rd character in their first name.\n",
    "\n",
    "result=df_EMPLOYEES[df_EMPLOYEES['first_name'].str[2:3]=='n']\n",
    "for index, row in result.iterrows():\n",
    "    print(row['first_name'].ljust(5),row['last_name'].ljust(5),str(row['salary']).ljust(5),row['department_id'])"
   ]
  },
  {
   "cell_type": "code",
   "execution_count": 46,
   "id": "001e321b",
   "metadata": {},
   "outputs": [
    {
     "name": "stdout",
     "output_type": "stream",
     "text": [
      "Steven     AD_PRES    24000      90.0\n",
      "Neena      AD_VP      17000      90.0\n",
      "Lex        AD_VP      17000      90.0\n",
      "Alexander  IT_PROG    9000       60.0\n",
      "Bruce      IT_PROG    6000       60.0\n",
      "David      IT_PROG    4800       60.0\n",
      "Valli      IT_PROG    4800       60.0\n",
      "Diana      IT_PROG    4200       60.0\n",
      "Nancy      FI_MGR     12000      100.0\n",
      "Daniel     FI_ACCOUNT 9000       100.0\n",
      "John       FI_ACCOUNT 8200       100.0\n",
      "Ismael     FI_ACCOUNT 7700       100.0\n",
      "Jose Manuel FI_ACCOUNT 7800       100.0\n",
      "Luis       FI_ACCOUNT 6900       100.0\n",
      "Kimberely  SA_REP     7000       nan\n",
      "Jennifer   AD_ASST    4400       10.0\n",
      "Michael    MK_MAN     13000      20.0\n",
      "Pat        MK_REP     6000       20.0\n",
      "Susan      HR_REP     6500       40.0\n",
      "Hermann    PR_REP     10000      70.0\n",
      "Shelley    AC_MGR     12000      110.0\n",
      "William    AC_ACCOUNT 8300       110.0\n"
     ]
    }
   ],
   "source": [
    "#20-display the first name, job id, salary and department for those employees not working in the departments 50,30 and 80\n",
    "result=df_EMPLOYEES[~df_EMPLOYEES['department_id'].isin([50,30,80])]\n",
    "for index,row in result.iterrows():\n",
    "    print(row['first_name'].ljust(10),row['job_id'].ljust(10),str(row['salary']).ljust(10),row['department_id'])"
   ]
  },
  {
   "cell_type": "code",
   "execution_count": 56,
   "id": "34ca47cd",
   "metadata": {},
   "outputs": [
    {
     "name": "stdout",
     "output_type": "stream",
     "text": [
      "   employee_id  start_date   end_date`      job_id  department_id\n",
      "1          101  1989-09-21  1993-10-27  AC_ACCOUNT            110\n",
      "2          101  1993-10-28  1997-03-15      AC_MGR            110\n",
      "6          200  1987-09-17  1993-06-17     AD_ASST             90\n",
      "7          176  1998-03-24  1998-12-31      SA_REP             80\n",
      "8          176  1999-01-01  1999-12-31      SA_MAN             80\n",
      "9          200  1994-07-01  1998-12-31  AC_ACCOUNT             90\n"
     ]
    }
   ],
   "source": [
    "#21-display the ID for those employees who did two or more jobs in the past.\n",
    "result=df_JOB_HISTORY.groupby('employee_id')\n",
    "print(result.filter(lambda x:len(x)>1))#.groupby('employee_id').size().sort_values(ascending=True))\n"
   ]
  },
  {
   "cell_type": "code",
   "execution_count": 59,
   "id": "5b646e3a",
   "metadata": {},
   "outputs": [
    {
     "name": "stdout",
     "output_type": "stream",
     "text": [
      "            salary\n",
      "min    2100.000000\n",
      "max   24000.000000\n",
      "mean   6461.682243\n"
     ]
    }
   ],
   "source": [
    "#22-calculate minimum, maximum and mean salary from employees file\n",
    "print(df_EMPLOYEES.agg({'salary':['min','max','mean']}))"
   ]
  },
  {
   "cell_type": "code",
   "execution_count": 60,
   "id": "499de446",
   "metadata": {},
   "outputs": [
    {
     "name": "stdout",
     "output_type": "stream",
     "text": [
      "FI_ACCOUNT      Accountant                          4200      9000\n",
      "AC_MGR          Accounting Manager                  8200      16000\n",
      "AD_ASST         Administration Assistant            3000      6000\n",
      "AD_VP           Administration Vice President       15000     30000\n",
      "FI_MGR          Finance Manager                     8200      16000\n",
      "HR_REP          Human Resources Representative      4000      9000\n",
      "MK_MAN          Marketing Manager                   9000      15000\n",
      "MK_REP          Marketing Representative            4000      9000\n",
      "AD_PRES         President                           20000     40000\n",
      "IT_PROG         Programmer                          4000      10000\n",
      "AC_ACCOUNT      Public Accountant                   4200      9000\n",
      "PR_REP          Public Relations Representative     4500      10500\n",
      "PU_CLERK        Purchasing Clerk                    2500      5500\n",
      "PU_MAN          Purchasing Manager                  8000      15000\n",
      "SA_MAN          Sales Manager                       10000     20000\n",
      "SA_REP          Sales Representative                6000      12000\n",
      "SH_CLERK        Shipping Clerk                      2500      5500\n",
      "ST_CLERK        Stock Clerk                         2000      5000\n",
      "ST_MAN          Stock Manager                       5500      8500\n"
     ]
    }
   ],
   "source": [
    "#23-display the details of jobs in descending sequence on job title\n",
    "result=df_JOBS.sort_values('job_title')\n",
    "for index, row in result.iterrows():\n",
    "    print(row['job_id'].ljust(15),row['job_title'].ljust(35),str(row['min_salary']).ljust(9),row['max_salary'])"
   ]
  },
  {
   "cell_type": "code",
   "execution_count": 62,
   "id": "61e6c4ce",
   "metadata": {},
   "outputs": [
    {
     "name": "stdout",
     "output_type": "stream",
     "text": [
      "John            Russell         SA_MAN          2004-10-01\n",
      "Karen           Partners        SA_MAN          2005-01-05\n",
      "Alberto         Errazuriz       SA_MAN          2005-03-10\n",
      "Gerald          Cambrault       SA_MAN          2007-10-15\n",
      "Eleni           Zlotkey         SA_MAN          2008-01-29\n",
      "Peter           Tucker          SA_REP          2005-01-30\n",
      "David           Bernstein       SA_REP          2005-03-24\n",
      "Peter           Hall            SA_REP          2005-08-20\n",
      "Christopher     Olsen           SA_REP          2006-03-30\n",
      "Nanette         Cambrault       SA_REP          2006-12-09\n",
      "Oliver          Tuvault         SA_REP          2007-11-23\n",
      "Janette         King            SA_REP          2004-01-30\n",
      "Patrick         Sully           SA_REP          2004-03-04\n",
      "Allan           McEwen          SA_REP          2004-08-01\n",
      "Lindsey         Smith           SA_REP          2005-03-10\n",
      "Louise          Doran           SA_REP          2005-12-15\n",
      "Sarath          Sewall          SA_REP          2006-11-03\n",
      "Clara           Vishney         SA_REP          2005-11-11\n",
      "Danielle        Greene          SA_REP          2007-03-19\n",
      "Mattea          Marvins         SA_REP          2008-01-24\n",
      "David           Lee             SA_REP          2008-02-23\n",
      "Sundar          Ande            SA_REP          2008-03-24\n",
      "Amit            Banda           SA_REP          2008-04-21\n",
      "Lisa            Ozer            SA_REP          2005-03-11\n",
      "Harrison        Bloom           SA_REP          2006-03-23\n",
      "Tayler          Fox             SA_REP          2006-01-24\n",
      "William         Smith           SA_REP          2007-02-23\n",
      "Elizabeth       Bates           SA_REP          2007-03-24\n",
      "Sundita         Kumar           SA_REP          2008-04-21\n",
      "Ellen           Abel            SA_REP          2004-05-11\n",
      "Alyssa          Hutton          SA_REP          2005-03-19\n",
      "Jonathon        Taylor          SA_REP          2006-03-24\n",
      "Jack            Livingston      SA_REP          2006-04-23\n",
      "Kimberely       Grant           SA_REP          2007-05-24\n",
      "Charles         Johnson         SA_REP          2008-01-04\n"
     ]
    }
   ],
   "source": [
    "#24-display the first and last name and date of joining of the employees who is either Sales Representative or Sales Man\n",
    "result = df_EMPLOYEES[df_EMPLOYEES['job_id'].isin(['SA_REP', 'SA_MAN'])]\n",
    "for index, row in result.iterrows():\n",
    "    print(row['first_name'].ljust(15),row['last_name'].ljust(15),str(row['job_id']).ljust(15),str(row['hire_date']).ljust(10))"
   ]
  },
  {
   "cell_type": "code",
   "execution_count": null,
   "id": "327b0b5a",
   "metadata": {},
   "outputs": [],
   "source": []
  }
 ],
 "metadata": {
  "kernelspec": {
   "display_name": "Python 3 (ipykernel)",
   "language": "python",
   "name": "python3"
  },
  "language_info": {
   "codemirror_mode": {
    "name": "ipython",
    "version": 3
   },
   "file_extension": ".py",
   "mimetype": "text/x-python",
   "name": "python",
   "nbconvert_exporter": "python",
   "pygments_lexer": "ipython3",
   "version": "3.9.7"
  }
 },
 "nbformat": 4,
 "nbformat_minor": 5
}
