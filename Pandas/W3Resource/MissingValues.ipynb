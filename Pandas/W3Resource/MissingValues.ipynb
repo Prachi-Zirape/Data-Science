{
 "cells": [
  {
   "cell_type": "code",
   "execution_count": 5,
   "id": "4b591506",
   "metadata": {},
   "outputs": [
    {
     "name": "stdout",
     "output_type": "stream",
     "text": [
      "Original Orders DataFrame:\n",
      "     ord_no  purch_amt    ord_date  customer_id  salesman_id\n",
      "0   70001.0     150.50  2012-10-05         3002       5002.0\n",
      "1       NaN     270.65  2012-09-10         3001       5003.0\n",
      "2   70002.0      65.26         NaN         3001       5001.0\n",
      "3   70004.0     110.50  2012-08-17         3003          NaN\n",
      "4       NaN     948.50  2012-09-10         3002       5002.0\n",
      "5   70005.0    2400.60  2012-07-27         3001       5001.0\n",
      "6       NaN    5760.00  2012-09-10         3001       5001.0\n",
      "7   70010.0    1983.43  2012-10-10         3004          NaN\n",
      "8   70003.0    2480.40  2012-10-10         3003       5003.0\n",
      "9   70012.0     250.45  2012-06-27         3002       5002.0\n",
      "10      NaN      75.29  2012-08-17         3001       5003.0\n",
      "11  70013.0    3045.60  2012-04-25         3001          NaN\n",
      "\n",
      "    ord_no  purch_amt  ord_date  customer_id  salesman_id\n",
      "0    False      False     False        False        False\n",
      "1     True      False     False        False        False\n",
      "2    False      False      True        False        False\n",
      "3    False      False     False        False         True\n",
      "4     True      False     False        False        False\n",
      "5    False      False     False        False        False\n",
      "6     True      False     False        False        False\n",
      "7    False      False     False        False         True\n",
      "8    False      False     False        False        False\n",
      "9    False      False     False        False        False\n",
      "10    True      False     False        False        False\n",
      "11   False      False     False        False         True\n",
      "\n",
      "    ord_no  purch_amt  ord_date  customer_id  salesman_id\n",
      "0    False      False     False        False        False\n",
      "1     True      False     False        False        False\n",
      "2    False      False      True        False        False\n",
      "3    False      False     False        False         True\n",
      "4     True      False     False        False        False\n",
      "5    False      False     False        False        False\n",
      "6     True      False     False        False        False\n",
      "7    False      False     False        False         True\n",
      "8    False      False     False        False        False\n",
      "9    False      False     False        False        False\n",
      "10    True      False     False        False        False\n",
      "11   False      False     False        False         True\n"
     ]
    }
   ],
   "source": [
    "#Date-10/31/22\n",
    "#1-detect missing values of a given DataFrame. Display True or False\n",
    "import pandas as pd\n",
    "import numpy as np\n",
    "\n",
    "df = pd.DataFrame({\n",
    "'ord_no':[70001,np.nan,70002,70004,np.nan,70005,np.nan,70010,70003,70012,np.nan,70013],\n",
    "'purch_amt':[150.5,270.65,65.26,110.5,948.5,2400.6,5760,1983.43,2480.4,250.45, 75.29,3045.6],\n",
    "'ord_date': ['2012-10-05','2012-09-10',np.nan,'2012-08-17','2012-09-10','2012-07-27','2012-09-10','2012-10-10','2012-10-10','2012-06-27','2012-08-17','2012-04-25'],\n",
    "'customer_id':[3002,3001,3001,3003,3002,3001,3001,3004,3003,3002,3001,3001],\n",
    "'salesman_id':[5002,5003,5001,np.nan,5002,5001,5001,np.nan,5003,5002,5003,np.nan]})\n",
    "\n",
    "print(\"Original Orders DataFrame:\")\n",
    "print(df)\n",
    "\n",
    "print()\n",
    "print(df.isnull())\n",
    "\n",
    "print()\n",
    "print(df.isna())"
   ]
  },
  {
   "cell_type": "code",
   "execution_count": 14,
   "id": "26dd0732",
   "metadata": {},
   "outputs": [
    {
     "name": "stdout",
     "output_type": "stream",
     "text": [
      "ord_no          True\n",
      "purch_amt      False\n",
      "ord_date        True\n",
      "customer_id    False\n",
      "salesman_id     True\n",
      "dtype: bool\n"
     ]
    }
   ],
   "source": [
    "#2-identify the column(s) of a given DataFrame which have at least one missing value\n",
    "\n",
    "result=df.isna().any()\n",
    "print(result)"
   ]
  },
  {
   "cell_type": "code",
   "execution_count": 20,
   "id": "3e1d9cfd",
   "metadata": {},
   "outputs": [
    {
     "name": "stdout",
     "output_type": "stream",
     "text": [
      "ord_no         4\n",
      "purch_amt      0\n",
      "ord_date       1\n",
      "customer_id    0\n",
      "salesman_id    3\n",
      "dtype: int64\n"
     ]
    }
   ],
   "source": [
    "#3-count the number of missing values in each column of a given DataFrame\n",
    "result=df.isnull().sum()\n",
    "print(result)"
   ]
  },
  {
   "cell_type": "code",
   "execution_count": 34,
   "id": "4da8d204",
   "metadata": {},
   "outputs": [
    {
     "name": "stdout",
     "output_type": "stream",
     "text": [
      "Original Orders DataFrame:\n",
      "   ord_no purch_amt    ord_date customer_id salesman_id\n",
      "0   70001     150.5           ?        3002        5002\n",
      "1     NaN    270.65  2012-09-10        3001        5003\n",
      "2   70002     65.26         NaN        3001           ?\n",
      "3   70004     110.5  2012-08-17        3003        5001\n",
      "4     NaN     948.5  2012-09-10        3002         NaN\n",
      "5   70005    2400.6  2012-07-27        3001        5002\n",
      "6      --      5760  2012-09-10        3001        5001\n",
      "7   70010         ?  2012-10-10        3004           ?\n",
      "8   70003     12.43  2012-10-10          --        5003\n",
      "9   70012    2480.4  2012-06-27        3002        5002\n",
      "10    NaN    250.45  2012-08-17        3001        5003\n",
      "11  70013    3045.6  2012-04-25        3001          --\n",
      "\n",
      "     ord_no  purch_amt    ord_date  customer_id  salesman_id\n",
      "0   70001.0     150.50         NaN       3002.0       5002.0\n",
      "1       NaN     270.65  2012-09-10       3001.0       5003.0\n",
      "2   70002.0      65.26         NaN       3001.0          NaN\n",
      "3   70004.0     110.50  2012-08-17       3003.0       5001.0\n",
      "4       NaN     948.50  2012-09-10       3002.0          NaN\n",
      "5   70005.0    2400.60  2012-07-27       3001.0       5002.0\n",
      "6       NaN    5760.00  2012-09-10       3001.0       5001.0\n",
      "7   70010.0        NaN  2012-10-10       3004.0          NaN\n",
      "8   70003.0      12.43  2012-10-10          NaN       5003.0\n",
      "9   70012.0    2480.40  2012-06-27       3002.0       5002.0\n",
      "10      NaN     250.45  2012-08-17       3001.0       5003.0\n",
      "11  70013.0    3045.60  2012-04-25       3001.0          NaN\n"
     ]
    }
   ],
   "source": [
    "#4- find and replace the missing values in a given DataFrame which do not have any valuable information\n",
    "import pandas as pd\n",
    "import numpy as np\n",
    "\n",
    "df = pd.DataFrame({\n",
    "'ord_no':[70001,np.nan,70002,70004,np.nan,70005,\"--\",70010,70003,70012,np.nan,70013],\n",
    "'purch_amt':[150.5,270.65,65.26,110.5,948.5,2400.6,5760,\"?\",12.43,2480.4,250.45, 3045.6],\n",
    "'ord_date': ['?','2012-09-10',np.nan,'2012-08-17','2012-09-10','2012-07-27','2012-09-10','2012-10-10','2012-10-10','2012-06-27','2012-08-17','2012-04-25'],\n",
    "'customer_id':[3002,3001,3001,3003,3002,3001,3001,3004,\"--\",3002,3001,3001],\n",
    "'salesman_id':[5002,5003,\"?\",5001,np.nan,5002,5001,\"?\",5003,5002,5003,\"--\"]})\n",
    "print(\"Original Orders DataFrame:\")\n",
    "print(df)\n",
    "print()\n",
    "result=df.replace({\"?\": np.NaN, '--': np.NaN})\n",
    "print(result)"
   ]
  },
  {
   "cell_type": "code",
   "execution_count": 35,
   "id": "08002da8",
   "metadata": {},
   "outputs": [
    {
     "name": "stdout",
     "output_type": "stream",
     "text": [
      "     ord_no  purch_amt    ord_date  customer_id  salesman_id\n",
      "0   70001.0     150.50  2012-10-05         3002       5002.0\n",
      "1       NaN     270.65  2012-09-10         3001       5003.0\n",
      "2   70002.0      65.26         NaN         3001       5001.0\n",
      "3   70004.0     110.50  2012-08-17         3003          NaN\n",
      "4       NaN     948.50  2012-09-10         3002       5002.0\n",
      "5   70005.0    2400.60  2012-07-27         3001       5001.0\n",
      "6       NaN    5760.00  2012-09-10         3001       5001.0\n",
      "7   70010.0    1983.43  2012-10-10         3004          NaN\n",
      "8   70003.0    2480.40  2012-10-10         3003       5003.0\n",
      "9   70012.0     250.45  2012-06-27         3002       5002.0\n",
      "10      NaN      75.29  2012-08-17         3001       5003.0\n",
      "11  70013.0    3045.60  2012-04-25         3001          NaN\n",
      "\n",
      "    ord_no  purch_amt    ord_date  customer_id  salesman_id\n",
      "0  70001.0     150.50  2012-10-05         3002       5002.0\n",
      "5  70005.0    2400.60  2012-07-27         3001       5001.0\n",
      "8  70003.0    2480.40  2012-10-10         3003       5003.0\n",
      "9  70012.0     250.45  2012-06-27         3002       5002.0\n"
     ]
    }
   ],
   "source": [
    "#5-drop the rows where at least one element is missing in a given DataFrame\n",
    "import pandas as pd\n",
    "import numpy as np\n",
    "df = pd.DataFrame({\n",
    "'ord_no':[70001,np.nan,70002,70004,np.nan,70005,np.nan,70010,70003,70012,np.nan,70013],\n",
    "'purch_amt':[150.5,270.65,65.26,110.5,948.5,2400.6,5760,1983.43,2480.4,250.45, 75.29,3045.6],\n",
    "'ord_date': ['2012-10-05','2012-09-10',np.nan,'2012-08-17','2012-09-10','2012-07-27','2012-09-10','2012-10-10','2012-10-10','2012-06-27','2012-08-17','2012-04-25'],\n",
    "'customer_id':[3002,3001,3001,3003,3002,3001,3001,3004,3003,3002,3001,3001],\n",
    "'salesman_id':[5002,5003,5001,np.nan,5002,5001,5001,np.nan,5003,5002,5003,np.nan]})\n",
    "print(df)\n",
    "print()\n",
    "result=df.dropna()\n",
    "print(result)"
   ]
  },
  {
   "cell_type": "code",
   "execution_count": 36,
   "id": "d5064a54",
   "metadata": {},
   "outputs": [
    {
     "name": "stdout",
     "output_type": "stream",
     "text": [
      "     ord_no  purch_amt    ord_date  customer_id  salesman_id\n",
      "0   70001.0     150.50  2012-10-05         3002       5002.0\n",
      "1       NaN     270.65  2012-09-10         3001       5003.0\n",
      "2   70002.0      65.26         NaN         3001       5001.0\n",
      "3   70004.0     110.50  2012-08-17         3003          NaN\n",
      "4       NaN     948.50  2012-09-10         3002       5002.0\n",
      "5   70005.0    2400.60  2012-07-27         3001       5001.0\n",
      "6       NaN    5760.00  2012-09-10         3001       5001.0\n",
      "7   70010.0    1983.43  2012-10-10         3004          NaN\n",
      "8   70003.0    2480.40  2012-10-10         3003       5003.0\n",
      "9   70012.0     250.45  2012-06-27         3002       5002.0\n",
      "10      NaN      75.29  2012-08-17         3001       5003.0\n",
      "11  70013.0    3045.60  2012-04-25         3001          NaN\n",
      "    purch_amt  customer_id\n",
      "0      150.50         3002\n",
      "1      270.65         3001\n",
      "2       65.26         3001\n",
      "3      110.50         3003\n",
      "4      948.50         3002\n",
      "5     2400.60         3001\n",
      "6     5760.00         3001\n",
      "7     1983.43         3004\n",
      "8     2480.40         3003\n",
      "9      250.45         3002\n",
      "10      75.29         3001\n",
      "11    3045.60         3001\n"
     ]
    }
   ],
   "source": [
    "#6= drop the columns where at least one element is missing in a given DataFrame.\n",
    "import pandas as pd\n",
    "import numpy as np\n",
    "\n",
    "df = pd.DataFrame({\n",
    "'ord_no':[70001,np.nan,70002,70004,np.nan,70005,np.nan,70010,70003,70012,np.nan,70013],\n",
    "'purch_amt':[150.5,270.65,65.26,110.5,948.5,2400.6,5760,1983.43,2480.4,250.45, 75.29,3045.6],\n",
    "'ord_date': ['2012-10-05','2012-09-10',np.nan,'2012-08-17','2012-09-10','2012-07-27','2012-09-10','2012-10-10','2012-10-10','2012-06-27','2012-08-17','2012-04-25'],\n",
    "'customer_id':[3002,3001,3001,3003,3002,3001,3001,3004,3003,3002,3001,3001],\n",
    "'salesman_id':[5002,5003,5001,np.nan,5002,5001,5001,np.nan,5003,5002,5003,np.nan]})\n",
    "print(df)\n",
    "\n",
    "result=df.dropna(axis=1)\n",
    "print(result)"
   ]
  },
  {
   "cell_type": "code",
   "execution_count": 38,
   "id": "5f324991",
   "metadata": {},
   "outputs": [
    {
     "name": "stdout",
     "output_type": "stream",
     "text": [
      "     ord_no  purch_amt    ord_date  customer_id  salesman_id\n",
      "0   70001.0     150.50  2012-10-05         3002       5002.0\n",
      "1       NaN     270.65  2012-09-10         3001       5003.0\n",
      "2   70002.0      65.26         NaN         3001       5001.0\n",
      "3   70004.0     110.50  2012-08-17         3003          NaN\n",
      "4       NaN     948.50  2012-09-10         3002       5002.0\n",
      "5   70005.0    2400.60  2012-07-27         3001       5001.0\n",
      "6       NaN    5760.00  2012-09-10         3001       5001.0\n",
      "7   70010.0    1983.43  2012-10-10         3004          NaN\n",
      "8   70003.0    2480.40  2012-10-10         3003       5003.0\n",
      "9   70012.0     250.45  2012-06-27         3002       5002.0\n",
      "10      NaN      75.29  2012-08-17         3001       5003.0\n",
      "11  70013.0    3045.60  2012-04-25         3001          NaN\n",
      "    purch_amt  customer_id\n",
      "0      150.50         3002\n",
      "1      270.65         3001\n",
      "2       65.26         3001\n",
      "3      110.50         3003\n",
      "4      948.50         3002\n",
      "5     2400.60         3001\n",
      "6     5760.00         3001\n",
      "7     1983.43         3004\n",
      "8     2480.40         3003\n",
      "9      250.45         3002\n",
      "10      75.29         3001\n",
      "11    3045.60         3001\n"
     ]
    }
   ],
   "source": [
    "#alternate\n",
    "import pandas as pd\n",
    "import numpy as np\n",
    "\n",
    "df = pd.DataFrame({\n",
    "'ord_no':[70001,np.nan,70002,70004,np.nan,70005,np.nan,70010,70003,70012,np.nan,70013],\n",
    "'purch_amt':[150.5,270.65,65.26,110.5,948.5,2400.6,5760,1983.43,2480.4,250.45, 75.29,3045.6],\n",
    "'ord_date': ['2012-10-05','2012-09-10',np.nan,'2012-08-17','2012-09-10','2012-07-27','2012-09-10','2012-10-10','2012-10-10','2012-06-27','2012-08-17','2012-04-25'],\n",
    "'customer_id':[3002,3001,3001,3003,3002,3001,3001,3004,3003,3002,3001,3001],\n",
    "'salesman_id':[5002,5003,5001,np.nan,5002,5001,5001,np.nan,5003,5002,5003,np.nan]})\n",
    "print(df)\n",
    "\n",
    "result=df.dropna(axis='columns')\n",
    "print(result)"
   ]
  },
  {
   "cell_type": "code",
   "execution_count": 40,
   "id": "9c2e529f",
   "metadata": {},
   "outputs": [
    {
     "name": "stdout",
     "output_type": "stream",
     "text": [
      "Original Dataframe\n",
      "     ord_no  purch_amt    ord_date  customer_id\n",
      "0       NaN        NaN         NaN          NaN\n",
      "1       NaN     270.65  2012-09-10       3001.0\n",
      "2   70002.0      65.26         NaN       3001.0\n",
      "3   70004.0     110.50  2012-08-17       3003.0\n",
      "4       NaN     948.50  2012-09-10       3002.0\n",
      "5   70005.0    2400.60  2012-07-27       3001.0\n",
      "6       NaN    5760.00  2012-09-10       3001.0\n",
      "7   70010.0    1983.43  2012-10-10       3004.0\n",
      "8   70003.0    2480.40  2012-10-10       3003.0\n",
      "9   70012.0     250.45  2012-06-27       3002.0\n",
      "10      NaN      75.29  2012-08-17       3001.0\n",
      "11  70013.0    3045.60  2012-04-25       3001.0\n",
      "\n",
      "dropping rows where all values are Null\n",
      "     ord_no  purch_amt    ord_date  customer_id\n",
      "1       NaN     270.65  2012-09-10       3001.0\n",
      "2   70002.0      65.26         NaN       3001.0\n",
      "3   70004.0     110.50  2012-08-17       3003.0\n",
      "4       NaN     948.50  2012-09-10       3002.0\n",
      "5   70005.0    2400.60  2012-07-27       3001.0\n",
      "6       NaN    5760.00  2012-09-10       3001.0\n",
      "7   70010.0    1983.43  2012-10-10       3004.0\n",
      "8   70003.0    2480.40  2012-10-10       3003.0\n",
      "9   70012.0     250.45  2012-06-27       3002.0\n",
      "10      NaN      75.29  2012-08-17       3001.0\n",
      "11  70013.0    3045.60  2012-04-25       3001.0\n"
     ]
    }
   ],
   "source": [
    "#7-drop the rows where all elements are missing in a given DataFrame.\n",
    "import pandas as pd\n",
    "import numpy as np\n",
    "\n",
    "df = pd.DataFrame({\n",
    "'ord_no':[np.nan,np.nan,70002,70004,np.nan,70005,np.nan,70010,70003,70012,np.nan,70013],\n",
    "'purch_amt':[np.nan,270.65,65.26,110.5,948.5,2400.6,5760,1983.43,2480.4,250.45, 75.29,3045.6],\n",
    "'ord_date': [np.nan,'2012-09-10',np.nan,'2012-08-17','2012-09-10','2012-07-27','2012-09-10','2012-10-10','2012-10-10','2012-06-27','2012-08-17','2012-04-25'],\n",
    "'customer_id':[np.nan,3001,3001,3003,3002,3001,3001,3004,3003,3002,3001,3001]})\n",
    "print(\"Original Dataframe\")\n",
    "print(df)\n",
    "print()\n",
    "print(\"dropping rows where all values are Null\")\n",
    "print(df.dropna(how='all'))"
   ]
  },
  {
   "cell_type": "code",
   "execution_count": 41,
   "id": "52c5fdc7",
   "metadata": {},
   "outputs": [
    {
     "name": "stdout",
     "output_type": "stream",
     "text": [
      "Original Orders DataFrame:\n",
      "     ord_no  purch_amt    ord_date  customer_id\n",
      "0       NaN        NaN         NaN          NaN\n",
      "1       NaN     270.65  2012-09-10       3001.0\n",
      "2   70002.0      65.26         NaN       3001.0\n",
      "3       NaN        NaN         NaN          NaN\n",
      "4       NaN     948.50  2012-09-10       3002.0\n",
      "5   70005.0    2400.60  2012-07-27       3001.0\n",
      "6       NaN    5760.00  2012-09-10       3001.0\n",
      "7   70010.0    1983.43  2012-10-10       3004.0\n",
      "8   70003.0    2480.40  2012-10-10       3003.0\n",
      "9   70012.0     250.45  2012-06-27       3002.0\n",
      "10      NaN      75.29  2012-08-17       3001.0\n",
      "11      NaN        NaN         NaN          NaN\n",
      "\n",
      "Keep the rows with at least 2 NaN values of the said DataFrame:\n",
      "     ord_no  purch_amt    ord_date  customer_id\n",
      "1       NaN     270.65  2012-09-10       3001.0\n",
      "2   70002.0      65.26         NaN       3001.0\n",
      "4       NaN     948.50  2012-09-10       3002.0\n",
      "5   70005.0    2400.60  2012-07-27       3001.0\n",
      "6       NaN    5760.00  2012-09-10       3001.0\n",
      "7   70010.0    1983.43  2012-10-10       3004.0\n",
      "8   70003.0    2480.40  2012-10-10       3003.0\n",
      "9   70012.0     250.45  2012-06-27       3002.0\n",
      "10      NaN      75.29  2012-08-17       3001.0\n"
     ]
    }
   ],
   "source": [
    "#8-keep the rows with at least 2 NaN values in a given DataFrame\n",
    "import pandas as pd\n",
    "import numpy as np\n",
    "df = pd.DataFrame({\n",
    "'ord_no':[np.nan,np.nan,70002,np.nan,np.nan,70005,np.nan,70010,70003,70012,np.nan,np.nan],\n",
    "'purch_amt':[np.nan,270.65,65.26,np.nan,948.5,2400.6,5760,1983.43,2480.4,250.45, 75.29,np.nan],\n",
    "'ord_date': [np.nan,'2012-09-10',np.nan,np.nan,'2012-09-10','2012-07-27','2012-09-10','2012-10-10','2012-10-10','2012-06-27','2012-08-17',np.nan],\n",
    "'customer_id':[np.nan,3001,3001,np.nan,3002,3001,3001,3004,3003,3002,3001,np.nan]})\n",
    "print(\"Original Orders DataFrame:\")\n",
    "print(df)\n",
    "\n",
    "print(\"\\nKeep the rows with at least 2 NaN values of the said DataFrame:\")\n",
    "result=df.dropna(thresh=2)\n",
    "print(result)"
   ]
  },
  {
   "cell_type": "code",
   "execution_count": 42,
   "id": "f9bd8545",
   "metadata": {},
   "outputs": [
    {
     "name": "stdout",
     "output_type": "stream",
     "text": [
      "Original Orders DataFrame:\n",
      "     ord_no  purch_amt    ord_date  customer_id\n",
      "0       NaN        NaN         NaN          NaN\n",
      "1       NaN     270.65  2012-09-10       3001.0\n",
      "2   70002.0      65.26         NaN       3001.0\n",
      "3       NaN        NaN         NaN          NaN\n",
      "4       NaN     948.50  2012-09-10       3002.0\n",
      "5   70005.0    2400.60  2012-07-27       3001.0\n",
      "6       NaN    5760.00  2012-09-10       3001.0\n",
      "7   70010.0    1983.43  2012-10-10       3004.0\n",
      "8   70003.0    2480.40  2012-10-10       3003.0\n",
      "9   70012.0     250.45  2012-06-27       3002.0\n",
      "10      NaN      75.29  2012-08-17       3001.0\n",
      "11      NaN        NaN         NaN          NaN\n",
      "\n",
      "Drop those rows in which specific columns have missing values:\n",
      "    ord_no  purch_amt    ord_date  customer_id\n",
      "2  70002.0      65.26         NaN       3001.0\n",
      "5  70005.0    2400.60  2012-07-27       3001.0\n",
      "7  70010.0    1983.43  2012-10-10       3004.0\n",
      "8  70003.0    2480.40  2012-10-10       3003.0\n",
      "9  70012.0     250.45  2012-06-27       3002.0\n"
     ]
    }
   ],
   "source": [
    "#9- to drop those rows from a given DataFrame in which specific columns have missing values.\n",
    "import pandas as pd\n",
    "import numpy as np\n",
    "df = pd.DataFrame({\n",
    "'ord_no':[np.nan,np.nan,70002,np.nan,np.nan,70005,np.nan,70010,70003,70012,np.nan,np.nan],\n",
    "'purch_amt':[np.nan,270.65,65.26,np.nan,948.5,2400.6,5760,1983.43,2480.4,250.45, 75.29,np.nan],\n",
    "'ord_date': [np.nan,'2012-09-10',np.nan,np.nan,'2012-09-10','2012-07-27','2012-09-10','2012-10-10','2012-10-10','2012-06-27','2012-08-17',np.nan],\n",
    "'customer_id':[np.nan,3001,3001,np.nan,3002,3001,3001,3004,3003,3002,3001,np.nan]})\n",
    "print(\"Original Orders DataFrame:\")\n",
    "print(df)\n",
    "\n",
    "print(\"\\nDrop those rows in which specific columns have missing values:\")\n",
    "result=df.dropna(subset=['ord_no','customer_id'])\n",
    "print(result)"
   ]
  },
  {
   "cell_type": "code",
   "execution_count": 46,
   "id": "ce079538",
   "metadata": {},
   "outputs": [
    {
     "name": "stdout",
     "output_type": "stream",
     "text": [
      "Original Orders DataFrame:\n",
      "     ord_no  purch_amt    ord_date  customer_id\n",
      "0       NaN        NaN         NaN          NaN\n",
      "1       NaN     270.65  2012-09-10       3001.0\n",
      "2   70002.0      65.26         NaN       3001.0\n",
      "3       NaN        NaN         NaN          NaN\n",
      "4       NaN     948.50  2012-09-10       3002.0\n",
      "5   70005.0    2400.60  2012-07-27       3001.0\n",
      "6       NaN    5760.00  2012-09-10       3001.0\n",
      "7   70010.0    1983.43  2012-10-10       3004.0\n",
      "8   70003.0    2480.40  2012-10-10       3003.0\n",
      "9   70012.0     250.45  2012-06-27       3002.0\n",
      "10      NaN      75.29  2012-08-17       3001.0\n",
      "11      NaN        NaN         NaN          NaN\n",
      "\n",
      "Keep the said DataFrame with valid entries:\n",
      "    ord_no  purch_amt    ord_date  customer_id\n",
      "5  70005.0    2400.60  2012-07-27       3001.0\n",
      "7  70010.0    1983.43  2012-10-10       3004.0\n",
      "8  70003.0    2480.40  2012-10-10       3003.0\n",
      "9  70012.0     250.45  2012-06-27       3002.0\n"
     ]
    }
   ],
   "source": [
    "#10-keep the valid entries of a given DataFrame\n",
    "import pandas as pd\n",
    "import numpy as np\n",
    "\n",
    "df = pd.DataFrame({\n",
    "'ord_no':[np.nan,np.nan,70002,np.nan,np.nan,70005,np.nan,70010,70003,70012,np.nan,np.nan],\n",
    "'purch_amt':[np.nan,270.65,65.26,np.nan,948.5,2400.6,5760,1983.43,2480.4,250.45, 75.29,np.nan],\n",
    "'ord_date': [np.nan,'2012-09-10',np.nan,np.nan,'2012-09-10','2012-07-27','2012-09-10','2012-10-10','2012-10-10','2012-06-27','2012-08-17',np.nan],\n",
    "'customer_id':[np.nan,3001,3001,np.nan,3002,3001,3001,3004,3003,3002,3001,np.nan]})\n",
    "print(\"Original Orders DataFrame:\")\n",
    "print(df)\n",
    "\n",
    "print(\"\\nKeep the said DataFrame with valid entries:\")\n",
    "result=df.dropna(inplace=False)\n",
    "print(result)"
   ]
  },
  {
   "cell_type": "code",
   "execution_count": 53,
   "id": "f8c294e3",
   "metadata": {},
   "outputs": [
    {
     "name": "stdout",
     "output_type": "stream",
     "text": [
      "missing values in every columns\n",
      "ord_no         7\n",
      "purch_amt      3\n",
      "ord_date       4\n",
      "customer_id    3\n",
      "dtype: int64\n",
      "\n",
      "totoal missing values\n",
      "17\n"
     ]
    }
   ],
   "source": [
    "#11-calculate the total number of missing values in a DataFrame.\n",
    "print(\"missing values in every columns\")\n",
    "print(df.isna().sum())\n",
    "\n",
    "print(\"\\ntotal missing values\")\n",
    "print(df.isna().sum().sum())"
   ]
  },
  {
   "cell_type": "code",
   "execution_count": 58,
   "id": "0acdc6ed",
   "metadata": {},
   "outputs": [
    {
     "name": "stdout",
     "output_type": "stream",
     "text": [
      "     ord_no  purch_amt    ord_date  customer_id   result\n",
      "0       NaN       0.00         NaN          NaN      0.0\n",
      "1       NaN     270.65  2012-09-10       3001.0      0.0\n",
      "2   70002.0      65.26         NaN       3001.0  70002.0\n",
      "3       NaN       0.00         NaN          NaN      0.0\n",
      "4       NaN     948.50  2012-09-10       3002.0      0.0\n",
      "5   70005.0    2400.60  2012-07-27       3001.0  70005.0\n",
      "6       NaN    5760.00  2012-09-10       3001.0      0.0\n",
      "7   70010.0    1983.43  2012-10-10       3004.0  70010.0\n",
      "8   70003.0    2480.40  2012-10-10       3003.0  70003.0\n",
      "9   70012.0     250.45  2012-06-27       3002.0  70012.0\n",
      "10      NaN      75.29  2012-08-17       3001.0      0.0\n",
      "11      NaN       0.00         NaN          NaN      0.0\n",
      "\n",
      "0        0.00\n",
      "1      270.65\n",
      "2       65.26\n",
      "3        0.00\n",
      "4      948.50\n",
      "5     2400.60\n",
      "6     5760.00\n",
      "7     1983.43\n",
      "8     2480.40\n",
      "9      250.45\n",
      "10      75.29\n",
      "11       0.00\n",
      "Name: purch_amt, dtype: float64\n"
     ]
    }
   ],
   "source": [
    "#12- replace NaNs with a single constant value in specified columns in a DataFrame\n",
    "df['result']=df['ord_no'].replace(np.NaN,0)\n",
    "print(df)\n",
    "\n",
    "print()\n",
    "result=df['purch_amt'].fillna(0,inplace=False)\n",
    "print(result)"
   ]
  },
  {
   "cell_type": "code",
   "execution_count": 59,
   "id": "49a43400",
   "metadata": {},
   "outputs": [
    {
     "name": "stdout",
     "output_type": "stream",
     "text": [
      "     ord_no  purch_amt  sale_amt    ord_date  customer_id  salesman_id\n",
      "0   70001.0     150.50     10.50  2012-10-05         3002       5002.0\n",
      "1       NaN        NaN     20.65  2012-09-10         3001       5003.0\n",
      "2   70002.0      65.26       NaN         NaN         3001       5001.0\n",
      "3   70004.0     110.50     11.50  2012-08-17         3003          NaN\n",
      "4       NaN     948.50     98.50  2012-09-10         3002       5002.0\n",
      "5   70005.0        NaN       NaN  2012-07-27         3001       5001.0\n",
      "6       NaN    5760.00     57.00  2012-09-10         3001       5001.0\n",
      "7   70010.0    1983.43     19.43  2012-10-10         3004          NaN\n",
      "8   70003.0        NaN       NaN  2012-10-10         3003       5003.0\n",
      "9   70012.0     250.45     25.45  2012-06-27         3002       5002.0\n",
      "10      NaN      75.29     75.29  2012-08-17         3001       5003.0\n",
      "11  70013.0    3045.60     35.60  2012-04-25         3001          NaN\n",
      "\n",
      "Replacing NaNs with the value from the previous row (purch_amt):\n",
      "     ord_no  purch_amt  sale_amt    ord_date  customer_id  salesman_id\n",
      "0   70001.0     150.50     10.50  2012-10-05         3002       5002.0\n",
      "1       NaN     150.50     20.65  2012-09-10         3001       5003.0\n",
      "2   70002.0      65.26       NaN         NaN         3001       5001.0\n",
      "3   70004.0     110.50     11.50  2012-08-17         3003          NaN\n",
      "4       NaN     948.50     98.50  2012-09-10         3002       5002.0\n",
      "5   70005.0     948.50       NaN  2012-07-27         3001       5001.0\n",
      "6       NaN    5760.00     57.00  2012-09-10         3001       5001.0\n",
      "7   70010.0    1983.43     19.43  2012-10-10         3004          NaN\n",
      "8   70003.0    1983.43       NaN  2012-10-10         3003       5003.0\n",
      "9   70012.0     250.45     25.45  2012-06-27         3002       5002.0\n",
      "10      NaN      75.29     75.29  2012-08-17         3001       5003.0\n",
      "11  70013.0    3045.60     35.60  2012-04-25         3001          NaN\n",
      "\n",
      "Replacing NaNs with the value from the next row (sale_amt):\n",
      "     ord_no  purch_amt  sale_amt    ord_date  customer_id  salesman_id\n",
      "0   70001.0     150.50     10.50  2012-10-05         3002       5002.0\n",
      "1       NaN     150.50     20.65  2012-09-10         3001       5003.0\n",
      "2   70002.0      65.26     11.50         NaN         3001       5001.0\n",
      "3   70004.0     110.50     11.50  2012-08-17         3003          NaN\n",
      "4       NaN     948.50     98.50  2012-09-10         3002       5002.0\n",
      "5   70005.0     948.50     57.00  2012-07-27         3001       5001.0\n",
      "6       NaN    5760.00     57.00  2012-09-10         3001       5001.0\n",
      "7   70010.0    1983.43     19.43  2012-10-10         3004          NaN\n",
      "8   70003.0    1983.43     25.45  2012-10-10         3003       5003.0\n",
      "9   70012.0     250.45     25.45  2012-06-27         3002       5002.0\n",
      "10      NaN      75.29     75.29  2012-08-17         3001       5003.0\n",
      "11  70013.0    3045.60     35.60  2012-04-25         3001          NaN\n"
     ]
    }
   ],
   "source": [
    "#13- replace NaNs with the value from the previous row or the next row in a given DataFrame.\n",
    "import pandas as pd\n",
    "import numpy as np\n",
    "\n",
    "df = pd.DataFrame({\n",
    "'ord_no':[70001,np.nan,70002,70004,np.nan,70005,np.nan,70010,70003,70012,np.nan,70013],\n",
    "'purch_amt':[150.5,np.nan,65.26,110.5,948.5,np.nan,5760,1983.43,np.nan,250.45, 75.29,3045.6],\n",
    "'sale_amt':[10.5,20.65,np.nan,11.5,98.5,np.nan,57,19.43,np.nan,25.45, 75.29,35.6],\n",
    "'ord_date': ['2012-10-05','2012-09-10',np.nan,'2012-08-17','2012-09-10','2012-07-27','2012-09-10','2012-10-10','2012-10-10','2012-06-27','2012-08-17','2012-04-25'],\n",
    "'customer_id':[3002,3001,3001,3003,3002,3001,3001,3004,3003,3002,3001,3001],\n",
    "'salesman_id':[5002,5003,5001,np.nan,5002,5001,5001,np.nan,5003,5002,5003,np.nan]})\n",
    "\n",
    "print(df)\n",
    "\n",
    "print(\"\\nReplacing NaNs with the value from the previous row (purch_amt):\")\n",
    "df['purch_amt'].fillna(method='pad',inplace=True)\n",
    "print(df)\n",
    "\n",
    "print(\"\\nReplacing NaNs with the value from the next row (sale_amt):\")\n",
    "df['sale_amt'].fillna(method='bfill',inplace=True)\n",
    "print(df)"
   ]
  },
  {
   "cell_type": "code",
   "execution_count": 60,
   "id": "f729f773",
   "metadata": {},
   "outputs": [
    {
     "name": "stdout",
     "output_type": "stream",
     "text": [
      "Original Orders DataFrame:\n",
      "     ord_no  purch_amt  sale_amt    ord_date  customer_id  salesman_id\n",
      "0   70001.0     150.50     10.50  2012-10-05         3002       5002.0\n",
      "1       NaN        NaN     20.65  2012-09-10         3001       5003.0\n",
      "2   70002.0      65.26       NaN         NaN         3001       5001.0\n",
      "3   70004.0     110.50     11.50  2012-08-17         3003          NaN\n",
      "4       NaN     948.50     98.50  2012-09-10         3002       5002.0\n",
      "5   70005.0        NaN       NaN  2012-07-27         3001       5001.0\n",
      "6       NaN    5760.00     57.00  2012-09-10         3001       5001.0\n",
      "7   70010.0    1983.43     19.43  2012-10-10         3004          NaN\n",
      "8   70003.0        NaN       NaN  2012-10-10         3003       5003.0\n",
      "9   70012.0     250.45     25.45  2012-06-27         3002       5002.0\n",
      "10      NaN      75.29     75.29  2012-08-17         3001       5003.0\n",
      "11  70013.0    3045.60     35.60  2012-04-25         3001          NaN\n",
      "Using median in purch_amt to replace NaN:\n",
      "     ord_no  purch_amt  sale_amt    ord_date  customer_id  salesman_id\n",
      "0   70001.0     150.50     10.50  2012-10-05         3002       5002.0\n",
      "1       NaN     250.45     20.65  2012-09-10         3001       5003.0\n",
      "2   70002.0      65.26       NaN         NaN         3001       5001.0\n",
      "3   70004.0     110.50     11.50  2012-08-17         3003          NaN\n",
      "4       NaN     948.50     98.50  2012-09-10         3002       5002.0\n",
      "5   70005.0     250.45       NaN  2012-07-27         3001       5001.0\n",
      "6       NaN    5760.00     57.00  2012-09-10         3001       5001.0\n",
      "7   70010.0    1983.43     19.43  2012-10-10         3004          NaN\n",
      "8   70003.0     250.45       NaN  2012-10-10         3003       5003.0\n",
      "9   70012.0     250.45     25.45  2012-06-27         3002       5002.0\n",
      "10      NaN      75.29     75.29  2012-08-17         3001       5003.0\n",
      "11  70013.0    3045.60     35.60  2012-04-25         3001          NaN\n",
      "Using mean to replace NaN:\n",
      "     ord_no  purch_amt  sale_amt    ord_date  customer_id  salesman_id\n",
      "0   70001.0     150.50     10.50  2012-10-05         3002       5002.0\n",
      "1       NaN     250.45     20.65  2012-09-10         3001       5003.0\n",
      "2   70002.0      65.26     39.00         NaN         3001       5001.0\n",
      "3   70004.0     110.50     11.50  2012-08-17         3003          NaN\n",
      "4       NaN     948.50     98.50  2012-09-10         3002       5002.0\n",
      "5   70005.0     250.45     39.00  2012-07-27         3001       5001.0\n",
      "6       NaN    5760.00     57.00  2012-09-10         3001       5001.0\n",
      "7   70010.0    1983.43     19.43  2012-10-10         3004          NaN\n",
      "8   70003.0     250.45     39.00  2012-10-10         3003       5003.0\n",
      "9   70012.0     250.45     25.45  2012-06-27         3002       5002.0\n",
      "10      NaN      75.29     75.29  2012-08-17         3001       5003.0\n",
      "11  70013.0    3045.60     35.60  2012-04-25         3001          NaN\n"
     ]
    }
   ],
   "source": [
    "#14-replace NaNs with median or mean of the specified columns in a given DataFrame\n",
    "import pandas as pd\n",
    "import numpy as np\n",
    "\n",
    "df = pd.DataFrame({\n",
    "'ord_no':[70001,np.nan,70002,70004,np.nan,70005,np.nan,70010,70003,70012,np.nan,70013],\n",
    "'purch_amt':[150.5,np.nan,65.26,110.5,948.5,np.nan,5760,1983.43,np.nan,250.45, 75.29,3045.6],\n",
    "'sale_amt':[10.5,20.65,np.nan,11.5,98.5,np.nan,57,19.43,np.nan,25.45, 75.29,35.6],\n",
    "'ord_date': ['2012-10-05','2012-09-10',np.nan,'2012-08-17','2012-09-10','2012-07-27','2012-09-10','2012-10-10','2012-10-10','2012-06-27','2012-08-17','2012-04-25'],\n",
    "'customer_id':[3002,3001,3001,3003,3002,3001,3001,3004,3003,3002,3001,3001],\n",
    "'salesman_id':[5002,5003,5001,np.nan,5002,5001,5001,np.nan,5003,5002,5003,np.nan]})\n",
    "print(\"Original Orders DataFrame:\")\n",
    "print(df)\n",
    "\n",
    "print(\"Using median in purch_amt to replace NaN:\")\n",
    "df['purch_amt'].fillna(df['purch_amt'].median(),inplace=True)\n",
    "print(df)\n",
    "\n",
    "print(\"Using mean to replace NaN:\")\n",
    "df['sale_amt'].fillna(int(df['sale_amt'].mean()),inplace=True)\n",
    "print(df)"
   ]
  },
  {
   "cell_type": "code",
   "execution_count": 61,
   "id": "f256007a",
   "metadata": {},
   "outputs": [
    {
     "name": "stdout",
     "output_type": "stream",
     "text": [
      "Original Orders DataFrame:\n",
      "     ord_no  purch_amt  sale_amt    ord_date  customer_id  salesman_id\n",
      "0   70001.0     150.50     10.50  2012-10-05         3002       5002.0\n",
      "1       NaN        NaN     20.65  2012-09-10         3001       5003.0\n",
      "2   70002.0      65.26       NaN         NaN         3001       5001.0\n",
      "3   70004.0     110.50     11.50  2012-08-17         3003          NaN\n",
      "4       NaN     948.50     98.50  2012-09-10         3002       5002.0\n",
      "5   70005.0        NaN       NaN  2012-07-27         3001       5001.0\n",
      "6       NaN    5760.00     57.00  2012-09-10         3001       5001.0\n",
      "7   70010.0    1983.43     19.43  2012-10-10         3004          NaN\n",
      "8   70003.0        NaN       NaN  2012-10-10         3003       5003.0\n",
      "9   70012.0     250.45     25.45  2012-06-27         3002       5002.0\n",
      "10      NaN      75.29     75.29  2012-08-17         3001       5003.0\n",
      "11  70013.0    3045.60     35.60  2012-04-25         3001          NaN\n",
      "\n",
      "Interpolate the missing values using the Linear Interpolation method (purch_amt):\n",
      "     ord_no  purch_amt  sale_amt    ord_date  customer_id  salesman_id\n",
      "0   70001.0     150.50     10.50  2012-10-05         3002       5002.0\n",
      "1       NaN     107.88     20.65  2012-09-10         3001       5003.0\n",
      "2   70002.0      65.26       NaN         NaN         3001       5001.0\n",
      "3   70004.0     110.50     11.50  2012-08-17         3003          NaN\n",
      "4       NaN     948.50     98.50  2012-09-10         3002       5002.0\n",
      "5   70005.0    3354.25       NaN  2012-07-27         3001       5001.0\n",
      "6       NaN    5760.00     57.00  2012-09-10         3001       5001.0\n",
      "7   70010.0    1983.43     19.43  2012-10-10         3004          NaN\n",
      "8   70003.0    1116.94       NaN  2012-10-10         3003       5003.0\n",
      "9   70012.0     250.45     25.45  2012-06-27         3002       5002.0\n",
      "10      NaN      75.29     75.29  2012-08-17         3001       5003.0\n",
      "11  70013.0    3045.60     35.60  2012-04-25         3001          NaN\n"
     ]
    }
   ],
   "source": [
    "#15-interpolate the missing values using the Linear Interpolation method in a given DataFrame.\n",
    "import pandas as pd\n",
    "import numpy as np\n",
    "\n",
    "df = pd.DataFrame({\n",
    "'ord_no':[70001,np.nan,70002,70004,np.nan,70005,np.nan,70010,70003,70012,np.nan,70013],\n",
    "'purch_amt':[150.5,np.nan,65.26,110.5,948.5,np.nan,5760,1983.43,np.nan,250.45, 75.29,3045.6],\n",
    "'sale_amt':[10.5,20.65,np.nan,11.5,98.5,np.nan,57,19.43,np.nan,25.45, 75.29,35.6],\n",
    "'ord_date': ['2012-10-05','2012-09-10',np.nan,'2012-08-17','2012-09-10','2012-07-27','2012-09-10','2012-10-10','2012-10-10','2012-06-27','2012-08-17','2012-04-25'],\n",
    "'customer_id':[3002,3001,3001,3003,3002,3001,3001,3004,3003,3002,3001,3001],\n",
    "'salesman_id':[5002,5003,5001,np.nan,5002,5001,5001,np.nan,5003,5002,5003,np.nan]})\n",
    "print(\"Original Orders DataFrame:\")\n",
    "print(df) \n",
    "\n",
    "print(\"\\nInterpolate the missing values using the Linear Interpolation method (purch_amt):\")\n",
    "df['purch_amt'].interpolate(method='linear',direction='forward',inplace=True)\n",
    "print(df)"
   ]
  },
  {
   "cell_type": "code",
   "execution_count": 65,
   "id": "1d200e8a",
   "metadata": {},
   "outputs": [
    {
     "name": "stdout",
     "output_type": "stream",
     "text": [
      "3\n",
      "3\n"
     ]
    }
   ],
   "source": [
    "#16-count the number of missing values of a specified column in a given DataFrame\n",
    "print(df['sale_amt'].isnull().sum())\n",
    "\n",
    "#ALternate method\n",
    "result=df['sale_amt'].value_counts(dropna=False).loc[np.NaN]\n",
    "print(result)"
   ]
  },
  {
   "cell_type": "code",
   "execution_count": 66,
   "id": "08894f9a",
   "metadata": {},
   "outputs": [
    {
     "name": "stdout",
     "output_type": "stream",
     "text": [
      "11\n"
     ]
    }
   ],
   "source": [
    "#17- count the missing values in a given DataFrame\n",
    "print(df.isna().sum().sum())"
   ]
  },
  {
   "cell_type": "code",
   "execution_count": 67,
   "id": "469af02d",
   "metadata": {},
   "outputs": [
    {
     "name": "stdout",
     "output_type": "stream",
     "text": [
      "\n",
      "Missing values in purch_amt column:\n",
      "(array([ 1,  4,  6, 10], dtype=int64),)\n"
     ]
    }
   ],
   "source": [
    "#18-find the Indexes of missing values in a given DataFrame\n",
    "print(\"\\nMissing values in purch_amt column:\")\n",
    "result=df['ord_no'].isnull().to_numpy().nonzero()\n",
    "print(result)"
   ]
  },
  {
   "cell_type": "code",
   "execution_count": 74,
   "id": "d519ab07",
   "metadata": {},
   "outputs": [
    {
     "name": "stdout",
     "output_type": "stream",
     "text": [
      "Original Orders DataFrame:\n",
      "     ord_no  purch_amt  sale_amt    ord_date  customer_id  salesman_id\n",
      "0   70001.0     150.50     10.50  2012-10-05         3002       5002.0\n",
      "1       NaN        NaN     20.65  2012-09-10         3001       5003.0\n",
      "2   70002.0      65.26       NaN         NaN         3001       5001.0\n",
      "3   70004.0     110.50     11.50  2012-08-17         3003          NaN\n",
      "4       NaN     948.50     98.50  2012-09-10         3002       5002.0\n",
      "5   70005.0        NaN       NaN  2012-07-27         3001       5001.0\n",
      "6       NaN    5760.00     57.00  2012-09-10         3001       5001.0\n",
      "7   70010.0    1983.43     19.43  2012-10-10         3004          NaN\n",
      "8   70003.0        NaN       NaN  2012-10-10         3003       5003.0\n",
      "9   70012.0     250.45     25.45  2012-06-27         3002       5002.0\n",
      "10      NaN      75.29     75.29  2012-08-17         3001       5003.0\n",
      "11  70013.0    3045.60     35.60  2012-04-25         3001          NaN\n",
      "\n",
      "Replace the missing values with the most frequent values present in each column:\n",
      "     ord_no  purch_amt  sale_amt    ord_date  customer_id  salesman_id\n",
      "0   70001.0     150.50     10.50  2012-10-05         3002       5002.0\n",
      "1   70001.0      65.26     20.65  2012-09-10         3001       5003.0\n",
      "2   70002.0      65.26     10.50  2012-09-10         3001       5001.0\n",
      "3   70004.0     110.50     11.50  2012-08-17         3003       5001.0\n",
      "4   70001.0     948.50     98.50  2012-09-10         3002       5002.0\n",
      "5   70005.0      65.26     10.50  2012-07-27         3001       5001.0\n",
      "6   70001.0    5760.00     57.00  2012-09-10         3001       5001.0\n",
      "7   70010.0    1983.43     19.43  2012-10-10         3004       5001.0\n",
      "8   70003.0      65.26     10.50  2012-10-10         3003       5003.0\n",
      "9   70012.0     250.45     25.45  2012-06-27         3002       5002.0\n",
      "10  70001.0      75.29     75.29  2012-08-17         3001       5003.0\n",
      "11  70013.0    3045.60     35.60  2012-04-25         3001       5001.0\n"
     ]
    }
   ],
   "source": [
    "#19-replace the missing values with the most frequent values present in each column of a given DataFrame\n",
    "import pandas as pd\n",
    "import numpy as np\n",
    "\n",
    "df = pd.DataFrame({\n",
    "'ord_no':[70001,np.nan,70002,70004,np.nan,70005,np.nan,70010,70003,70012,np.nan,70013],\n",
    "'purch_amt':[150.5,np.nan,65.26,110.5,948.5,np.nan,5760,1983.43,np.nan,250.45, 75.29,3045.6],\n",
    "'sale_amt':[10.5,20.65,np.nan,11.5,98.5,np.nan,57,19.43,np.nan,25.45, 75.29,35.6],\n",
    "'ord_date': ['2012-10-05','2012-09-10',np.nan,'2012-08-17','2012-09-10','2012-07-27','2012-09-10','2012-10-10','2012-10-10','2012-06-27','2012-08-17','2012-04-25'],\n",
    "'customer_id':[3002,3001,3001,3003,3002,3001,3001,3004,3003,3002,3001,3001],\n",
    "'salesman_id':[5002,5003,5001,np.nan,5002,5001,5001,np.nan,5003,5002,5003,np.nan]})\n",
    "print(\"Original Orders DataFrame:\")\n",
    "print(df) \n",
    "\n",
    "print(\"\\nReplace the missing values with the most frequent values present in each column:\")\n",
    "result=df.fillna(df.mode().iloc[0])\n",
    "print(result)"
   ]
  },
  {
   "cell_type": "code",
   "execution_count": 75,
   "id": "33bc1e0a",
   "metadata": {},
   "outputs": [
    {
     "data": {
      "image/png": "[encoded data removed]",
      "text/plain": [
       "<Figure size 1152x720 with 1 Axes>"
      ]
     },
     "metadata": {
      "needs_background": "light"
     },
     "output_type": "display_data"
    }
   ],
   "source": [
    "#20-create a hitmap for more information about the distribution of missing values in a given DataFrame\n",
    "import seaborn as sns\n",
    "import matplotlib.pyplot as plt\n",
    "\n",
    "plt.figure(figsize=(16,10))\n",
    "sns.heatmap(df.isnull(), cbar=False, cmap=\"YlGnBu\")\n",
    "plt.show()"
   ]
  },
  {
   "cell_type": "code",
   "execution_count": null,
   "id": "18b7613c",
   "metadata": {},
   "outputs": [],
   "source": []
  }
 ],
 "metadata": {
  "kernelspec": {
   "display_name": "Python 3 (ipykernel)",
   "language": "python",
   "name": "python3"
  },
  "language_info": {
   "codemirror_mode": {
    "name": "ipython",
    "version": 3
   },
   "file_extension": ".py",
   "mimetype": "text/x-python",
   "name": "python",
   "nbconvert_exporter": "python",
   "pygments_lexer": "ipython3",
   "version": "3.9.7"
  }
 },
 "nbformat": 4,
 "nbformat_minor": 5
}
