{
 "cells": [
  {
   "cell_type": "code",
   "execution_count": 1,
   "id": "7aea6604",
   "metadata": {},
   "outputs": [
    {
     "name": "stdout",
     "output_type": "stream",
     "text": [
      "Original array elements:\n",
      "[[ 0  1  2]\n",
      " [ 3  4  5]\n",
      " [ 6  7  8]\n",
      " [ 9 10 11]]\n",
      "Access an array by column:\n",
      "First_Columne\n",
      "[0 3 6 9]\n",
      "second column\n",
      "[ 1  4  7 10]\n"
     ]
    }
   ],
   "source": [
    "#Date-11/13/22\n",
    "#81-access an array by column\n",
    "import numpy as np\n",
    "x=np.arange(12).reshape(4,3)\n",
    "print(\"Original array elements:\")\n",
    "print(x)\n",
    "\n",
    "print(\"Access an array by column:\")\n",
    "print('First_Columne')\n",
    "print(x[:,0])\n",
    "\n",
    "print('second column')\n",
    "print(x[:,1])"
   ]
  },
  {
   "cell_type": "code",
   "execution_count": 1,
   "id": "9e578bb3",
   "metadata": {},
   "outputs": [
    {
     "name": "stdout",
     "output_type": "stream",
     "text": [
      "original array\n",
      "[[12.   12.51]\n",
      " [ 2.34  7.98]\n",
      " [25.23 36.5 ]]\n",
      "[[12 12]\n",
      " [ 2  7]\n",
      " [25 36]]\n"
     ]
    }
   ],
   "source": [
    "#82- convert a NumPy array of float values to a NumPy array of integer values\n",
    "import numpy as np\n",
    "\n",
    "x=np.array([[12.0, 12.51], [2.34, 7.98], [25.23, 36.50]])\n",
    "print('original array')\n",
    "print(x)\n",
    "\n",
    "y=x.astype(int)\n",
    "print(y)"
   ]
  },
  {
   "cell_type": "code",
   "execution_count": 5,
   "id": "362a535c",
   "metadata": {},
   "outputs": [
    {
     "name": "stdout",
     "output_type": "stream",
     "text": [
      "original array\n",
      "[0.262 0.528 0.572 0.593 0.783 0.697 0.354 0.995 0.069 0.547]\n",
      "[0.262 0.528 0.572 0.593 0.783 0.697 0.354 0.995 0.069 0.547]\n"
     ]
    }
   ],
   "source": [
    "#83-display NumPy array elements of floating values with given precision. \n",
    "import numpy as np\n",
    "x=np.array([ 0.26153123, 0.52760141, 0.5718299, 0.5927067, 0.7831874, 0.69746349,             \n",
    "  0.35399976, 0.99469633, 0.0694458, 0.54711478])\n",
    "print('original array')\n",
    "print(x)\n",
    "\n",
    "np.set_printoptions(precision=3)\n",
    "print(x)"
   ]
  },
  {
   "cell_type": "code",
   "execution_count": 8,
   "id": "c208e0d4",
   "metadata": {},
   "outputs": [
    {
     "name": "stdout",
     "output_type": "stream",
     "text": [
      "[1.60e-10 1.60e+00 1.20e+03 2.35e-01]\n",
      "Print array values with precision 3:\n",
      "[   0.       1.6   1200.       0.235]\n"
     ]
    }
   ],
   "source": [
    "#84-program to suppresses the use of scientific notation for small numbers in NumPy array\n",
    "import numpy as np\n",
    "x=np.array([1.6e-10, 1.6, 1200, .235])\n",
    "print(x)\n",
    "\n",
    "print(\"Print array values with precision 3:\")\n",
    "np.set_printoptions(suppress=True)\n",
    "print(x)"
   ]
  },
  {
   "cell_type": "code",
   "execution_count": 9,
   "id": "8e4863c7",
   "metadata": {},
   "outputs": [
    {
     "name": "stdout",
     "output_type": "stream",
     "text": [
      "[0 1 2 3 4 5 6 7 8 9]\n"
     ]
    },
    {
     "name": "stderr",
     "output_type": "stream",
     "text": [
      "C:\\Users\\przir\\AppData\\Local\\Temp/ipykernel_6780/4216077508.py:4: DeprecationWarning: `np.int` is a deprecated alias for the builtin `int`. To silence this warning, use `int` by itself. Doing this will not modify any behavior and is safe. When replacing `np.int`, you may wish to use e.g. `np.int64` or `np.int32` to specify the precision. If you wish to review your current use, check the release note link for additional information.\n",
      "Deprecated in NumPy 1.20; for more details and guidance: https://numpy.org/devdocs/release/1.20.0-notes.html#deprecations\n",
      "  print(np.fromiter(iterable, np.int))\n"
     ]
    }
   ],
   "source": [
    "#85- create a NumPy array of 10 integers from a generator\n",
    "import numpy as np\n",
    "iterable=(x for x in range(10))\n",
    "print(np.fromiter(iterable, np.int))"
   ]
  },
  {
   "cell_type": "code",
   "execution_count": 16,
   "id": "6f1a9f82",
   "metadata": {},
   "outputs": [
    {
     "name": "stdout",
     "output_type": "stream",
     "text": [
      "[[ 10  20  30 100]\n",
      " [ 40  50  60 200]]\n"
     ]
    }
   ],
   "source": [
    "#86- add an extra column to a NumPy array.\n",
    "import numpy as np\n",
    "x=np.array([[10,20,30], [40,50,60]])\n",
    "y=np.array([[100], [200]])\n",
    "print(np.append(x,y,axis=1))"
   ]
  },
  {
   "cell_type": "code",
   "execution_count": 17,
   "id": "56f62179",
   "metadata": {},
   "outputs": [
    {
     "name": "stdout",
     "output_type": "stream",
     "text": [
      "Original array:\n",
      "[[20 20 20  0]\n",
      " [ 0 20 20 20]\n",
      " [ 0 20 20 20]\n",
      " [20 20 20  0]\n",
      " [10 20 20 20]]\n",
      "Unique rows of the above array:\n",
      "[[ 0 20 20 20]\n",
      " [10 20 20 20]\n",
      " [20 20 20  0]]\n"
     ]
    }
   ],
   "source": [
    "#87-find unique rows in a NumPy array\n",
    "import numpy as np\n",
    "\n",
    "x=np.array([[20, 20, 20, 0],\n",
    "              [0, 20, 20, 20],\n",
    "              [0, 20, 20, 20],\n",
    "              [20, 20, 20, 0],\n",
    "              [10, 20, 20,20]])\n",
    "print(\"Original array:\")\n",
    "print(x)\n",
    "y = np.ascontiguousarray(x).view(np.dtype((np.void, x.dtype.itemsize * x.shape[1])))\n",
    "_, idx = np.unique(y, return_index=True)\n",
    "\n",
    "unique_result = x[idx]\n",
    "print(\"Unique rows of the above array:\")\n",
    "print(unique_result)"
   ]
  },
  {
   "cell_type": "code",
   "execution_count": 18,
   "id": "431ec3cf",
   "metadata": {},
   "outputs": [
    {
     "name": "stdout",
     "output_type": "stream",
     "text": [
      "Original Array\n",
      "[[0.424 0.486 0.329]\n",
      " [0.744 0.582 0.382]\n",
      " [0.51  0.345 0.156]]\n",
      "Replace all elements of the said array with .5 which are greater than .5\n",
      "[[0.424 0.486 0.329]\n",
      " [0.5   0.5   0.382]\n",
      " [0.5   0.345 0.156]]\n"
     ]
    }
   ],
   "source": [
    "#88-replace all elements of NumPy array that are greater than specified array.\n",
    "import numpy as np\n",
    "x=np.array([[ 0.42436315, 0.48558583, 0.32924763], [ 0.7439979,0.58220701,0.38213418], [ 0.5097581,0.34528799,0.1563123 ]])\n",
    "print('Original Array')\n",
    "print(x)\n",
    "\n",
    "print(\"Replace all elements of the said array with .5 which are greater than .5\")\n",
    "x[x>0.5]=0.5\n",
    "print(x)"
   ]
  },
  {
   "cell_type": "code",
   "execution_count": 19,
   "id": "9e6ba62f",
   "metadata": {},
   "outputs": [
    {
     "name": "stdout",
     "output_type": "stream",
     "text": [
      "Original array:\n",
      "[ 10  20  30  40  50  60  70  80  90 100]\n",
      "Delete first, fourth and fifth elements:\n",
      "[ 20  30  60  70  80  90 100]\n"
     ]
    }
   ],
   "source": [
    "#89- remove specific elements in a NumPy array\n",
    "import numpy as np\n",
    "x=np.array([10, 20, 30, 40, 50, 60, 70, 80, 90, 100])\n",
    "index = [0, 3, 4]\n",
    "\n",
    "print(\"Original array:\")\n",
    "print(x)\n",
    "\n",
    "print(\"Delete first, fourth and fifth elements:\")\n",
    "new_x=np.delete(x,index)\n",
    "print(new_x)"
   ]
  },
  {
   "cell_type": "code",
   "execution_count": 20,
   "id": "b93f014b",
   "metadata": {},
   "outputs": [
    {
     "name": "stdout",
     "output_type": "stream",
     "text": [
      "[-1 -4  0  2  3  4  5 -6]\n",
      "[0 0 0 2 3 4 5 0]\n"
     ]
    }
   ],
   "source": [
    "#90- replace the negative values in a NumPy array with 0\n",
    "import numpy as np\n",
    "x=np.array([-1, -4, 0, 2, 3, 4, 5, -6])\n",
    "print(x)\n",
    "\n",
    "x[x<0]=0\n",
    "print(x)"
   ]
  },
  {
   "cell_type": "code",
   "execution_count": 28,
   "id": "efa51382",
   "metadata": {},
   "outputs": [
    {
     "name": "stdout",
     "output_type": "stream",
     "text": [
      "original array\n",
      "[[ 1.  2.  3.]\n",
      " [ 4.  5. nan]\n",
      " [ 7.  8.  9.]\n",
      " [ 1.  0.  1.]]\n",
      "Remove all non-numeric elements of the said array\n",
      "[[1. 2. 3.]\n",
      " [7. 8. 9.]\n",
      " [1. 0. 1.]]\n"
     ]
    }
   ],
   "source": [
    "#91- remove all rows in a NumPy array that contain non-numeric values.\n",
    "import numpy as np\n",
    "x=np.array([[1,2,3], [4,5,np.nan], [7,8,9], [True, False, True]])\n",
    "print('original array')\n",
    "print(x)\n",
    "\n",
    "print(\"Remove all non-numeric elements of the said array\")\n",
    "print(x[~np.isnan(x).any(axis=1)])"
   ]
  },
  {
   "cell_type": "code",
   "execution_count": 30,
   "id": "ef97322e",
   "metadata": {},
   "outputs": [
    {
     "name": "stdout",
     "output_type": "stream",
     "text": [
      "Original arrays\n",
      "[ 97 101 105 111 117]\n",
      "['a' 'e' 'i' 'o' 'u']\n",
      "Elements from the second array  corresponding to elements in the first array  that are greater than 100 and less than 110:\n",
      "['e' 'i']\n"
     ]
    }
   ],
   "source": [
    "#92- select indices satisfying multiple conditions in a NumPy array\n",
    "import numpy as np\n",
    "a=np.array([97, 101, 105, 111, 117])\n",
    "b=np.array(['a','e','i','o','u'])\n",
    "\n",
    "print(\"Original arrays\")\n",
    "print(a)\n",
    "print(b)\n",
    "\n",
    "print(\"Elements from the second array  corresponding to elements in the first array  that are greater than 100 and less than 110:\")\n",
    "print(b[(100 < a) & (a < 110)])"
   ]
  },
  {
   "cell_type": "code",
   "execution_count": 31,
   "id": "9c6b06b0",
   "metadata": {},
   "outputs": [
    {
     "name": "stdout",
     "output_type": "stream",
     "text": [
      "Original array:\n",
      "[ 97 101 105 111 117]\n",
      "Magnitude of the vector:\n",
      "238.0021008310641\n"
     ]
    }
   ],
   "source": [
    "#93- get the magnitude of a vector in NumPy. \n",
    "import numpy as np\n",
    "print(\"Original array:\")\n",
    "print(x)\n",
    "print(\"Magnitude of the vector:\")\n",
    "print(np.linalg.norm(x))"
   ]
  },
  {
   "cell_type": "code",
   "execution_count": 32,
   "id": "1dc76e75",
   "metadata": {},
   "outputs": [
    {
     "name": "stdout",
     "output_type": "stream",
     "text": [
      "Original array:\n",
      "[10 10 20 10 20 20 20 30 30 50 40 40]\n",
      "Frequency of unique values of the said array:\n",
      "[[10 20 30 40 50]\n",
      " [ 3  4  2  2  1]]\n"
     ]
    }
   ],
   "source": [
    "#94- count the frequency of unique values in NumPy array\n",
    "import numpy as np\n",
    "a=np.array([10,10,20,10,20,20,20,30, 30,50,40,40])\n",
    "print(\"Original array:\")\n",
    "print(a)\n",
    "\n",
    "uniq_el,cnt_el=np.unique(a,return_counts=True)\n",
    "print(\"Frequency of unique values of the said array:\")\n",
    "print(np.asarray((uniq_el, cnt_el)))"
   ]
  },
  {
   "cell_type": "code",
   "execution_count": 33,
   "id": "4b229b3d",
   "metadata": {},
   "outputs": [
    {
     "name": "stdout",
     "output_type": "stream",
     "text": [
      "2\n",
      "0\n"
     ]
    }
   ],
   "source": [
    "#95- check whether the NumPy array is empty or not\n",
    "import numpy as np\n",
    "\n",
    "x=np.array([2, 3])\n",
    "y=np.array([])\n",
    "\n",
    "# size 2, array is not empty\n",
    "print(x.size)\n",
    "# size 0, array is empty\n",
    "print(y.size)"
   ]
  },
  {
   "cell_type": "code",
   "execution_count": 39,
   "id": "3d6540b7",
   "metadata": {},
   "outputs": [
    {
     "name": "stdout",
     "output_type": "stream",
     "text": [
      "Original array:\n",
      "[[20 20 20]\n",
      " [30 30 30]\n",
      " [40 40 40]]\n",
      "Vector:\n",
      "[20 30 40]\n",
      "[[1. 1. 1.]\n",
      " [1. 1. 1.]\n",
      " [1. 1. 1.]]\n"
     ]
    }
   ],
   "source": [
    "#96-divide each row by a vector element.\n",
    "import numpy as np\n",
    "x=np.array([[20,20,20],[30,30,30],[40,40,40]])\n",
    "print(\"Original array:\")\n",
    "print(x)\n",
    "\n",
    "v=np.array([20,30,40])\n",
    "print(\"Vector:\")\n",
    "print(v)\n",
    "print(x / v[:,None])"
   ]
  },
  {
   "cell_type": "code",
   "execution_count": 40,
   "id": "d4b71a55",
   "metadata": {},
   "outputs": [
    {
     "ename": "ValueError",
     "evalue": "threshold must be non-NAN, try sys.maxsize for untruncated representation",
     "output_type": "error",
     "traceback": [
      "\u001b[1;31m---------------------------------------------------------------------------\u001b[0m",
      "\u001b[1;31mValueError\u001b[0m                                Traceback (most recent call last)",
      "\u001b[1;32m~\\AppData\\Local\\Temp/ipykernel_6780/4277926498.py\u001b[0m in \u001b[0;36m<module>\u001b[1;34m\u001b[0m\n\u001b[0;32m      1\u001b[0m \u001b[1;31m#97-print all the values of an array\u001b[0m\u001b[1;33m\u001b[0m\u001b[1;33m\u001b[0m\u001b[0m\n\u001b[0;32m      2\u001b[0m \u001b[1;32mimport\u001b[0m \u001b[0mnumpy\u001b[0m \u001b[1;32mas\u001b[0m \u001b[0mnp\u001b[0m\u001b[1;33m\u001b[0m\u001b[1;33m\u001b[0m\u001b[0m\n\u001b[1;32m----> 3\u001b[1;33m \u001b[0mnp\u001b[0m\u001b[1;33m.\u001b[0m\u001b[0mset_printoptions\u001b[0m\u001b[1;33m(\u001b[0m\u001b[0mthreshold\u001b[0m\u001b[1;33m=\u001b[0m\u001b[0mnp\u001b[0m\u001b[1;33m.\u001b[0m\u001b[0mnan\u001b[0m\u001b[1;33m)\u001b[0m\u001b[1;33m\u001b[0m\u001b[1;33m\u001b[0m\u001b[0m\n\u001b[0m\u001b[0;32m      4\u001b[0m \u001b[0mx\u001b[0m \u001b[1;33m=\u001b[0m \u001b[0mnp\u001b[0m\u001b[1;33m.\u001b[0m\u001b[0mzeros\u001b[0m\u001b[1;33m(\u001b[0m\u001b[1;33m(\u001b[0m\u001b[1;36m4\u001b[0m\u001b[1;33m,\u001b[0m \u001b[1;36m4\u001b[0m\u001b[1;33m)\u001b[0m\u001b[1;33m)\u001b[0m\u001b[1;33m\u001b[0m\u001b[1;33m\u001b[0m\u001b[0m\n\u001b[0;32m      5\u001b[0m \u001b[0mprint\u001b[0m\u001b[1;33m(\u001b[0m\u001b[0mx\u001b[0m\u001b[1;33m)\u001b[0m\u001b[1;33m\u001b[0m\u001b[1;33m\u001b[0m\u001b[0m\n",
      "\u001b[1;32m~\\anaconda3\\lib\\site-packages\\numpy\\core\\arrayprint.py\u001b[0m in \u001b[0;36mset_printoptions\u001b[1;34m(precision, threshold, edgeitems, linewidth, suppress, nanstr, infstr, formatter, sign, floatmode, legacy)\u001b[0m\n\u001b[0;32m    241\u001b[0m \u001b[1;33m\u001b[0m\u001b[0m\n\u001b[0;32m    242\u001b[0m     \"\"\"\n\u001b[1;32m--> 243\u001b[1;33m     opt = _make_options_dict(precision, threshold, edgeitems, linewidth,\n\u001b[0m\u001b[0;32m    244\u001b[0m                              \u001b[0msuppress\u001b[0m\u001b[1;33m,\u001b[0m \u001b[0mnanstr\u001b[0m\u001b[1;33m,\u001b[0m \u001b[0minfstr\u001b[0m\u001b[1;33m,\u001b[0m \u001b[0msign\u001b[0m\u001b[1;33m,\u001b[0m \u001b[0mformatter\u001b[0m\u001b[1;33m,\u001b[0m\u001b[1;33m\u001b[0m\u001b[1;33m\u001b[0m\u001b[0m\n\u001b[0;32m    245\u001b[0m                              floatmode, legacy)\n",
      "\u001b[1;32m~\\anaconda3\\lib\\site-packages\\numpy\\core\\arrayprint.py\u001b[0m in \u001b[0;36m_make_options_dict\u001b[1;34m(precision, threshold, edgeitems, linewidth, suppress, nanstr, infstr, sign, formatter, floatmode, legacy)\u001b[0m\n\u001b[0;32m     84\u001b[0m             \u001b[1;32mraise\u001b[0m \u001b[0mTypeError\u001b[0m\u001b[1;33m(\u001b[0m\u001b[1;34m\"threshold must be numeric\"\u001b[0m\u001b[1;33m)\u001b[0m\u001b[1;33m\u001b[0m\u001b[1;33m\u001b[0m\u001b[0m\n\u001b[0;32m     85\u001b[0m         \u001b[1;32mif\u001b[0m \u001b[0mnp\u001b[0m\u001b[1;33m.\u001b[0m\u001b[0misnan\u001b[0m\u001b[1;33m(\u001b[0m\u001b[0mthreshold\u001b[0m\u001b[1;33m)\u001b[0m\u001b[1;33m:\u001b[0m\u001b[1;33m\u001b[0m\u001b[1;33m\u001b[0m\u001b[0m\n\u001b[1;32m---> 86\u001b[1;33m             raise ValueError(\"threshold must be non-NAN, try \"\n\u001b[0m\u001b[0;32m     87\u001b[0m                              \"sys.maxsize for untruncated representation\")\n\u001b[0;32m     88\u001b[0m     \u001b[1;32mreturn\u001b[0m \u001b[0moptions\u001b[0m\u001b[1;33m\u001b[0m\u001b[1;33m\u001b[0m\u001b[0m\n",
      "\u001b[1;31mValueError\u001b[0m: threshold must be non-NAN, try sys.maxsize for untruncated representation"
     ]
    }
   ],
   "source": [
    "#97-print all the values of an array\n",
    "import numpy as np\n",
    "np.set_printoptions(threshold=np.nan)\n",
    "x = np.zeros((4, 4))\n",
    "print(x)"
   ]
  },
  {
   "cell_type": "code",
   "execution_count": 2,
   "id": "4679fcac",
   "metadata": {},
   "outputs": [
    {
     "name": "stdout",
     "output_type": "stream",
     "text": [
      "Original array:\n",
      "[10. 20. 30.]\n",
      "Binary string array:\n",
      "b'\\x00\\x00\\x00\\x00\\x00\\x00$@\\x00\\x00\\x00\\x00\\x00\\x004@\\x00\\x00\\x00\\x00\\x00\\x00>@'\n",
      "Array using fromstring():\n",
      "[10. 20. 30.]\n"
     ]
    },
    {
     "name": "stderr",
     "output_type": "stream",
     "text": [
      "C:\\Users\\przir\\AppData\\Local\\Temp/ipykernel_11928/665784873.py:7: DeprecationWarning: tostring() is deprecated. Use tobytes() instead.\n",
      "  x=x.tostring()\n",
      "C:\\Users\\przir\\AppData\\Local\\Temp/ipykernel_11928/665784873.py:11: DeprecationWarning: The binary mode of fromstring is deprecated, as it behaves surprisingly on unicode inputs. Use frombuffer instead\n",
      "  y=np.fromstring(x)\n"
     ]
    }
   ],
   "source": [
    "#98- convert the raw data in an array to a binary string and then create an array.\n",
    "import numpy as np\n",
    "x=np.array([10, 20, 30], float)\n",
    "print(\"Original array:\")\n",
    "print(x)\n",
    "\n",
    "x=x.tostring()\n",
    "print(\"Binary string array:\")\n",
    "print(x)\n",
    "print(\"Array using fromstring():\")\n",
    "y=np.fromstring(x)\n",
    "print(y)"
   ]
  },
  {
   "cell_type": "code",
   "execution_count": 3,
   "id": "40bc4579",
   "metadata": {},
   "outputs": [
    {
     "name": "stdout",
     "output_type": "stream",
     "text": [
      "Original array:\n",
      "[10. 20. 30.]\n",
      "Sum of the array elements:\n",
      "60.0\n",
      "Product of the array elements:\n",
      "6000.0\n"
     ]
    }
   ],
   "source": [
    "#99-sum and compute the product of a NumPy array elements\n",
    "import numpy as np\n",
    "x=np.array([10, 20, 30], float)\n",
    "print(\"Original array:\")\n",
    "print(x)\n",
    "print(\"Sum of the array elements:\")\n",
    "print(x.sum())\n",
    "\n",
    "print(\"Product of the array elements:\")\n",
    "print(x.prod())"
   ]
  },
  {
   "cell_type": "code",
   "execution_count": 4,
   "id": "9dfcc4b3",
   "metadata": {},
   "outputs": [
    {
     "name": "stdout",
     "output_type": "stream",
     "text": [
      "[10. 10. 20. 30. 30.]\n",
      "Put 0 and 40 in first and fifth position of the above array\n",
      "Array x, after putting two values:\n",
      "[ 0. 10. 20. 30. 40.]\n"
     ]
    }
   ],
   "source": [
    "#100- take values from a source array and put them at specified indices of another array\n",
    "import numpy as np\n",
    "x=np.array([10, 10, 20, 30, 30], float)\n",
    "print(x)\n",
    "print(\"Put 0 and 40 in first and fifth position of the above array\")\n",
    "y=np.array([0, 40, 60], float)\n",
    "x.put([0, 4], y)\n",
    "print(\"Array x, after putting two values:\")\n",
    "print(x)"
   ]
  },
  {
   "cell_type": "code",
   "execution_count": 9,
   "id": "2cd4ab86",
   "metadata": {},
   "outputs": [
    {
     "name": "stdout",
     "output_type": "stream",
     "text": [
      "[   0    1    2    3    4    5    6    7    8    9   10   11   12   13\n",
      "   14   15   16   17   18   19   20   21   22   23   24   25   26   27\n",
      "   28   29   30   31   32   33   34   35   36   37   38   39   40   41\n",
      "   42   43   44   45   46   47   48   49   50   51   52   53   54   55\n",
      "   56   57   58   59   60   61   62   63   64   65   66   67   68   69\n",
      "   70   71   72   73   74   75   76   77   78   79   80   81   82   83\n",
      "   84   85   86   87   88   89   90   91   92   93   94   95   96   97\n",
      "   98   99  100  101  102  103  104  105  106  107  108  109  110  111\n",
      "  112  113  114  115  116  117  118  119  120  121  122  123  124  125\n",
      "  126  127  128  129  130  131  132  133  134  135  136  137  138  139\n",
      "  140  141  142  143  144  145  146  147  148  149  150  151  152  153\n",
      "  154  155  156  157  158  159  160  161  162  163  164  165  166  167\n",
      "  168  169  170  171  172  173  174  175  176  177  178  179  180  181\n",
      "  182  183  184  185  186  187  188  189  190  191  192  193  194  195\n",
      "  196  197  198  199  200  201  202  203  204  205  206  207  208  209\n",
      "  210  211  212  213  214  215  216  217  218  219  220  221  222  223\n",
      "  224  225  226  227  228  229  230  231  232  233  234  235  236  237\n",
      "  238  239  240  241  242  243  244  245  246  247  248  249  250  251\n",
      "  252  253  254  255  256  257  258  259  260  261  262  263  264  265\n",
      "  266  267  268  269  270  271  272  273  274  275  276  277  278  279\n",
      "  280  281  282  283  284  285  286  287  288  289  290  291  292  293\n",
      "  294  295  296  297  298  299  300  301  302  303  304  305  306  307\n",
      "  308  309  310  311  312  313  314  315  316  317  318  319  320  321\n",
      "  322  323  324  325  326  327  328  329  330  331  332  333  334  335\n",
      "  336  337  338  339  340  341  342  343  344  345  346  347  348  349\n",
      "  350  351  352  353  354  355  356  357  358  359  360  361  362  363\n",
      "  364  365  366  367  368  369  370  371  372  373  374  375  376  377\n",
      "  378  379  380  381  382  383  384  385  386  387  388  389  390  391\n",
      "  392  393  394  395  396  397  398  399  400  401  402  403  404  405\n",
      "  406  407  408  409  410  411  412  413  414  415  416  417  418  419\n",
      "  420  421  422  423  424  425  426  427  428  429  430  431  432  433\n",
      "  434  435  436  437  438  439  440  441  442  443  444  445  446  447\n",
      "  448  449  450  451  452  453  454  455  456  457  458  459  460  461\n",
      "  462  463  464  465  466  467  468  469  470  471  472  473  474  475\n",
      "  476  477  478  479  480  481  482  483  484  485  486  487  488  489\n",
      "  490  491  492  493  494  495  496  497  498  499  500  501  502  503\n",
      "  504  505  506  507  508  509  510  511  512  513  514  515  516  517\n",
      "  518  519  520  521  522  523  524  525  526  527  528  529  530  531\n",
      "  532  533  534  535  536  537  538  539  540  541  542  543  544  545\n",
      "  546  547  548  549  550  551  552  553  554  555  556  557  558  559\n",
      "  560  561  562  563  564  565  566  567  568  569  570  571  572  573\n",
      "  574  575  576  577  578  579  580  581  582  583  584  585  586  587\n",
      "  588  589  590  591  592  593  594  595  596  597  598  599  600  601\n",
      "  602  603  604  605  606  607  608  609  610  611  612  613  614  615\n",
      "  616  617  618  619  620  621  622  623  624  625  626  627  628  629\n",
      "  630  631  632  633  634  635  636  637  638  639  640  641  642  643\n",
      "  644  645  646  647  648  649  650  651  652  653  654  655  656  657\n",
      "  658  659  660  661  662  663  664  665  666  667  668  669  670  671\n",
      "  672  673  674  675  676  677  678  679  680  681  682  683  684  685\n",
      "  686  687  688  689  690  691  692  693  694  695  696  697  698  699\n",
      "  700  701  702  703  704  705  706  707  708  709  710  711  712  713\n",
      "  714  715  716  717  718  719  720  721  722  723  724  725  726  727\n",
      "  728  729  730  731  732  733  734  735  736  737  738  739  740  741\n",
      "  742  743  744  745  746  747  748  749  750  751  752  753  754  755\n",
      "  756  757  758  759  760  761  762  763  764  765  766  767  768  769\n",
      "  770  771  772  773  774  775  776  777  778  779  780  781  782  783\n",
      "  784  785  786  787  788  789  790  791  792  793  794  795  796  797\n",
      "  798  799  800  801  802  803  804  805  806  807  808  809  810  811\n",
      "  812  813  814  815  816  817  818  819  820  821  822  823  824  825\n",
      "  826  827  828  829  830  831  832  833  834  835  836  837  838  839\n",
      "  840  841  842  843  844  845  846  847  848  849  850  851  852  853\n",
      "  854  855  856  857  858  859  860  861  862  863  864  865  866  867\n",
      "  868  869  870  871  872  873  874  875  876  877  878  879  880  881\n",
      "  882  883  884  885  886  887  888  889  890  891  892  893  894  895\n",
      "  896  897  898  899  900  901  902  903  904  905  906  907  908  909\n",
      "  910  911  912  913  914  915  916  917  918  919  920  921  922  923\n",
      "  924  925  926  927  928  929  930  931  932  933  934  935  936  937\n",
      "  938  939  940  941  942  943  944  945  946  947  948  949  950  951\n",
      "  952  953  954  955  956  957  958  959  960  961  962  963  964  965\n",
      "  966  967  968  969  970  971  972  973  974  975  976  977  978  979\n",
      "  980  981  982  983  984  985  986  987  988  989  990  991  992  993\n",
      "  994  995  996  997  998  999 1000 1001 1002 1003 1004 1005 1006 1007\n",
      " 1008 1009 1010 1011 1012 1013 1014 1015 1016 1017 1018 1019 1020 1021\n",
      " 1022 1023 1024 1025 1026 1027 1028 1029 1030 1031 1032 1033 1034 1035\n",
      " 1036 1037 1038 1039 1040 1041 1042 1043 1044 1045 1046 1047 1048 1049\n",
      " 1050 1051 1052 1053 1054 1055 1056 1057 1058 1059 1060 1061 1062 1063\n",
      " 1064 1065 1066 1067 1068 1069 1070 1071 1072 1073 1074 1075 1076 1077\n",
      " 1078 1079 1080 1081 1082 1083 1084 1085 1086 1087 1088 1089 1090 1091\n",
      " 1092 1093 1094 1095 1096 1097 1098 1099 1100 1101 1102 1103 1104 1105\n",
      " 1106 1107 1108 1109 1110 1111 1112 1113 1114 1115 1116 1117 1118 1119\n",
      " 1120 1121 1122 1123 1124 1125 1126 1127 1128 1129 1130 1131 1132 1133\n",
      " 1134 1135 1136 1137 1138 1139 1140 1141 1142 1143 1144 1145 1146 1147\n",
      " 1148 1149 1150 1151 1152 1153 1154 1155 1156 1157 1158 1159 1160 1161\n",
      " 1162 1163 1164 1165 1166 1167 1168 1169 1170 1171 1172 1173 1174 1175\n",
      " 1176 1177 1178 1179 1180 1181 1182 1183 1184 1185 1186 1187 1188 1189\n",
      " 1190 1191 1192 1193 1194 1195 1196 1197 1198 1199 1200 1201 1202 1203\n",
      " 1204 1205 1206 1207 1208 1209 1210 1211 1212 1213 1214 1215 1216 1217\n",
      " 1218 1219 1220 1221 1222 1223 1224 1225 1226 1227 1228 1229 1230 1231\n",
      " 1232 1233 1234 1235 1236 1237 1238 1239 1240 1241 1242 1243 1244 1245\n",
      " 1246 1247 1248 1249 1250 1251 1252 1253 1254 1255 1256 1257 1258 1259\n",
      " 1260 1261 1262 1263 1264 1265 1266 1267 1268 1269 1270 1271 1272 1273\n",
      " 1274 1275 1276 1277 1278 1279 1280 1281 1282 1283 1284 1285 1286 1287\n",
      " 1288 1289 1290 1291 1292 1293 1294 1295 1296 1297 1298 1299 1300 1301\n",
      " 1302 1303 1304 1305 1306 1307 1308 1309 1310 1311 1312 1313 1314 1315\n",
      " 1316 1317 1318 1319 1320 1321 1322 1323 1324 1325 1326 1327 1328 1329\n",
      " 1330 1331 1332 1333 1334 1335 1336 1337 1338 1339 1340 1341 1342 1343\n",
      " 1344 1345 1346 1347 1348 1349 1350 1351 1352 1353 1354 1355 1356 1357\n",
      " 1358 1359 1360 1361 1362 1363 1364 1365 1366 1367 1368 1369 1370 1371\n",
      " 1372 1373 1374 1375 1376 1377 1378 1379 1380 1381 1382 1383 1384 1385\n",
      " 1386 1387 1388 1389 1390 1391 1392 1393 1394 1395 1396 1397 1398 1399\n",
      " 1400 1401 1402 1403 1404 1405 1406 1407 1408 1409 1410 1411 1412 1413\n",
      " 1414 1415 1416 1417 1418 1419 1420 1421 1422 1423 1424 1425 1426 1427\n",
      " 1428 1429 1430 1431 1432 1433 1434 1435 1436 1437 1438 1439 1440 1441\n",
      " 1442 1443 1444 1445 1446 1447 1448 1449 1450 1451 1452 1453 1454 1455\n",
      " 1456 1457 1458 1459 1460 1461 1462 1463 1464 1465 1466 1467 1468 1469\n",
      " 1470 1471 1472 1473 1474 1475 1476 1477 1478 1479 1480 1481 1482 1483\n",
      " 1484 1485 1486 1487 1488 1489 1490 1491 1492 1493 1494 1495 1496 1497\n",
      " 1498 1499 1500 1501 1502 1503 1504 1505 1506 1507 1508 1509 1510 1511\n",
      " 1512 1513 1514 1515 1516 1517 1518 1519 1520 1521 1522 1523 1524 1525\n",
      " 1526 1527 1528 1529 1530 1531 1532 1533 1534 1535 1536 1537 1538 1539\n",
      " 1540 1541 1542 1543 1544 1545 1546 1547 1548 1549 1550 1551 1552 1553\n",
      " 1554 1555 1556 1557 1558 1559 1560 1561 1562 1563 1564 1565 1566 1567\n",
      " 1568 1569 1570 1571 1572 1573 1574 1575 1576 1577 1578 1579 1580 1581\n",
      " 1582 1583 1584 1585 1586 1587 1588 1589 1590 1591 1592 1593 1594 1595\n",
      " 1596 1597 1598 1599 1600 1601 1602 1603 1604 1605 1606 1607 1608 1609\n",
      " 1610 1611 1612 1613 1614 1615 1616 1617 1618 1619 1620 1621 1622 1623\n",
      " 1624 1625 1626 1627 1628 1629 1630 1631 1632 1633 1634 1635 1636 1637\n",
      " 1638 1639 1640 1641 1642 1643 1644 1645 1646 1647 1648 1649 1650 1651\n",
      " 1652 1653 1654 1655 1656 1657 1658 1659 1660 1661 1662 1663 1664 1665\n",
      " 1666 1667 1668 1669 1670 1671 1672 1673 1674 1675 1676 1677 1678 1679\n",
      " 1680 1681 1682 1683 1684 1685 1686 1687 1688 1689 1690 1691 1692 1693\n",
      " 1694 1695 1696 1697 1698 1699 1700 1701 1702 1703 1704 1705 1706 1707\n",
      " 1708 1709 1710 1711 1712 1713 1714 1715 1716 1717 1718 1719 1720 1721\n",
      " 1722 1723 1724 1725 1726 1727 1728 1729 1730 1731 1732 1733 1734 1735\n",
      " 1736 1737 1738 1739 1740 1741 1742 1743 1744 1745 1746 1747 1748 1749\n",
      " 1750 1751 1752 1753 1754 1755 1756 1757 1758 1759 1760 1761 1762 1763\n",
      " 1764 1765 1766 1767 1768 1769 1770 1771 1772 1773 1774 1775 1776 1777\n",
      " 1778 1779 1780 1781 1782 1783 1784 1785 1786 1787 1788 1789 1790 1791\n",
      " 1792 1793 1794 1795 1796 1797 1798 1799 1800 1801 1802 1803 1804 1805\n",
      " 1806 1807 1808 1809 1810 1811 1812 1813 1814 1815 1816 1817 1818 1819\n",
      " 1820 1821 1822 1823 1824 1825 1826 1827 1828 1829 1830 1831 1832 1833\n",
      " 1834 1835 1836 1837 1838 1839 1840 1841 1842 1843 1844 1845 1846 1847\n",
      " 1848 1849 1850 1851 1852 1853 1854 1855 1856 1857 1858 1859 1860 1861\n",
      " 1862 1863 1864 1865 1866 1867 1868 1869 1870 1871 1872 1873 1874 1875\n",
      " 1876 1877 1878 1879 1880 1881 1882 1883 1884 1885 1886 1887 1888 1889\n",
      " 1890 1891 1892 1893 1894 1895 1896 1897 1898 1899 1900 1901 1902 1903\n",
      " 1904 1905 1906 1907 1908 1909 1910 1911 1912 1913 1914 1915 1916 1917\n",
      " 1918 1919 1920 1921 1922 1923 1924 1925 1926 1927 1928 1929 1930 1931\n",
      " 1932 1933 1934 1935 1936 1937 1938 1939 1940 1941 1942 1943 1944 1945\n",
      " 1946 1947 1948 1949 1950 1951 1952 1953 1954 1955 1956 1957 1958 1959\n",
      " 1960 1961 1962 1963 1964 1965 1966 1967 1968 1969 1970 1971 1972 1973\n",
      " 1974 1975 1976 1977 1978 1979 1980 1981 1982 1983 1984 1985 1986 1987\n",
      " 1988 1989 1990 1991 1992 1993 1994 1995 1996 1997 1998 1999]\n"
     ]
    }
   ],
   "source": [
    "#101-print the full NumPy array, without truncation.\n",
    "import numpy as np\n",
    "import sys\n",
    "nums = np.arange(2000)\n",
    "np.set_printoptions(threshold=sys.maxsize)\n",
    "print(nums)"
   ]
  },
  {
   "cell_type": "code",
   "execution_count": 11,
   "id": "e09be68d",
   "metadata": {},
   "outputs": [],
   "source": [
    "#102- convert a NumPy array into a csv file\n",
    "import numpy as np\n",
    "data=np.asarray([ [10,20,30], [40,50,60], [70,80,90] ])\n",
    "np.savetxt('ex102.csv',data,delimiter=',')"
   ]
  },
  {
   "cell_type": "code",
   "execution_count": 12,
   "id": "30c62b9f",
   "metadata": {},
   "outputs": [
    {
     "name": "stdout",
     "output_type": "stream",
     "text": [
      "Euclidean distance:  5.196152422706632\n"
     ]
    }
   ],
   "source": [
    "#103- calculate the Euclidean distance\n",
    "import numpy as np\n",
    "from scipy.spatial import distance\n",
    "p1 = (1, 2, 3)\n",
    "p2 = (4, 5, 6)\n",
    "d = distance.euclidean(p1, p2)\n",
    "print(\"Euclidean distance: \",d)"
   ]
  },
  {
   "cell_type": "code",
   "execution_count": 13,
   "id": "7b642755",
   "metadata": {},
   "outputs": [
    {
     "name": "stdout",
     "output_type": "stream",
     "text": [
      "[[1 2 3]\n",
      " [4 5 6]\n",
      " [7 8 9]]\n",
      "[[2 3]\n",
      " [5 6]\n",
      " [8 9]]\n"
     ]
    }
   ],
   "source": [
    "#104-access last two columns of a multidimensional columns.\n",
    "import numpy as np\n",
    "arr=np.array([[1, 2, 3], [4, 5, 6], [7, 8, 9]])\n",
    "print(arr)\n",
    "result=arr[:,[1,2]]\n",
    "print(result)"
   ]
  },
  {
   "cell_type": "code",
   "execution_count": 14,
   "id": "840ef12d",
   "metadata": {},
   "outputs": [
    {
     "ename": "OSError",
     "evalue": "fdata.csv not found.",
     "output_type": "error",
     "traceback": [
      "\u001b[1;31m---------------------------------------------------------------------------\u001b[0m",
      "\u001b[1;31mOSError\u001b[0m                                   Traceback (most recent call last)",
      "\u001b[1;32m~\\AppData\\Local\\Temp/ipykernel_11928/3523128164.py\u001b[0m in \u001b[0;36m<module>\u001b[1;34m\u001b[0m\n\u001b[0;32m      1\u001b[0m \u001b[1;31m#105-CSV data file and store records in an array.\u001b[0m\u001b[1;33m\u001b[0m\u001b[1;33m\u001b[0m\u001b[0m\n\u001b[0;32m      2\u001b[0m \u001b[1;32mfrom\u001b[0m \u001b[0mnumpy\u001b[0m \u001b[1;32mimport\u001b[0m \u001b[0mgenfromtxt\u001b[0m\u001b[1;33m\u001b[0m\u001b[1;33m\u001b[0m\u001b[0m\n\u001b[1;32m----> 3\u001b[1;33m \u001b[0mcsv_data\u001b[0m \u001b[1;33m=\u001b[0m \u001b[0mgenfromtxt\u001b[0m\u001b[1;33m(\u001b[0m\u001b[1;34m'fdata.csv'\u001b[0m\u001b[1;33m,\u001b[0m \u001b[0mdtype\u001b[0m\u001b[1;33m=\u001b[0m\u001b[1;33m[\u001b[0m\u001b[1;34m'S10'\u001b[0m\u001b[1;33m,\u001b[0m\u001b[1;34m'float32'\u001b[0m\u001b[1;33m,\u001b[0m\u001b[1;34m'float32'\u001b[0m\u001b[1;33m,\u001b[0m\u001b[1;34m'float32'\u001b[0m\u001b[1;33m,\u001b[0m\u001b[1;34m'float32'\u001b[0m\u001b[1;33m]\u001b[0m\u001b[1;33m,\u001b[0m \u001b[0mdelimiter\u001b[0m\u001b[1;33m=\u001b[0m\u001b[1;34m\",\"\u001b[0m\u001b[1;33m)\u001b[0m\u001b[1;33m\u001b[0m\u001b[1;33m\u001b[0m\u001b[0m\n\u001b[0m\u001b[0;32m      4\u001b[0m \u001b[0mprint\u001b[0m\u001b[1;33m(\u001b[0m\u001b[0mcsv_data\u001b[0m\u001b[1;33m)\u001b[0m\u001b[1;33m\u001b[0m\u001b[1;33m\u001b[0m\u001b[0m\n",
      "\u001b[1;32m~\\anaconda3\\lib\\site-packages\\numpy\\lib\\npyio.py\u001b[0m in \u001b[0;36mgenfromtxt\u001b[1;34m(fname, dtype, comments, delimiter, skip_header, skip_footer, converters, missing_values, filling_values, usecols, names, excludelist, deletechars, replace_space, autostrip, case_sensitive, defaultfmt, unpack, usemask, loose, invalid_raise, max_rows, encoding, like)\u001b[0m\n\u001b[0;32m   1789\u001b[0m             \u001b[0mfname\u001b[0m \u001b[1;33m=\u001b[0m \u001b[0mos_fspath\u001b[0m\u001b[1;33m(\u001b[0m\u001b[0mfname\u001b[0m\u001b[1;33m)\u001b[0m\u001b[1;33m\u001b[0m\u001b[1;33m\u001b[0m\u001b[0m\n\u001b[0;32m   1790\u001b[0m         \u001b[1;32mif\u001b[0m \u001b[0misinstance\u001b[0m\u001b[1;33m(\u001b[0m\u001b[0mfname\u001b[0m\u001b[1;33m,\u001b[0m \u001b[0mstr\u001b[0m\u001b[1;33m)\u001b[0m\u001b[1;33m:\u001b[0m\u001b[1;33m\u001b[0m\u001b[1;33m\u001b[0m\u001b[0m\n\u001b[1;32m-> 1791\u001b[1;33m             \u001b[0mfid\u001b[0m \u001b[1;33m=\u001b[0m \u001b[0mnp\u001b[0m\u001b[1;33m.\u001b[0m\u001b[0mlib\u001b[0m\u001b[1;33m.\u001b[0m\u001b[0m_datasource\u001b[0m\u001b[1;33m.\u001b[0m\u001b[0mopen\u001b[0m\u001b[1;33m(\u001b[0m\u001b[0mfname\u001b[0m\u001b[1;33m,\u001b[0m \u001b[1;34m'rt'\u001b[0m\u001b[1;33m,\u001b[0m \u001b[0mencoding\u001b[0m\u001b[1;33m=\u001b[0m\u001b[0mencoding\u001b[0m\u001b[1;33m)\u001b[0m\u001b[1;33m\u001b[0m\u001b[1;33m\u001b[0m\u001b[0m\n\u001b[0m\u001b[0;32m   1792\u001b[0m             \u001b[0mfid_ctx\u001b[0m \u001b[1;33m=\u001b[0m \u001b[0mcontextlib\u001b[0m\u001b[1;33m.\u001b[0m\u001b[0mclosing\u001b[0m\u001b[1;33m(\u001b[0m\u001b[0mfid\u001b[0m\u001b[1;33m)\u001b[0m\u001b[1;33m\u001b[0m\u001b[1;33m\u001b[0m\u001b[0m\n\u001b[0;32m   1793\u001b[0m         \u001b[1;32melse\u001b[0m\u001b[1;33m:\u001b[0m\u001b[1;33m\u001b[0m\u001b[1;33m\u001b[0m\u001b[0m\n",
      "\u001b[1;32m~\\anaconda3\\lib\\site-packages\\numpy\\lib\\_datasource.py\u001b[0m in \u001b[0;36mopen\u001b[1;34m(path, mode, destpath, encoding, newline)\u001b[0m\n\u001b[0;32m    192\u001b[0m \u001b[1;33m\u001b[0m\u001b[0m\n\u001b[0;32m    193\u001b[0m     \u001b[0mds\u001b[0m \u001b[1;33m=\u001b[0m \u001b[0mDataSource\u001b[0m\u001b[1;33m(\u001b[0m\u001b[0mdestpath\u001b[0m\u001b[1;33m)\u001b[0m\u001b[1;33m\u001b[0m\u001b[1;33m\u001b[0m\u001b[0m\n\u001b[1;32m--> 194\u001b[1;33m     \u001b[1;32mreturn\u001b[0m \u001b[0mds\u001b[0m\u001b[1;33m.\u001b[0m\u001b[0mopen\u001b[0m\u001b[1;33m(\u001b[0m\u001b[0mpath\u001b[0m\u001b[1;33m,\u001b[0m \u001b[0mmode\u001b[0m\u001b[1;33m,\u001b[0m \u001b[0mencoding\u001b[0m\u001b[1;33m=\u001b[0m\u001b[0mencoding\u001b[0m\u001b[1;33m,\u001b[0m \u001b[0mnewline\u001b[0m\u001b[1;33m=\u001b[0m\u001b[0mnewline\u001b[0m\u001b[1;33m)\u001b[0m\u001b[1;33m\u001b[0m\u001b[1;33m\u001b[0m\u001b[0m\n\u001b[0m\u001b[0;32m    195\u001b[0m \u001b[1;33m\u001b[0m\u001b[0m\n\u001b[0;32m    196\u001b[0m \u001b[1;33m\u001b[0m\u001b[0m\n",
      "\u001b[1;32m~\\anaconda3\\lib\\site-packages\\numpy\\lib\\_datasource.py\u001b[0m in \u001b[0;36mopen\u001b[1;34m(self, path, mode, encoding, newline)\u001b[0m\n\u001b[0;32m    529\u001b[0m                                       encoding=encoding, newline=newline)\n\u001b[0;32m    530\u001b[0m         \u001b[1;32melse\u001b[0m\u001b[1;33m:\u001b[0m\u001b[1;33m\u001b[0m\u001b[1;33m\u001b[0m\u001b[0m\n\u001b[1;32m--> 531\u001b[1;33m             \u001b[1;32mraise\u001b[0m \u001b[0mIOError\u001b[0m\u001b[1;33m(\u001b[0m\u001b[1;34m\"%s not found.\"\u001b[0m \u001b[1;33m%\u001b[0m \u001b[0mpath\u001b[0m\u001b[1;33m)\u001b[0m\u001b[1;33m\u001b[0m\u001b[1;33m\u001b[0m\u001b[0m\n\u001b[0m\u001b[0;32m    532\u001b[0m \u001b[1;33m\u001b[0m\u001b[0m\n\u001b[0;32m    533\u001b[0m \u001b[1;33m\u001b[0m\u001b[0m\n",
      "\u001b[1;31mOSError\u001b[0m: fdata.csv not found."
     ]
    }
   ],
   "source": [
    "#105-CSV data file and store records in an array.\n",
    "from numpy import genfromtxt\n",
    "csv_data = genfromtxt('fdata.csv', dtype=['S10','float32','float32','float32','float32'], delimiter=\",\")\n",
    "print(csv_data)\n"
   ]
  },
  {
   "cell_type": "code",
   "execution_count": 20,
   "id": "1c2ddec7",
   "metadata": {},
   "outputs": [
    {
     "name": "stdout",
     "output_type": "stream",
     "text": [
      "Original array:\n",
      "[10 20 20 20 20  0 20 30 30 30  0  0 20 20  0]\n",
      "1\n",
      "7\n",
      "3\n",
      "4\n"
     ]
    }
   ],
   "source": [
    "#106-count the occurrence of a specified item in a given NumPy array\n",
    "import numpy as np\n",
    "nums=np.array([10, 20, 20, 20, 20, 0, 20, 30, 30, 30, 0, 0, 20, 20, 0])\n",
    "print(\"Original array:\")\n",
    "print(nums)\n",
    "\n",
    "print(np.count_nonzero(nums == 10))\n",
    "print(np.count_nonzero(nums == 20))\n",
    "print(np.count_nonzero(nums == 30))\n",
    "print(np.count_nonzero(nums == 0))"
   ]
  },
  {
   "cell_type": "code",
   "execution_count": 21,
   "id": "bd0acd9c",
   "metadata": {},
   "outputs": [
    {
     "name": "stdout",
     "output_type": "stream",
     "text": [
      "50th percentile (median):\n",
      "3.0\n",
      "40th percentile:\n",
      "2.6\n"
     ]
    }
   ],
   "source": [
    "#107-calculate percentiles for a sequence or single-dimensional NumPy array.\n",
    "import numpy as np\n",
    "nums=np.array([1,2,3,4,5])\n",
    "\n",
    "print(\"50th percentile (median):\")\n",
    "p=np.percentile(nums,50)\n",
    "print(p)\n",
    "\n",
    "print(\"40th percentile:\")\n",
    "p=np.percentile(nums,40)\n",
    "print(p)"
   ]
  },
  {
   "cell_type": "code",
   "execution_count": 17,
   "id": "8b8111c9",
   "metadata": {},
   "outputs": [],
   "source": [
    "#108- convert a PIL Image into a NumPy array\n",
    "import numpy as np\n",
    "import PIL\n",
    "img_data = PIL.Image.open('w3resource-logo.png' )\n",
    "img_arr = np.array(img_data) \n",
    "print(img_arr)"
   ]
  },
  {
   "cell_type": "code",
   "execution_count": 22,
   "id": "0dd1c5b5",
   "metadata": {},
   "outputs": [],
   "source": [
    "#109- convert a NumPy array to an image\n",
    "from PIL import Image\n",
    "import numpy as np\n",
    "img_w, img_h = 200, 200\n",
    "data = np.zeros((img_h, img_w, 3), dtype=np.uint8)\n",
    "data[100, 100] = [255, 0, 0]\n",
    "img = Image.fromarray(data, 'RGB')\n",
    "img.save('test.png')\n",
    "img.show()"
   ]
  },
  {
   "cell_type": "code",
   "execution_count": 27,
   "id": "9b206319",
   "metadata": {},
   "outputs": [
    {
     "name": "stdout",
     "output_type": "stream",
     "text": [
      "Original array:\n",
      "[200. 300.  nan  nan  nan 700.]\n",
      "After removing nan values:\n",
      "[200. 300. 700.]\n",
      "\n",
      "Original array:\n",
      "[[ 1.  2.  3.]\n",
      " [nan  0. nan]\n",
      " [ 6.  7. nan]]\n",
      "After removing nan values:\n",
      "[1. 2. 3. 0. 6. 7.]\n"
     ]
    }
   ],
   "source": [
    "#110-remove nan values from a given array\n",
    "import numpy as np\n",
    "x = np.array([200, 300, np.nan, np.nan, np.nan ,700])\n",
    "y = np.array([[1, 2, 3], [np.nan, 0, np.nan] ,[6,7,np.nan]] )\n",
    "print(\"Original array:\")\n",
    "print(x)\n",
    "print(\"After removing nan values:\")\n",
    "#result=x[np.logical_not(np.isnan(x))]\n",
    "result=x[~(np.isnan(x))]\n",
    "print(result)\n",
    "print(\"\\nOriginal array:\")\n",
    "print(y)\n",
    "print(\"After removing nan values:\")\n",
    "result = y[np.logical_not(np.isnan(y))]\n",
    "print(result)"
   ]
  },
  {
   "cell_type": "code",
   "execution_count": 32,
   "id": "706116c1",
   "metadata": {},
   "outputs": [
    {
     "name": "stdout",
     "output_type": "stream",
     "text": [
      "[[1 4]\n",
      " [2 4]\n",
      " [3 4]\n",
      " [1 5]\n",
      " [2 5]\n",
      " [3 5]]\n"
     ]
    }
   ],
   "source": [
    "#111-create a Cartesian product of two arrays into single array of 2D points\n",
    "import numpy as np\n",
    "x = np.array([1,2,3])\n",
    "y = np.array([4,5])\n",
    "\n",
    "result=np.transpose([np.tile(x, len(y)), np.repeat(y, len(x))])\n",
    "print(result)"
   ]
  },
  {
   "cell_type": "code",
   "execution_count": 34,
   "id": "192feac0",
   "metadata": {},
   "outputs": [
    {
     "name": "stdout",
     "output_type": "stream",
     "text": [
      "4200\n"
     ]
    }
   ],
   "source": [
    "#112-get the memory usage by NumPy arrays\n",
    "import numpy as np\n",
    "from sys import getsizeof\n",
    "x=[0]*1024\n",
    "y=np.array(x)\n",
    "\n",
    "print(getsizeof(y))"
   ]
  },
  {
   "cell_type": "code",
   "execution_count": 35,
   "id": "12ef0dca",
   "metadata": {},
   "outputs": [
    {
     "name": "stdout",
     "output_type": "stream",
     "text": [
      "Original arrays:\n",
      "Array-1\n",
      "[1, 2, 3]\n",
      "Array-2\n",
      "[4, 5]\n",
      "Array-3\n",
      "[6, 7]\n",
      "combined array\n",
      "[[1 4 6]\n",
      " [1 5 6]\n",
      " [2 4 6]\n",
      " [2 5 6]\n",
      " [3 4 6]\n",
      " [3 5 6]\n",
      " [1 4 7]\n",
      " [1 5 7]\n",
      " [2 4 7]\n",
      " [2 5 7]\n",
      " [3 4 7]\n",
      " [3 5 7]]\n"
     ]
    }
   ],
   "source": [
    "#113- build an array of all combinations of three NumPy arrays\n",
    "import numpy as np\n",
    "x = [1, 2, 3]\n",
    "y = [4, 5]\n",
    "z = [6, 7]\n",
    "print(\"Original arrays:\")\n",
    "print(\"Array-1\")\n",
    "print(x)\n",
    "print(\"Array-2\")\n",
    "print(y)\n",
    "print(\"Array-3\")\n",
    "print(z)\n",
    "\n",
    "new_arr=np.array(np.meshgrid(x,y,z)).T.reshape(-1,3)\n",
    "print('combined array')\n",
    "print(new_arr)"
   ]
  },
  {
   "cell_type": "code",
   "execution_count": 37,
   "id": "24d4d120",
   "metadata": {},
   "outputs": [
    {
     "name": "stdout",
     "output_type": "stream",
     "text": [
      "Random set of rows from 2D array array:\n",
      "[[0 0 4]\n",
      " [4 2 4]\n",
      " [3 4 3]\n",
      " [1 3 4]\n",
      " [1 1 3]]\n"
     ]
    }
   ],
   "source": [
    "#114-create random set of rows from 2D array\n",
    "import numpy as np\n",
    "new_array=np.random.randint(5,size=(5,3))\n",
    "print(\"Random set of rows from 2D array array:\")\n",
    "print(new_array)"
   ]
  },
  {
   "cell_type": "code",
   "execution_count": 39,
   "id": "3c205322",
   "metadata": {},
   "outputs": [
    {
     "name": "stdout",
     "output_type": "stream",
     "text": [
      "Original array:\n",
      "[1 0 2 0 3 0 4 5 6 7 8]\n",
      "Indices of elements equal to zero of the said array:\n",
      "[1 3 5]\n"
     ]
    }
   ],
   "source": [
    "#115- find indices of elements equal to zero in a NumPy array\n",
    "import numpy as np\n",
    "nums=np.array([1,0,2,0,3,0,4,5,6,7,8])\n",
    "print(\"Original array:\")\n",
    "print(nums)\n",
    "print(\"Indices of elements equal to zero of the said array:\")\n",
    "result=np.where(nums==0)[0]\n",
    "print(result)"
   ]
  },
  {
   "cell_type": "code",
   "execution_count": 2,
   "id": "e6f2b4de",
   "metadata": {},
   "outputs": [
    {
     "data": {
      "image/png": "[encoded data removed]",
      "text/plain": [
       "<Figure size 432x288 with 1 Axes>"
      ]
     },
     "metadata": {
      "needs_background": "light"
     },
     "output_type": "display_data"
    }
   ],
   "source": [
    "#Date 11/14/22\n",
    "#116- compute the histogram of a set of data. \n",
    "import numpy as np\n",
    "import matplotlib.pyplot as plt\n",
    "\n",
    "plt.hist([1,2,1],bins=[0,1,2,3,5])\n",
    "plt.show()"
   ]
  },
  {
   "cell_type": "code",
   "execution_count": 3,
   "id": "5064b2be",
   "metadata": {},
   "outputs": [
    {
     "name": "stderr",
     "output_type": "stream",
     "text": [
      "C:\\Users\\przir\\AppData\\Local\\Temp/ipykernel_3220/1827816836.py:9: UserWarning: Matplotlib is currently using module://matplotlib_inline.backend_inline, which is a non-GUI backend, so cannot show the figure.\n",
      "  fig.show()\n"
     ]
    },
    {
     "data": {
      "image/png": "[encoded data removed]",
      "text/plain": [
       "<Figure size 432x288 with 1 Axes>"
      ]
     },
     "metadata": {
      "needs_background": "light"
     },
     "output_type": "display_data"
    }
   ],
   "source": [
    "#117- compute the line graph of a set of data\n",
    "import numpy as np\n",
    "import matplotlib.pyplot as plt\n",
    "\n",
    "arr=np.random.randint(1,50,10)\n",
    "y,x=np.histogram(arr,bins=np.arange(51))\n",
    "fig,ax=plt.subplots()\n",
    "ax.plot(x[:-1],y)\n",
    "fig.show()"
   ]
  },
  {
   "cell_type": "code",
   "execution_count": 5,
   "id": "9a9a6649",
   "metadata": {},
   "outputs": [
    {
     "name": "stdout",
     "output_type": "stream",
     "text": [
      "\n",
      "Original array:\n",
      "[-6 -5 -4 -3 -2 -1  0  1  2  3  4  5]\n",
      "\n",
      "Position of the index:\n",
      "9\n",
      "11\n"
     ]
    }
   ],
   "source": [
    "#118- find the position of the index of a specified value greater than existing value in NumPy array. \n",
    "import numpy as np\n",
    "n=4\n",
    "nums=np.arange(-6,6)\n",
    "print(\"\\nOriginal array:\")\n",
    "print(nums)\n",
    "\n",
    "print(\"\\nPosition of the index:\")\n",
    "print(np.argmax(nums>n/2))\n",
    "print(np.argmax(nums))"
   ]
  },
  {
   "cell_type": "code",
   "execution_count": 6,
   "id": "b53c746d",
   "metadata": {},
   "outputs": [
    {
     "name": "stdout",
     "output_type": "stream",
     "text": [
      "Empty array:\n",
      "[]\n",
      "After adding two new arrays:\n",
      "[[10 20 30]\n",
      " [40 50 60]]\n"
     ]
    }
   ],
   "source": [
    "#119-add a new row to an empty NumPy array\n",
    "import numpy as np\n",
    "arr=np.empty((0,3),int)\n",
    "print(\"Empty array:\")\n",
    "print(arr)\n",
    "\n",
    "arr = np.append(arr, np.array([[10,20,30]]), axis=0)\n",
    "arr = np.append(arr, np.array([[40,50,60]]), axis=0)\n",
    "print(\"After adding two new arrays:\")\n",
    "print(arr)"
   ]
  },
  {
   "cell_type": "code",
   "execution_count": 12,
   "id": "19a94121",
   "metadata": {},
   "outputs": [
    {
     "name": "stdout",
     "output_type": "stream",
     "text": [
      "[ 0  1  2  3  4  5  6  7  8  9 10 11]\n",
      "11\n"
     ]
    }
   ],
   "source": [
    "#120-get the index of a maximum element in a NumPy array along one axis\n",
    "import numpy as np\n",
    "\n",
    "x=np.arange(12)\n",
    "print(x)\n",
    "\n",
    "print(np.argmax(x))"
   ]
  },
  {
   "cell_type": "code",
   "execution_count": 13,
   "id": "a3f6c123",
   "metadata": {},
   "outputs": [
    {
     "name": "stdout",
     "output_type": "stream",
     "text": [
      "Original array:\n",
      "[[1 2 3]\n",
      " [4 3 1]]\n",
      "Index of a maximum element in a numpy array along one axis:\n",
      "4\n"
     ]
    }
   ],
   "source": [
    "import numpy as np    \n",
    "a = np.array([[1,2,3],[4,3,1]])\n",
    "print(\"Original array:\")\n",
    "print(a)\n",
    "i,j = np.unravel_index(a.argmax(), a.shape)\n",
    "print(\"Index of a maximum element in a numpy array along one axis:\")\n",
    "print(a[i,j])"
   ]
  },
  {
   "cell_type": "code",
   "execution_count": 22,
   "id": "746543f0",
   "metadata": {},
   "outputs": [
    {
     "name": "stdout",
     "output_type": "stream",
     "text": [
      "Original arrays:\n",
      "[1 2 3]\n",
      "[2 3 4]\n",
      "Sequence of arrays along a new axis:\n",
      "[[1 2 3]\n",
      " [2 3 4]]\n",
      "\n",
      "Original arrays:\n",
      "[[1]\n",
      " [2]\n",
      " [3]]\n",
      "\n",
      "[[2]\n",
      " [3]\n",
      " [4]]\n",
      "Sequence of arrays along a new axis:\n",
      "[[1]\n",
      " [2]\n",
      " [3]\n",
      " [2]\n",
      " [3]\n",
      " [4]]\n"
     ]
    }
   ],
   "source": [
    "#121- join a sequence of arrays along a new axis\n",
    "import numpy as np\n",
    "x = np.array([1, 2, 3])\n",
    "y = np.array([2, 3, 4])\n",
    "print(\"Original arrays:\")\n",
    "print(x)\n",
    "print(y)\n",
    "print(\"Sequence of arrays along a new axis:\")\n",
    "print(np.vstack((x, y)))\n",
    "\n",
    "x = np.array([[1], [2], [3]])\n",
    "y = np.array([[2], [3], [4]])\n",
    "print(\"\\nOriginal arrays:\")\n",
    "print(x)\n",
    "print()\n",
    "print(y)\n",
    "print(\"Sequence of arrays along a new axis:\")\n",
    "print(np.vstack((x, y)))"
   ]
  },
  {
   "cell_type": "code",
   "execution_count": 23,
   "id": "c72e5a3e",
   "metadata": {},
   "outputs": [
    {
     "name": "stdout",
     "output_type": "stream",
     "text": [
      "Original arrays:\n",
      "[[ 0  1  2  3]\n",
      " [ 4  5  6  7]\n",
      " [ 8  9 10 11]\n",
      " [12 13 14 15]]\n",
      "Sliced elements:\n",
      "[ 0  5 11]\n"
     ]
    }
   ],
   "source": [
    "#122-find the index of the sliced elements as follows from a given 4x4 array.\n",
    "import numpy as np\n",
    "x=np.reshape(np.arange(16),(4,4))\n",
    "print(\"Original arrays:\")\n",
    "print(x)\n",
    "\n",
    "print(\"Sliced elements:\")\n",
    "result = x[[0,1,2],[0,1,3]]  #these are index of the array x\n",
    "print(result)"
   ]
  },
  {
   "cell_type": "code",
   "execution_count": 25,
   "id": "91229b70",
   "metadata": {},
   "outputs": [
    {
     "name": "stdout",
     "output_type": "stream",
     "text": [
      "original array\n",
      "[[ 0  1  2  3]\n",
      " [ 4  5  6  7]\n",
      " [ 8  9 10 11]\n",
      " [12 13 14 15]]\n",
      "\n",
      "Array with size 2x2 from the said array:\n",
      "[[0 1]\n",
      " [2 3]]\n",
      "\n",
      "Array with size 6x6 from the said array:\n",
      "[[ 0  1  2  3  4  5]\n",
      " [ 6  7  8  9 10 11]\n",
      " [12 13 14 15  0  1]\n",
      " [ 2  3  4  5  6  7]\n",
      " [ 8  9 10 11 12 13]\n",
      " [14 15  0  1  2  3]]\n"
     ]
    }
   ],
   "source": [
    "#123- program to create two arrays of size bigger and smaller than a given array\n",
    "import numpy as np\n",
    "x=np.arange(16).reshape(4,4)\n",
    "print('original array')\n",
    "print(x)\n",
    "\n",
    "print(\"\\nArray with size 2x2 from the said array:\")\n",
    "new_arr1=np.resize(x,(2,2))\n",
    "print(new_arr1)\n",
    "\n",
    "print(\"\\nArray with size 6x6 from the said array:\")\n",
    "new_arr2=np.resize(x,(6,6))\n",
    "print(new_arr2)"
   ]
  },
  {
   "cell_type": "code",
   "execution_count": 26,
   "id": "d2e36726",
   "metadata": {},
   "outputs": [
    {
     "name": "stdout",
     "output_type": "stream",
     "text": [
      "Original arrays:\n",
      "Array-1\n",
      "[[0 0 0]\n",
      " [1 2 3]\n",
      " [4 5 6]]\n",
      "Array-2\n",
      "[10 11 12]\n",
      "new array\n",
      "[[10 11 12]\n",
      " [11 13 15]\n",
      " [14 16 18]]\n"
     ]
    }
   ],
   "source": [
    "#124- broadcast on different shapes of arrays where p(3,3) + q(3)\n",
    "import numpy as np\n",
    "p = np.array([[0, 0, 0],\n",
    "              [1, 2, 3],\n",
    "              [4, 5, 6]]) \n",
    "q= np.array([10, 11, 12]) \n",
    "\n",
    "print(\"Original arrays:\")\n",
    "print(\"Array-1\")\n",
    "print(p)\n",
    "print(\"Array-2\")\n",
    "print(q)\n",
    "\n",
    "print('new array')\n",
    "new_arr1=p+q\n",
    "print(new_arr1)"
   ]
  },
  {
   "cell_type": "code",
   "execution_count": 29,
   "id": "b559f926",
   "metadata": {},
   "outputs": [
    {
     "name": "stdout",
     "output_type": "stream",
     "text": [
      "Original arrays:\n",
      "Array-1\n",
      "[[ 0]\n",
      " [10]\n",
      " [30]]\n",
      "Array-2\n",
      "[10 11 12]\n",
      "new array\n",
      "[[10 11 12]\n",
      " [20 21 22]\n",
      " [40 41 42]]\n"
     ]
    }
   ],
   "source": [
    "#125- broadcast on different shapes of arrays where a(,3) + b(3)\n",
    "import numpy as np\n",
    "\n",
    "p = np.array([[0], [10], [30]]) \n",
    "q= np.array([10, 11, 12]) \n",
    "print(\"Original arrays:\")\n",
    "print(\"Array-1\")\n",
    "print(p)\n",
    "print(\"Array-2\")\n",
    "print(q)\n",
    "\n",
    "print('new array')\n",
    "new_arr1=p+q\n",
    "print(new_arr1)"
   ]
  },
  {
   "cell_type": "code",
   "execution_count": 35,
   "id": "f65409a2",
   "metadata": {},
   "outputs": [
    {
     "name": "stdout",
     "output_type": "stream",
     "text": [
      "Original arrays:\n",
      "[[ 0  1  2  3  4  5]\n",
      " [ 6  7  8  9 10 11]\n",
      " [12 13 14 15 16 17]\n",
      " [18 19 20 21 22 23]]\n",
      "After reverse the dimensions:\n",
      "[[ 0  6 12 18]\n",
      " [ 1  7 13 19]\n",
      " [ 2  8 14 20]\n",
      " [ 3  9 15 21]\n",
      " [ 4 10 16 22]\n",
      " [ 5 11 17 23]]\n"
     ]
    }
   ],
   "source": [
    "#126-rearrange the dimensions of a given array.\n",
    "import numpy as np\n",
    "x=np.arange(24).reshape(4,6)\n",
    "print(\"Original arrays:\")\n",
    "print(x)\n",
    "\n",
    "new_array=np.transpose(x)\n",
    "print(\"After reverse the dimensions:\")\n",
    "print(new_array)"
   ]
  },
  {
   "cell_type": "code",
   "execution_count": 38,
   "id": "581e566e",
   "metadata": {},
   "outputs": [
    {
     "name": "stdout",
     "output_type": "stream",
     "text": [
      "original array\n",
      "Array-1\n",
      "[[0 1 2]\n",
      " [3 4 5]\n",
      " [6 7 8]]\n",
      "Array-2\n",
      "[[ 0  3  6]\n",
      " [ 9 12 15]\n",
      " [18 21 24]]\n",
      "arracy stacked horizontaly\n",
      "[[ 0  1  2  0  3  6]\n",
      " [ 3  4  5  9 12 15]\n",
      " [ 6  7  8 18 21 24]]\n"
     ]
    }
   ],
   "source": [
    "#127-stack arrays in sequence horizontally (column wise)\n",
    "import numpy as np\n",
    "print('original array')\n",
    "x=np.arange(9).reshape(3,3)\n",
    "y=x*3\n",
    "\n",
    "print(\"Array-1\")\n",
    "print(x)\n",
    "print(\"Array-2\")\n",
    "print(y)\n",
    "\n",
    "new_arr=np.hstack((x,y))\n",
    "print('arracy stacked horizontaly')\n",
    "print(new_arr)"
   ]
  },
  {
   "cell_type": "code",
   "execution_count": 40,
   "id": "ec174563",
   "metadata": {},
   "outputs": [
    {
     "name": "stdout",
     "output_type": "stream",
     "text": [
      "Array-1\n",
      "[[0 1 2]\n",
      " [3 4 5]\n",
      " [6 7 8]]\n",
      "Array-2\n",
      "[[ 0  3  6]\n",
      " [ 9 12 15]\n",
      " [18 21 24]]\n",
      "vertically stacked arrays\n",
      "[[ 0  1  2]\n",
      " [ 3  4  5]\n",
      " [ 6  7  8]\n",
      " [ 0  3  6]\n",
      " [ 9 12 15]\n",
      " [18 21 24]]\n"
     ]
    }
   ],
   "source": [
    "#128-stack arrays in sequence vertically.\n",
    "import numpy as np\n",
    "x=np.arange(9).reshape(3,3)\n",
    "y=x*3\n",
    "\n",
    "print(\"Array-1\")\n",
    "print(x)\n",
    "print(\"Array-2\")\n",
    "print(y)\n",
    "\n",
    "new_arr=np.vstack((x,y))\n",
    "print('vertically stacked arrays')\n",
    "print(new_arr)"
   ]
  },
  {
   "cell_type": "code",
   "execution_count": 41,
   "id": "ec621627",
   "metadata": {},
   "outputs": [
    {
     "name": "stdout",
     "output_type": "stream",
     "text": [
      "Array-1\n",
      "[1 2 3]\n",
      "Array-2\n",
      "[4 5 6]\n",
      "\n",
      "Stack 1-D arrays as columns wise:\n",
      "[[1 4]\n",
      " [2 5]\n",
      " [3 6]]\n"
     ]
    }
   ],
   "source": [
    "#129-program to stack 1-D arrays as columns wise\n",
    "import numpy as np\n",
    "x=np.array((1,2,3))\n",
    "y=np.array((4,5,6))\n",
    "\n",
    "print(\"Array-1\")\n",
    "print(x)\n",
    "print(\"Array-2\")\n",
    "print(y)\n",
    "\n",
    "new_arr=np.column_stack((x,y))\n",
    "print('\\nStack 1-D arrays as columns wise:')\n",
    "print(new_arr)"
   ]
  },
  {
   "cell_type": "code",
   "execution_count": 42,
   "id": "74d53ff0",
   "metadata": {},
   "outputs": [
    {
     "name": "stdout",
     "output_type": "stream",
     "text": [
      "\n",
      "Original arrays:\n",
      "Array-1\n",
      "[1 2 3]\n",
      "Array-2\n",
      "[2 3 4]\n",
      "\n",
      "Stack 1-D arrays as rows wise:\n",
      "[[1 2 3]\n",
      " [2 3 4]]\n"
     ]
    }
   ],
   "source": [
    "#130- stack 1-D arrays as row wise\n",
    "import numpy as np\n",
    "print(\"\\nOriginal arrays:\")\n",
    "x = np.array((1,2,3))\n",
    "y = np.array((2,3,4))\n",
    "print(\"Array-1\")\n",
    "print(x)\n",
    "print(\"Array-2\")\n",
    "print(y)\n",
    "new_arr=np.row_stack((x,y))\n",
    "print(\"\\nStack 1-D arrays as rows wise:\")\n",
    "print(new_arr)"
   ]
  },
  {
   "cell_type": "code",
   "execution_count": 47,
   "id": "fd0c8486",
   "metadata": {},
   "outputs": [
    {
     "name": "stdout",
     "output_type": "stream",
     "text": [
      "\n",
      "Original arrays:\n",
      "[[ 0  1  2  3]\n",
      " [ 4  5  6  7]\n",
      " [ 8  9 10 11]\n",
      " [12 13 14 15]]\n",
      "\n",
      "Split an array into multiple sub-arrays vertically:\n",
      "[array([[0, 1, 2, 3],\n",
      "       [4, 5, 6, 7]]), array([[ 8,  9, 10, 11],\n",
      "       [12, 13, 14, 15]])]\n"
     ]
    }
   ],
   "source": [
    "#131-split a given array into multiple sub-arrays vertically (row-wise).\n",
    "import numpy as np\n",
    "print(\"\\nOriginal arrays:\")\n",
    "x=np.arange(16).reshape(4,4)\n",
    "print(x)\n",
    "\n",
    "new_arr=np.vsplit(x,2)\n",
    "print(\"\\nSplit an array into multiple sub-arrays vertically:\")\n",
    "print(new_arr)"
   ]
  },
  {
   "cell_type": "code",
   "execution_count": 48,
   "id": "11c17166",
   "metadata": {},
   "outputs": [
    {
     "name": "stdout",
     "output_type": "stream",
     "text": [
      "original array\n",
      "[[[ 0  1  2  3]\n",
      "  [ 4  5  6  7]]\n",
      "\n",
      " [[ 8  9 10 11]\n",
      "  [12 13 14 15]]]\n",
      "\n",
      "split array into multiple sub-arrays along the 3rd axis:\n",
      "[array([[[ 0,  1],\n",
      "        [ 4,  5]],\n",
      "\n",
      "       [[ 8,  9],\n",
      "        [12, 13]]]), array([[[ 2,  3],\n",
      "        [ 6,  7]],\n",
      "\n",
      "       [[10, 11],\n",
      "        [14, 15]]])]\n"
     ]
    }
   ],
   "source": [
    "#132-split array into multiple sub-arrays along the 3rd axis\n",
    "import numpy as np\n",
    "print('original array')\n",
    "x=np.arange(16).reshape(2,2,4)\n",
    "print(x)\n",
    "\n",
    "new_arr=np.dsplit(x,2)\n",
    "print(\"\\nsplit array into multiple sub-arrays along the 3rd axis:\")\n",
    "print(new_arr)"
   ]
  },
  {
   "cell_type": "code",
   "execution_count": 49,
   "id": "54df9a45",
   "metadata": {},
   "outputs": [
    {
     "name": "stdout",
     "output_type": "stream",
     "text": [
      "[[ 0  1  2  3  4  5  6  7  8  9 10 11]\n",
      " [12 13 14 15 16 17 18 19 20 21 22 23]]\n",
      "\n",
      "Number of dimensions:\n",
      "2\n",
      "Number of elements:\n",
      "24\n",
      "Number of bytes for each element in the said array:\n",
      "4\n"
     ]
    }
   ],
   "source": [
    "#133-count the number of dimensions, number of elements and number of bytes for each element in a given array.\n",
    "import numpy as np\n",
    "x=np.array([[ 0,  1,  2,  3,  4,  5,  6,  7,  8,  9, 10, 11],\n",
    "       [12, 13, 14, 15, 16, 17, 18, 19, 20, 21, 22, 23]])\n",
    "print(x)\n",
    "\n",
    "print(\"\\nNumber of dimensions:\")\n",
    "print(x.ndim)\n",
    "\n",
    "print(\"Number of elements:\")\n",
    "print(x.size)\n",
    "\n",
    "print(\"Number of bytes for each element in the said array:\")\n",
    "print(x.itemsize)"
   ]
  },
  {
   "cell_type": "code",
   "execution_count": 51,
   "id": "73807b51",
   "metadata": {},
   "outputs": [
    {
     "name": "stdout",
     "output_type": "stream",
     "text": [
      "original array\n",
      "[[ 0  1  2  3]\n",
      " [ 4  5  6  7]\n",
      " [ 8  9 10 11]\n",
      " [12 13 14 15]]\n",
      "\n",
      "Extracted data: First row\n",
      "[0 1 2 3]\n"
     ]
    }
   ],
   "source": [
    "#134- extract all the elements of the first row from a given (4x4) array. \n",
    "import numpy as np\n",
    "x=np.arange(16).reshape((4,4))\n",
    "print('original array')\n",
    "print(x)\n",
    "\n",
    "print(\"\\nExtracted data: First row\")\n",
    "print(x[0])"
   ]
  },
  {
   "cell_type": "code",
   "execution_count": 53,
   "id": "e4483f79",
   "metadata": {},
   "outputs": [
    {
     "name": "stdout",
     "output_type": "stream",
     "text": [
      "original array\n",
      "[[ 0  1  2  3]\n",
      " [ 4  5  6  7]\n",
      " [ 8  9 10 11]\n",
      " [12 13 14 15]]\n",
      "\n",
      "second row of the array\n",
      "[ 8  9 10 11]\n"
     ]
    }
   ],
   "source": [
    "#135-extract all the elements of the second row from a given (4x4) array. \n",
    "import numpy as np\n",
    "x=np.arange(16).reshape(4,4)\n",
    "print('original array')\n",
    "print(x)\n",
    "\n",
    "print('\\nsecond row of the array')\n",
    "print(x[2,:])"
   ]
  },
  {
   "cell_type": "code",
   "execution_count": 60,
   "id": "1656f7ae",
   "metadata": {},
   "outputs": [
    {
     "name": "stdout",
     "output_type": "stream",
     "text": [
      "[[ 0  1  2  3]\n",
      " [ 4  5  6  7]\n",
      " [ 8  9 10 11]\n",
      " [12 13 14 15]]\n",
      "extracted data\n",
      "[ 2  6 10 14]\n"
     ]
    }
   ],
   "source": [
    "#136- extract all the elements of the third column from a given (4x4) array\n",
    "import numpy as np\n",
    "x=np.arange(16).reshape(4,4)\n",
    "print(x)\n",
    "\n",
    "print('extracted data')\n",
    "print(x[:,2])"
   ]
  },
  {
   "cell_type": "code",
   "execution_count": 61,
   "id": "72f29e96",
   "metadata": {},
   "outputs": [
    {
     "name": "stdout",
     "output_type": "stream",
     "text": [
      "[[ 0  1  2  3]\n",
      " [ 4  5  6  7]\n",
      " [ 8  9 10 11]\n",
      " [12 13 14 15]]\n",
      "first and second elements of the first and second rows\n",
      "[[0 1]\n",
      " [4 5]]\n"
     ]
    }
   ],
   "source": [
    "#137-extract first and second elements of the first and second rows from a given (4x4) array\n",
    "import numpy as np\n",
    "x=np.arange(16).reshape(4,4)\n",
    "print(x)\n",
    "\n",
    "print('first and second elements of the first and second rows')\n",
    "print(x[0:2,0:2])"
   ]
  },
  {
   "cell_type": "code",
   "execution_count": 62,
   "id": "1077bfa8",
   "metadata": {},
   "outputs": [
    {
     "name": "stdout",
     "output_type": "stream",
     "text": [
      "[[ 0  1  2  3]\n",
      " [ 4  5  6  7]\n",
      " [ 8  9 10 11]\n",
      " [12 13 14 15]]\n",
      "third and fourth elements of the first and second rows\n",
      "[[2 3]\n",
      " [6 7]]\n"
     ]
    }
   ],
   "source": [
    "#138- extract third and fourth elements of the first and second rows from a given (4x4) array.\n",
    "import numpy as np\n",
    "x=np.arange(16).reshape(4,4)\n",
    "print(x)\n",
    "\n",
    "print('third and fourth elements of the first and second rows')\n",
    "print(x[0:2,2:4])"
   ]
  },
  {
   "cell_type": "code",
   "execution_count": 64,
   "id": "f2a6bbc9",
   "metadata": {},
   "outputs": [
    {
     "name": "stdout",
     "output_type": "stream",
     "text": [
      "[[ 0  1  2  3]\n",
      " [ 4  5  6  7]\n",
      " [ 8  9 10 11]\n",
      " [12 13 14 15]]\n",
      "first and third elements of the first and third rows \n",
      "[[ 0  2]\n",
      " [ 8 10]]\n"
     ]
    }
   ],
   "source": [
    "#139-extract first and third elements of the first and third rows from a given (4x4) array. \n",
    "import numpy as np\n",
    "x=np.arange(16).reshape(4,4)\n",
    "print(x)\n",
    "\n",
    "print('first and third elements of the first and third rows ')\n",
    "print(x[::2,::2])"
   ]
  },
  {
   "cell_type": "code",
   "execution_count": 65,
   "id": "09284604",
   "metadata": {},
   "outputs": [
    {
     "name": "stdout",
     "output_type": "stream",
     "text": [
      "original array\n",
      "[[ 0  1  2  3]\n",
      " [ 4  5  6  7]\n",
      " [ 8  9 10 11]\n",
      " [12 13 14 15]]\n",
      "\n",
      "Extracted data: Second and fourth elements of the second and fourth rows \n",
      "[[ 5  7]\n",
      " [13 15]]\n"
     ]
    }
   ],
   "source": [
    "#140- extract second and fourth elements of the second and fourth rows from a given (4x4) array.\n",
    "import numpy as np\n",
    "x=np.arange(16).reshape(4,4)\n",
    "print('original array')\n",
    "print(x)\n",
    "\n",
    "print(\"\\nExtracted data: Second and fourth elements of the second and fourth rows \")\n",
    "print(x[1::2,1::2])"
   ]
  },
  {
   "cell_type": "code",
   "execution_count": 71,
   "id": "1a4e4b5e",
   "metadata": {},
   "outputs": [
    {
     "name": "stdout",
     "output_type": "stream",
     "text": [
      "[[ 0  1  2  3]\n",
      " [ 4  5  6  7]\n",
      " [ 8  9 10 11]\n",
      " [12 13 14 15]]\n",
      "\n",
      "Extracted data: All the elements of the second and third columns\n",
      "[[ 1  2]\n",
      " [ 5  6]\n",
      " [ 9 10]\n",
      " [13 14]]\n"
     ]
    }
   ],
   "source": [
    "#141-extract all the elements of the second and third columns from a given (4x4) array\n",
    "import numpy as np\n",
    "x=np.arange(16).reshape(4,4)\n",
    "print(x)\n",
    "\n",
    "print(\"\\nExtracted data: All the elements of the second and third columns\")\n",
    "print(x[:,[1,2]])"
   ]
  },
  {
   "cell_type": "code",
   "execution_count": 72,
   "id": "d018e07f",
   "metadata": {},
   "outputs": [
    {
     "name": "stdout",
     "output_type": "stream",
     "text": [
      "[[ 0  1  2  3]\n",
      " [ 4  5  6  7]\n",
      " [ 8  9 10 11]\n",
      " [12 13 14 15]]\n",
      "\n",
      "Extracted data: All the elements of the first and fourth columns \n",
      "[[ 0  3]\n",
      " [ 4  7]\n",
      " [ 8 11]\n",
      " [12 15]]\n"
     ]
    }
   ],
   "source": [
    "#142-extract all the elements of the first and fourth columns from a given (4x4) array. \n",
    "import numpy as np\n",
    "x=np.arange(16).reshape(4,4)\n",
    "print(x)\n",
    "\n",
    "print(\"\\nExtracted data: All the elements of the first and fourth columns \")\n",
    "print(x[:,[0,3]])"
   ]
  },
  {
   "cell_type": "code",
   "execution_count": null,
   "id": "81febf8d",
   "metadata": {},
   "outputs": [],
   "source": []
  }
 ],
 "metadata": {
  "kernelspec": {
   "display_name": "Python 3 (ipykernel)",
   "language": "python",
   "name": "python3"
  },
  "language_info": {
   "codemirror_mode": {
    "name": "ipython",
    "version": 3
   },
   "file_extension": ".py",
   "mimetype": "text/x-python",
   "name": "python",
   "nbconvert_exporter": "python",
   "pygments_lexer": "ipython3",
   "version": "3.9.7"
  }
 },
 "nbformat": 4,
 "nbformat_minor": 5
}
