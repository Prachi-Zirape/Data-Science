{
 "cells": [
  {
   "cell_type": "code",
   "execution_count": 6,
   "id": "a97a7709",
   "metadata": {},
   "outputs": [
    {
     "name": "stdout",
     "output_type": "stream",
     "text": [
      "original matrix\n",
      "[[1, 0], [0, 1]]\n",
      "[[1, 2], [3, 4]]\n",
      "[[1 2]\n",
      " [3 4]]\n"
     ]
    }
   ],
   "source": [
    "#Date 11/24/22\n",
    "#1-compute the multiplication of two given matrixes\n",
    "import numpy as np\n",
    "p=[[1,0],[0,1]]\n",
    "q=[[1,2],[3,4]]\n",
    "\n",
    "print('original matrix')\n",
    "print(p)\n",
    "print(q)\n",
    "\n",
    "result=np.dot(p,q)\n",
    "print(result)"
   ]
  },
  {
   "cell_type": "code",
   "execution_count": 7,
   "id": "9f06e25d",
   "metadata": {},
   "outputs": [
    {
     "name": "stdout",
     "output_type": "stream",
     "text": [
      "[[1 2 3 4]\n",
      " [0 0 0 0]\n",
      " [0 0 0 0]\n",
      " [1 2 3 4]]\n"
     ]
    }
   ],
   "source": [
    "#2-compute the outer product of two given vectors\n",
    "import numpy as np\n",
    "p=[[1,0],[0,1]]\n",
    "q=[[1,2],[3,4]]\n",
    "\n",
    "result=np.outer(p,q)\n",
    "print(result)"
   ]
  },
  {
   "cell_type": "code",
   "execution_count": 8,
   "id": "f18be145",
   "metadata": {},
   "outputs": [
    {
     "name": "stdout",
     "output_type": "stream",
     "text": [
      "[ 2 -3]\n",
      "[-2  3]\n"
     ]
    }
   ],
   "source": [
    "#3-compute the cross product of two given vectors\n",
    "import numpy as np\n",
    "p=[[1,0],[0,1]]\n",
    "q=[[1,2],[3,4]]\n",
    "\n",
    "r1=np.cross(p,q)\n",
    "r2=np.cross(q,p)\n",
    "print(r1)\n",
    "print(r2)"
   ]
  },
  {
   "cell_type": "code",
   "execution_count": 11,
   "id": "45c888d1",
   "metadata": {},
   "outputs": [
    {
     "name": "stdout",
     "output_type": "stream",
     "text": [
      "[[1 0]\n",
      " [1 2]]\n",
      "Determinant of the said 2-D array:\n",
      "2.0\n"
     ]
    }
   ],
   "source": [
    "#4-compute the determinant of a given square array\n",
    "import numpy as np\n",
    "from numpy import linalg as la\n",
    "a=np.array([[1, 0], [1, 2]])\n",
    "print(a)\n",
    "print(\"Determinant of the said 2-D array:\")\n",
    "print(np.linalg.det(a))"
   ]
  },
  {
   "cell_type": "code",
   "execution_count": 12,
   "id": "a4d036ac",
   "metadata": {},
   "outputs": [
    {
     "name": "stdout",
     "output_type": "stream",
     "text": [
      "Original 1-d arrays:\n",
      "[1 2 3]\n",
      "[0 1 0]\n",
      "Einstein’s summation convention of the said arrays:\n",
      "2\n",
      "Original Higher dimension:\n",
      "[[0 1 2]\n",
      " [3 4 5]\n",
      " [6 7 8]]\n",
      "[[ 3  4  5]\n",
      " [ 6  7  8]\n",
      " [ 9 10 11]]\n",
      "Einstein’s summation convention of the said arrays:\n",
      "[[ 24  27  30]\n",
      " [ 78  90 102]\n",
      " [132 153 174]]\n"
     ]
    }
   ],
   "source": [
    "#5-evaluate Einstein's summation convention of two given multidimensional arrays\n",
    "import numpy as np\n",
    "a = np.array([1,2,3])\n",
    "b = np.array([0,1,0])\n",
    "print(\"Original 1-d arrays:\")\n",
    "print(a)\n",
    "print(b)\n",
    "result =  np.einsum(\"n,n\", a, b)\n",
    "print(\"Einstein’s summation convention of the said arrays:\")\n",
    "print(result)\n",
    "x = np.arange(9).reshape(3, 3)\n",
    "y = np.arange(3, 12).reshape(3, 3)\n",
    "print(\"Original Higher dimension:\")\n",
    "print(x)\n",
    "print(y)\n",
    "result = np.einsum(\"mk,kn\", x, y)\n",
    "print(\"Einstein’s summation convention of the said arrays:\")\n",
    "print(result)"
   ]
  },
  {
   "cell_type": "code",
   "execution_count": 3,
   "id": "25d2efd6",
   "metadata": {},
   "outputs": [
    {
     "name": "stdout",
     "output_type": "stream",
     "text": [
      "4\n",
      "Inner product of the said vectors:\n",
      "Higher dimension arrays:\n",
      "[[0 1 2]\n",
      " [3 4 5]\n",
      " [6 7 8]]\n",
      "[[ 3  4  5]\n",
      " [ 6  7  8]\n",
      " [ 9 10 11]]\n",
      "[[ 14  23  32]\n",
      " [ 50  86 122]\n",
      " [ 86 149 212]]\n"
     ]
    }
   ],
   "source": [
    "#Date-11/27/22\n",
    "#6-compute the inner product of vectors for 1-D arrays (without complex conjugation) and in higher dimension.\n",
    "import numpy as np\n",
    "a=np.array([1,2,5])\n",
    "b=np.array([2,1,0])\n",
    "\n",
    "result=np.inner(a,b)\n",
    "print(result)\n",
    "\n",
    "print(\"Inner product of the said vectors:\")\n",
    "x=np.arange(9).reshape(3,3)\n",
    "y=np.arange(3,12).reshape(3,3)\n",
    "print(\"Higher dimension arrays:\")\n",
    "print(x)\n",
    "print(y)\n",
    "\n",
    "result=np.inner(x,y)\n",
    "print(result)"
   ]
  },
  {
   "cell_type": "code",
   "execution_count": 4,
   "id": "de4c160c",
   "metadata": {},
   "outputs": [
    {
     "name": "stdout",
     "output_type": "stream",
     "text": [
      "original matrix\n",
      "[[ 3 -2]\n",
      " [ 1  0]]\n",
      "Eigenvalues of the said matrix [2. 1.]\n",
      "Eigenvectors of the said matrix [[0.89442719 0.70710678]\n",
      " [0.4472136  0.70710678]]\n"
     ]
    }
   ],
   "source": [
    "#7- compute the eigenvalues and right eigenvectors of a given square array.\n",
    "import numpy as np\n",
    "m=np.mat('3 -2;1 0')\n",
    "print('original matrix')\n",
    "print(m)\n",
    "w,v=np.linalg.eig(m)\n",
    "print( \"Eigenvalues of the said matrix\",w)\n",
    "print( \"Eigenvectors of the said matrix\",v)"
   ]
  },
  {
   "cell_type": "code",
   "execution_count": 6,
   "id": "04e0fcca",
   "metadata": {},
   "outputs": [
    {
     "name": "stdout",
     "output_type": "stream",
     "text": [
      "original array\n",
      "[1 2 3]\n",
      "[0 1 0]\n",
      "Kronecker product of the said arrays:\n",
      "[0 1 0 0 2 0 0 3 0]\n",
      "Original Higher dimension:\n",
      "[[0 1 2]\n",
      " [3 4 5]\n",
      " [6 7 8]]\n",
      "[[ 3  4  5]\n",
      " [ 6  7  8]\n",
      " [ 9 10 11]]\n",
      "Kronecker product  of the said arrays:\n",
      "[[ 0  0  0  3  4  5  6  8 10]\n",
      " [ 0  0  0  6  7  8 12 14 16]\n",
      " [ 0  0  0  9 10 11 18 20 22]\n",
      " [ 9 12 15 12 16 20 15 20 25]\n",
      " [18 21 24 24 28 32 30 35 40]\n",
      " [27 30 33 36 40 44 45 50 55]\n",
      " [18 24 30 21 28 35 24 32 40]\n",
      " [36 42 48 42 49 56 48 56 64]\n",
      " [54 60 66 63 70 77 72 80 88]]\n"
     ]
    }
   ],
   "source": [
    "#8-compute the Kronecker product of two given mulitdimension arrays\n",
    "import numpy as np\n",
    "a=np.array([1,2,3])\n",
    "b=np.array([0,1,0])\n",
    "\n",
    "print('original array')\n",
    "print(a)\n",
    "print(b)\n",
    "\n",
    "result=np.kron(a,b)\n",
    "print(\"Kronecker product of the said arrays:\")\n",
    "print(result)\n",
    "\n",
    "x = np.arange(9).reshape(3, 3)\n",
    "y = np.arange(3, 12).reshape(3, 3)\n",
    "print(\"Original Higher dimension:\")\n",
    "print(x)\n",
    "print(y)\n",
    "result = np.kron(x, y)\n",
    "print(\"Kronecker product  of the said arrays:\")\n",
    "print(result)"
   ]
  },
  {
   "cell_type": "code",
   "execution_count": 7,
   "id": "92daf525",
   "metadata": {},
   "outputs": [
    {
     "name": "stdout",
     "output_type": "stream",
     "text": [
      "Original matrix:\n",
      "[[ 1  0 -1]\n",
      " [ 0  1  0]\n",
      " [ 1  0  1]]\n",
      "The condition number of the said matrix:\n",
      "1.4142135623730951\n"
     ]
    }
   ],
   "source": [
    "#9-compute the condition number of a given matrix\n",
    "import numpy as np\n",
    "from numpy import linalg as LA\n",
    "\n",
    "a=np.array([[1, 0, -1], [0, 1, 0], [1, 0, 1]])\n",
    "print(\"Original matrix:\")\n",
    "print(a)\n",
    "\n",
    "print(\"The condition number of the said matrix:\")\n",
    "print(LA.cond(a))"
   ]
  },
  {
   "cell_type": "code",
   "execution_count": 8,
   "id": "155b3030",
   "metadata": {},
   "outputs": [
    {
     "name": "stdout",
     "output_type": "stream",
     "text": [
      "vector norm\n",
      "9.539392014169456\n",
      "5.477225575051661\n"
     ]
    }
   ],
   "source": [
    "#10-find a matrix or vector norm\n",
    "import numpy as np\n",
    "v=np.arange(7)\n",
    "result=np.linalg.norm(v)\n",
    "print('vector norm')\n",
    "print(result)\n",
    "\n",
    "m=np.mat('1 -2; 3 4')\n",
    "result=np.linalg.norm(m)\n",
    "print('matrix norm')\n",
    "print(result)"
   ]
  },
  {
   "cell_type": "code",
   "execution_count": 13,
   "id": "e35d30c9",
   "metadata": {},
   "outputs": [
    {
     "name": "stdout",
     "output_type": "stream",
     "text": [
      "original array\n",
      "[[1 2]\n",
      " [3 4]]\n",
      "Determinant of the said array:\n",
      "-2.0000000000000004\n"
     ]
    }
   ],
   "source": [
    "#11- compute the determinant of an array\n",
    "import numpy as np\n",
    "a=np.array([[1,2],[3,4]])\n",
    "print('original array')\n",
    "print(a)\n",
    "\n",
    "result=np.linalg.det(a)\n",
    "print(\"Determinant of the said array:\")\n",
    "print(result)"
   ]
  },
  {
   "cell_type": "code",
   "execution_count": 16,
   "id": "52b1bf47",
   "metadata": {},
   "outputs": [
    {
     "name": "stdout",
     "output_type": "stream",
     "text": [
      "original matrix\n",
      "[[1 2]\n",
      " [3 4]]\n",
      "[[-2.   1. ]\n",
      " [ 1.5 -0.5]]\n"
     ]
    }
   ],
   "source": [
    "#12-compute the inverse of a given matrix\n",
    "import numpy as np\n",
    "m=np.array([[1,2],[3,4]])\n",
    "print('original matrix')\n",
    "print(m)\n",
    "\n",
    "result=np.linalg.inv(m)\n",
    "print(result)"
   ]
  },
  {
   "cell_type": "code",
   "execution_count": 17,
   "id": "fa7cfc0d",
   "metadata": {},
   "outputs": [
    {
     "name": "stdout",
     "output_type": "stream",
     "text": [
      "original array\n",
      "[[1 2]\n",
      " [3 4]]\n",
      "(array([[-0.31622777, -0.9486833 ],\n",
      "       [-0.9486833 ,  0.31622777]]), array([[-3.16227766, -4.42718872],\n",
      "       [ 0.        , -0.63245553]]))\n"
     ]
    }
   ],
   "source": [
    "#13-calculate the QR decomposition of a given matrix\n",
    "import numpy as np\n",
    "m=np.array([[1,2],[3,4]])\n",
    "print('original array')\n",
    "print(m)\n",
    "\n",
    "result=np.linalg.qr(m)\n",
    "print(result)"
   ]
  },
  {
   "cell_type": "code",
   "execution_count": 18,
   "id": "91cb7bfa",
   "metadata": {},
   "outputs": [
    {
     "name": "stdout",
     "output_type": "stream",
     "text": [
      "original array\n",
      "[[1 2]\n",
      " [3 4]]\n",
      "14.933034373659268\n"
     ]
    }
   ],
   "source": [
    "#14- compute the condition number of a given matrix\n",
    "import numpy as np\n",
    "m=np.array([[1,2],[3,4]])\n",
    "print('original array')\n",
    "print(m)\n",
    "\n",
    "result=np.linalg.cond(m)\n",
    "print(result)"
   ]
  },
  {
   "cell_type": "code",
   "execution_count": 19,
   "id": "d68ff148",
   "metadata": {},
   "outputs": [
    {
     "name": "stdout",
     "output_type": "stream",
     "text": [
      "original matrix\n",
      "[[0 1 2]\n",
      " [3 4 5]]\n",
      "4\n"
     ]
    }
   ],
   "source": [
    "#15- compute the sum of the diagonal element of a given array.\n",
    "import numpy as np\n",
    "m=np.arange(6).reshape(2,3)\n",
    "print('original matrix')\n",
    "print(m)\n",
    "\n",
    "result=np.trace(m)\n",
    "print(result)"
   ]
  },
  {
   "cell_type": "code",
   "execution_count": 24,
   "id": "eed99dd3",
   "metadata": {},
   "outputs": [
    {
     "name": "stdout",
     "output_type": "stream",
     "text": [
      "original array\n",
      "[[  4  12 -16]\n",
      " [ 12  37 -53]\n",
      " [-16 -53  98]]\n",
      "Lower-trianglular L in the Cholesky decomposition of the said array:\n",
      "[[ 2.  0.  0.]\n",
      " [ 6.  1.  0.]\n",
      " [-8. -5.  3.]]\n"
     ]
    }
   ],
   "source": [
    "#16-get the lower-triangular L in the Cholesky decomposition of a given array.\n",
    "import numpy as np\n",
    "a=np.array([[4, 12, -16], [12, 37, -53], [-16, -53, 98]], dtype=np.int32)\n",
    "print('original array')\n",
    "print(a)\n",
    "\n",
    "l=np.linalg.cholesky(a)\n",
    "print(\"Lower-trianglular L in the Cholesky decomposition of the said array:\")\n",
    "print(l)"
   ]
  },
  {
   "cell_type": "code",
   "execution_count": 26,
   "id": "e42ff2a4",
   "metadata": {},
   "outputs": [
    {
     "name": "stdout",
     "output_type": "stream",
     "text": [
      "original array\n",
      "[[  4  12 -14]\n",
      " [ 12  37 -53]\n",
      " [-14 -53  98]]\n",
      "[[-0.21199958 -0.27930103  0.93650794]\n",
      " [-0.63599873 -0.68815735 -0.34920635]\n",
      " [ 0.74199852 -0.66964945 -0.03174603]]\n",
      "\n",
      "[[-18.86796226 -65.4018692  109.39178122]\n",
      " [  0.           6.67798664 -25.24309237]\n",
      " [  0.           0.           2.28571429]]\n"
     ]
    }
   ],
   "source": [
    "#17-get the qr factorization of a given array\n",
    "import numpy as np\n",
    "a=np.array([[4, 12, -14], [12, 37, -53], [-14, -53, 98]], dtype=np.int32)\n",
    "print('original array')\n",
    "print(a)\n",
    "\n",
    "q,r=np.linalg.qr(a)\n",
    "print(q)\n",
    "print()\n",
    "print(r)"
   ]
  },
  {
   "cell_type": "code",
   "execution_count": 28,
   "id": "acd5fc4e",
   "metadata": {},
   "outputs": [
    {
     "name": "stdout",
     "output_type": "stream",
     "text": [
      "original array\n",
      "[[1. 0. 0. 0. 2.]\n",
      " [0. 0. 3. 0. 0.]\n",
      " [0. 0. 0. 0. 0.]\n",
      " [0. 2. 0. 0. 0.]]\n",
      "Factor of a given array  by Singular Value Decomposition:\n",
      "U=\n",
      " [[ 0.  1.  0.  0.]\n",
      " [ 1.  0.  0.  0.]\n",
      " [ 0.  0.  0. -1.]\n",
      " [ 0.  0.  1.  0.]] \n",
      "s=\n",
      " [3.       2.236068 2.       0.      ] \n",
      "V=\n",
      " [[-0.         0.         1.         0.         0.       ]\n",
      " [ 0.4472136  0.         0.         0.         0.8944272]\n",
      " [-0.         1.         0.         0.         0.       ]\n",
      " [ 0.         0.         0.         1.         0.       ]]\n"
     ]
    }
   ],
   "source": [
    "#18-compute the factor of a given array by Singular Value Decomposition.\n",
    "import numpy as np\n",
    "a=np.array([[1, 0, 0, 0, 2], [0, 0, 3, 0, 0], [0, 0, 0, 0, 0], [0, 2, 0, 0, 0]], dtype=np.float32)\n",
    "print('original array')\n",
    "print(a)\n",
    "\n",
    "u,s,v=np.linalg.svd(a,full_matrices=False)\n",
    "q,r=np.linalg.qr(a)\n",
    "print(\"Factor of a given array  by Singular Value Decomposition:\")\n",
    "print(\"U=\\n\", u, \"\\ns=\\n\", s, \"\\nV=\\n\", v)"
   ]
  },
  {
   "cell_type": "code",
   "execution_count": null,
   "id": "37ad5b7a",
   "metadata": {},
   "outputs": [],
   "source": [
    "#19- calculate the Frobenius norm and the condition number of a given array\n",
    "import numpy as np\n",
    "a = np.arange(1, 10).reshape((3, 3))\n",
    "print(\"Original array:\")\n",
    "print(a)\n",
    "print(\"Frobenius norm and the condition number:\")\n",
    "print(np.linalg.norm(a, 'fro'))\n",
    "print(np.linalg.cond(a, 'fro'))"
   ]
  },
  {
   "cell_type": "code",
   "execution_count": null,
   "id": "4ccb8191",
   "metadata": {},
   "outputs": [],
   "source": []
  }
 ],
 "metadata": {
  "kernelspec": {
   "display_name": "Python 3 (ipykernel)",
   "language": "python",
   "name": "python3"
  },
  "language_info": {
   "codemirror_mode": {
    "name": "ipython",
    "version": 3
   },
   "file_extension": ".py",
   "mimetype": "text/x-python",
   "name": "python",
   "nbconvert_exporter": "python",
   "pygments_lexer": "ipython3",
   "version": "3.9.7"
  }
 },
 "nbformat": 4,
 "nbformat_minor": 5
}
