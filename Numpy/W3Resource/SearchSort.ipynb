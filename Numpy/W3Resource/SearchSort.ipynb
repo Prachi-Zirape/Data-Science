{
 "cells": [
  {
   "cell_type": "code",
   "execution_count": 6,
   "id": "78b5116a",
   "metadata": {},
   "outputs": [
    {
     "name": "stdout",
     "output_type": "stream",
     "text": [
      "Original array:\n",
      "[[10 40]\n",
      " [30 20]]\n",
      "Sort the array along the first axis:\n",
      "[[10 20]\n",
      " [30 40]]\n",
      "Sort the array along the last axis:\n",
      "[[10 40]\n",
      " [20 30]]\n",
      "Sort the flattened array:\n",
      "[10 20 30 40]\n"
     ]
    }
   ],
   "source": [
    "#Date-11/30/22\n",
    "#1-sort a given array of shape 2 along the first axis, last axis and on flattened array\n",
    "import numpy as np\n",
    "a=np.array([[10,40],[30,20]])\n",
    "\n",
    "print(\"Original array:\")\n",
    "print(a)\n",
    "\n",
    "print(\"Sort the array along the first axis:\")\n",
    "print(np.sort(a,axis=0))\n",
    "\n",
    "print(\"Sort the array along the last axis:\")\n",
    "print(np.sort(a))\n",
    "\n",
    "print(\"Sort the flattened array:\")\n",
    "print(np.sort(a,axis=None))"
   ]
  },
  {
   "cell_type": "code",
   "execution_count": 9,
   "id": "a77c7a71",
   "metadata": {},
   "outputs": [
    {
     "name": "stdout",
     "output_type": "stream",
     "text": [
      "Original array:\n",
      "[(b'James', 5, 48.5 ) (b'Nail', 6, 52.5 ) (b'Paul', 5, 42.1 )\n",
      " (b'Pit', 5, 40.11)]\n",
      "Sort by height\n",
      "[(b'Pit', 5, 40.11) (b'Paul', 5, 42.1 ) (b'James', 5, 48.5 )\n",
      " (b'Nail', 6, 52.5 )]\n"
     ]
    }
   ],
   "source": [
    "#2-create a structured array from given student name, height, class and their data types. Now sort the array on height\n",
    "import numpy as np\n",
    "data_type=[('name', 'S15'), ('class', int), ('height', float)]\n",
    "student_details=[('James', 5, 48.5), ('Nail', 6, 52.5),('Paul', 5, 42.10), ('Pit', 5, 40.11)]\n",
    "\n",
    "# create a structured array\n",
    "students=np.array(student_details,dtype=data_type)\n",
    "print(\"Original array:\")\n",
    "print(students)\n",
    "\n",
    "print(\"Sort by height\")\n",
    "print(np.sort(students,order='height'))"
   ]
  },
  {
   "cell_type": "code",
   "execution_count": 11,
   "id": "a5a19124",
   "metadata": {},
   "outputs": [
    {
     "name": "stdout",
     "output_type": "stream",
     "text": [
      "[(b'James', 5, 48.5 ) (b'Nail', 6, 52.5 ) (b'Paul', 5, 42.1 )\n",
      " (b'Pit', 5, 40.11)]\n",
      "Sort by class, then height if class are equal:\n",
      "[(b'Pit', 5, 40.11) (b'Paul', 5, 42.1 ) (b'James', 5, 48.5 )\n",
      " (b'Nail', 6, 52.5 )]\n"
     ]
    }
   ],
   "source": [
    "#3-create a structured array from given student name, height, class and their data types. \n",
    "#Now sort by class, then height if class are equal\n",
    "\n",
    "import numpy as np\n",
    "data_type=[('name', 'S15'), ('class', int), ('height', float)]\n",
    "stud_details=[('James', 5, 48.5), ('Nail', 6, 52.5),('Paul', 5, 42.10), ('Pit', 5, 40.11)]\n",
    "\n",
    "students=np.array(stud_details, dtype=data_type)\n",
    "print(students)\n",
    "\n",
    "print(\"Sort by class, then height if class are equal:\")\n",
    "print(np.sort(students,order=['class', 'height']))"
   ]
  },
  {
   "cell_type": "code",
   "execution_count": 12,
   "id": "e628952f",
   "metadata": {},
   "outputs": [
    {
     "name": "stdout",
     "output_type": "stream",
     "text": [
      "sorted indices\n",
      "[4 0 5 3 6 1 2]\n",
      "sorted data\n",
      "1682 38.0\n",
      "1023 40.0\n",
      "5241 40.0\n",
      "1671 41.0\n",
      "4532 42.0\n",
      "5202 42.0\n",
      "6230 45.0\n"
     ]
    }
   ],
   "source": [
    "#4-sort the student id with increasing height of the students from given students id and height.\n",
    "#Print the integer indices that describes the sort order by multiple columns and the sorted data\n",
    "import numpy as np\n",
    "student_id=np.array([1023, 5202, 6230, 1671, 1682, 5241, 4532])\n",
    "student_height=np.array([40., 42., 45., 41., 38., 40., 42.0])\n",
    "\n",
    "#Sort by studen_id then by student_height\n",
    "indices=np.lexsort((student_id, student_height))\n",
    "print('sorted indices')\n",
    "print(indices)\n",
    "\n",
    "print('sorted data')\n",
    "for n in indices:\n",
    "    print(student_id[n], student_height[n])"
   ]
  },
  {
   "cell_type": "code",
   "execution_count": 13,
   "id": "f384717f",
   "metadata": {},
   "outputs": [
    {
     "name": "stdout",
     "output_type": "stream",
     "text": [
      "Original array:\n",
      "[1023 5202 6230 1671 1682 5241 4532]\n",
      "Indices of the sorted elements of a given array:\n",
      "[0 3 4 6 1 5 2]\n"
     ]
    }
   ],
   "source": [
    "#5-get the indices of the sorted elements of a given array\n",
    "import numpy as np\n",
    "stud_id=np.array([1023, 5202, 6230, 1671, 1682, 5241, 4532])\n",
    "print(\"Original array:\")\n",
    "print(stud_id)\n",
    "\n",
    "i=np.argsort(stud_id)\n",
    "print(\"Indices of the sorted elements of a given array:\")\n",
    "print(i)"
   ]
  },
  {
   "cell_type": "code",
   "execution_count": 19,
   "id": "5f117ea6",
   "metadata": {},
   "outputs": [
    {
     "name": "stdout",
     "output_type": "stream",
     "text": [
      "Original array:\n",
      "[(1+2j), (3-1j), (3-2j), (4-3j), (3+5j)]\n",
      "\n",
      "Sorted a given complex array using the real part first, then the imaginary part.\n",
      "[1.+2.j 3.-2.j 3.-1.j 3.+5.j 4.-3.j]\n"
     ]
    }
   ],
   "source": [
    "#6-sort a given complex array using the real part first, then the imaginary part.\n",
    "import numpy as np\n",
    "\n",
    "complex_num=[1 + 2j, 3 - 1j, 3 - 2j, 4 - 3j, 3 + 5j]\n",
    "print(\"Original array:\")\n",
    "print(complex_num)\n",
    "\n",
    "print(\"\\nSorted a given complex array using the real part first, then the imaginary part.\")\n",
    "print(np.sort_complex(complex_num))"
   ]
  },
  {
   "cell_type": "code",
   "execution_count": 21,
   "id": "6ab475ad",
   "metadata": {},
   "outputs": [
    {
     "name": "stdout",
     "output_type": "stream",
     "text": [
      "Original array:\n",
      "[ 70  50  20  30 -11  60  50  40]\n",
      "\n",
      "After partitioning on 4 the position:\n",
      "[-11  30  20  40  50  50  60  70]\n"
     ]
    }
   ],
   "source": [
    "#7-partition a given array in a specified position and move all the smaller elements values \n",
    "#to the left of the partition, and the remaining values to the right, in arbitrary order (based on random choice). \n",
    "\n",
    "import numpy as np\n",
    "nums=np.array([70, 50, 20, 30, -11, 60, 50, 40])\n",
    "print(\"Original array:\")\n",
    "print(nums)\n",
    "print(\"\\nAfter partitioning on 4 the position:\")\n",
    "print(np.partition(nums,4))"
   ]
  },
  {
   "cell_type": "code",
   "execution_count": 22,
   "id": "c7f4819e",
   "metadata": {},
   "outputs": [
    {
     "name": "stdout",
     "output_type": "stream",
     "text": [
      "Original array:\n",
      "[0.14533079 0.43377168 0.17304545 0.84184612 0.6085817  0.61769342\n",
      " 0.73567644 0.81778281 0.04320673 0.27605693]\n",
      "\n",
      "Sorted first 5 elements:\n",
      "[0.04320673 0.14533079 0.17304545 0.27605693 0.43377168 0.61769342\n",
      " 0.73567644 0.81778281 0.6085817  0.84184612]\n"
     ]
    }
   ],
   "source": [
    "#8-sort the specified number of elements from beginning of a given array.\n",
    "import numpy as np\n",
    "nums=np.random.rand(10)\n",
    "print(\"Original array:\")\n",
    "print(nums)\n",
    "print(\"\\nSorted first 5 elements:\")\n",
    "print(nums[np.argpartition(nums,range(5))])"
   ]
  },
  {
   "cell_type": "code",
   "execution_count": 23,
   "id": "6f869867",
   "metadata": {},
   "outputs": [
    {
     "name": "stdout",
     "output_type": "stream",
     "text": [
      "original array\n",
      "[[4 8 3]\n",
      " [4 8 5]\n",
      " [5 6 3]]\n",
      "\n",
      "Sort the said array by the nth column: \n",
      "[[5 6 3]\n",
      " [4 8 3]\n",
      " [4 8 5]]\n"
     ]
    }
   ],
   "source": [
    "#9-sort an given array by the nth column.\n",
    "import numpy as np\n",
    "print('original array')\n",
    "nums=np.random.randint(0,10,(3,3))\n",
    "print(nums)\n",
    "\n",
    "print(\"\\nSort the said array by the nth column: \")\n",
    "print(nums[nums[:,1].argsort()])"
   ]
  },
  {
   "cell_type": "code",
   "execution_count": null,
   "id": "cf255355",
   "metadata": {},
   "outputs": [],
   "source": []
  }
 ],
 "metadata": {
  "kernelspec": {
   "display_name": "Python 3 (ipykernel)",
   "language": "python",
   "name": "python3"
  },
  "language_info": {
   "codemirror_mode": {
    "name": "ipython",
    "version": 3
   },
   "file_extension": ".py",
   "mimetype": "text/x-python",
   "name": "python",
   "nbconvert_exporter": "python",
   "pygments_lexer": "ipython3",
   "version": "3.9.7"
  }
 },
 "nbformat": 4,
 "nbformat_minor": 5
}
