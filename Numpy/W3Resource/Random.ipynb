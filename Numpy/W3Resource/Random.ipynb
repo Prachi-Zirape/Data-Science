{
 "cells": [
  {
   "cell_type": "code",
   "execution_count": 5,
   "id": "101f210b",
   "metadata": {},
   "outputs": [
    {
     "name": "stdout",
     "output_type": "stream",
     "text": [
      "[ 0.31635564  0.05211871 -0.24031064  0.11267157 -0.03253548]\n"
     ]
    }
   ],
   "source": [
    "#Date 11/28/22\n",
    "#1-generate five random numbers from the normal distribution\n",
    "import numpy as np\n",
    "x=np.random.normal(size=5)\n",
    "print(x)"
   ]
  },
  {
   "cell_type": "code",
   "execution_count": 6,
   "id": "6230777d",
   "metadata": {},
   "outputs": [
    {
     "name": "stdout",
     "output_type": "stream",
     "text": [
      "[24 25 10 28 23 11]\n"
     ]
    }
   ],
   "source": [
    "#2-generate six random integers between 10 and 30\n",
    "import numpy as np\n",
    "x=np.random.randint(low=10, high=30, size=6)\n",
    "print(x)"
   ]
  },
  {
   "cell_type": "code",
   "execution_count": 11,
   "id": "be33bbfc",
   "metadata": {},
   "outputs": [
    {
     "name": "stdout",
     "output_type": "stream",
     "text": [
      "[[[0.85721513 0.89106772 0.81665679]\n",
      "  [0.61205005 0.88068591 0.51927494]\n",
      "  [0.81757489 0.53529889 0.29010669]]\n",
      "\n",
      " [[0.6161213  0.97155652 0.41005752]\n",
      "  [0.29280189 0.57366408 0.50637117]\n",
      "  [0.16648493 0.50831588 0.41802744]]\n",
      "\n",
      " [[0.72403439 0.31809568 0.31711324]\n",
      "  [0.87825166 0.20143164 0.13672402]\n",
      "  [0.37516881 0.94752781 0.03715388]]]\n"
     ]
    }
   ],
   "source": [
    "#3-create a 3x3x3 array with random values\n",
    "import numpy as np\n",
    "x=np.random.random((3,3,3))\n",
    "print(x)"
   ]
  },
  {
   "cell_type": "code",
   "execution_count": 12,
   "id": "c09817a3",
   "metadata": {},
   "outputs": [
    {
     "name": "stdout",
     "output_type": "stream",
     "text": [
      "[[0.97770213 0.57273047 0.36187625 0.06768504 0.49187148]\n",
      " [0.67722431 0.41446145 0.49248136 0.29478671 0.62862698]\n",
      " [0.08979461 0.2128812  0.37332968 0.59426163 0.47920424]\n",
      " [0.2739633  0.19984787 0.3262279  0.83854526 0.33138749]\n",
      " [0.88565548 0.76623336 0.75127727 0.38802372 0.54578022]]\n",
      "minimum value in the array= 0.06768504204813552\n",
      "maximum value in the array= 0.9777021330453229\n"
     ]
    }
   ],
   "source": [
    "#4-create a 5x5 array with random values and find the minimum and maximum values\n",
    "import numpy as np\n",
    "x=np.random.random((5,5))\n",
    "print(x)\n",
    "\n",
    "xmin,xmax=x.min(),x.max()\n",
    "print('minimum value in the array=',xmin)\n",
    "print('maximum value in the array=',xmax)"
   ]
  },
  {
   "cell_type": "code",
   "execution_count": 14,
   "id": "6c2dd0c5",
   "metadata": {},
   "outputs": [
    {
     "name": "stdout",
     "output_type": "stream",
     "text": [
      "[[0.49634341 0.26244877 0.9943427  0.94701315]\n",
      " [0.14840418 0.8325256  0.38044768 0.47814738]\n",
      " [0.24444211 0.02846687 0.39094955 0.1748491 ]\n",
      " [0.87051898 0.58236653 0.98340264 0.95213527]\n",
      " [0.31250359 0.0809058  0.66424986 0.17408105]\n",
      " [0.02295876 0.23725966 0.84960195 0.18986984]\n",
      " [0.81803112 0.56861288 0.3370055  0.81050672]\n",
      " [0.11505427 0.59868549 0.90365831 0.88020951]\n",
      " [0.66355139 0.59334687 0.14431103 0.79653506]\n",
      " [0.685346   0.11256065 0.89234829 0.14732389]]\n",
      "first five rows of the array\n",
      "[[0.49634341 0.26244877 0.9943427  0.94701315]\n",
      " [0.14840418 0.8325256  0.38044768 0.47814738]\n",
      " [0.24444211 0.02846687 0.39094955 0.1748491 ]\n",
      " [0.87051898 0.58236653 0.98340264 0.95213527]\n",
      " [0.31250359 0.0809058  0.66424986 0.17408105]]\n"
     ]
    }
   ],
   "source": [
    "#5-create a random 10x4 array and extract the first five rows of the array and store them into a variable\n",
    "import numpy as np\n",
    "x=np.random.rand(10,4)\n",
    "print(x)\n",
    "\n",
    "y=x[:5,:]\n",
    "print('first five rows of the array')\n",
    "print(y)"
   ]
  },
  {
   "cell_type": "code",
   "execution_count": 21,
   "id": "fc507b47",
   "metadata": {},
   "outputs": [
    {
     "name": "stdout",
     "output_type": "stream",
     "text": [
      "[8 5 0 7 3 1 6 4 2 9]\n",
      "same result using permutations\n",
      "[1 3 7 4 6 2 8 9 0 5]\n"
     ]
    }
   ],
   "source": [
    "#6-shuffle numbers between 0 and 10 (inclusive).\n",
    "import numpy as np\n",
    "x=np.arange(10)\n",
    "np.random.shuffle(x)\n",
    "print(x)\n",
    "\n",
    "print('same result using permutations')\n",
    "print(np.random.permutation(x))"
   ]
  },
  {
   "cell_type": "code",
   "execution_count": 22,
   "id": "be2e5280",
   "metadata": {},
   "outputs": [
    {
     "name": "stdout",
     "output_type": "stream",
     "text": [
      "[[0.68243133 0.07120723 0.82797897]\n",
      " [0.90536431 0.24118246 0.51528215]\n",
      " [0.65695427 0.9220631  0.75220278]]\n",
      "after normalization\n",
      "[[0.71836386 0.         0.88942413]\n",
      " [0.98037413 0.19976971 0.52191556]\n",
      " [0.68842099 1.         0.80036535]]\n"
     ]
    }
   ],
   "source": [
    "#7-normalize a 3x3 random matrix\n",
    "import numpy as np\n",
    "x=np.random.random((3,3))\n",
    "print(x)\n",
    "\n",
    "xmax,xmin=x.max(),x.min()\n",
    "\n",
    "x=(x-xmin)/(xmax-xmin)\n",
    "print('after normalization')\n",
    "print(x)"
   ]
  },
  {
   "cell_type": "code",
   "execution_count": 23,
   "id": "b0da9fbb",
   "metadata": {},
   "outputs": [
    {
     "name": "stdout",
     "output_type": "stream",
     "text": [
      "[0.70487825 0.23735727 0.31368862 0.50859905 0.95478772 0.12657453\n",
      " 0.93423175 0.26454616 0.16238175 0.44063866]\n",
      "sorted vector\n",
      "[0.12657453 0.16238175 0.23735727 0.26454616 0.31368862 0.44063866\n",
      " 0.50859905 0.70487825 0.93423175 0.95478772]\n"
     ]
    }
   ],
   "source": [
    "#8-create a random vector of size 10 and sort it\n",
    "import numpy as np\n",
    "x=np.random.random((10))\n",
    "print(x)\n",
    "\n",
    "print('sorted vector')\n",
    "x.sort()\n",
    "print(x)"
   ]
  },
  {
   "cell_type": "code",
   "execution_count": 29,
   "id": "e35a7a48",
   "metadata": {},
   "outputs": [
    {
     "name": "stdout",
     "output_type": "stream",
     "text": [
      "[ 8.44407413 10.04620186  1.38111782  2.08652037  9.17906911]\n",
      "2.0865203735500018\n"
     ]
    }
   ],
   "source": [
    "#9-find the nearest value from a given value in an array\n",
    "import numpy as np\n",
    "x=np.random.uniform(1,12,5)\n",
    "print(x)\n",
    "v=4\n",
    "n=x.flat[np.abs(x-v).argmin()]\n",
    "print(n)"
   ]
  },
  {
   "cell_type": "code",
   "execution_count": 30,
   "id": "f6c1e4c8",
   "metadata": {},
   "outputs": [
    {
     "name": "stdout",
     "output_type": "stream",
     "text": [
      "First array:\n",
      "[1 0 1 1 1 0]\n",
      "Second array:\n",
      "[0 0 0 1 0 0]\n",
      "test array x and y are equal or not\n",
      "False\n"
     ]
    }
   ],
   "source": [
    "#10-check two random arrays are equal or not\n",
    "import numpy as np\n",
    "x=np.random.randint(0,2,6)\n",
    "print(\"First array:\")\n",
    "print(x)\n",
    "y = np.random.randint(0,2,6)\n",
    "print(\"Second array:\")\n",
    "print(y)\n",
    "\n",
    "print('test array x and y are equal or not')\n",
    "arr_eq=np.allclose(x,y)\n",
    "print(arr_eq)"
   ]
  },
  {
   "cell_type": "code",
   "execution_count": 47,
   "id": "6789fbd5",
   "metadata": {},
   "outputs": [
    {
     "name": "stdout",
     "output_type": "stream",
     "text": [
      "Original array:\n",
      "[0 1 2 3 4 5 6 7 8 9]\n",
      "[9]\n"
     ]
    }
   ],
   "source": [
    "#16- get the n largest values of an array\n",
    "import numpy as np\n",
    "x=np.arange(10)\n",
    "print(\"Original array:\")\n",
    "print(x)\n",
    "\n",
    "np.random.shuffle(x)\n",
    "n=1\n",
    "print(x[np.argsort(x)[-n:]])"
   ]
  },
  {
   "cell_type": "code",
   "execution_count": 48,
   "id": "aa8bc508",
   "metadata": {},
   "outputs": [
    {
     "name": "stdout",
     "output_type": "stream",
     "text": [
      "[[[215  42 224 219  43]\n",
      "  [166  69  15 133 255]\n",
      "  [105  95  54  37 201]\n",
      "  ...\n",
      "  [240  22  66 232 132]\n",
      "  [ 13  85  53 220 170]\n",
      "  [249  62 221 146  69]]\n",
      "\n",
      " [[ 73  79 148 132 164]\n",
      "  [  3  93  98 138 200]\n",
      "  [174  34  31 208 130]\n",
      "  ...\n",
      "  [ 15 252  41  64  39]\n",
      "  [188 216 223 124  27]\n",
      "  [ 85 112 240 116 231]]\n",
      "\n",
      " [[227  50 243  20 171]\n",
      "  [ 12  66 108 102  63]\n",
      "  [107  54   0   0 173]\n",
      "  ...\n",
      "  [215  46  57  99 151]\n",
      "  [243 199  31  28 179]\n",
      "  [143   7  30 175 190]]\n",
      "\n",
      " ...\n",
      "\n",
      " [[214  64  64 212  62]\n",
      "  [140  44 217  17 164]\n",
      "  [226 146 247  53 199]\n",
      "  ...\n",
      "  [189  68  49 117  63]\n",
      "  [ 14  17 109  82  92]\n",
      "  [155 221 135 184 231]]\n",
      "\n",
      " [[132 194 160 136 102]\n",
      "  [132 244 230 117 181]\n",
      "  [146 245  21 164  29]\n",
      "  ...\n",
      "  [125 240 243 190 240]\n",
      "  [137  41 157 117 155]\n",
      "  [ 20  92  72 182  41]]\n",
      "\n",
      " [[120  45 198 218 190]\n",
      "  [ 42 150 190 103 106]\n",
      "  [164  71 220 114  59]\n",
      "  ...\n",
      "  [143  20 219 154  85]\n",
      "  [219 190 170 227 246]\n",
      "  [ 39  14 127 230 158]]]\n"
     ]
    }
   ],
   "source": [
    "#17- create a three-dimension array with shape (300,400,5) and set to a variable. \n",
    "#Fill the array elements with values using unsigned integer (0 to 255).\n",
    "import numpy as np\n",
    "np.random.seed(32)\n",
    "nums = np.random.randint(low=0, high=256, size=(300, 400, 5), dtype=np.uint8)\n",
    "print(nums)"
   ]
  },
  {
   "cell_type": "code",
   "execution_count": 37,
   "id": "712a7ea2",
   "metadata": {},
   "outputs": [
    {
     "name": "stdout",
     "output_type": "stream",
     "text": [
      "Original array:\n",
      "[0.26706136 0.12009076 0.53032693 0.38221441 0.51167204 0.66190003\n",
      " 0.65395906 0.87724717 0.46319325 0.8808017  0.84920542 0.54850445\n",
      " 0.15208389 0.87850181 0.23965968]\n",
      "Maximum value replaced by -1:\n",
      "[ 0.26706136  0.12009076  0.53032693  0.38221441  0.51167204  0.66190003\n",
      "  0.65395906  0.87724717  0.46319325 -1.          0.84920542  0.54850445\n",
      "  0.15208389  0.87850181  0.23965968]\n"
     ]
    }
   ],
   "source": [
    "#11- random vector of size 15 and replace the maximum value by -1\n",
    "import numpy as np\n",
    "x=np.random.random(15)\n",
    "print(\"Original array:\")\n",
    "print(x)\n",
    "\n",
    "x[x.argmax()]=-1\n",
    "print(\"Maximum value replaced by -1:\")\n",
    "print(x)"
   ]
  },
  {
   "cell_type": "code",
   "execution_count": 38,
   "id": "0c97e9ae",
   "metadata": {},
   "outputs": [
    {
     "name": "stdout",
     "output_type": "stream",
     "text": [
      "[[0.         0.24703049 0.19194185 0.74029841 0.61749873 0.2119046\n",
      "  1.15018747 0.93930629 0.94375614 0.68951286]\n",
      " [0.24703049 0.         0.08843535 0.58495579 0.4245998  0.29009036\n",
      "  1.13400559 0.95901598 0.87894294 0.79392279]\n",
      " [0.19194185 0.08843535 0.         0.67002008 0.51273029 0.30106182\n",
      "  1.19327479 1.00731297 0.94881772 0.81322349]\n",
      " [0.74029841 0.58495579 0.67002008 0.         0.19022107 0.57921757\n",
      "  0.71394823 0.65499269 0.40601477 0.74679296]\n",
      " [0.61749873 0.4245998  0.51273029 0.19022107 0.         0.49836777\n",
      "  0.88166279 0.78716578 0.57988761 0.79941485]\n",
      " [0.2119046  0.29009036 0.30106182 0.57921757 0.49836777 0.\n",
      "  0.93845324 0.73082898 0.73649272 0.51216214]\n",
      " [1.15018747 1.13400559 1.19327479 0.71394823 0.88166279 0.93845324\n",
      "  0.         0.24624687 0.30895703 0.60976257]\n",
      " [0.93930629 0.95901598 1.00731297 0.65499269 0.78716578 0.73082898\n",
      "  0.24624687 0.         0.32184497 0.36373503]\n",
      " [0.94375614 0.87894294 0.94881772 0.40601477 0.57988761 0.73649272\n",
      "  0.30895703 0.32184497 0.         0.59062475]\n",
      " [0.68951286 0.79392279 0.81322349 0.74679296 0.79941485 0.51216214\n",
      "  0.60976257 0.36373503 0.59062475 0.        ]]\n"
     ]
    }
   ],
   "source": [
    "#12- find point by point distances of a random vector with shape (10,2) representing coordinates\n",
    "import numpy as np\n",
    "a=np.random.random((10,2))\n",
    "x,y=np.atleast_2d(a[:,0], a[:,1])\n",
    "d=np.sqrt((x-x.T)**2 + (y-y.T)**2)\n",
    "print(d)"
   ]
  },
  {
   "cell_type": "code",
   "execution_count": 43,
   "id": "2dc24012",
   "metadata": {},
   "outputs": [
    {
     "name": "stdout",
     "output_type": "stream",
     "text": [
      "original array\n",
      "[1 3 9 1 5 3 7 7 7 7 0 6 1 2 9 6 0 9 0 0 4 4 9 4 7 2 4 4 4 4 7 1 7 4 0 1 9\n",
      " 8 9 5]\n",
      "Most frequent value in the above array:\n",
      "[5 5 2 2 8 2 2 7 1 6]\n",
      "4\n"
     ]
    }
   ],
   "source": [
    "#13-find the most frequent value in an array\n",
    "import numpy as np\n",
    "x=np.random.randint(0,10,40)\n",
    "print('original array')\n",
    "print(x)\n",
    "\n",
    "print(\"Most frequent value in the above array:\")\n",
    "print(np.bincount(x))\n",
    "print(np.bincount(x).argmax())"
   ]
  },
  {
   "cell_type": "code",
   "execution_count": 44,
   "id": "3d7d87b6",
   "metadata": {},
   "outputs": [
    {
     "name": "stdout",
     "output_type": "stream",
     "text": [
      "[0.88965879 0.43792298 0.71580657 0.95644957 0.77977752 0.22260552\n",
      " 1.12630233 0.9138927  1.02764004 0.97265488]\n",
      "[0.78483313 0.3580869  0.45579053 0.67922184 1.28947989 0.46805822\n",
      " 0.57154718 1.49368373 0.42137252 0.07791931]\n"
     ]
    }
   ],
   "source": [
    "#14- convert cartesian coordinates to polar coordinates of a random 10x2 matrix representing cartesian coordinates\n",
    "import numpy as np\n",
    "z=np.random.random((10,2))\n",
    "x,y=z[:,0], z[:,1]\n",
    "r = np.sqrt(x**2+y**2)\n",
    "t = np.arctan2(y,x)\n",
    "print(r)\n",
    "print(t)"
   ]
  },
  {
   "cell_type": "code",
   "execution_count": 46,
   "id": "419bceab",
   "metadata": {},
   "outputs": [
    {
     "name": "stdout",
     "output_type": "stream",
     "text": [
      "Original array:\n",
      "[ 0  1  2  3  4  5  6  7  8  9 10 11 12 13 14 15 16 17 18 19 20 21 22 23\n",
      " 24 25 26 27 28 29 30 31 32 33 34 35 36 37 38 39 40 41 42 43 44 45 46 47\n",
      " 48 49 50 51 52 53 54 55 56 57 58 59 60 61 62 63 64 65 66 67 68 69 70 71\n",
      " 72 73 74 75 76 77 78 79 80 81 82 83 84 85 86 87 88 89 90 91 92 93 94 95\n",
      " 96 97 98 99]\n",
      "Value to compare:\n",
      "68.4097010015593\n",
      "68\n"
     ]
    }
   ],
   "source": [
    "#15- find the closest value (to a given scalar) in an array\n",
    "import numpy as np\n",
    "x=np.arange(100)\n",
    "print(\"Original array:\")\n",
    "print(x)\n",
    "\n",
    "a=np.random.uniform(0,100)\n",
    "print(\"Value to compare:\")\n",
    "print(a)\n",
    "\n",
    "index=(np.abs(x-a)).argmin()\n",
    "print(x[index])"
   ]
  },
  {
   "cell_type": "code",
   "execution_count": null,
   "id": "895dbdcf",
   "metadata": {},
   "outputs": [],
   "source": []
  },
  {
   "cell_type": "code",
   "execution_count": null,
   "id": "3c2f8ce2",
   "metadata": {},
   "outputs": [],
   "source": []
  }
 ],
 "metadata": {
  "kernelspec": {
   "display_name": "Python 3 (ipykernel)",
   "language": "python",
   "name": "python3"
  },
  "language_info": {
   "codemirror_mode": {
    "name": "ipython",
    "version": 3
   },
   "file_extension": ".py",
   "mimetype": "text/x-python",
   "name": "python",
   "nbconvert_exporter": "python",
   "pygments_lexer": "ipython3",
   "version": "3.9.7"
  }
 },
 "nbformat": 4,
 "nbformat_minor": 5
}
