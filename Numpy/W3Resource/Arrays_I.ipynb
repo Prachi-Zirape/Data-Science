{
 "cells": [
  {
   "cell_type": "code",
   "execution_count": 6,
   "id": "6ddd8bbd",
   "metadata": {},
   "outputs": [
    {
     "name": "stdout",
     "output_type": "stream",
     "text": [
      "1.20.3\n"
     ]
    }
   ],
   "source": [
    "#Date-11/10/22\n",
    "#1-print the NumPy version in your system\n",
    "import numpy as np\n",
    "print(np.__version__)"
   ]
  },
  {
   "cell_type": "code",
   "execution_count": 8,
   "id": "e7b37b94",
   "metadata": {},
   "outputs": [
    {
     "name": "stdout",
     "output_type": "stream",
     "text": [
      "original list [12.23, 13.32, 100, 36.32]\n",
      "list converted to array\n",
      "[ 12.23  13.32 100.    36.32]\n"
     ]
    }
   ],
   "source": [
    "#2-convert a list of numeric value into a one-dimensional NumPy array\n",
    "import numpy as np\n",
    "l=[12.23, 13.32, 100, 36.32]\n",
    "print('original list',l)\n",
    "a=np.array(l)\n",
    "print('list converted to array')\n",
    "print(a)"
   ]
  },
  {
   "cell_type": "code",
   "execution_count": 9,
   "id": "e54629a7",
   "metadata": {},
   "outputs": [
    {
     "name": "stdout",
     "output_type": "stream",
     "text": [
      "[[ 2  3  4]\n",
      " [ 5  6  7]\n",
      " [ 8  9 10]]\n"
     ]
    }
   ],
   "source": [
    "#3-create a 3x3 matrix with values ranging from 2 to 10\n",
    "import numpy as np\n",
    "x=np.arange(2,11).reshape(3,3)\n",
    "print(x)"
   ]
  },
  {
   "cell_type": "code",
   "execution_count": 12,
   "id": "16ec976a",
   "metadata": {},
   "outputs": [
    {
     "name": "stdout",
     "output_type": "stream",
     "text": [
      "[ 1  2  3  4  5  6  7  8  9 10]\n",
      "[ 1  2  3  4  5  6 11  8  9 10]\n"
     ]
    }
   ],
   "source": [
    "#4-create a null vector of size 10 and update sixth value to 11\n",
    "import numpy as np\n",
    "\n",
    "x=np.arange(1,11)\n",
    "print(x)\n",
    "\n",
    "x[6]=11\n",
    "print(x)"
   ]
  },
  {
   "cell_type": "code",
   "execution_count": 13,
   "id": "f7bc0b83",
   "metadata": {},
   "outputs": [
    {
     "name": "stdout",
     "output_type": "stream",
     "text": [
      "[12 13 14 15 16 17 18 19 20 21 22 23 24 25 26 27 28 29 30 31 32 33 34 35\n",
      " 36 37 38]\n"
     ]
    }
   ],
   "source": [
    "#5-create an array with values ranging from 12 to 38\n",
    "import pandas as pd\n",
    "x=np.arange(12,39)\n",
    "print(x)"
   ]
  },
  {
   "cell_type": "code",
   "execution_count": 15,
   "id": "bb4979aa",
   "metadata": {},
   "outputs": [
    {
     "name": "stdout",
     "output_type": "stream",
     "text": [
      "[1. 2. 3. 4.]\n"
     ]
    }
   ],
   "source": [
    "#7-convert an array to a float type\n",
    "import numpy as np\n",
    "x=np.arange(1,5,dtype=float)\n",
    "print(x)"
   ]
  },
  {
   "cell_type": "code",
   "execution_count": 19,
   "id": "68bdc0b5",
   "metadata": {},
   "outputs": [
    {
     "name": "stdout",
     "output_type": "stream",
     "text": [
      "original array [1, 2, 3, 4]\n",
      "converted to float type [1. 2. 3. 4.]\n"
     ]
    }
   ],
   "source": [
    "#alternate\n",
    "import numpy as np\n",
    "a=[1,2,3,4]\n",
    "\n",
    "print('original array',a)\n",
    "\n",
    "x=np.asfarray(a)\n",
    "print('converted to float type',x)"
   ]
  },
  {
   "cell_type": "code",
   "execution_count": 21,
   "id": "aa7adb7e",
   "metadata": {},
   "outputs": [
    {
     "name": "stdout",
     "output_type": "stream",
     "text": [
      "[1 2 3 4 5 6 7 8 9]\n",
      "[9 8 7 6 5 4 3 2 1]\n"
     ]
    }
   ],
   "source": [
    "#6- reverse an array (first element becomes last)\n",
    "import numpy as np\n",
    "a=np.arange(1,10)\n",
    "\n",
    "print(a)\n",
    "print(a[::-1])"
   ]
  },
  {
   "cell_type": "code",
   "execution_count": 22,
   "id": "964ffe2c",
   "metadata": {},
   "outputs": [
    {
     "name": "stdout",
     "output_type": "stream",
     "text": [
      "[[1. 1. 1. 1. 1.]\n",
      " [1. 1. 1. 1. 1.]\n",
      " [1. 1. 1. 1. 1.]\n",
      " [1. 1. 1. 1. 1.]\n",
      " [1. 1. 1. 1. 1.]]\n",
      "1 on the border and 0 inside in the array\n",
      "[[1. 1. 1. 1. 1.]\n",
      " [1. 0. 0. 0. 1.]\n",
      " [1. 0. 0. 0. 1.]\n",
      " [1. 0. 0. 0. 1.]\n",
      " [1. 1. 1. 1. 1.]]\n"
     ]
    }
   ],
   "source": [
    "#8-create a 2d array with 1 on the border and 0 inside\n",
    "import numpy as np\n",
    "x=np.ones((5,5))\n",
    "print(x)\n",
    "print(\"1 on the border and 0 inside in the array\")\n",
    "x[1:-1,1:-1]=0\n",
    "print(x)"
   ]
  },
  {
   "cell_type": "code",
   "execution_count": 23,
   "id": "0c0deb67",
   "metadata": {},
   "outputs": [
    {
     "name": "stdout",
     "output_type": "stream",
     "text": [
      "[[1. 1. 1. 1. 1.]\n",
      " [1. 1. 1. 1. 1.]\n",
      " [1. 1. 1. 1. 1.]\n",
      " [1. 1. 1. 1. 1.]\n",
      " [1. 1. 1. 1. 1.]]\n",
      "1 on the border and 0 around the array\n",
      "[[0. 0. 0. 0. 0. 0. 0.]\n",
      " [0. 1. 1. 1. 1. 1. 0.]\n",
      " [0. 1. 0. 0. 0. 1. 0.]\n",
      " [0. 1. 0. 0. 0. 1. 0.]\n",
      " [0. 1. 0. 0. 0. 1. 0.]\n",
      " [0. 1. 1. 1. 1. 1. 0.]\n",
      " [0. 0. 0. 0. 0. 0. 0.]]\n"
     ]
    }
   ],
   "source": [
    "#9-add a border (filled with 0's) around an existing array.\n",
    "import pandas as pd\n",
    "a=np.ones((5,5))\n",
    "print(a)\n",
    "\n",
    "print(\"1 on the border and 0 around the array\")\n",
    "a=np.pad(x,pad_width=1,mode='constant',constant_values=0)\n",
    "print(a)"
   ]
  },
  {
   "cell_type": "code",
   "execution_count": 7,
   "id": "7b8149ca",
   "metadata": {},
   "outputs": [
    {
     "name": "stdout",
     "output_type": "stream",
     "text": [
      "Checkerboard pattern:\n",
      "[[0 1 0 1 0 1 0 1]\n",
      " [1 0 1 0 1 0 1 0]\n",
      " [0 1 0 1 0 1 0 1]\n",
      " [1 0 1 0 1 0 1 0]\n",
      " [0 1 0 1 0 1 0 1]\n",
      " [1 0 1 0 1 0 1 0]\n",
      " [0 1 0 1 0 1 0 1]\n",
      " [1 0 1 0 1 0 1 0]]\n"
     ]
    }
   ],
   "source": [
    "#Date-11/11/22\n",
    "#10-create a 8x8 matrix and fill it with a checkerboard pattern.\n",
    "import numpy as np\n",
    "x=np.ones((3,3))\n",
    "print(\"Checkerboard pattern:\")\n",
    "x=np.zeros((8,8),dtype='int')\n",
    "x[1::2,::2]=1\n",
    "x[::2,1::2]=1\n",
    "print(x)"
   ]
  },
  {
   "cell_type": "code",
   "execution_count": 9,
   "id": "b6e371ee",
   "metadata": {},
   "outputs": [
    {
     "name": "stdout",
     "output_type": "stream",
     "text": [
      "list to array\n",
      "[1 2 3 4 5 6 7 8]\n",
      "tuple to array\n",
      "[[8 4 6]\n",
      " [1 2 3]]\n"
     ]
    }
   ],
   "source": [
    "#11- convert a list and tuple into arrays.\n",
    "import numpy as np\n",
    "my_list=[1, 2, 3, 4, 5, 6, 7, 8]\n",
    "print('list to array')\n",
    "print(np.asarray(my_list))\n",
    "my_tuple=([8,4,6],[1,2,3])\n",
    "print('tuple to array')\n",
    "print(np.asarray(my_tuple))"
   ]
  },
  {
   "cell_type": "code",
   "execution_count": 11,
   "id": "6a19b6fd",
   "metadata": {},
   "outputs": [
    {
     "name": "stdout",
     "output_type": "stream",
     "text": [
      "original array\n",
      "[10, 20, 30]\n",
      "After append values to the end of the array:\n",
      "[10 20 30 40 50 60 70 80 90]\n"
     ]
    }
   ],
   "source": [
    "#12- append values to the end of an array\n",
    "import numpy as np\n",
    "x=[10,20,30]\n",
    "print('original array')\n",
    "print(x)\n",
    "\n",
    "x=np.append(x,[[40,50,60],[70,80,90]])\n",
    "print(\"After append values to the end of the array:\")\n",
    "print(x)"
   ]
  },
  {
   "cell_type": "code",
   "execution_count": 13,
   "id": "3b6c029a",
   "metadata": {},
   "outputs": [
    {
     "name": "stdout",
     "output_type": "stream",
     "text": [
      "[[9.81157772e-312 2.47032823e-322 0.00000000e+000 0.00000000e+000]\n",
      " [7.56587583e-307 2.92966904e-033 4.21989908e-090 3.85589012e-057]\n",
      " [3.57194398e-062 4.85259759e-033 3.99910963e+252 8.67490129e-067]]\n",
      "[[6 6 6]\n",
      " [6 6 6]\n",
      " [6 6 6]]\n"
     ]
    }
   ],
   "source": [
    "#13-create an empty and a full array\n",
    "import numpy as np\n",
    "#create empty array\n",
    "x=np.empty((3,4))\n",
    "print(x)\n",
    "\n",
    "y=np.full((3,3),6)\n",
    "print(y)"
   ]
  },
  {
   "cell_type": "code",
   "execution_count": 15,
   "id": "b4715ff0",
   "metadata": {},
   "outputs": [
    {
     "name": "stdout",
     "output_type": "stream",
     "text": [
      "values in farenheight degrees\n",
      "[ 0.   12.   45.21 34.   99.91 32.  ]\n",
      "Values in  Centigrade degrees:\n",
      "[-17.78 -11.11   7.34   1.11  37.73   0.  ]\n"
     ]
    }
   ],
   "source": [
    "#14-convert the values of Centigrade degrees into Fahrenheit degrees and vice versa. Values are stored into a NumPy array. \n",
    "import numpy as np\n",
    "fvalues=[0, 12, 45.21, 34, 99.91, 32]\n",
    "f=np.array(fvalues)\n",
    "print('values in farenheight degrees')\n",
    "print(f)\n",
    "print(\"Values in  Centigrade degrees:\")\n",
    "print(np.round((5*f/9 - 5*32/9),2))"
   ]
  },
  {
   "cell_type": "code",
   "execution_count": 16,
   "id": "5d112635",
   "metadata": {},
   "outputs": [
    {
     "name": "stdout",
     "output_type": "stream",
     "text": [
      "Original array:x  [1.+0.j]\n",
      "Original array:y  [0.70710678+0.70710678j]\n",
      "Real part of array\n",
      "[1.]\n",
      "[0.70710678]\n",
      "Imaginary part of the array:\n",
      "[0.]\n",
      "[0.70710678]\n"
     ]
    }
   ],
   "source": [
    "#15- find the real and imaginary parts of an array of complex numbers.\n",
    "import numpy as np\n",
    "x=np.sqrt([1+0j])\n",
    "y = np.sqrt([0+1j])\n",
    "\n",
    "print(\"Original array:x \",x)\n",
    "print(\"Original array:y \",y)\n",
    "\n",
    "print('Real part of array')\n",
    "print(x.real)\n",
    "print(y.real)\n",
    "print(\"Imaginary part of the array:\")\n",
    "print(x.imag)\n",
    "print(y.imag)"
   ]
  },
  {
   "cell_type": "code",
   "execution_count": 17,
   "id": "aa071a86",
   "metadata": {},
   "outputs": [
    {
     "name": "stdout",
     "output_type": "stream",
     "text": [
      "size of the array 3\n",
      "length of one array elment in bytes 8\n",
      "total bytes consumed by elements of array 24\n"
     ]
    }
   ],
   "source": [
    "#16- find the number of elements of an array, length of one array element in bytes and total bytes consumed by the elements\n",
    "import numpy as np\n",
    "x=np.array([1,2,3],dtype=np.float64)\n",
    "print('size of the array', x.size)\n",
    "print('length of one array elment in bytes',x.itemsize)\n",
    "print('total bytes consumed by elements of array',x.nbytes)"
   ]
  },
  {
   "cell_type": "code",
   "execution_count": 18,
   "id": "bd1f4025",
   "metadata": {},
   "outputs": [
    {
     "name": "stdout",
     "output_type": "stream",
     "text": [
      "array1 [ 0 10 20 40 60]\n",
      "Array2:  [0, 40]\n",
      "Compare each element of array1 and array2\n",
      "[ True False False  True False]\n"
     ]
    }
   ],
   "source": [
    "#17- test whether each element of a 1-D array is also present in a second array. \n",
    "import numpy as np\n",
    "array1=np.array([0, 10, 20, 40, 60])\n",
    "print('array1',array1)\n",
    "array2=[0,40]\n",
    "print(\"Array2: \",array2)\n",
    "print(\"Compare each element of array1 and array2\")\n",
    "print(np.in1d(array1,array2))"
   ]
  },
  {
   "cell_type": "code",
   "execution_count": 19,
   "id": "368822f9",
   "metadata": {},
   "outputs": [
    {
     "name": "stdout",
     "output_type": "stream",
     "text": [
      "array1: [ 0 10 20 40 60]\n",
      "Array2:  [10, 30, 40]\n",
      "Common values between two arrays:\n",
      "[10 40]\n"
     ]
    }
   ],
   "source": [
    "#18-find common values between two arrays.\n",
    "import numpy as np\n",
    "array1=np.array([0, 10, 20, 40, 60])\n",
    "print('array1:',array1)\n",
    "\n",
    "array2 = [10, 30, 40]\n",
    "print(\"Array2: \",array2)\n",
    "\n",
    "print(\"Common values between two arrays:\")\n",
    "print(np.intersect1d(array1,array2))"
   ]
  },
  {
   "cell_type": "code",
   "execution_count": 20,
   "id": "043361a6",
   "metadata": {},
   "outputs": [
    {
     "name": "stdout",
     "output_type": "stream",
     "text": [
      "Original array:\n",
      "[10 10 20 20 30 30]\n",
      "Unique values in array\n",
      "[10 20 30]\n"
     ]
    }
   ],
   "source": [
    "#19-get the unique elements of an array.\n",
    "import numpy as np\n",
    "x=np.array([10, 10, 20, 20, 30, 30])\n",
    "\n",
    "print(\"Original array:\")\n",
    "print(x)\n",
    "\n",
    "print('Unique values in array')\n",
    "print(np.unique(x))"
   ]
  },
  {
   "cell_type": "code",
   "execution_count": 22,
   "id": "71c76c84",
   "metadata": {},
   "outputs": [
    {
     "name": "stdout",
     "output_type": "stream",
     "text": [
      "Unique values in array1 that are not in array2:\n",
      "[ 0 20 60 80]\n"
     ]
    }
   ],
   "source": [
    "#20-find the set difference of two arrays. The set difference will return the sorted,\n",
    "#unique values in array1 that are not in array2\n",
    "import numpy as np\n",
    "\n",
    "x=np.array([0, 10, 20, 40, 60, 80])\n",
    "y=np.array([10, 30, 40, 50, 70, 90])\n",
    "\n",
    "print(\"Unique values in array1 that are not in array2:\")\n",
    "print(np.setdiff1d(x,y))\n"
   ]
  },
  {
   "cell_type": "code",
   "execution_count": 23,
   "id": "304db5f2",
   "metadata": {},
   "outputs": [
    {
     "name": "stdout",
     "output_type": "stream",
     "text": [
      "Unique values that are in only one (not both) of the input arrays:\n",
      "[ 0 20 30 50 60 70 80]\n"
     ]
    }
   ],
   "source": [
    "#21-find the set exclusive-or of two arrays. Set exclusive-or will return the sorted, \n",
    "#unique values that are in only one (not both) of the input arrays.\n",
    "import numpy as np\n",
    "x=np.array([0, 10, 20, 40, 60, 80])\n",
    "y=np.array([10, 30, 40, 50, 70])\n",
    "print(\"Unique values that are in only one (not both) of the input arrays:\")\n",
    "print(np.setxor1d(x,y))"
   ]
  },
  {
   "cell_type": "code",
   "execution_count": 26,
   "id": "8053489d",
   "metadata": {},
   "outputs": [
    {
     "name": "stdout",
     "output_type": "stream",
     "text": [
      "Unique sorted array of values that are in either of the two input arrays:\n",
      "[ 0 10 20 30 40 50 60 70 80]\n"
     ]
    }
   ],
   "source": [
    "#22-find the union of two arrays. Union will return the unique, \n",
    "#sorted array of values that are in either of the two input arrays\n",
    "import numpy as np\n",
    "\n",
    "x=np.array([0, 10, 20, 40, 60, 80])\n",
    "y=np.array([10, 30, 40, 50, 70])\n",
    "\n",
    "print(\"Unique sorted array of values that are in either of the two input arrays:\")\n",
    "print(np.union1d(x,y))"
   ]
  },
  {
   "cell_type": "code",
   "execution_count": 27,
   "id": "eb79c7fe",
   "metadata": {},
   "outputs": [
    {
     "name": "stdout",
     "output_type": "stream",
     "text": [
      "False\n",
      "True\n",
      "False\n",
      "True\n"
     ]
    }
   ],
   "source": [
    "#23- test whether all elements in an array evaluate to True.\n",
    "import numpy as np\n",
    "print(np.all([[True,False],[True,True]]))\n",
    "print(np.all([[True,True],[True,True]]))\n",
    "print(np.all([10, 20, 0, -50]))\n",
    "print(np.all([10, 20, -50]))"
   ]
  },
  {
   "cell_type": "code",
   "execution_count": 29,
   "id": "ede8cf21",
   "metadata": {},
   "outputs": [
    {
     "name": "stdout",
     "output_type": "stream",
     "text": [
      "False\n",
      "True\n",
      "True\n",
      "True\n"
     ]
    }
   ],
   "source": [
    "#24- test whether any array element along a given axis evaluates to True\n",
    "import numpy as np\n",
    "print(np.any([[False,False],[False,False]]))\n",
    "print(np.any([[True,True],[True,True]]))\n",
    "print(np.any([10, 20, 0, -50]))\n",
    "print(np.any([10, 20, -50]))\n"
   ]
  },
  {
   "cell_type": "code",
   "execution_count": 1,
   "id": "1f942e7b",
   "metadata": {},
   "outputs": [
    {
     "name": "stdout",
     "output_type": "stream",
     "text": [
      "Original array\n",
      "[1, 2, 3, 4]\n",
      "Repeating 2 times\n",
      "[1 2 3 4 1 2 3 4]\n"
     ]
    }
   ],
   "source": [
    "#25-construct an array by repeating\n",
    "import numpy as np\n",
    "a=[1, 2, 3, 4]\n",
    "print(\"Original array\")\n",
    "print(a)\n",
    "print(\"Repeating 2 times\")\n",
    "x=np.tile(a,2)\n",
    "print(x)"
   ]
  },
  {
   "cell_type": "code",
   "execution_count": 3,
   "id": "1a2c7ca5",
   "metadata": {},
   "outputs": [
    {
     "name": "stdout",
     "output_type": "stream",
     "text": [
      "[3 3 3 3]\n",
      "[1 1 2 2 3 3 4 4]\n"
     ]
    }
   ],
   "source": [
    "#26- repeat elements of an array\n",
    "import numpy as np\n",
    "x=np.repeat(3,4)\n",
    "print(x)\n",
    "\n",
    "x = np.array([[1,2],[3,4]])\n",
    "print(np.repeat(x, 2))"
   ]
  },
  {
   "cell_type": "code",
   "execution_count": 4,
   "id": "024f0444",
   "metadata": {},
   "outputs": [
    {
     "name": "stdout",
     "output_type": "stream",
     "text": [
      "[1 2 3 4 5 6]\n",
      "maximum values 5\n",
      "minimum values 0\n"
     ]
    }
   ],
   "source": [
    "#27-find the indices of the maximum and minimum values along the given axis of an array. \n",
    "import numpy as np\n",
    "x=np.array([1, 2, 3, 4, 5, 6])\n",
    "print(x)\n",
    "\n",
    "print('maximum values',np.argmax(x))\n",
    "print('minimum values',np.argmin(x))"
   ]
  },
  {
   "cell_type": "code",
   "execution_count": 6,
   "id": "e015811b",
   "metadata": {},
   "outputs": [
    {
     "name": "stdout",
     "output_type": "stream",
     "text": [
      "Array a:  [1 2]\n",
      "Array b:  [4 5]\n",
      "a > b\n",
      "[False False]\n",
      "a >= b\n",
      "[False False]\n",
      "a < b\n",
      "[ True  True]\n",
      "a <= b\n",
      "[ True  True]\n"
     ]
    }
   ],
   "source": [
    "#28-compare two given arrays\n",
    "import numpy as np\n",
    "a=np.array([1,2])\n",
    "b=np.array([4,5])\n",
    "\n",
    "print(\"Array a: \",a)\n",
    "print(\"Array b: \",b)\n",
    "\n",
    "print(\"a > b\")\n",
    "print(np.greater(a,b))\n",
    "\n",
    "print(\"a >= b\")\n",
    "print(np.greater_equal(a,b))\n",
    "\n",
    "print(\"a < b\")\n",
    "print(np.less(a,b))\n",
    "\n",
    "print(\"a <= b\")\n",
    "print(np.less_equal(a,b))"
   ]
  },
  {
   "cell_type": "code",
   "execution_count": 12,
   "id": "f8624d26",
   "metadata": {},
   "outputs": [
    {
     "name": "stdout",
     "output_type": "stream",
     "text": [
      "[[2 5]\n",
      " [8 4]]\n",
      "[[2 5]\n",
      " [4 8]]\n",
      "[[2 4]\n",
      " [8 5]]\n"
     ]
    }
   ],
   "source": [
    "#29-sort an along the first, last axis of an array\n",
    "import numpy as np\n",
    "\n",
    "x=np.array([[2,5],[8,4]])\n",
    "print(x)\n",
    "\n",
    "print(np.sort(x))\n",
    "\n",
    "print(np.sort(x,axis=0))"
   ]
  },
  {
   "cell_type": "code",
   "execution_count": 16,
   "id": "4cc80852",
   "metadata": {},
   "outputs": [
    {
     "name": "stdout",
     "output_type": "stream",
     "text": [
      "[1 3 2 4 0]\n"
     ]
    }
   ],
   "source": [
    "#30- sort pairs of first name and last name return their indices. (first by last name, then by first name)\n",
    "import pandas as pd\n",
    "first_names=('Margery', 'Betsey', 'Shelley', 'Lanell', 'Genesis')\n",
    "last_names=('Woolum', 'Battle', 'Plotner', 'Brien', 'Stahl')\n",
    "\n",
    "x=np.lexsort((first_names, last_names))\n",
    "print(x)"
   ]
  },
  {
   "cell_type": "code",
   "execution_count": 18,
   "id": "e2891c8e",
   "metadata": {},
   "outputs": [
    {
     "name": "stdout",
     "output_type": "stream",
     "text": [
      "original array\n",
      "[[ 0 10 20]\n",
      " [20 30 40]]\n",
      "values bigger than 10= [20 20 30 40]\n",
      "their indices are  (array([0, 1, 1, 1], dtype=int64), array([2, 0, 1, 2], dtype=int64))\n"
     ]
    }
   ],
   "source": [
    "#31-get the values and indices of the elements that are bigger than 10 in a given array\n",
    "import numpy as np\n",
    "x=np.array([[0, 10, 20], [20, 30, 40]])\n",
    "print('original array')\n",
    "print(x)\n",
    "\n",
    "print('values bigger than 10=',x[x>10])\n",
    "print('their indices are ',np.nonzero(x>10))"
   ]
  },
  {
   "cell_type": "code",
   "execution_count": 19,
   "id": "27a58258",
   "metadata": {},
   "outputs": [],
   "source": [
    "#32-save a NumPy array to a text file\n",
    "x=np.array([1,2,3,4])\n",
    "\n",
    "np.savetxt('file.out', x, delimiter=',')"
   ]
  },
  {
   "cell_type": "code",
   "execution_count": 20,
   "id": "d1552adb",
   "metadata": {},
   "outputs": [
    {
     "name": "stdout",
     "output_type": "stream",
     "text": [
      "128 bytes\n"
     ]
    }
   ],
   "source": [
    "#33- find the memory size of a NumPy array\n",
    "import numpy as np\n",
    "n = np.zeros((4,4))\n",
    "print(\"%d bytes\" % (n.size * n.itemsize))"
   ]
  },
  {
   "cell_type": "code",
   "execution_count": 25,
   "id": "81eae2d3",
   "metadata": {},
   "outputs": [
    {
     "name": "stdout",
     "output_type": "stream",
     "text": [
      "all zeros\n",
      "[[0 0 0]\n",
      " [0 0 0]]\n",
      "all ones\n",
      "[[1. 1. 1. 1.]\n",
      " [1. 1. 1. 1.]]\n"
     ]
    }
   ],
   "source": [
    "#34- create an array of ones and an array of zeros\n",
    "import numpy as np\n",
    "\n",
    "print('all zeros')\n",
    "print(np.zeros((2,3),dtype='int'))\n",
    "\n",
    "print('all ones')\n",
    "print(np.ones((2,4),dtype='float'))"
   ]
  },
  {
   "cell_type": "code",
   "execution_count": 28,
   "id": "76daec6f",
   "metadata": {},
   "outputs": [
    {
     "name": "stdout",
     "output_type": "stream",
     "text": [
      "[1 2 3 4 3 2]\n",
      "[[1 2 3]\n",
      " [4 3 2]]\n",
      "[[1 2]\n",
      " [3 4]\n",
      " [3 2]]\n"
     ]
    }
   ],
   "source": [
    "#35-change the dimension of an array\n",
    "import numpy as np\n",
    "x=np.array([1,2,3,4,3,2])\n",
    "print(x)\n",
    "print(x.reshape(2,3))\n",
    "\n",
    "#alternative\n",
    "x.shape=(3,2)\n",
    "print(x)"
   ]
  },
  {
   "cell_type": "code",
   "execution_count": 29,
   "id": "af25c21a",
   "metadata": {},
   "outputs": [
    {
     "name": "stdout",
     "output_type": "stream",
     "text": [
      "[[10 20 30]\n",
      " [20 40 50]]\n",
      "flattened array\n",
      "[10 20 30 20 40 50]\n"
     ]
    }
   ],
   "source": [
    "#36- create a contiguous flattened array\n",
    "import numpy as np\n",
    "\n",
    "x=np.array([[10, 20, 30], [20, 40, 50]])\n",
    "print(x)\n",
    "\n",
    "print('flattened array')\n",
    "y=np.ravel(x)\n",
    "print(y)"
   ]
  },
  {
   "cell_type": "code",
   "execution_count": 33,
   "id": "65e882a7",
   "metadata": {},
   "outputs": [
    {
     "name": "stdout",
     "output_type": "stream",
     "text": [
      "<class 'numpy.ndarray'>\n",
      "(2, 3)\n",
      "int32\n"
     ]
    }
   ],
   "source": [
    "#37-create a 2-dimensional array of size 2 x 3 (composed of 4-byte integer elements),\n",
    "#also print the shape, type and data type of the array.\n",
    "import numpy as np\n",
    "\n",
    "x = np.array([[2, 4, 6], [6, 8, 10]])\n",
    "\n",
    "print(type(x))\n",
    "print(x.shape)\n",
    "print(x.dtype)"
   ]
  },
  {
   "cell_type": "code",
   "execution_count": 34,
   "id": "9803a6b3",
   "metadata": {},
   "outputs": [
    {
     "name": "stdout",
     "output_type": "stream",
     "text": [
      "[1 2 3 4 5 6]\n",
      "[[1 2]\n",
      " [3 4]\n",
      " [5 6]]\n"
     ]
    }
   ],
   "source": [
    "#38- create a new shape to an array without changing its data.\n",
    "import numpy as np\n",
    "x=np.array([1, 2, 3, 4, 5, 6])\n",
    "y=np.reshape(x,(3,2))\n",
    "print(x)\n",
    "print(y)"
   ]
  },
  {
   "cell_type": "code",
   "execution_count": 35,
   "id": "0b51f019",
   "metadata": {},
   "outputs": [
    {
     "name": "stdout",
     "output_type": "stream",
     "text": [
      "[[ 2  4  6]\n",
      " [ 6  8 10]]\n",
      "changing datatype\n",
      "[[ 2.  4.  6.]\n",
      " [ 6.  8. 10.]]\n"
     ]
    }
   ],
   "source": [
    "#39-change the data type of an array. \n",
    "import numpy as  np\n",
    "x=np.array([[2, 4, 6], [6, 8, 10]],np.int32)\n",
    "print(x)\n",
    "\n",
    "print('changing datatype')\n",
    "y=x.astype(float)\n",
    "print(y)"
   ]
  },
  {
   "cell_type": "code",
   "execution_count": 39,
   "id": "ae6b2e31",
   "metadata": {},
   "outputs": [
    {
     "name": "stdout",
     "output_type": "stream",
     "text": [
      "[[2. 2. 2.]\n",
      " [2. 2. 2.]\n",
      " [2. 2. 2.]]\n",
      "[[2 2]\n",
      " [2 2]\n",
      " [2 2]\n",
      " [2 2]\n",
      " [2 2]]\n"
     ]
    }
   ],
   "source": [
    "#40-create a new array of 3*5, filled with 2\n",
    "import numpy as np\n",
    "x=np.ones([3,3])*2\n",
    "print(x)\n",
    "\n",
    "y=np.full([5,2],2)\n",
    "print(y)"
   ]
  },
  {
   "cell_type": "code",
   "execution_count": 48,
   "id": "898924af",
   "metadata": {},
   "outputs": [
    {
     "name": "stdout",
     "output_type": "stream",
     "text": [
      "[0 1 2 3]\n",
      "[10 10 10 10]\n"
     ]
    }
   ],
   "source": [
    "#41-create an array of 10's with the same shape and type of a given array.\n",
    "import numpy as np\n",
    "x=np.arange(4,dtype=np.int64)\n",
    "#y=np.empty_like(x,10)\n",
    "y=np.full_like(x,10)\n",
    "print(x)\n",
    "print(y)"
   ]
  },
  {
   "cell_type": "code",
   "execution_count": 49,
   "id": "3636d386",
   "metadata": {},
   "outputs": [
    {
     "name": "stdout",
     "output_type": "stream",
     "text": [
      "[[1. 0. 0.]\n",
      " [0. 1. 0.]\n",
      " [0. 0. 1.]]\n"
     ]
    }
   ],
   "source": [
    "#42-create a 3-D array with ones on a diagonal and zeros elsewhere\n",
    "import numpy as np\n",
    "x=np.eye(3)\n",
    "print(x)"
   ]
  },
  {
   "cell_type": "code",
   "execution_count": 50,
   "id": "0f846f55",
   "metadata": {},
   "outputs": [
    {
     "name": "stdout",
     "output_type": "stream",
     "text": [
      "[[4 0 0 0]\n",
      " [0 5 0 0]\n",
      " [0 0 6 0]\n",
      " [0 0 0 8]]\n"
     ]
    }
   ],
   "source": [
    "#43- create a 2-D array whose diagonal equals [4, 5, 6, 8] and 0's elsewhere\n",
    "import numpy as np\n",
    "x=np.diagflat([4,5,6,8])\n",
    "print(x)"
   ]
  },
  {
   "cell_type": "code",
   "execution_count": 54,
   "id": "c6b8bf44",
   "metadata": {},
   "outputs": [
    {
     "name": "stdout",
     "output_type": "stream",
     "text": [
      "Array from 0 to 50:\n",
      "[ 0  1  2  3  4  5  6  7  8  9 10 11 12 13 14 15 16 17 18 19 20 21 22 23\n",
      " 24 25 26 27 28 29 30 31 32 33 34 35 36 37 38 39 40 41 42 43 44 45 46 47\n",
      " 48 49]\n",
      "Array from 10 to 50:\n",
      "[10 11 12 13 14 15 16 17 18 19 20 21 22 23 24 25 26 27 28 29 30 31 32 33\n",
      " 34 35 36 37 38 39 40 41 42 43 44 45 46 47 48 49]\n"
     ]
    }
   ],
   "source": [
    "#44-create a 1-D array going from 0 to 50 and an array from 10 to 50.\n",
    "x=np.arange(50)\n",
    "print(\"Array from 0 to 50:\")\n",
    "print(x)\n",
    "\n",
    "x=np.arange(10,50)\n",
    "print(\"Array from 10 to 50:\")\n",
    "print(x)"
   ]
  },
  {
   "cell_type": "code",
   "execution_count": 51,
   "id": "d19b63b0",
   "metadata": {},
   "outputs": [
    {
     "name": "stdout",
     "output_type": "stream",
     "text": [
      "[2.5        2.63793103 2.77586207 2.9137931  3.05172414 3.18965517\n",
      " 3.32758621 3.46551724 3.60344828 3.74137931 3.87931034 4.01724138\n",
      " 4.15517241 4.29310345 4.43103448 4.56896552 4.70689655 4.84482759\n",
      " 4.98275862 5.12068966 5.25862069 5.39655172 5.53448276 5.67241379\n",
      " 5.81034483 5.94827586 6.0862069  6.22413793 6.36206897 6.5       ]\n"
     ]
    }
   ],
   "source": [
    "#45-Create a 1-D array of 30 evenly spaced elements between 2.5. and 6.5, inclusive\n",
    "import numpy as np\n",
    "x=np.linspace(2.5,6.5,30)\n",
    "print(x)"
   ]
  },
  {
   "cell_type": "code",
   "execution_count": 56,
   "id": "a5657823",
   "metadata": {},
   "outputs": [
    {
     "name": "stdout",
     "output_type": "stream",
     "text": [
      "[  100.           141.25375446   199.5262315    281.83829313\n",
      "   398.10717055   562.34132519   794.32823472  1122.0184543\n",
      "  1584.89319246  2238.72113857  3162.27766017  4466.83592151\n",
      "  6309.5734448   8912.50938134 12589.25411794 17782.79410039\n",
      " 25118.8643151  35481.33892336 50118.72336273 70794.57843841]\n"
     ]
    }
   ],
   "source": [
    "#46-create a 1-D array of 20 element spaced evenly on a log scale between 2. and 5., exclusive\n",
    "import numpy as np\n",
    "x=np.logspace(2,5,20,endpoint=False)\n",
    "print(x)"
   ]
  },
  {
   "cell_type": "code",
   "execution_count": 60,
   "id": "a0338fc5",
   "metadata": {},
   "outputs": [
    {
     "name": "stdout",
     "output_type": "stream",
     "text": [
      "[[0. 0. 0.]\n",
      " [1. 0. 0.]\n",
      " [1. 1. 0.]\n",
      " [1. 1. 1.]]\n"
     ]
    }
   ],
   "source": [
    "#47-create an array which looks like below array\n",
    "import numpy as np\n",
    "x = np.tri(4, 3, -1)\n",
    "print(x)"
   ]
  },
  {
   "cell_type": "code",
   "execution_count": 61,
   "id": "81de0464",
   "metadata": {},
   "outputs": [
    {
     "name": "stdout",
     "output_type": "stream",
     "text": [
      "[[ 2  3  4]\n",
      " [ 5  6  7]\n",
      " [ 0  9 10]\n",
      " [ 0  0 13]]\n"
     ]
    }
   ],
   "source": [
    "#48- create an array which looks like below array\n",
    "import numpy as np\n",
    "x = np.triu(np.arange(2, 14).reshape(4, 3), -1)\n",
    "print(x)"
   ]
  },
  {
   "cell_type": "code",
   "execution_count": 62,
   "id": "2e0ad967",
   "metadata": {},
   "outputs": [
    {
     "name": "stdout",
     "output_type": "stream",
     "text": [
      "[[1. 0. 0.]\n",
      " [0. 1. 0.]\n",
      " [0. 0. 1.]]\n",
      "[1. 0. 0. 0. 1. 0. 0. 0. 1.]\n"
     ]
    }
   ],
   "source": [
    "#49- collapse a 3-D array into one dimension array\n",
    "import numpy as np\n",
    "x=np.eye(3)\n",
    "print(x)\n",
    "\n",
    "y=np.ravel(x)\n",
    "print(y)"
   ]
  },
  {
   "cell_type": "code",
   "execution_count": 10,
   "id": "7654567a",
   "metadata": {},
   "outputs": [
    {
     "name": "stdout",
     "output_type": "stream",
     "text": [
      "[[ 2  4  6]\n",
      " [ 9  8 10]]\n",
      "Forth e1ement of the array:\n",
      "9\n",
      "9\n"
     ]
    }
   ],
   "source": [
    "#Date 11/12/22\n",
    "#50- find the 4th element of a specified array\n",
    "import numpy as np\n",
    "x=np.array([[2, 4, 6], [9, 8, 10]],np.int32)\n",
    "print(x)\n",
    "\n",
    "print(\"Forth e1ement of the array:\")\n",
    "e4=x.flat[3]\n",
    "print(e4)\n",
    "\n",
    "y=x.ravel()\n",
    "print(y[3])"
   ]
  },
  {
   "cell_type": "code",
   "execution_count": 11,
   "id": "ad744483",
   "metadata": {},
   "outputs": [
    {
     "name": "stdout",
     "output_type": "stream",
     "text": [
      "[[1 2 3]]\n",
      "[[1]\n",
      " [2]\n",
      " [3]]\n"
     ]
    }
   ],
   "source": [
    "#51-interchange two axes of an array.\n",
    "import numpy as np\n",
    "x=np.array([[1,2,3]])\n",
    "print(x)\n",
    "\n",
    "y=np.swapaxes(x,0,1)\n",
    "print(y)"
   ]
  },
  {
   "cell_type": "code",
   "execution_count": 12,
   "id": "b8a599f7",
   "metadata": {},
   "outputs": [
    {
     "name": "stdout",
     "output_type": "stream",
     "text": [
      "[[[0. 0. 0. 0.]\n",
      "  [0. 0. 0. 0.]\n",
      "  [0. 0. 0. 0.]]\n",
      "\n",
      " [[0. 0. 0. 0.]\n",
      "  [0. 0. 0. 0.]\n",
      "  [0. 0. 0. 0.]]]\n",
      "(3, 4, 2)\n",
      "(4, 2, 3)\n"
     ]
    }
   ],
   "source": [
    "#52- move axes of an array to new positions. Other axes remain in their original order.\n",
    "import numpy as np\n",
    "x=np.zeros((2,3,4))\n",
    "print(x)\n",
    "print(np.moveaxis(x, 0, -1).shape)\n",
    "print(np.moveaxis(x, -1, 0).shape)"
   ]
  },
  {
   "cell_type": "code",
   "execution_count": 13,
   "id": "30f1d86a",
   "metadata": {},
   "outputs": [
    {
     "name": "stdout",
     "output_type": "stream",
     "text": [
      "(2, 5, 3, 4)\n"
     ]
    }
   ],
   "source": [
    "#53- move the specified axis backwards, until it lies in a given position.\n",
    "import numpy as np\n",
    "\n",
    "x=np.ones((2,3,4,5))\n",
    "print(np.rollaxis(x,3,1).shape)"
   ]
  },
  {
   "cell_type": "code",
   "execution_count": 18,
   "id": "6202a123",
   "metadata": {},
   "outputs": [
    {
     "name": "stdout",
     "output_type": "stream",
     "text": [
      "[12]\n",
      "[[0 1]\n",
      " [2 3]\n",
      " [4 5]]\n",
      "[array([1]), array([3, 4])]\n"
     ]
    }
   ],
   "source": [
    "#54- convert specified inputs to arrays with at least one dimension\n",
    "import numpy as np\n",
    "x=12\n",
    "print(np.atleast_1d(x))\n",
    "\n",
    "x=np.arange(6).reshape(3,2)\n",
    "print(np.atleast_1d(x))\n",
    "\n",
    "print(np.atleast_1d(1, [3, 4]))"
   ]
  },
  {
   "cell_type": "code",
   "execution_count": 20,
   "id": "ac1653d5",
   "metadata": {},
   "outputs": [
    {
     "name": "stdout",
     "output_type": "stream",
     "text": [
      "View inputs as arrays with at least two dimensions:\n",
      "[[10]]\n",
      "[[0. 1.]\n",
      " [2. 3.]]\n",
      "View inputs as arrays with at least three dimensions:\n",
      "[[[15]]]\n",
      "[[[0.]\n",
      "  [1.]\n",
      "  [2.]]]\n"
     ]
    }
   ],
   "source": [
    "#55-view inputs as arrays with at least two dimensions, three dimensions\n",
    "import numpy as np\n",
    "x=10\n",
    "\n",
    "print(\"View inputs as arrays with at least two dimensions:\")\n",
    "print(np.atleast_2d(x))\n",
    "\n",
    "x = np.arange(4.0).reshape(2, 2)\n",
    "print(np.atleast_1d(x))\n",
    "print(\"View inputs as arrays with at least three dimensions:\")\n",
    "x =15\n",
    "print(np.atleast_3d(x))\n",
    "x = np.arange(3.0)\n",
    "print(np.atleast_3d(x))"
   ]
  },
  {
   "cell_type": "code",
   "execution_count": 21,
   "id": "f0a00ad8",
   "metadata": {},
   "outputs": [
    {
     "name": "stdout",
     "output_type": "stream",
     "text": [
      "(3, 1, 4)\n"
     ]
    }
   ],
   "source": [
    "#56- insert a new axis within a 2-D array\n",
    "import numpy as np\n",
    "x=np.zeros((3,4))\n",
    "y=np.expand_dims(x,axis=1).shape\n",
    "print(y)"
   ]
  },
  {
   "cell_type": "code",
   "execution_count": 22,
   "id": "6625f7db",
   "metadata": {},
   "outputs": [
    {
     "name": "stdout",
     "output_type": "stream",
     "text": [
      "(3, 4)\n"
     ]
    }
   ],
   "source": [
    "#57-remove single-dimensional entries from a specified shape\n",
    "import numpy as np\n",
    "x=np.zeros((3,4,1))\n",
    "print(np.squeeze(x).shape)"
   ]
  },
  {
   "cell_type": "code",
   "execution_count": 27,
   "id": "ca90a5a4",
   "metadata": {},
   "outputs": [
    {
     "name": "stdout",
     "output_type": "stream",
     "text": [
      "[[ 0  1  3  0  2  4]\n",
      " [ 5  7  9  6  8 10]]\n"
     ]
    }
   ],
   "source": [
    "#58-concatenate two 2-dimensional arrays\n",
    "import numpy as np\n",
    "a=np.array([[0, 1, 3], [5, 7, 9]])\n",
    "b=np.array([[0, 2, 4], [6, 8, 10]])\n",
    "c=np.concatenate((a,b),1)\n",
    "print(c)"
   ]
  },
  {
   "cell_type": "code",
   "execution_count": 28,
   "id": "b902691a",
   "metadata": {},
   "outputs": [
    {
     "name": "stdout",
     "output_type": "stream",
     "text": [
      "[[1 4]\n",
      " [2 5]\n",
      " [3 6]]\n"
     ]
    }
   ],
   "source": [
    "#59-convert 1-D arrays as columns into a 2-D array.\n",
    "import numpy as np\n",
    "a=np.array((1,2,3))\n",
    "b=np.array((4,5,6))\n",
    "c=np.column_stack((a,b))\n",
    "print(c)"
   ]
  },
  {
   "cell_type": "code",
   "execution_count": 29,
   "id": "7c6437a0",
   "metadata": {},
   "outputs": [
    {
     "name": "stdout",
     "output_type": "stream",
     "text": [
      "[[[10 40]]\n",
      "\n",
      " [[20 50]]\n",
      "\n",
      " [[30 60]]]\n"
     ]
    }
   ],
   "source": [
    "#60-convert (in sequence depth wise (along third axis)) two 1-D arrays into a 2-D array\n",
    "import numpy as np\n",
    "a=np.array([[10],[20],[30]])\n",
    "b=np.array([[40],[50],[60]])\n",
    "c=np.dstack((a,b))\n",
    "print(c)"
   ]
  },
  {
   "cell_type": "code",
   "execution_count": 34,
   "id": "53033c81",
   "metadata": {},
   "outputs": [
    {
     "name": "stdout",
     "output_type": "stream",
     "text": [
      "Original array: [ 1  2  3  4  5  6  7  8  9 10 11 12 13 14]\n",
      "After splitting:\n",
      "[array([1, 2]), array([3, 4, 5, 6]), array([ 7,  8,  9, 10, 11, 12, 13, 14])]\n"
     ]
    }
   ],
   "source": [
    "#61-split an array of 14 elements into 3 arrays, each of which has 2, 4, and 8 elements in the original order.\n",
    "import numpy as np\n",
    "x=np.arange(1,15)\n",
    "print(\"Original array:\",x)\n",
    "print(\"After splitting:\")\n",
    "print(np.split(x,[2,6]))"
   ]
  },
  {
   "cell_type": "code",
   "execution_count": 38,
   "id": "48786805",
   "metadata": {},
   "outputs": [
    {
     "name": "stdout",
     "output_type": "stream",
     "text": [
      "Original array: [[ 0  1  2  3]\n",
      " [ 4  5  6  7]\n",
      " [ 8  9 10 11]\n",
      " [12 13 14 15]]\n",
      "After splitting horizontally:\n",
      "[array([[ 0,  1],\n",
      "       [ 4,  5],\n",
      "       [ 8,  9],\n",
      "       [12, 13]]), array([[ 2,  3],\n",
      "       [ 6,  7],\n",
      "       [10, 11],\n",
      "       [14, 15]]), array([], shape=(4, 0), dtype=int32)]\n"
     ]
    }
   ],
   "source": [
    "#62-split of an array of shape 4x4 it into two arrays along the second axis. \n",
    "import numpy as np\n",
    "x=np.arange(16).reshape(4,4)\n",
    "print(\"Original array:\",x)\n",
    "print(\"After splitting horizontally:\")\n",
    "print(np.hsplit(x,[2,6]))"
   ]
  },
  {
   "cell_type": "code",
   "execution_count": 39,
   "id": "bac13dbe",
   "metadata": {},
   "outputs": [
    {
     "name": "stdout",
     "output_type": "stream",
     "text": [
      "Original array:\n",
      "[[ 0 10 20]\n",
      " [20 30 40]]\n",
      "Number of non zero elements in the above array:\n",
      "5\n"
     ]
    }
   ],
   "source": [
    "#63-get the number of nonzero elements in an array\n",
    "import numpy as np\n",
    "x=np.array([[0, 10, 20], [20, 30, 40]])\n",
    "\n",
    "print(\"Original array:\")\n",
    "print(x)\n",
    "\n",
    "print(\"Number of non zero elements in the above array:\")\n",
    "print(np.count_nonzero(x))"
   ]
  },
  {
   "cell_type": "code",
   "execution_count": 42,
   "id": "12fb81ff",
   "metadata": {},
   "outputs": [
    {
     "name": "stdout",
     "output_type": "stream",
     "text": [
      "[[0. 0. 0. 0. 0.]\n",
      " [0. 0. 0. 0. 0.]\n",
      " [0. 0. 0. 0. 0.]\n",
      " [0. 0. 0. 0. 0.]\n",
      " [0. 0. 0. 0. 0.]]\n",
      "Row values ranging from 0 to 4.\n",
      "[[0. 1. 2. 3. 4.]\n",
      " [0. 1. 2. 3. 4.]\n",
      " [0. 1. 2. 3. 4.]\n",
      " [0. 1. 2. 3. 4.]\n",
      " [0. 1. 2. 3. 4.]]\n"
     ]
    }
   ],
   "source": [
    "#64-create a 5x5 matrix with row values ranging from 0 to 4\n",
    "x=np.zeros((5,5))\n",
    "print(x)\n",
    "\n",
    "print(\"Row values ranging from 0 to 4.\")\n",
    "x+=np.arange(5)\n",
    "print(x)"
   ]
  },
  {
   "cell_type": "code",
   "execution_count": 43,
   "id": "8f29b236",
   "metadata": {},
   "outputs": [
    {
     "name": "stdout",
     "output_type": "stream",
     "text": [
      "Original array:\n",
      "[[1.12 2.   3.45]\n",
      " [2.33 5.12 6.  ]]\n",
      "True\n",
      "True\n"
     ]
    }
   ],
   "source": [
    "#65- test whether specified values are present in an array\n",
    "import numpy as np\n",
    "x=np.array([[1.12, 2.0, 3.45], [2.33, 5.12, 6.0]],float)\n",
    "print(\"Original array:\")\n",
    "print(x)\n",
    "\n",
    "print(2 in x)\n",
    "print(2.33 in x)"
   ]
  },
  {
   "cell_type": "code",
   "execution_count": 50,
   "id": "24ecba69",
   "metadata": {},
   "outputs": [
    {
     "name": "stdout",
     "output_type": "stream",
     "text": [
      "[0.09090909 0.18181818 0.27272727 0.36363636 0.45454545 0.54545455\n",
      " 0.63636364 0.72727273 0.81818182 0.90909091]\n"
     ]
    }
   ],
   "source": [
    "#66-create a vector of size 10 with values ranging from 0 to 1, both excluded.\n",
    "import numpy as np\n",
    "x=np.linspace(0,1,12,endpoint=True)[1:-1]\n",
    "print(x)"
   ]
  },
  {
   "cell_type": "code",
   "execution_count": 51,
   "id": "3c74fdfa",
   "metadata": {},
   "outputs": [
    {
     "name": "stdout",
     "output_type": "stream",
     "text": [
      "Test the array is read-only or not:\n",
      "Try to change the value of the first element:\n"
     ]
    },
    {
     "ename": "ValueError",
     "evalue": "assignment destination is read-only",
     "output_type": "error",
     "traceback": [
      "\u001b[1;31m---------------------------------------------------------------------------\u001b[0m",
      "\u001b[1;31mValueError\u001b[0m                                Traceback (most recent call last)",
      "\u001b[1;32m~\\AppData\\Local\\Temp/ipykernel_16328/2617858997.py\u001b[0m in \u001b[0;36m<module>\u001b[1;34m\u001b[0m\n\u001b[0;32m      5\u001b[0m \u001b[0mprint\u001b[0m\u001b[1;33m(\u001b[0m\u001b[1;34m\"Test the array is read-only or not:\"\u001b[0m\u001b[1;33m)\u001b[0m\u001b[1;33m\u001b[0m\u001b[1;33m\u001b[0m\u001b[0m\n\u001b[0;32m      6\u001b[0m \u001b[0mprint\u001b[0m\u001b[1;33m(\u001b[0m\u001b[1;34m\"Try to change the value of the first element:\"\u001b[0m\u001b[1;33m)\u001b[0m\u001b[1;33m\u001b[0m\u001b[1;33m\u001b[0m\u001b[0m\n\u001b[1;32m----> 7\u001b[1;33m \u001b[0mx\u001b[0m\u001b[1;33m[\u001b[0m\u001b[1;36m0\u001b[0m\u001b[1;33m]\u001b[0m \u001b[1;33m=\u001b[0m \u001b[1;36m1\u001b[0m\u001b[1;33m\u001b[0m\u001b[1;33m\u001b[0m\u001b[0m\n\u001b[0m",
      "\u001b[1;31mValueError\u001b[0m: assignment destination is read-only"
     ]
    }
   ],
   "source": [
    "#67-make an array immutable (read-only).\n",
    "import numpy as np\n",
    "x=np.zeros(10)\n",
    "x.flags.writeable = False\n",
    "print(\"Test the array is read-only or not:\")\n",
    "print(\"Try to change the value of the first element:\")\n",
    "x[0] = 1"
   ]
  },
  {
   "cell_type": "code",
   "execution_count": 53,
   "id": "d88556bf",
   "metadata": {},
   "outputs": [
    {
     "name": "stdout",
     "output_type": "stream",
     "text": [
      "[ 3  5  6  9 10 12 15 18 20 21 24 25 27 30 33 35 36 39 40 42 45 48 50 51\n",
      " 54 55 57 60 63 65 66 69 70 72 75 78 80 81 84 85 87 90 93 95 96 99]\n",
      "2318\n"
     ]
    }
   ],
   "source": [
    "#68- sum of all the multiples of 3 or 5 below 100\n",
    "import numpy as np\n",
    "x=np.arange(1,100)\n",
    "\n",
    "# find  multiple of 3 or 5\n",
    "n=x[(x%3==0)|(x%5==0)]\n",
    "print(n[:100])\n",
    "# print sum the numbers\n",
    "print(n.sum())\n"
   ]
  },
  {
   "cell_type": "code",
   "execution_count": 55,
   "id": "eb02bc78",
   "metadata": {},
   "outputs": [
    {
     "name": "stdout",
     "output_type": "stream",
     "text": [
      "[ 0.  1.  2.  3.  4.  5.  6.  7.  8.  9. 10. 11. 12. 13. 14. 15. 16. 17.\n",
      " 18. 19. 20. 21. 22. 23. 24. 25. 26. 27. 28. 29. 30. 31. 32. 33. 34. 35.\n",
      " 36. 37. 38. 39. 40. 41. 42. 43. 44. 45. 46. 47. 48. 49. 50. 51. 52. 53.\n",
      " 54. 55. 56. 57. 58. 59. 60. 61. 62. 63. 64. 65. 66. 67. 68. 69. 70. 71.\n",
      " 72. 73. 74. 75. 76. 77. 78. 79. 80. 81. 82. 83. 84. 85. 86. 87. 88. 89.\n",
      " 90. 91. 92. 93. 94. 95. 96. 97. 98. 99.]\n"
     ]
    }
   ],
   "source": [
    "#69- create an array with 10^2 elements.\n",
    "import numpy as np\n",
    "x=np.arange(1e2)\n",
    "print(x)"
   ]
  },
  {
   "cell_type": "code",
   "execution_count": 56,
   "id": "4d5f5f63",
   "metadata": {},
   "outputs": [
    {
     "name": "stdout",
     "output_type": "stream",
     "text": [
      "0 1 2 3 4 5 6 7 8 9 10 11 \n"
     ]
    }
   ],
   "source": [
    "#70-create display every element of a NumPy array\n",
    "import numpy as np\n",
    "x=np.arange(12).reshape(3,4)\n",
    "for x in np.nditer(x):\n",
    "    print(x,end=' ')\n",
    "print()"
   ]
  },
  {
   "cell_type": "code",
   "execution_count": 61,
   "id": "1392475f",
   "metadata": {},
   "outputs": [
    {
     "name": "stdout",
     "output_type": "stream",
     "text": [
      "Elements of the array in Fortan array:\n",
      "0 4 8 1 5 9 2 6 10 3 7 11 \n",
      "\n"
     ]
    }
   ],
   "source": [
    "#71- create and display every element of a NumPy array in Fortran order. \n",
    "import numpy as np\n",
    "x=np.arange(12).reshape(3,4)\n",
    "print(\"Elements of the array in Fortan array:\")\n",
    "for x in np.nditer(x, order=\"F\"):\n",
    "    print(x,end=' ')\n",
    "print(\"\\n\")"
   ]
  },
  {
   "cell_type": "code",
   "execution_count": 63,
   "id": "6f1b3047",
   "metadata": {},
   "outputs": [
    {
     "name": "stdout",
     "output_type": "stream",
     "text": [
      "[[[1 1 1 1 1]\n",
      "  [1 1 1 1 1]\n",
      "  [1 1 1 1 1]\n",
      "  [1 1 1 1 1]\n",
      "  [1 1 1 1 1]]\n",
      "\n",
      " [[1 1 1 1 1]\n",
      "  [1 1 1 1 1]\n",
      "  [1 1 1 1 1]\n",
      "  [1 1 1 1 1]\n",
      "  [1 1 1 1 1]]\n",
      "\n",
      " [[1 1 1 1 1]\n",
      "  [1 1 1 1 1]\n",
      "  [1 1 1 1 1]\n",
      "  [1 1 1 1 1]\n",
      "  [1 1 1 1 1]]\n",
      "\n",
      " [[1 1 1 1 1]\n",
      "  [1 1 1 1 1]\n",
      "  [1 1 1 1 1]\n",
      "  [1 1 1 1 1]\n",
      "  [1 1 1 1 1]]\n",
      "\n",
      " [[1 1 1 1 1]\n",
      "  [1 1 1 1 1]\n",
      "  [1 1 1 1 1]\n",
      "  [1 1 1 1 1]\n",
      "  [1 1 1 1 1]]]\n"
     ]
    }
   ],
   "source": [
    "#72-create a 5x5x5 cube of 1's\n",
    "import numpy as np\n",
    "x=np.zeros((5,5,5)).astype(int)+1\n",
    "print(x)"
   ]
  },
  {
   "cell_type": "code",
   "execution_count": 3,
   "id": "f9b03739",
   "metadata": {},
   "outputs": [
    {
     "name": "stdout",
     "output_type": "stream",
     "text": [
      "[[ 1  2  3  4]\n",
      " [ 5  6  7  8]\n",
      " [ 9 10 11 12]]\n",
      "\n",
      "[[ 3  6  9 12]\n",
      " [15 18 21 24]\n",
      " [27 30 33 36]]\n"
     ]
    }
   ],
   "source": [
    "#73-create an array of (3, 4) shape, multiply every element value by 3 and display the new array\n",
    "import numpy as np\n",
    "\n",
    "x=np.arange(1,13).reshape(3,4)\n",
    "print(x)\n",
    "\n",
    "for a in np.nditer(x,op_flags=['readwrite']):\n",
    "    a[...]=3*a\n",
    "\n",
    "print()\n",
    "print(x)"
   ]
  },
  {
   "cell_type": "code",
   "execution_count": 5,
   "id": "a2886542",
   "metadata": {},
   "outputs": [
    {
     "name": "stdout",
     "output_type": "stream",
     "text": [
      "one dimensional array\n",
      "[0 1 2 3]\n",
      "Two dimensional array:\n",
      "[[0 1 2 3]\n",
      " [4 5 6 7]]\n",
      "0:0\n",
      "1:1\n",
      "2:2\n",
      "3:3\n",
      "0:4\n",
      "1:5\n",
      "2:6\n",
      "3:7\n"
     ]
    }
   ],
   "source": [
    "#74-combine a one and a two dimensional array together and display their elements.\n",
    "import numpy as np\n",
    "x=np.arange(4)\n",
    "print('one dimensional array')\n",
    "print(x)\n",
    "\n",
    "y=np.arange(8).reshape(2,4)\n",
    "print(\"Two dimensional array:\")\n",
    "print(y)\n",
    "\n",
    "for a,b in np.nditer([x,y]):\n",
    "    print('%d:%d' %(a,b),)"
   ]
  },
  {
   "cell_type": "code",
   "execution_count": 6,
   "id": "42953cda",
   "metadata": {},
   "outputs": [
    {
     "name": "stdout",
     "output_type": "stream",
     "text": [
      "[(1, 2., b'Albert Einstein') (2, 2., b'Edmond Halley')\n",
      " (3, 3., b'Gertrude B. Elion')]\n"
     ]
    }
   ],
   "source": [
    "#75-create an array of zeros and three column types (integer, float, character)\n",
    "import numpy as np\n",
    "x=np.zeros((3),dtype=('i4,f4,a40'))\n",
    "new_data = [(1, 2., \"Albert Einstein\"), (2, 2., \"Edmond Halley\"), (3, 3., \"Gertrude B. Elion\")]\n",
    "x[:] = new_data\n",
    "print(x)"
   ]
  },
  {
   "cell_type": "code",
   "execution_count": 14,
   "id": "9e5c17be",
   "metadata": {},
   "outputs": [
    {
     "name": "stdout",
     "output_type": "stream",
     "text": [
      "[ 1  8 27]\n"
     ]
    }
   ],
   "source": [
    "#76- create a function cube which cubes all the elements of an array\n",
    "import numpy as np\n",
    "def cube(e):\n",
    "    it=np.nditer([e,None])\n",
    "    for a, b in it:\n",
    "        b[...]=a*a*a\n",
    "    return it.operands[1]\n",
    "print(cube([1,2,3]))"
   ]
  },
  {
   "cell_type": "code",
   "execution_count": 23,
   "id": "5250f0f4",
   "metadata": {},
   "outputs": [
    {
     "name": "stdout",
     "output_type": "stream",
     "text": [
      "[[ 0  1  2  3]\n",
      " [ 4  5  6  7]\n",
      " [ 8  9 10 11]]\n",
      "Above array in small chuncks:\n",
      "[0 4 8]\n",
      "[1 5 9]\n",
      "[ 2  6 10]\n",
      "[ 3  7 11]\n"
     ]
    }
   ],
   "source": [
    "#77-create an array of (3, 4) shape and convert the array elements in smaller chunks\n",
    "import numpy as np\n",
    "x=np.arange(12).reshape(3,4)\n",
    "print(x)\n",
    "\n",
    "print(\"Above array in small chuncks:\")\n",
    "for a in np.nditer(x,flags=['external_loop'],order='F'):\n",
    "    print(a)"
   ]
  },
  {
   "cell_type": "code",
   "execution_count": 25,
   "id": "3a8aa5fa",
   "metadata": {},
   "outputs": [
    {
     "name": "stdout",
     "output_type": "stream",
     "text": [
      "(1, 'Red', 12.2)\n",
      "(2, 'Green', 15.)\n",
      "(3, 'White', 20.)\n"
     ]
    }
   ],
   "source": [
    "#78-create a record array from a (flat) list of arrays.\n",
    "import numpy as np\n",
    "a1=np.array([1,2,3,4])\n",
    "a2=np.array(['Red','Green','White','Orange'])\n",
    "a3=np.array([12.20,15,20,40])\n",
    "\n",
    "result=np.core.records.fromarrays([a1,a2,a3],names='a,b,c')\n",
    "print(result[0])\n",
    "print(result[1])\n",
    "print(result[2])"
   ]
  },
  {
   "cell_type": "code",
   "execution_count": 26,
   "id": "b1759f1c",
   "metadata": {},
   "outputs": [
    {
     "name": "stdout",
     "output_type": "stream",
     "text": [
      "2D Gaussian-like array:\n",
      "[[0.36787944 0.44822088 0.51979489 0.57375342 0.60279818 0.60279818\n",
      "  0.57375342 0.51979489 0.44822088 0.36787944]\n",
      " [0.44822088 0.54610814 0.63331324 0.69905581 0.73444367 0.73444367\n",
      "  0.69905581 0.63331324 0.54610814 0.44822088]\n",
      " [0.51979489 0.63331324 0.73444367 0.81068432 0.85172308 0.85172308\n",
      "  0.81068432 0.73444367 0.63331324 0.51979489]\n",
      " [0.57375342 0.69905581 0.81068432 0.89483932 0.9401382  0.9401382\n",
      "  0.89483932 0.81068432 0.69905581 0.57375342]\n",
      " [0.60279818 0.73444367 0.85172308 0.9401382  0.98773022 0.98773022\n",
      "  0.9401382  0.85172308 0.73444367 0.60279818]\n",
      " [0.60279818 0.73444367 0.85172308 0.9401382  0.98773022 0.98773022\n",
      "  0.9401382  0.85172308 0.73444367 0.60279818]\n",
      " [0.57375342 0.69905581 0.81068432 0.89483932 0.9401382  0.9401382\n",
      "  0.89483932 0.81068432 0.69905581 0.57375342]\n",
      " [0.51979489 0.63331324 0.73444367 0.81068432 0.85172308 0.85172308\n",
      "  0.81068432 0.73444367 0.63331324 0.51979489]\n",
      " [0.44822088 0.54610814 0.63331324 0.69905581 0.73444367 0.73444367\n",
      "  0.69905581 0.63331324 0.54610814 0.44822088]\n",
      " [0.36787944 0.44822088 0.51979489 0.57375342 0.60279818 0.60279818\n",
      "  0.57375342 0.51979489 0.44822088 0.36787944]]\n"
     ]
    }
   ],
   "source": [
    "#79-generate a generic 2D Gaussian-like array\n",
    "import numpy as np\n",
    "x, y = np.meshgrid(np.linspace(-1,1,10), np.linspace(-1,1,10))\n",
    "d = np.sqrt(x*x+y*y)\n",
    "sigma, mu = 1.0, 0.0\n",
    "g = np.exp(-( (d-mu)**2 / ( 2.0 * sigma**2 ) ) )\n",
    "print(\"2D Gaussian-like array:\")\n",
    "print(g)"
   ]
  },
  {
   "cell_type": "code",
   "execution_count": 3,
   "id": "d5ea60c7",
   "metadata": {},
   "outputs": [
    {
     "name": "stdout",
     "output_type": "stream",
     "text": [
      "[[ 0  1  2  3]\n",
      " [ 4  5  6  7]\n",
      " [ 8  9 10 11]]\n",
      "[[0, 1, 2, 3], [4, 5, 6, 7], [8, 9, 10, 11]]\n"
     ]
    }
   ],
   "source": [
    "#80-convert a NumPy array into Python list structure\n",
    "import numpy as np\n",
    "\n",
    "x=np.arange(12).reshape(3,4)\n",
    "print(x)\n",
    "\n",
    "y=x.tolist()\n",
    "print(y)"
   ]
  },
  {
   "cell_type": "code",
   "execution_count": null,
   "id": "e94ce623",
   "metadata": {},
   "outputs": [],
   "source": []
  }
 ],
 "metadata": {
  "kernelspec": {
   "display_name": "Python 3 (ipykernel)",
   "language": "python",
   "name": "python3"
  },
  "language_info": {
   "codemirror_mode": {
    "name": "ipython",
    "version": 3
   },
   "file_extension": ".py",
   "mimetype": "text/x-python",
   "name": "python",
   "nbconvert_exporter": "python",
   "pygments_lexer": "ipython3",
   "version": "3.9.7"
  }
 },
 "nbformat": 4,
 "nbformat_minor": 5
}
